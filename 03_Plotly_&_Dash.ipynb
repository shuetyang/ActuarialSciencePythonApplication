{
  "nbformat": 4,
  "nbformat_minor": 0,
  "metadata": {
    "colab": {
      "provenance": [],
      "collapsed_sections": [],
      "toc_visible": true
    },
    "kernelspec": {
      "name": "python3",
      "display_name": "Python 3"
    },
    "language_info": {
      "name": "python"
    }
  },
  "cells": [
    {
      "cell_type": "markdown",
      "source": [
        "#Learn to graph with Plotly and build dashboards with Dash\n",
        "\n",
        "The purpose of this notebook is to demonstrate how to construct some of the most frequently used chart types with Plotly and integrate them with Dash in order to create business intelligence dashboards.\n",
        "\n",
        "Beginners with some basic python knowledge should find it easy to follow.\n",
        "\n",
        "This is my personal notes from working through the Udemy course - `Learn how to create interactive plots and intelligent dashboards with Plotly, Python, and the Dash library` - by Jose Portilla.\n",
        "\n",
        "Please note all of the `app.run_server(mode='inline')` codes in this notebook might take a while to load on Google Colab. For best experience, download the file and run it locally with your favourite IDE."
      ],
      "metadata": {
        "id": "cdobrqm6ZRfo"
      }
    },
    {
      "cell_type": "markdown",
      "source": [
        "## Plotly"
      ],
      "metadata": {
        "id": "bzj1DquRMVDr"
      }
    },
    {
      "cell_type": "markdown",
      "source": [
        "### Official documentation\n",
        "Plotly's Python graphing library makes interactive, publication-quality graphs. \n",
        "\n",
        "Full documentation can be found here: https://plotly.com/python/.\n",
        "\n",
        "\n"
      ],
      "metadata": {
        "id": "EKI1mavrZIg4"
      }
    },
    {
      "cell_type": "markdown",
      "source": [
        "### Importing Packages"
      ],
      "metadata": {
        "id": "FDAHkAYdMs-n"
      }
    },
    {
      "cell_type": "code",
      "source": [
        "import numpy as np\n",
        "import pandas as pd\n",
        "import plotly.offline as pyo\n",
        "import plotly.graph_objs as go\n",
        "import plotly.figure_factory as ff\n",
        "from plotly import tools"
      ],
      "metadata": {
        "id": "26lvi1RVZLsA"
      },
      "execution_count": null,
      "outputs": []
    },
    {
      "cell_type": "markdown",
      "source": [
        "### Basic Code Structure for a Plotly Graph\n",
        "\n",
        "For each chart type, you will always have to define `data` and `layout` for the Plotly `fig` objects.\n",
        "\n",
        "For example, to plot a Scatter plot, you would follow the following steps:\n",
        "1. Define a python list that contains plot type call.\n",
        "  \n",
        "  `data = [go.Scatter(x=< >, y=< >)]`\n",
        "\n",
        "2. Define a layout object.\n",
        "  \n",
        "  `layout = go.Layout(title=< >)`\n",
        "\n",
        "3. Create a Figure object\n",
        "  \n",
        "  `fig = go.Figure(data=data, layout=layout`\n",
        "\n",
        "4. Pass Figure to a plot call.\n",
        "  \n",
        "  `pyo.iplot(fig)`"
      ],
      "metadata": {
        "id": "anogX6zbM6gB"
      }
    },
    {
      "cell_type": "markdown",
      "source": [
        "### Scatter Plots\n",
        "\n",
        "A scatter plot (aka scatter chart, scatter graph) uses dots to represent values for two different numeric variables. The position of each dot on the horizontal and vertical axis indicates values for an individual data point. Scatter plots are used to observe relationships between variables.\n",
        "\n",
        "https://chartio.com"
      ],
      "metadata": {
        "id": "-T1A1zmGZZ2O"
      }
    },
    {
      "cell_type": "code",
      "execution_count": null,
      "metadata": {
        "colab": {
          "base_uri": "https://localhost:8080/",
          "height": 542
        },
        "id": "VpN3_J7cY9Pg",
        "outputId": "f5f167bf-b4d3-4bea-f38d-bcb7274917d4"
      },
      "outputs": [
        {
          "output_type": "display_data",
          "data": {
            "text/html": [
              "<html>\n",
              "<head><meta charset=\"utf-8\" /></head>\n",
              "<body>\n",
              "    <div>            <script src=\"https://cdnjs.cloudflare.com/ajax/libs/mathjax/2.7.5/MathJax.js?config=TeX-AMS-MML_SVG\"></script><script type=\"text/javascript\">if (window.MathJax) {MathJax.Hub.Config({SVG: {font: \"STIX-Web\"}});}</script>                <script type=\"text/javascript\">window.PlotlyConfig = {MathJaxConfig: 'local'};</script>\n",
              "        <script src=\"https://cdn.plot.ly/plotly-2.8.3.min.js\"></script>                <div id=\"ef5505bb-ca52-47fa-b2ff-350ca24e42ce\" class=\"plotly-graph-div\" style=\"height:525px; width:100%;\"></div>            <script type=\"text/javascript\">                                    window.PLOTLYENV=window.PLOTLYENV || {};                                    if (document.getElementById(\"ef5505bb-ca52-47fa-b2ff-350ca24e42ce\")) {                    Plotly.newPlot(                        \"ef5505bb-ca52-47fa-b2ff-350ca24e42ce\",                        [{\"marker\":{\"color\":\"rgb(0,2,0)\",\"line\":{\"width\":2},\"size\":12,\"symbol\":\"pentagon\"},\"mode\":\"markers\",\"x\":[52,93,15,72,61,21,83,87,75,75,88,100,24,3,22,53,2,88,30,38,2,64,60,21,33,76,58,22,89,49,91,59,42,92,60,80,15,62,62,47,62,51,55,64,3,51,7,21,73,39,18,4,89,60,14,9,90,53,2,84,92,60,71,44,8,47,35,78,81,36,50,4,2,6,54,4,54,93,63,18,90,44,34,74,62,100,14,95,48,15,72,78,87,62,40,85,80,82,53,24],\"y\":[26,89,60,41,29,15,45,65,89,71,9,88,1,8,88,63,11,81,8,35,35,33,5,41,28,7,73,72,12,34,33,48,23,62,88,37,99,44,86,91,35,65,99,47,78,3,1,5,90,14,27,9,79,15,90,42,77,51,63,96,52,96,4,94,23,15,43,29,36,13,32,71,59,86,28,66,42,45,62,57,6,28,28,44,84,30,62,75,92,89,62,97,1,27,62,77,3,70,72,27],\"type\":\"scatter\"}],                        {\"hovermode\":\"closest\",\"template\":{\"data\":{\"barpolar\":[{\"marker\":{\"line\":{\"color\":\"#E5ECF6\",\"width\":0.5},\"pattern\":{\"fillmode\":\"overlay\",\"size\":10,\"solidity\":0.2}},\"type\":\"barpolar\"}],\"bar\":[{\"error_x\":{\"color\":\"#2a3f5f\"},\"error_y\":{\"color\":\"#2a3f5f\"},\"marker\":{\"line\":{\"color\":\"#E5ECF6\",\"width\":0.5},\"pattern\":{\"fillmode\":\"overlay\",\"size\":10,\"solidity\":0.2}},\"type\":\"bar\"}],\"carpet\":[{\"aaxis\":{\"endlinecolor\":\"#2a3f5f\",\"gridcolor\":\"white\",\"linecolor\":\"white\",\"minorgridcolor\":\"white\",\"startlinecolor\":\"#2a3f5f\"},\"baxis\":{\"endlinecolor\":\"#2a3f5f\",\"gridcolor\":\"white\",\"linecolor\":\"white\",\"minorgridcolor\":\"white\",\"startlinecolor\":\"#2a3f5f\"},\"type\":\"carpet\"}],\"choropleth\":[{\"colorbar\":{\"outlinewidth\":0,\"ticks\":\"\"},\"type\":\"choropleth\"}],\"contourcarpet\":[{\"colorbar\":{\"outlinewidth\":0,\"ticks\":\"\"},\"type\":\"contourcarpet\"}],\"contour\":[{\"colorbar\":{\"outlinewidth\":0,\"ticks\":\"\"},\"colorscale\":[[0.0,\"#0d0887\"],[0.1111111111111111,\"#46039f\"],[0.2222222222222222,\"#7201a8\"],[0.3333333333333333,\"#9c179e\"],[0.4444444444444444,\"#bd3786\"],[0.5555555555555556,\"#d8576b\"],[0.6666666666666666,\"#ed7953\"],[0.7777777777777778,\"#fb9f3a\"],[0.8888888888888888,\"#fdca26\"],[1.0,\"#f0f921\"]],\"type\":\"contour\"}],\"heatmapgl\":[{\"colorbar\":{\"outlinewidth\":0,\"ticks\":\"\"},\"colorscale\":[[0.0,\"#0d0887\"],[0.1111111111111111,\"#46039f\"],[0.2222222222222222,\"#7201a8\"],[0.3333333333333333,\"#9c179e\"],[0.4444444444444444,\"#bd3786\"],[0.5555555555555556,\"#d8576b\"],[0.6666666666666666,\"#ed7953\"],[0.7777777777777778,\"#fb9f3a\"],[0.8888888888888888,\"#fdca26\"],[1.0,\"#f0f921\"]],\"type\":\"heatmapgl\"}],\"heatmap\":[{\"colorbar\":{\"outlinewidth\":0,\"ticks\":\"\"},\"colorscale\":[[0.0,\"#0d0887\"],[0.1111111111111111,\"#46039f\"],[0.2222222222222222,\"#7201a8\"],[0.3333333333333333,\"#9c179e\"],[0.4444444444444444,\"#bd3786\"],[0.5555555555555556,\"#d8576b\"],[0.6666666666666666,\"#ed7953\"],[0.7777777777777778,\"#fb9f3a\"],[0.8888888888888888,\"#fdca26\"],[1.0,\"#f0f921\"]],\"type\":\"heatmap\"}],\"histogram2dcontour\":[{\"colorbar\":{\"outlinewidth\":0,\"ticks\":\"\"},\"colorscale\":[[0.0,\"#0d0887\"],[0.1111111111111111,\"#46039f\"],[0.2222222222222222,\"#7201a8\"],[0.3333333333333333,\"#9c179e\"],[0.4444444444444444,\"#bd3786\"],[0.5555555555555556,\"#d8576b\"],[0.6666666666666666,\"#ed7953\"],[0.7777777777777778,\"#fb9f3a\"],[0.8888888888888888,\"#fdca26\"],[1.0,\"#f0f921\"]],\"type\":\"histogram2dcontour\"}],\"histogram2d\":[{\"colorbar\":{\"outlinewidth\":0,\"ticks\":\"\"},\"colorscale\":[[0.0,\"#0d0887\"],[0.1111111111111111,\"#46039f\"],[0.2222222222222222,\"#7201a8\"],[0.3333333333333333,\"#9c179e\"],[0.4444444444444444,\"#bd3786\"],[0.5555555555555556,\"#d8576b\"],[0.6666666666666666,\"#ed7953\"],[0.7777777777777778,\"#fb9f3a\"],[0.8888888888888888,\"#fdca26\"],[1.0,\"#f0f921\"]],\"type\":\"histogram2d\"}],\"histogram\":[{\"marker\":{\"pattern\":{\"fillmode\":\"overlay\",\"size\":10,\"solidity\":0.2}},\"type\":\"histogram\"}],\"mesh3d\":[{\"colorbar\":{\"outlinewidth\":0,\"ticks\":\"\"},\"type\":\"mesh3d\"}],\"parcoords\":[{\"line\":{\"colorbar\":{\"outlinewidth\":0,\"ticks\":\"\"}},\"type\":\"parcoords\"}],\"pie\":[{\"automargin\":true,\"type\":\"pie\"}],\"scatter3d\":[{\"line\":{\"colorbar\":{\"outlinewidth\":0,\"ticks\":\"\"}},\"marker\":{\"colorbar\":{\"outlinewidth\":0,\"ticks\":\"\"}},\"type\":\"scatter3d\"}],\"scattercarpet\":[{\"marker\":{\"colorbar\":{\"outlinewidth\":0,\"ticks\":\"\"}},\"type\":\"scattercarpet\"}],\"scattergeo\":[{\"marker\":{\"colorbar\":{\"outlinewidth\":0,\"ticks\":\"\"}},\"type\":\"scattergeo\"}],\"scattergl\":[{\"marker\":{\"colorbar\":{\"outlinewidth\":0,\"ticks\":\"\"}},\"type\":\"scattergl\"}],\"scattermapbox\":[{\"marker\":{\"colorbar\":{\"outlinewidth\":0,\"ticks\":\"\"}},\"type\":\"scattermapbox\"}],\"scatterpolargl\":[{\"marker\":{\"colorbar\":{\"outlinewidth\":0,\"ticks\":\"\"}},\"type\":\"scatterpolargl\"}],\"scatterpolar\":[{\"marker\":{\"colorbar\":{\"outlinewidth\":0,\"ticks\":\"\"}},\"type\":\"scatterpolar\"}],\"scatter\":[{\"marker\":{\"colorbar\":{\"outlinewidth\":0,\"ticks\":\"\"}},\"type\":\"scatter\"}],\"scatterternary\":[{\"marker\":{\"colorbar\":{\"outlinewidth\":0,\"ticks\":\"\"}},\"type\":\"scatterternary\"}],\"surface\":[{\"colorbar\":{\"outlinewidth\":0,\"ticks\":\"\"},\"colorscale\":[[0.0,\"#0d0887\"],[0.1111111111111111,\"#46039f\"],[0.2222222222222222,\"#7201a8\"],[0.3333333333333333,\"#9c179e\"],[0.4444444444444444,\"#bd3786\"],[0.5555555555555556,\"#d8576b\"],[0.6666666666666666,\"#ed7953\"],[0.7777777777777778,\"#fb9f3a\"],[0.8888888888888888,\"#fdca26\"],[1.0,\"#f0f921\"]],\"type\":\"surface\"}],\"table\":[{\"cells\":{\"fill\":{\"color\":\"#EBF0F8\"},\"line\":{\"color\":\"white\"}},\"header\":{\"fill\":{\"color\":\"#C8D4E3\"},\"line\":{\"color\":\"white\"}},\"type\":\"table\"}]},\"layout\":{\"annotationdefaults\":{\"arrowcolor\":\"#2a3f5f\",\"arrowhead\":0,\"arrowwidth\":1},\"autotypenumbers\":\"strict\",\"coloraxis\":{\"colorbar\":{\"outlinewidth\":0,\"ticks\":\"\"}},\"colorscale\":{\"diverging\":[[0,\"#8e0152\"],[0.1,\"#c51b7d\"],[0.2,\"#de77ae\"],[0.3,\"#f1b6da\"],[0.4,\"#fde0ef\"],[0.5,\"#f7f7f7\"],[0.6,\"#e6f5d0\"],[0.7,\"#b8e186\"],[0.8,\"#7fbc41\"],[0.9,\"#4d9221\"],[1,\"#276419\"]],\"sequential\":[[0.0,\"#0d0887\"],[0.1111111111111111,\"#46039f\"],[0.2222222222222222,\"#7201a8\"],[0.3333333333333333,\"#9c179e\"],[0.4444444444444444,\"#bd3786\"],[0.5555555555555556,\"#d8576b\"],[0.6666666666666666,\"#ed7953\"],[0.7777777777777778,\"#fb9f3a\"],[0.8888888888888888,\"#fdca26\"],[1.0,\"#f0f921\"]],\"sequentialminus\":[[0.0,\"#0d0887\"],[0.1111111111111111,\"#46039f\"],[0.2222222222222222,\"#7201a8\"],[0.3333333333333333,\"#9c179e\"],[0.4444444444444444,\"#bd3786\"],[0.5555555555555556,\"#d8576b\"],[0.6666666666666666,\"#ed7953\"],[0.7777777777777778,\"#fb9f3a\"],[0.8888888888888888,\"#fdca26\"],[1.0,\"#f0f921\"]]},\"colorway\":[\"#636efa\",\"#EF553B\",\"#00cc96\",\"#ab63fa\",\"#FFA15A\",\"#19d3f3\",\"#FF6692\",\"#B6E880\",\"#FF97FF\",\"#FECB52\"],\"font\":{\"color\":\"#2a3f5f\"},\"geo\":{\"bgcolor\":\"white\",\"lakecolor\":\"white\",\"landcolor\":\"#E5ECF6\",\"showlakes\":true,\"showland\":true,\"subunitcolor\":\"white\"},\"hoverlabel\":{\"align\":\"left\"},\"hovermode\":\"closest\",\"mapbox\":{\"style\":\"light\"},\"paper_bgcolor\":\"white\",\"plot_bgcolor\":\"#E5ECF6\",\"polar\":{\"angularaxis\":{\"gridcolor\":\"white\",\"linecolor\":\"white\",\"ticks\":\"\"},\"bgcolor\":\"#E5ECF6\",\"radialaxis\":{\"gridcolor\":\"white\",\"linecolor\":\"white\",\"ticks\":\"\"}},\"scene\":{\"xaxis\":{\"backgroundcolor\":\"#E5ECF6\",\"gridcolor\":\"white\",\"gridwidth\":2,\"linecolor\":\"white\",\"showbackground\":true,\"ticks\":\"\",\"zerolinecolor\":\"white\"},\"yaxis\":{\"backgroundcolor\":\"#E5ECF6\",\"gridcolor\":\"white\",\"gridwidth\":2,\"linecolor\":\"white\",\"showbackground\":true,\"ticks\":\"\",\"zerolinecolor\":\"white\"},\"zaxis\":{\"backgroundcolor\":\"#E5ECF6\",\"gridcolor\":\"white\",\"gridwidth\":2,\"linecolor\":\"white\",\"showbackground\":true,\"ticks\":\"\",\"zerolinecolor\":\"white\"}},\"shapedefaults\":{\"line\":{\"color\":\"#2a3f5f\"}},\"ternary\":{\"aaxis\":{\"gridcolor\":\"white\",\"linecolor\":\"white\",\"ticks\":\"\"},\"baxis\":{\"gridcolor\":\"white\",\"linecolor\":\"white\",\"ticks\":\"\"},\"bgcolor\":\"#E5ECF6\",\"caxis\":{\"gridcolor\":\"white\",\"linecolor\":\"white\",\"ticks\":\"\"}},\"title\":{\"x\":0.05},\"xaxis\":{\"automargin\":true,\"gridcolor\":\"white\",\"linecolor\":\"white\",\"ticks\":\"\",\"title\":{\"standoff\":15},\"zerolinecolor\":\"white\",\"zerolinewidth\":2},\"yaxis\":{\"automargin\":true,\"gridcolor\":\"white\",\"linecolor\":\"white\",\"ticks\":\"\",\"title\":{\"standoff\":15},\"zerolinecolor\":\"white\",\"zerolinewidth\":2}}},\"title\":{\"text\":\"Hello\"},\"xaxis\":{\"title\":{\"text\":\"X AXIS\"}},\"yaxis\":{\"title\":{\"text\":\"Y AXIS\"}}},                        {\"responsive\": true}                    ).then(function(){\n",
              "                            \n",
              "var gd = document.getElementById('ef5505bb-ca52-47fa-b2ff-350ca24e42ce');\n",
              "var x = new MutationObserver(function (mutations, observer) {{\n",
              "        var display = window.getComputedStyle(gd).display;\n",
              "        if (!display || display === 'none') {{\n",
              "            console.log([gd, 'removed!']);\n",
              "            Plotly.purge(gd);\n",
              "            observer.disconnect();\n",
              "        }}\n",
              "}});\n",
              "\n",
              "// Listen for the removal of the full notebook cells\n",
              "var notebookContainer = gd.closest('#notebook-container');\n",
              "if (notebookContainer) {{\n",
              "    x.observe(notebookContainer, {childList: true});\n",
              "}}\n",
              "\n",
              "// Listen for the clearing of the current output cell\n",
              "var outputEl = gd.closest('.output');\n",
              "if (outputEl) {{\n",
              "    x.observe(outputEl, {childList: true});\n",
              "}}\n",
              "\n",
              "                        })                };                            </script>        </div>\n",
              "</body>\n",
              "</html>"
            ]
          },
          "metadata": {}
        }
      ],
      "source": [
        "# generate random data\n",
        "np.random.seed(42)\n",
        "random_x = np.random.randint(1, 101, 100)\n",
        "random_y = np.random.randint(1, 101, 100)\n",
        "\n",
        "# create a list that contains plot type call\n",
        "data = [\n",
        "    go.Scatter(\n",
        "        x=random_x,\n",
        "        y=random_y,\n",
        "        mode=\"markers\",\n",
        "        marker=dict(size=12, color=\"rgb(0,2,0)\", symbol=\"pentagon\", line={\"width\": 2}),\n",
        "    )\n",
        "]\n",
        "\n",
        "# define layout\n",
        "# you can use dict=() or use {}\n",
        "layout = go.Layout(\n",
        "    title=\"Hello\",\n",
        "    xaxis={\"title\": \"X AXIS\"},\n",
        "    yaxis=dict(title=\"Y AXIS\"),\n",
        "    hovermode=\"closest\",\n",
        ")\n",
        "\n",
        "# pass data and layout to Figure object\n",
        "fig = go.Figure(data=data, layout=layout)\n",
        "\n",
        "# pass fig to a plot call\n",
        "pyo.iplot(fig, filename=\"scatter1.html\")\n"
      ]
    },
    {
      "cell_type": "markdown",
      "source": [
        "### Line charts\n",
        "\n",
        "A line chart (aka line plot, line graph) uses points connected by line segments from left to right to demonstrate changes in value. The horizontal axis depicts a continuous progression, often that of time, while the vertical axis reports values for a metric of interest across that progression.\n",
        "\n",
        "https://chartio.com"
      ],
      "metadata": {
        "id": "CFw6t2AFdUPw"
      }
    },
    {
      "cell_type": "code",
      "source": [
        "x_values = np.linspace(0, 1, 100)\n",
        "y_values = np.random.randn(100)\n",
        "\n",
        "# every line chart on figure is called a trace\n",
        "trace0 = go.Scatter(\n",
        "    x=x_values, y=y_values + 5, mode=\"markers\", name=\"marker1\")\n",
        "trace1 = go.Scatter(\n",
        "    x=x_values, y=y_values, mode=\"lines\", name=\"line1\")\n",
        "trace2 = go.Scatter(\n",
        "    x=x_values, y=y_values - 5, mode=\"lines+markers\", name=\"line&marker\")\n",
        "\n",
        "# create list of plot type call\n",
        "data = [trace0, trace1, trace2]\n",
        "\n",
        "layout = go.Layout(title=\"Line Charts\")\n",
        "\n",
        "fig = go.Figure(data=data, layout=layout)\n",
        "\n",
        "pyo.iplot(fig)\n"
      ],
      "metadata": {
        "colab": {
          "base_uri": "https://localhost:8080/",
          "height": 542
        },
        "id": "3XWco6Yidu_f",
        "outputId": "08a6ba8c-4445-49d9-9d1e-570506765d8f"
      },
      "execution_count": null,
      "outputs": [
        {
          "output_type": "display_data",
          "data": {
            "text/html": [
              "<html>\n",
              "<head><meta charset=\"utf-8\" /></head>\n",
              "<body>\n",
              "    <div>            <script src=\"https://cdnjs.cloudflare.com/ajax/libs/mathjax/2.7.5/MathJax.js?config=TeX-AMS-MML_SVG\"></script><script type=\"text/javascript\">if (window.MathJax) {MathJax.Hub.Config({SVG: {font: \"STIX-Web\"}});}</script>                <script type=\"text/javascript\">window.PlotlyConfig = {MathJaxConfig: 'local'};</script>\n",
              "        <script src=\"https://cdn.plot.ly/plotly-2.8.3.min.js\"></script>                <div id=\"2106db7a-fa0e-45ac-8c32-572133289947\" class=\"plotly-graph-div\" style=\"height:525px; width:100%;\"></div>            <script type=\"text/javascript\">                                    window.PLOTLYENV=window.PLOTLYENV || {};                                    if (document.getElementById(\"2106db7a-fa0e-45ac-8c32-572133289947\")) {                    Plotly.newPlot(                        \"2106db7a-fa0e-45ac-8c32-572133289947\",                        [{\"mode\":\"markers\",\"name\":\"marker1\",\"x\":[0.0,0.010101010101010102,0.020202020202020204,0.030303030303030304,0.04040404040404041,0.05050505050505051,0.06060606060606061,0.07070707070707072,0.08080808080808081,0.09090909090909091,0.10101010101010102,0.11111111111111112,0.12121212121212122,0.13131313131313133,0.14141414141414144,0.15151515151515152,0.16161616161616163,0.17171717171717174,0.18181818181818182,0.19191919191919193,0.20202020202020204,0.21212121212121213,0.22222222222222224,0.23232323232323235,0.24242424242424243,0.25252525252525254,0.26262626262626265,0.27272727272727276,0.2828282828282829,0.29292929292929293,0.30303030303030304,0.31313131313131315,0.32323232323232326,0.33333333333333337,0.3434343434343435,0.3535353535353536,0.36363636363636365,0.37373737373737376,0.38383838383838387,0.393939393939394,0.4040404040404041,0.4141414141414142,0.42424242424242425,0.43434343434343436,0.4444444444444445,0.4545454545454546,0.4646464646464647,0.4747474747474748,0.48484848484848486,0.494949494949495,0.5050505050505051,0.5151515151515152,0.5252525252525253,0.5353535353535354,0.5454545454545455,0.5555555555555556,0.5656565656565657,0.5757575757575758,0.5858585858585859,0.595959595959596,0.6060606060606061,0.6161616161616162,0.6262626262626263,0.6363636363636365,0.6464646464646465,0.6565656565656566,0.6666666666666667,0.6767676767676768,0.686868686868687,0.696969696969697,0.7070707070707072,0.7171717171717172,0.7272727272727273,0.7373737373737375,0.7474747474747475,0.7575757575757577,0.7676767676767677,0.7777777777777778,0.787878787878788,0.797979797979798,0.8080808080808082,0.8181818181818182,0.8282828282828284,0.8383838383838385,0.8484848484848485,0.8585858585858587,0.8686868686868687,0.8787878787878789,0.888888888888889,0.8989898989898991,0.9090909090909092,0.9191919191919192,0.9292929292929294,0.9393939393939394,0.9494949494949496,0.9595959595959597,0.9696969696969697,0.9797979797979799,0.98989898989899,1.0],\"y\":[3.5846292579495858,4.579354677234641,4.65728548347323,4.197722730778381,4.838714288333991,5.404050856814538,6.88618590121053,5.174577812831839,5.2575503907227645,4.925554084233832,3.0812287847009587,4.973486124550783,5.060230209941026,7.463242112485286,4.807639035218878,5.301547342333612,4.965288230294757,3.8313219623804677,6.1428228145150205,5.751933032686774,5.791031947043047,4.090612545205261,6.402794310936099,3.598148937207719,5.58685709380027,7.190455625809978,4.009463674869312,4.433702270397228,5.099651365087642,4.496524345883801,3.4493365689338673,5.068562974806027,3.937696286273895,5.473592430635182,4.080575765766197,6.54993440501754,4.216746707663763,4.677938483794325,5.81351721736967,3.769135683566045,5.22745993460413,6.307142754282428,3.3925167654387725,5.184633858532305,5.259882794248424,5.78182287177731,3.763049289121918,3.6795433869157237,5.521941565616897,5.296984673233186,5.250492850345877,5.346448209496976,4.319975278421509,5.232253697161004,5.293072473298682,4.285648581973632,6.865774511144757,5.4738329209117875,3.8086965027973516,5.65655360863383,4.025318329772679,5.787084603742452,6.158595579007404,4.179317681648289,5.963376129244322,5.412780926936498,5.82206015999449,6.896792982653947,4.754611883997129,4.246263835642511,4.110485570374477,4.184189715034561,4.922898290585896,5.341151974816644,5.276690799330019,5.827183249036024,5.013001891877907,6.453534077157316,4.735343166762044,7.720169166589619,5.625667347765006,4.142842443583717,3.929107501938888,5.482472415243185,4.776537214674149,5.714000494092092,5.473237624573545,4.927171087343127,4.153206281931595,3.4851527753141354,4.553485047932979,5.856398794323472,5.214093744130204,3.754261221288012,5.173180925851182,5.3853173797288365,4.116142563798867,5.153725105945528,5.058208718446,3.8570297021693767],\"type\":\"scatter\"},{\"mode\":\"lines\",\"name\":\"line1\",\"x\":[0.0,0.010101010101010102,0.020202020202020204,0.030303030303030304,0.04040404040404041,0.05050505050505051,0.06060606060606061,0.07070707070707072,0.08080808080808081,0.09090909090909091,0.10101010101010102,0.11111111111111112,0.12121212121212122,0.13131313131313133,0.14141414141414144,0.15151515151515152,0.16161616161616163,0.17171717171717174,0.18181818181818182,0.19191919191919193,0.20202020202020204,0.21212121212121213,0.22222222222222224,0.23232323232323235,0.24242424242424243,0.25252525252525254,0.26262626262626265,0.27272727272727276,0.2828282828282829,0.29292929292929293,0.30303030303030304,0.31313131313131315,0.32323232323232326,0.33333333333333337,0.3434343434343435,0.3535353535353536,0.36363636363636365,0.37373737373737376,0.38383838383838387,0.393939393939394,0.4040404040404041,0.4141414141414142,0.42424242424242425,0.43434343434343436,0.4444444444444445,0.4545454545454546,0.4646464646464647,0.4747474747474748,0.48484848484848486,0.494949494949495,0.5050505050505051,0.5151515151515152,0.5252525252525253,0.5353535353535354,0.5454545454545455,0.5555555555555556,0.5656565656565657,0.5757575757575758,0.5858585858585859,0.595959595959596,0.6060606060606061,0.6161616161616162,0.6262626262626263,0.6363636363636365,0.6464646464646465,0.6565656565656566,0.6666666666666667,0.6767676767676768,0.686868686868687,0.696969696969697,0.7070707070707072,0.7171717171717172,0.7272727272727273,0.7373737373737375,0.7474747474747475,0.7575757575757577,0.7676767676767677,0.7777777777777778,0.787878787878788,0.797979797979798,0.8080808080808082,0.8181818181818182,0.8282828282828284,0.8383838383838385,0.8484848484848485,0.8585858585858587,0.8686868686868687,0.8787878787878789,0.888888888888889,0.8989898989898991,0.9090909090909092,0.9191919191919192,0.9292929292929294,0.9393939393939394,0.9494949494949496,0.9595959595959597,0.9696969696969697,0.9797979797979799,0.98989898989899,1.0],\"y\":[-1.4153707420504142,-0.42064532276535904,-0.3427145165267695,-0.8022772692216189,-0.16128571166600914,0.4040508568145384,1.8861859012105302,0.17457781283183896,0.25755039072276437,-0.07444591576616721,-1.9187712152990415,-0.026513875449216878,0.06023020994102644,2.463242112485286,-0.19236096478112252,0.30154734233361247,-0.03471176970524331,-1.168678037619532,1.1428228145150205,0.7519330326867741,0.7910319470430469,-0.9093874547947389,1.4027943109360992,-1.4018510627922809,0.5868570938002703,2.1904556258099785,-0.9905363251306883,-0.5662977296027719,0.09965136508764122,-0.5034756541161992,-1.5506634310661327,0.06856297480602733,-1.0623037137261049,0.4735924306351816,-0.9194242342338032,1.5499344050175394,-0.7832532923362371,-0.3220615162056756,0.8135172173696698,-1.2308643164339552,0.22745993460412942,1.307142754282428,-1.6074832345612275,0.1846338585323042,0.25988279424842353,0.7818228717773104,-1.236950710878082,-1.3204566130842763,0.5219415656168976,0.29698467323318606,0.25049285034587654,0.3464482094969757,-0.6800247215784908,0.23225369716100355,0.29307247329868125,-0.7143514180263678,1.8657745111447566,0.4738329209117875,-1.1913034972026486,0.6565536086338297,-0.9746816702273214,0.787084603742452,1.158595579007404,-0.8206823183517105,0.9633761292443218,0.4127809269364983,0.82206015999449,1.8967929826539474,-0.2453881160028705,-0.7537361643574896,-0.8895144296255233,-0.8158102849654383,-0.0771017094141042,0.3411519748166439,0.27669079933001905,0.8271832490360238,0.01300189187790702,1.4535340771573169,-0.2646568332379561,2.720169166589619,0.6256673477650062,-0.8571575564162826,-1.0708924980611123,0.4824724152431853,-0.2234627853258509,0.714000494092092,0.47323762457354485,-0.07282891265687277,-0.846793718068405,-1.5148472246858646,-0.4465149520670211,0.8563987943234723,0.21409374413020396,-1.245738778711988,0.173180925851182,0.3853173797288368,-0.883857436201133,0.1537251059455279,0.058208718445999896,-1.142970297830623],\"type\":\"scatter\"},{\"mode\":\"lines+markers\",\"name\":\"line&marker\",\"x\":[0.0,0.010101010101010102,0.020202020202020204,0.030303030303030304,0.04040404040404041,0.05050505050505051,0.06060606060606061,0.07070707070707072,0.08080808080808081,0.09090909090909091,0.10101010101010102,0.11111111111111112,0.12121212121212122,0.13131313131313133,0.14141414141414144,0.15151515151515152,0.16161616161616163,0.17171717171717174,0.18181818181818182,0.19191919191919193,0.20202020202020204,0.21212121212121213,0.22222222222222224,0.23232323232323235,0.24242424242424243,0.25252525252525254,0.26262626262626265,0.27272727272727276,0.2828282828282829,0.29292929292929293,0.30303030303030304,0.31313131313131315,0.32323232323232326,0.33333333333333337,0.3434343434343435,0.3535353535353536,0.36363636363636365,0.37373737373737376,0.38383838383838387,0.393939393939394,0.4040404040404041,0.4141414141414142,0.42424242424242425,0.43434343434343436,0.4444444444444445,0.4545454545454546,0.4646464646464647,0.4747474747474748,0.48484848484848486,0.494949494949495,0.5050505050505051,0.5151515151515152,0.5252525252525253,0.5353535353535354,0.5454545454545455,0.5555555555555556,0.5656565656565657,0.5757575757575758,0.5858585858585859,0.595959595959596,0.6060606060606061,0.6161616161616162,0.6262626262626263,0.6363636363636365,0.6464646464646465,0.6565656565656566,0.6666666666666667,0.6767676767676768,0.686868686868687,0.696969696969697,0.7070707070707072,0.7171717171717172,0.7272727272727273,0.7373737373737375,0.7474747474747475,0.7575757575757577,0.7676767676767677,0.7777777777777778,0.787878787878788,0.797979797979798,0.8080808080808082,0.8181818181818182,0.8282828282828284,0.8383838383838385,0.8484848484848485,0.8585858585858587,0.8686868686868687,0.8787878787878789,0.888888888888889,0.8989898989898991,0.9090909090909092,0.9191919191919192,0.9292929292929294,0.9393939393939394,0.9494949494949496,0.9595959595959597,0.9696969696969697,0.9797979797979799,0.98989898989899,1.0],\"y\":[-6.415370742050414,-5.420645322765359,-5.34271451652677,-5.802277269221619,-5.161285711666009,-4.595949143185462,-3.1138140987894696,-4.825422187168161,-4.7424496092772355,-5.074445915766168,-6.918771215299041,-5.026513875449217,-4.939769790058974,-2.536757887514714,-5.192360964781122,-4.698452657666388,-5.034711769705243,-6.168678037619532,-3.8571771854849795,-4.248066967313226,-4.208968052956953,-5.909387454794739,-3.597205689063901,-6.4018510627922804,-4.41314290619973,-2.8095443741900215,-5.990536325130688,-5.566297729602772,-4.900348634912358,-5.503475654116199,-6.550663431066132,-4.931437025193973,-6.062303713726105,-4.526407569364818,-5.919424234233803,-3.4500655949824606,-5.783253292336237,-5.322061516205675,-4.18648278263033,-6.230864316433955,-4.77254006539587,-3.6928572457175717,-6.6074832345612275,-4.815366141467695,-4.740117205751576,-4.21817712822269,-6.236950710878082,-6.320456613084277,-4.478058434383103,-4.703015326766814,-4.749507149654123,-4.653551790503024,-5.680024721578491,-4.767746302838996,-4.706927526701318,-5.714351418026368,-3.134225488855243,-4.5261670790882125,-6.191303497202648,-4.34344639136617,-5.974681670227321,-4.212915396257548,-3.841404420992596,-5.820682318351711,-4.036623870755678,-4.587219073063502,-4.17793984000551,-3.103207017346053,-5.245388116002871,-5.753736164357489,-5.889514429625523,-5.815810284965439,-5.077101709414104,-4.658848025183356,-4.723309200669981,-4.172816750963976,-4.986998108122093,-3.546465922842683,-5.264656833237956,-2.279830833410381,-4.374332652234994,-5.857157556416283,-6.070892498061112,-4.517527584756815,-5.223462785325851,-4.285999505907908,-4.526762375426455,-5.072828912656873,-5.846793718068405,-6.514847224685864,-5.446514952067021,-4.143601205676528,-4.785906255869796,-6.2457387787119885,-4.826819074148818,-4.6146826202711635,-5.883857436201133,-4.846274894054472,-4.941791281554,-6.142970297830623],\"type\":\"scatter\"}],                        {\"template\":{\"data\":{\"barpolar\":[{\"marker\":{\"line\":{\"color\":\"#E5ECF6\",\"width\":0.5},\"pattern\":{\"fillmode\":\"overlay\",\"size\":10,\"solidity\":0.2}},\"type\":\"barpolar\"}],\"bar\":[{\"error_x\":{\"color\":\"#2a3f5f\"},\"error_y\":{\"color\":\"#2a3f5f\"},\"marker\":{\"line\":{\"color\":\"#E5ECF6\",\"width\":0.5},\"pattern\":{\"fillmode\":\"overlay\",\"size\":10,\"solidity\":0.2}},\"type\":\"bar\"}],\"carpet\":[{\"aaxis\":{\"endlinecolor\":\"#2a3f5f\",\"gridcolor\":\"white\",\"linecolor\":\"white\",\"minorgridcolor\":\"white\",\"startlinecolor\":\"#2a3f5f\"},\"baxis\":{\"endlinecolor\":\"#2a3f5f\",\"gridcolor\":\"white\",\"linecolor\":\"white\",\"minorgridcolor\":\"white\",\"startlinecolor\":\"#2a3f5f\"},\"type\":\"carpet\"}],\"choropleth\":[{\"colorbar\":{\"outlinewidth\":0,\"ticks\":\"\"},\"type\":\"choropleth\"}],\"contourcarpet\":[{\"colorbar\":{\"outlinewidth\":0,\"ticks\":\"\"},\"type\":\"contourcarpet\"}],\"contour\":[{\"colorbar\":{\"outlinewidth\":0,\"ticks\":\"\"},\"colorscale\":[[0.0,\"#0d0887\"],[0.1111111111111111,\"#46039f\"],[0.2222222222222222,\"#7201a8\"],[0.3333333333333333,\"#9c179e\"],[0.4444444444444444,\"#bd3786\"],[0.5555555555555556,\"#d8576b\"],[0.6666666666666666,\"#ed7953\"],[0.7777777777777778,\"#fb9f3a\"],[0.8888888888888888,\"#fdca26\"],[1.0,\"#f0f921\"]],\"type\":\"contour\"}],\"heatmapgl\":[{\"colorbar\":{\"outlinewidth\":0,\"ticks\":\"\"},\"colorscale\":[[0.0,\"#0d0887\"],[0.1111111111111111,\"#46039f\"],[0.2222222222222222,\"#7201a8\"],[0.3333333333333333,\"#9c179e\"],[0.4444444444444444,\"#bd3786\"],[0.5555555555555556,\"#d8576b\"],[0.6666666666666666,\"#ed7953\"],[0.7777777777777778,\"#fb9f3a\"],[0.8888888888888888,\"#fdca26\"],[1.0,\"#f0f921\"]],\"type\":\"heatmapgl\"}],\"heatmap\":[{\"colorbar\":{\"outlinewidth\":0,\"ticks\":\"\"},\"colorscale\":[[0.0,\"#0d0887\"],[0.1111111111111111,\"#46039f\"],[0.2222222222222222,\"#7201a8\"],[0.3333333333333333,\"#9c179e\"],[0.4444444444444444,\"#bd3786\"],[0.5555555555555556,\"#d8576b\"],[0.6666666666666666,\"#ed7953\"],[0.7777777777777778,\"#fb9f3a\"],[0.8888888888888888,\"#fdca26\"],[1.0,\"#f0f921\"]],\"type\":\"heatmap\"}],\"histogram2dcontour\":[{\"colorbar\":{\"outlinewidth\":0,\"ticks\":\"\"},\"colorscale\":[[0.0,\"#0d0887\"],[0.1111111111111111,\"#46039f\"],[0.2222222222222222,\"#7201a8\"],[0.3333333333333333,\"#9c179e\"],[0.4444444444444444,\"#bd3786\"],[0.5555555555555556,\"#d8576b\"],[0.6666666666666666,\"#ed7953\"],[0.7777777777777778,\"#fb9f3a\"],[0.8888888888888888,\"#fdca26\"],[1.0,\"#f0f921\"]],\"type\":\"histogram2dcontour\"}],\"histogram2d\":[{\"colorbar\":{\"outlinewidth\":0,\"ticks\":\"\"},\"colorscale\":[[0.0,\"#0d0887\"],[0.1111111111111111,\"#46039f\"],[0.2222222222222222,\"#7201a8\"],[0.3333333333333333,\"#9c179e\"],[0.4444444444444444,\"#bd3786\"],[0.5555555555555556,\"#d8576b\"],[0.6666666666666666,\"#ed7953\"],[0.7777777777777778,\"#fb9f3a\"],[0.8888888888888888,\"#fdca26\"],[1.0,\"#f0f921\"]],\"type\":\"histogram2d\"}],\"histogram\":[{\"marker\":{\"pattern\":{\"fillmode\":\"overlay\",\"size\":10,\"solidity\":0.2}},\"type\":\"histogram\"}],\"mesh3d\":[{\"colorbar\":{\"outlinewidth\":0,\"ticks\":\"\"},\"type\":\"mesh3d\"}],\"parcoords\":[{\"line\":{\"colorbar\":{\"outlinewidth\":0,\"ticks\":\"\"}},\"type\":\"parcoords\"}],\"pie\":[{\"automargin\":true,\"type\":\"pie\"}],\"scatter3d\":[{\"line\":{\"colorbar\":{\"outlinewidth\":0,\"ticks\":\"\"}},\"marker\":{\"colorbar\":{\"outlinewidth\":0,\"ticks\":\"\"}},\"type\":\"scatter3d\"}],\"scattercarpet\":[{\"marker\":{\"colorbar\":{\"outlinewidth\":0,\"ticks\":\"\"}},\"type\":\"scattercarpet\"}],\"scattergeo\":[{\"marker\":{\"colorbar\":{\"outlinewidth\":0,\"ticks\":\"\"}},\"type\":\"scattergeo\"}],\"scattergl\":[{\"marker\":{\"colorbar\":{\"outlinewidth\":0,\"ticks\":\"\"}},\"type\":\"scattergl\"}],\"scattermapbox\":[{\"marker\":{\"colorbar\":{\"outlinewidth\":0,\"ticks\":\"\"}},\"type\":\"scattermapbox\"}],\"scatterpolargl\":[{\"marker\":{\"colorbar\":{\"outlinewidth\":0,\"ticks\":\"\"}},\"type\":\"scatterpolargl\"}],\"scatterpolar\":[{\"marker\":{\"colorbar\":{\"outlinewidth\":0,\"ticks\":\"\"}},\"type\":\"scatterpolar\"}],\"scatter\":[{\"marker\":{\"colorbar\":{\"outlinewidth\":0,\"ticks\":\"\"}},\"type\":\"scatter\"}],\"scatterternary\":[{\"marker\":{\"colorbar\":{\"outlinewidth\":0,\"ticks\":\"\"}},\"type\":\"scatterternary\"}],\"surface\":[{\"colorbar\":{\"outlinewidth\":0,\"ticks\":\"\"},\"colorscale\":[[0.0,\"#0d0887\"],[0.1111111111111111,\"#46039f\"],[0.2222222222222222,\"#7201a8\"],[0.3333333333333333,\"#9c179e\"],[0.4444444444444444,\"#bd3786\"],[0.5555555555555556,\"#d8576b\"],[0.6666666666666666,\"#ed7953\"],[0.7777777777777778,\"#fb9f3a\"],[0.8888888888888888,\"#fdca26\"],[1.0,\"#f0f921\"]],\"type\":\"surface\"}],\"table\":[{\"cells\":{\"fill\":{\"color\":\"#EBF0F8\"},\"line\":{\"color\":\"white\"}},\"header\":{\"fill\":{\"color\":\"#C8D4E3\"},\"line\":{\"color\":\"white\"}},\"type\":\"table\"}]},\"layout\":{\"annotationdefaults\":{\"arrowcolor\":\"#2a3f5f\",\"arrowhead\":0,\"arrowwidth\":1},\"autotypenumbers\":\"strict\",\"coloraxis\":{\"colorbar\":{\"outlinewidth\":0,\"ticks\":\"\"}},\"colorscale\":{\"diverging\":[[0,\"#8e0152\"],[0.1,\"#c51b7d\"],[0.2,\"#de77ae\"],[0.3,\"#f1b6da\"],[0.4,\"#fde0ef\"],[0.5,\"#f7f7f7\"],[0.6,\"#e6f5d0\"],[0.7,\"#b8e186\"],[0.8,\"#7fbc41\"],[0.9,\"#4d9221\"],[1,\"#276419\"]],\"sequential\":[[0.0,\"#0d0887\"],[0.1111111111111111,\"#46039f\"],[0.2222222222222222,\"#7201a8\"],[0.3333333333333333,\"#9c179e\"],[0.4444444444444444,\"#bd3786\"],[0.5555555555555556,\"#d8576b\"],[0.6666666666666666,\"#ed7953\"],[0.7777777777777778,\"#fb9f3a\"],[0.8888888888888888,\"#fdca26\"],[1.0,\"#f0f921\"]],\"sequentialminus\":[[0.0,\"#0d0887\"],[0.1111111111111111,\"#46039f\"],[0.2222222222222222,\"#7201a8\"],[0.3333333333333333,\"#9c179e\"],[0.4444444444444444,\"#bd3786\"],[0.5555555555555556,\"#d8576b\"],[0.6666666666666666,\"#ed7953\"],[0.7777777777777778,\"#fb9f3a\"],[0.8888888888888888,\"#fdca26\"],[1.0,\"#f0f921\"]]},\"colorway\":[\"#636efa\",\"#EF553B\",\"#00cc96\",\"#ab63fa\",\"#FFA15A\",\"#19d3f3\",\"#FF6692\",\"#B6E880\",\"#FF97FF\",\"#FECB52\"],\"font\":{\"color\":\"#2a3f5f\"},\"geo\":{\"bgcolor\":\"white\",\"lakecolor\":\"white\",\"landcolor\":\"#E5ECF6\",\"showlakes\":true,\"showland\":true,\"subunitcolor\":\"white\"},\"hoverlabel\":{\"align\":\"left\"},\"hovermode\":\"closest\",\"mapbox\":{\"style\":\"light\"},\"paper_bgcolor\":\"white\",\"plot_bgcolor\":\"#E5ECF6\",\"polar\":{\"angularaxis\":{\"gridcolor\":\"white\",\"linecolor\":\"white\",\"ticks\":\"\"},\"bgcolor\":\"#E5ECF6\",\"radialaxis\":{\"gridcolor\":\"white\",\"linecolor\":\"white\",\"ticks\":\"\"}},\"scene\":{\"xaxis\":{\"backgroundcolor\":\"#E5ECF6\",\"gridcolor\":\"white\",\"gridwidth\":2,\"linecolor\":\"white\",\"showbackground\":true,\"ticks\":\"\",\"zerolinecolor\":\"white\"},\"yaxis\":{\"backgroundcolor\":\"#E5ECF6\",\"gridcolor\":\"white\",\"gridwidth\":2,\"linecolor\":\"white\",\"showbackground\":true,\"ticks\":\"\",\"zerolinecolor\":\"white\"},\"zaxis\":{\"backgroundcolor\":\"#E5ECF6\",\"gridcolor\":\"white\",\"gridwidth\":2,\"linecolor\":\"white\",\"showbackground\":true,\"ticks\":\"\",\"zerolinecolor\":\"white\"}},\"shapedefaults\":{\"line\":{\"color\":\"#2a3f5f\"}},\"ternary\":{\"aaxis\":{\"gridcolor\":\"white\",\"linecolor\":\"white\",\"ticks\":\"\"},\"baxis\":{\"gridcolor\":\"white\",\"linecolor\":\"white\",\"ticks\":\"\"},\"bgcolor\":\"#E5ECF6\",\"caxis\":{\"gridcolor\":\"white\",\"linecolor\":\"white\",\"ticks\":\"\"}},\"title\":{\"x\":0.05},\"xaxis\":{\"automargin\":true,\"gridcolor\":\"white\",\"linecolor\":\"white\",\"ticks\":\"\",\"title\":{\"standoff\":15},\"zerolinecolor\":\"white\",\"zerolinewidth\":2},\"yaxis\":{\"automargin\":true,\"gridcolor\":\"white\",\"linecolor\":\"white\",\"ticks\":\"\",\"title\":{\"standoff\":15},\"zerolinecolor\":\"white\",\"zerolinewidth\":2}}},\"title\":{\"text\":\"Line Charts\"}},                        {\"responsive\": true}                    ).then(function(){\n",
              "                            \n",
              "var gd = document.getElementById('2106db7a-fa0e-45ac-8c32-572133289947');\n",
              "var x = new MutationObserver(function (mutations, observer) {{\n",
              "        var display = window.getComputedStyle(gd).display;\n",
              "        if (!display || display === 'none') {{\n",
              "            console.log([gd, 'removed!']);\n",
              "            Plotly.purge(gd);\n",
              "            observer.disconnect();\n",
              "        }}\n",
              "}});\n",
              "\n",
              "// Listen for the removal of the full notebook cells\n",
              "var notebookContainer = gd.closest('#notebook-container');\n",
              "if (notebookContainer) {{\n",
              "    x.observe(notebookContainer, {childList: true});\n",
              "}}\n",
              "\n",
              "// Listen for the clearing of the current output cell\n",
              "var outputEl = gd.closest('.output');\n",
              "if (outputEl) {{\n",
              "    x.observe(outputEl, {childList: true});\n",
              "}}\n",
              "\n",
              "                        })                };                            </script>        </div>\n",
              "</body>\n",
              "</html>"
            ]
          },
          "metadata": {}
        }
      ]
    },
    {
      "cell_type": "markdown",
      "source": [
        "### Bar Charts\n",
        "\n",
        "A bar chart (aka bar graph, column chart) plots numeric values for levels of a categorical feature as bars. Levels are plotted on one chart axis, and values are plotted on the other axis. Each categorical value claims one bar, and the length of each bar corresponds to the bar’s value. Bars are plotted on a common baseline to allow for easy comparison of values.\n",
        "\n",
        "https://chartio.com"
      ],
      "metadata": {
        "id": "UK3EKBi_htlu"
      }
    },
    {
      "cell_type": "code",
      "source": [
        "df = pd.read_csv(\n",
        "    \"https://raw.githubusercontent.com/Pierian-Data/Plotly-Dashboards-with-Dash/master/Data/2018WinterOlympics.csv\"\n",
        ")\n",
        "\n",
        "# similar to line chart, you would create different traces\n",
        "trace1 = go.Bar(x=df[\"NOC\"], y=df[\"Gold\"], name=\"Gold\", marker={\"color\": \"#FFD700\"})\n",
        "trace2 = go.Bar(x=df[\"NOC\"], y=df[\"Silver\"], name=\"Silver\", marker={\"color\": \"#9EA0A1\"})\n",
        "trace3 = go.Bar(x=df[\"NOC\"], y=df[\"Bronze\"], name=\"Bronze\", marker={\"color\": \"#CD7F32\"})\n",
        "\n",
        "data = [trace1, trace2, trace3]\n",
        "\n",
        "layout = go.Layout(title=\"Medals\", barmode=\"stack\")\n",
        "\n",
        "fig = go.Figure(data=data, layout=layout)\n",
        "\n",
        "pyo.iplot(fig)\n"
      ],
      "metadata": {
        "colab": {
          "base_uri": "https://localhost:8080/",
          "height": 542
        },
        "id": "F3r9zeG2edZ7",
        "outputId": "a2ffebaa-c5ff-4ce5-ca96-e278767f45c2"
      },
      "execution_count": null,
      "outputs": [
        {
          "output_type": "display_data",
          "data": {
            "text/html": [
              "<html>\n",
              "<head><meta charset=\"utf-8\" /></head>\n",
              "<body>\n",
              "    <div>            <script src=\"https://cdnjs.cloudflare.com/ajax/libs/mathjax/2.7.5/MathJax.js?config=TeX-AMS-MML_SVG\"></script><script type=\"text/javascript\">if (window.MathJax) {MathJax.Hub.Config({SVG: {font: \"STIX-Web\"}});}</script>                <script type=\"text/javascript\">window.PlotlyConfig = {MathJaxConfig: 'local'};</script>\n",
              "        <script src=\"https://cdn.plot.ly/plotly-2.8.3.min.js\"></script>                <div id=\"36ed3934-2101-4661-8ea5-00ea95f1eb44\" class=\"plotly-graph-div\" style=\"height:525px; width:100%;\"></div>            <script type=\"text/javascript\">                                    window.PLOTLYENV=window.PLOTLYENV || {};                                    if (document.getElementById(\"36ed3934-2101-4661-8ea5-00ea95f1eb44\")) {                    Plotly.newPlot(                        \"36ed3934-2101-4661-8ea5-00ea95f1eb44\",                        [{\"marker\":{\"color\":\"#FFD700\"},\"name\":\"Gold\",\"x\":[\"Norway\",\"Germany\",\"Canada\",\"United States\",\"Netherlands\",\"Sweden\",\"Republic of Korea\",\"Switzerland\",\"France\",\"Austria\",\"Japan\",\"Italy\",\"OAR\",\"Czech Republic\",\"Belarus\",\"China\",\"Slovakia\",\"Finland\",\"Great Britain\",\"Poland\",\"Hungary\",\"Ukraine\",\"Australia\",\"Slovenia\",\"Belgium\",\"Spain\",\"New Zealand\",\"Kazakhstan\",\"Latvia\",\"Liechtenstein\"],\"y\":[14,14,11,9,8,7,5,5,5,5,4,3,2,2,2,1,1,1,1,1,1,1,0,0,0,0,0,0,0,0],\"type\":\"bar\"},{\"marker\":{\"color\":\"#9EA0A1\"},\"name\":\"Silver\",\"x\":[\"Norway\",\"Germany\",\"Canada\",\"United States\",\"Netherlands\",\"Sweden\",\"Republic of Korea\",\"Switzerland\",\"France\",\"Austria\",\"Japan\",\"Italy\",\"OAR\",\"Czech Republic\",\"Belarus\",\"China\",\"Slovakia\",\"Finland\",\"Great Britain\",\"Poland\",\"Hungary\",\"Ukraine\",\"Australia\",\"Slovenia\",\"Belgium\",\"Spain\",\"New Zealand\",\"Kazakhstan\",\"Latvia\",\"Liechtenstein\"],\"y\":[14,10,8,8,6,6,8,6,4,3,5,2,6,2,1,6,2,1,0,0,0,0,2,1,1,0,0,0,0,0],\"type\":\"bar\"},{\"marker\":{\"color\":\"#CD7F32\"},\"name\":\"Bronze\",\"x\":[\"Norway\",\"Germany\",\"Canada\",\"United States\",\"Netherlands\",\"Sweden\",\"Republic of Korea\",\"Switzerland\",\"France\",\"Austria\",\"Japan\",\"Italy\",\"OAR\",\"Czech Republic\",\"Belarus\",\"China\",\"Slovakia\",\"Finland\",\"Great Britain\",\"Poland\",\"Hungary\",\"Ukraine\",\"Australia\",\"Slovenia\",\"Belgium\",\"Spain\",\"New Zealand\",\"Kazakhstan\",\"Latvia\",\"Liechtenstein\"],\"y\":[11,7,10,6,6,1,4,4,6,6,4,5,9,3,0,2,0,4,4,1,0,0,1,1,0,2,2,1,1,1],\"type\":\"bar\"}],                        {\"barmode\":\"stack\",\"template\":{\"data\":{\"barpolar\":[{\"marker\":{\"line\":{\"color\":\"#E5ECF6\",\"width\":0.5},\"pattern\":{\"fillmode\":\"overlay\",\"size\":10,\"solidity\":0.2}},\"type\":\"barpolar\"}],\"bar\":[{\"error_x\":{\"color\":\"#2a3f5f\"},\"error_y\":{\"color\":\"#2a3f5f\"},\"marker\":{\"line\":{\"color\":\"#E5ECF6\",\"width\":0.5},\"pattern\":{\"fillmode\":\"overlay\",\"size\":10,\"solidity\":0.2}},\"type\":\"bar\"}],\"carpet\":[{\"aaxis\":{\"endlinecolor\":\"#2a3f5f\",\"gridcolor\":\"white\",\"linecolor\":\"white\",\"minorgridcolor\":\"white\",\"startlinecolor\":\"#2a3f5f\"},\"baxis\":{\"endlinecolor\":\"#2a3f5f\",\"gridcolor\":\"white\",\"linecolor\":\"white\",\"minorgridcolor\":\"white\",\"startlinecolor\":\"#2a3f5f\"},\"type\":\"carpet\"}],\"choropleth\":[{\"colorbar\":{\"outlinewidth\":0,\"ticks\":\"\"},\"type\":\"choropleth\"}],\"contourcarpet\":[{\"colorbar\":{\"outlinewidth\":0,\"ticks\":\"\"},\"type\":\"contourcarpet\"}],\"contour\":[{\"colorbar\":{\"outlinewidth\":0,\"ticks\":\"\"},\"colorscale\":[[0.0,\"#0d0887\"],[0.1111111111111111,\"#46039f\"],[0.2222222222222222,\"#7201a8\"],[0.3333333333333333,\"#9c179e\"],[0.4444444444444444,\"#bd3786\"],[0.5555555555555556,\"#d8576b\"],[0.6666666666666666,\"#ed7953\"],[0.7777777777777778,\"#fb9f3a\"],[0.8888888888888888,\"#fdca26\"],[1.0,\"#f0f921\"]],\"type\":\"contour\"}],\"heatmapgl\":[{\"colorbar\":{\"outlinewidth\":0,\"ticks\":\"\"},\"colorscale\":[[0.0,\"#0d0887\"],[0.1111111111111111,\"#46039f\"],[0.2222222222222222,\"#7201a8\"],[0.3333333333333333,\"#9c179e\"],[0.4444444444444444,\"#bd3786\"],[0.5555555555555556,\"#d8576b\"],[0.6666666666666666,\"#ed7953\"],[0.7777777777777778,\"#fb9f3a\"],[0.8888888888888888,\"#fdca26\"],[1.0,\"#f0f921\"]],\"type\":\"heatmapgl\"}],\"heatmap\":[{\"colorbar\":{\"outlinewidth\":0,\"ticks\":\"\"},\"colorscale\":[[0.0,\"#0d0887\"],[0.1111111111111111,\"#46039f\"],[0.2222222222222222,\"#7201a8\"],[0.3333333333333333,\"#9c179e\"],[0.4444444444444444,\"#bd3786\"],[0.5555555555555556,\"#d8576b\"],[0.6666666666666666,\"#ed7953\"],[0.7777777777777778,\"#fb9f3a\"],[0.8888888888888888,\"#fdca26\"],[1.0,\"#f0f921\"]],\"type\":\"heatmap\"}],\"histogram2dcontour\":[{\"colorbar\":{\"outlinewidth\":0,\"ticks\":\"\"},\"colorscale\":[[0.0,\"#0d0887\"],[0.1111111111111111,\"#46039f\"],[0.2222222222222222,\"#7201a8\"],[0.3333333333333333,\"#9c179e\"],[0.4444444444444444,\"#bd3786\"],[0.5555555555555556,\"#d8576b\"],[0.6666666666666666,\"#ed7953\"],[0.7777777777777778,\"#fb9f3a\"],[0.8888888888888888,\"#fdca26\"],[1.0,\"#f0f921\"]],\"type\":\"histogram2dcontour\"}],\"histogram2d\":[{\"colorbar\":{\"outlinewidth\":0,\"ticks\":\"\"},\"colorscale\":[[0.0,\"#0d0887\"],[0.1111111111111111,\"#46039f\"],[0.2222222222222222,\"#7201a8\"],[0.3333333333333333,\"#9c179e\"],[0.4444444444444444,\"#bd3786\"],[0.5555555555555556,\"#d8576b\"],[0.6666666666666666,\"#ed7953\"],[0.7777777777777778,\"#fb9f3a\"],[0.8888888888888888,\"#fdca26\"],[1.0,\"#f0f921\"]],\"type\":\"histogram2d\"}],\"histogram\":[{\"marker\":{\"pattern\":{\"fillmode\":\"overlay\",\"size\":10,\"solidity\":0.2}},\"type\":\"histogram\"}],\"mesh3d\":[{\"colorbar\":{\"outlinewidth\":0,\"ticks\":\"\"},\"type\":\"mesh3d\"}],\"parcoords\":[{\"line\":{\"colorbar\":{\"outlinewidth\":0,\"ticks\":\"\"}},\"type\":\"parcoords\"}],\"pie\":[{\"automargin\":true,\"type\":\"pie\"}],\"scatter3d\":[{\"line\":{\"colorbar\":{\"outlinewidth\":0,\"ticks\":\"\"}},\"marker\":{\"colorbar\":{\"outlinewidth\":0,\"ticks\":\"\"}},\"type\":\"scatter3d\"}],\"scattercarpet\":[{\"marker\":{\"colorbar\":{\"outlinewidth\":0,\"ticks\":\"\"}},\"type\":\"scattercarpet\"}],\"scattergeo\":[{\"marker\":{\"colorbar\":{\"outlinewidth\":0,\"ticks\":\"\"}},\"type\":\"scattergeo\"}],\"scattergl\":[{\"marker\":{\"colorbar\":{\"outlinewidth\":0,\"ticks\":\"\"}},\"type\":\"scattergl\"}],\"scattermapbox\":[{\"marker\":{\"colorbar\":{\"outlinewidth\":0,\"ticks\":\"\"}},\"type\":\"scattermapbox\"}],\"scatterpolargl\":[{\"marker\":{\"colorbar\":{\"outlinewidth\":0,\"ticks\":\"\"}},\"type\":\"scatterpolargl\"}],\"scatterpolar\":[{\"marker\":{\"colorbar\":{\"outlinewidth\":0,\"ticks\":\"\"}},\"type\":\"scatterpolar\"}],\"scatter\":[{\"marker\":{\"colorbar\":{\"outlinewidth\":0,\"ticks\":\"\"}},\"type\":\"scatter\"}],\"scatterternary\":[{\"marker\":{\"colorbar\":{\"outlinewidth\":0,\"ticks\":\"\"}},\"type\":\"scatterternary\"}],\"surface\":[{\"colorbar\":{\"outlinewidth\":0,\"ticks\":\"\"},\"colorscale\":[[0.0,\"#0d0887\"],[0.1111111111111111,\"#46039f\"],[0.2222222222222222,\"#7201a8\"],[0.3333333333333333,\"#9c179e\"],[0.4444444444444444,\"#bd3786\"],[0.5555555555555556,\"#d8576b\"],[0.6666666666666666,\"#ed7953\"],[0.7777777777777778,\"#fb9f3a\"],[0.8888888888888888,\"#fdca26\"],[1.0,\"#f0f921\"]],\"type\":\"surface\"}],\"table\":[{\"cells\":{\"fill\":{\"color\":\"#EBF0F8\"},\"line\":{\"color\":\"white\"}},\"header\":{\"fill\":{\"color\":\"#C8D4E3\"},\"line\":{\"color\":\"white\"}},\"type\":\"table\"}]},\"layout\":{\"annotationdefaults\":{\"arrowcolor\":\"#2a3f5f\",\"arrowhead\":0,\"arrowwidth\":1},\"autotypenumbers\":\"strict\",\"coloraxis\":{\"colorbar\":{\"outlinewidth\":0,\"ticks\":\"\"}},\"colorscale\":{\"diverging\":[[0,\"#8e0152\"],[0.1,\"#c51b7d\"],[0.2,\"#de77ae\"],[0.3,\"#f1b6da\"],[0.4,\"#fde0ef\"],[0.5,\"#f7f7f7\"],[0.6,\"#e6f5d0\"],[0.7,\"#b8e186\"],[0.8,\"#7fbc41\"],[0.9,\"#4d9221\"],[1,\"#276419\"]],\"sequential\":[[0.0,\"#0d0887\"],[0.1111111111111111,\"#46039f\"],[0.2222222222222222,\"#7201a8\"],[0.3333333333333333,\"#9c179e\"],[0.4444444444444444,\"#bd3786\"],[0.5555555555555556,\"#d8576b\"],[0.6666666666666666,\"#ed7953\"],[0.7777777777777778,\"#fb9f3a\"],[0.8888888888888888,\"#fdca26\"],[1.0,\"#f0f921\"]],\"sequentialminus\":[[0.0,\"#0d0887\"],[0.1111111111111111,\"#46039f\"],[0.2222222222222222,\"#7201a8\"],[0.3333333333333333,\"#9c179e\"],[0.4444444444444444,\"#bd3786\"],[0.5555555555555556,\"#d8576b\"],[0.6666666666666666,\"#ed7953\"],[0.7777777777777778,\"#fb9f3a\"],[0.8888888888888888,\"#fdca26\"],[1.0,\"#f0f921\"]]},\"colorway\":[\"#636efa\",\"#EF553B\",\"#00cc96\",\"#ab63fa\",\"#FFA15A\",\"#19d3f3\",\"#FF6692\",\"#B6E880\",\"#FF97FF\",\"#FECB52\"],\"font\":{\"color\":\"#2a3f5f\"},\"geo\":{\"bgcolor\":\"white\",\"lakecolor\":\"white\",\"landcolor\":\"#E5ECF6\",\"showlakes\":true,\"showland\":true,\"subunitcolor\":\"white\"},\"hoverlabel\":{\"align\":\"left\"},\"hovermode\":\"closest\",\"mapbox\":{\"style\":\"light\"},\"paper_bgcolor\":\"white\",\"plot_bgcolor\":\"#E5ECF6\",\"polar\":{\"angularaxis\":{\"gridcolor\":\"white\",\"linecolor\":\"white\",\"ticks\":\"\"},\"bgcolor\":\"#E5ECF6\",\"radialaxis\":{\"gridcolor\":\"white\",\"linecolor\":\"white\",\"ticks\":\"\"}},\"scene\":{\"xaxis\":{\"backgroundcolor\":\"#E5ECF6\",\"gridcolor\":\"white\",\"gridwidth\":2,\"linecolor\":\"white\",\"showbackground\":true,\"ticks\":\"\",\"zerolinecolor\":\"white\"},\"yaxis\":{\"backgroundcolor\":\"#E5ECF6\",\"gridcolor\":\"white\",\"gridwidth\":2,\"linecolor\":\"white\",\"showbackground\":true,\"ticks\":\"\",\"zerolinecolor\":\"white\"},\"zaxis\":{\"backgroundcolor\":\"#E5ECF6\",\"gridcolor\":\"white\",\"gridwidth\":2,\"linecolor\":\"white\",\"showbackground\":true,\"ticks\":\"\",\"zerolinecolor\":\"white\"}},\"shapedefaults\":{\"line\":{\"color\":\"#2a3f5f\"}},\"ternary\":{\"aaxis\":{\"gridcolor\":\"white\",\"linecolor\":\"white\",\"ticks\":\"\"},\"baxis\":{\"gridcolor\":\"white\",\"linecolor\":\"white\",\"ticks\":\"\"},\"bgcolor\":\"#E5ECF6\",\"caxis\":{\"gridcolor\":\"white\",\"linecolor\":\"white\",\"ticks\":\"\"}},\"title\":{\"x\":0.05},\"xaxis\":{\"automargin\":true,\"gridcolor\":\"white\",\"linecolor\":\"white\",\"ticks\":\"\",\"title\":{\"standoff\":15},\"zerolinecolor\":\"white\",\"zerolinewidth\":2},\"yaxis\":{\"automargin\":true,\"gridcolor\":\"white\",\"linecolor\":\"white\",\"ticks\":\"\",\"title\":{\"standoff\":15},\"zerolinecolor\":\"white\",\"zerolinewidth\":2}}},\"title\":{\"text\":\"Medals\"}},                        {\"responsive\": true}                    ).then(function(){\n",
              "                            \n",
              "var gd = document.getElementById('36ed3934-2101-4661-8ea5-00ea95f1eb44');\n",
              "var x = new MutationObserver(function (mutations, observer) {{\n",
              "        var display = window.getComputedStyle(gd).display;\n",
              "        if (!display || display === 'none') {{\n",
              "            console.log([gd, 'removed!']);\n",
              "            Plotly.purge(gd);\n",
              "            observer.disconnect();\n",
              "        }}\n",
              "}});\n",
              "\n",
              "// Listen for the removal of the full notebook cells\n",
              "var notebookContainer = gd.closest('#notebook-container');\n",
              "if (notebookContainer) {{\n",
              "    x.observe(notebookContainer, {childList: true});\n",
              "}}\n",
              "\n",
              "// Listen for the clearing of the current output cell\n",
              "var outputEl = gd.closest('.output');\n",
              "if (outputEl) {{\n",
              "    x.observe(outputEl, {childList: true});\n",
              "}}\n",
              "\n",
              "                        })                };                            </script>        </div>\n",
              "</body>\n",
              "</html>"
            ]
          },
          "metadata": {}
        }
      ]
    },
    {
      "cell_type": "markdown",
      "source": [
        "### Bubble Charts\n",
        "\n",
        "A bubble chart (aka bubble plot) is an extension of the scatter plot used to look at relationships between three numeric variables. Each dot in a bubble chart corresponds with a single data point, and the variables’ values for each point are indicated by horizontal position, vertical position, and dot size.\n",
        "\n",
        "https://chartio.com"
      ],
      "metadata": {
        "id": "sjmF7P5Wng3K"
      }
    },
    {
      "cell_type": "code",
      "source": [
        "df = pd.read_csv(\n",
        "    \"https://raw.githubusercontent.com/Pierian-Data/Plotly-Dashboards-with-Dash/master/Data/mpg.csv\"\n",
        ")\n",
        "# some manipulation due to data type not being float\n",
        "df = df[df[\"horsepower\"] != \"?\"].reset_index(drop=True)\n",
        "df[\"horsepower\"] = df[\"horsepower\"].astype(float)\n",
        "\n",
        "# create list of plot type call\n",
        "data = [\n",
        "    go.Scatter(\n",
        "        x=df[\"horsepower\"],\n",
        "        y=df[\"mpg\"],\n",
        "        text=df[\"name\"],\n",
        "        mode=\"markers\",\n",
        "        marker=dict(size=df[\"weight\"] / 200, color=df[\"cylinders\"], showscale=True),\n",
        "    )\n",
        "]\n",
        "layout = go.Layout(title=\"Bubble Chart\", hovermode=\"closest\")\n",
        "\n",
        "fig = go.Figure(data=data, layout=layout)\n",
        "\n",
        "pyo.iplot(fig)"
      ],
      "metadata": {
        "colab": {
          "base_uri": "https://localhost:8080/",
          "height": 542
        },
        "id": "RZT-pk-lnj1D",
        "outputId": "ff086384-d896-4b3b-ef8d-795b9b2c8ce1"
      },
      "execution_count": null,
      "outputs": [
        {
          "output_type": "display_data",
          "data": {
            "text/html": [
              "<html>\n",
              "<head><meta charset=\"utf-8\" /></head>\n",
              "<body>\n",
              "    <div>            <script src=\"https://cdnjs.cloudflare.com/ajax/libs/mathjax/2.7.5/MathJax.js?config=TeX-AMS-MML_SVG\"></script><script type=\"text/javascript\">if (window.MathJax) {MathJax.Hub.Config({SVG: {font: \"STIX-Web\"}});}</script>                <script type=\"text/javascript\">window.PlotlyConfig = {MathJaxConfig: 'local'};</script>\n",
              "        <script src=\"https://cdn.plot.ly/plotly-2.8.3.min.js\"></script>                <div id=\"918cb110-bcdb-4172-b8f3-44ea8af18762\" class=\"plotly-graph-div\" style=\"height:525px; width:100%;\"></div>            <script type=\"text/javascript\">                                    window.PLOTLYENV=window.PLOTLYENV || {};                                    if (document.getElementById(\"918cb110-bcdb-4172-b8f3-44ea8af18762\")) {                    Plotly.newPlot(                        \"918cb110-bcdb-4172-b8f3-44ea8af18762\",                        [{\"marker\":{\"color\":[8,8,8,8,8,8,8,8,8,8,8,8,8,8,4,6,6,6,4,4,4,4,4,4,6,8,8,8,8,4,4,4,6,6,6,6,6,8,8,8,8,8,8,8,6,4,6,6,4,4,4,4,4,4,4,4,4,4,4,4,4,8,8,8,8,8,8,8,8,8,3,8,8,8,8,4,4,4,4,4,4,4,4,4,8,8,8,8,8,8,8,8,8,8,8,8,6,6,6,6,6,4,8,8,8,8,6,4,4,4,3,4,6,4,8,8,4,4,4,4,8,4,6,8,6,6,6,4,4,4,4,6,6,6,8,8,8,8,8,4,4,4,4,4,4,4,4,4,4,4,6,6,6,6,8,8,8,8,6,6,6,6,6,8,8,4,4,6,4,4,4,4,6,4,6,4,4,4,4,4,4,4,4,4,4,8,8,8,8,6,6,6,6,4,4,4,4,6,6,6,6,4,4,4,4,4,8,4,6,6,8,8,8,8,4,4,4,4,4,8,8,8,8,6,6,6,6,8,8,8,8,4,4,4,4,4,4,4,4,6,4,3,4,4,4,4,4,8,8,8,6,6,6,4,6,6,6,6,6,6,8,6,8,8,4,4,4,4,4,4,4,4,5,6,4,6,4,4,6,6,4,6,6,8,8,8,8,8,8,8,8,4,4,4,4,5,8,4,8,4,4,4,4,4,6,6,4,4,4,4,4,4,4,4,6,4,4,4,4,4,4,4,4,4,4,5,4,4,4,4,6,3,4,4,4,4,4,6,4,4,4,4,4,4,4,4,4,4,4,4,4,4,4,4,4,6,6,6,6,8,6,6,4,4,4,4,4,4,4,4,4,4,4,4,4,4,4,4,4,4,6,6,4,6,4,4,4,4,4,4,4,4],\"showscale\":true,\"size\":[17.52,18.465,17.18,17.165,17.245,21.705,21.77,21.56,22.125,19.25,17.815,18.045,18.805,15.43,11.86,14.165,13.87,12.935,10.65,9.175,13.36,12.15,11.875,11.17,13.24,23.075,21.88,21.91,23.66,10.65,11.32,11.14,13.17,17.195,16.645,16.51,16.44,21.045,22.32,20.77,20.48,24.775,23.73,25.7,14.81,12.04,16.41,15.695,11.1,10.615,10.37,10.325,8.865,8.065,9.17,9.775,11.39,10.63,11.27,12.04,11.13,21.37,21.925,20.675,20.645,18.36,23.165,22.51,22.28,22.11,11.65,19.46,20.49,21.47,20.385,14.665,12.555,14.895,10.945,11.975,11.44,12.53,10.82,10.5,20.5,18.36,19.94,20.21,18.885,24.76,22.32,21.815,21.185,23.675,24.755,19.105,15.605,16.39,14.725,15.105,14.52,9.75,24.985,24.53,23.27,22.495,13.945,11.395,12.005,11.895,10.62,11.55,12.36,11.325,20.41,21.39,9.335,10.79,12.91,14.34,16.995,13.3,14.035,18.32,15.51,14.505,16.68,9.75,12.255,9.18,12.71,18.905,18.16,18.065,20.705,23.495,22.285,23.19,21.285,11.095,9.815,11.5,8.245,10.015,10.625,10.54,11.23,12.445,11.955,10.0,16.32,17.295,17.16,15.79,23.34,22.2,22.49,23.285,19.535,19.485,18.65,18.925,15.195,16.105,15.845,10.855,13.195,14.57,12.96,13.51,11.115,12.725,14.92,9.685,16.055,13.47,14.785,14.725,13.355,8.975,12.32,11.1,12.86,11.275,11.01,21.075,20.95,19.81,21.075,16.165,16.765,15.06,15.425,10.175,10.82,9.685,8.975,18.255,17.87,18.225,15.965,9.125,9.95,10.775,12.825,15.75,19.7,16.35,14.65,19.1,21.9,20.275,19.35,18.775,10.225,10.775,9.125,11.5,9.725,19.4,20.3,20.7,21.475,17.6,17.125,18.15,17.625,21.1,20.825,21.625,21.675,9.7,13.7,11.325,13.775,10.255,10.375,9.925,10.95,14.075,13.0,13.6,9.925,9.0,9.925,10.35,9.0,16.825,18.675,17.85,17.675,15.775,14.825,13.6,17.15,16.05,16.9,15.35,18.1,17.05,17.125,17.225,16.025,20.4,10.775,12.8,11.5,11.15,12.575,13.725,14.275,12.025,14.15,15.7,13.975,17.05,9.95,10.675,16.225,14.95,14.45,16.325,16.8,19.2,18.625,19.775,19.15,21.8,20.27,18.025,19.7,9.625,9.875,9.575,13.35,17.65,19.5,15.95,17.1,11.0,10.75,10.1,10.65,13.35,12.975,13.5,12.78,10.72,9.84,10.6,10.095,13.39,14.35,15.015,16.905,10.94,13.555,12.71,12.17,11.325,10.55,14.0,10.55,10.425,11.675,14.75,16.25,9.25,10.725,9.225,14.55,12.1,12.5,11.45,12.45,13.175,13.1,13.625,11.925,8.775,9.375,8.8,10.325,9.875,10.25,9.925,11.075,10.225,11.9,10.95,11.05,11.75,13.075,13.175,16.15,15.8,14.5,14.65,17.075,18.625,15.3,17.325,13.025,13.2,11.975,12.875,12.625,13.675,14.325,9.9,10.125,9.85,10.625,10.625,10.8,11.025,11.225,9.825,9.825,9.975,14.725,15.075,12.925,14.175,13.325,11.85,14.75,13.95,10.65,11.475,13.125,13.6]},\"mode\":\"markers\",\"text\":[\"chevrolet chevelle malibu\",\"buick skylark 320\",\"plymouth satellite\",\"amc rebel sst\",\"ford torino\",\"ford galaxie 500\",\"chevrolet impala\",\"plymouth fury iii\",\"pontiac catalina\",\"amc ambassador dpl\",\"dodge challenger se\",\"plymouth 'cuda 340\",\"chevrolet monte carlo\",\"buick estate wagon (sw)\",\"toyota corona mark ii\",\"plymouth duster\",\"amc hornet\",\"ford maverick\",\"datsun pl510\",\"volkswagen 1131 deluxe sedan\",\"peugeot 504\",\"audi 100 ls\",\"saab 99e\",\"bmw 2002\",\"amc gremlin\",\"ford f250\",\"chevy c20\",\"dodge d200\",\"hi 1200d\",\"datsun pl510\",\"chevrolet vega 2300\",\"toyota corona\",\"amc gremlin\",\"plymouth satellite custom\",\"chevrolet chevelle malibu\",\"ford torino 500\",\"amc matador\",\"chevrolet impala\",\"pontiac catalina brougham\",\"ford galaxie 500\",\"plymouth fury iii\",\"dodge monaco (sw)\",\"ford country squire (sw)\",\"pontiac safari (sw)\",\"amc hornet sportabout (sw)\",\"chevrolet vega (sw)\",\"pontiac firebird\",\"ford mustang\",\"mercury capri 2000\",\"opel 1900\",\"peugeot 304\",\"fiat 124b\",\"toyota corolla 1200\",\"datsun 1200\",\"volkswagen model 111\",\"plymouth cricket\",\"toyota corona hardtop\",\"dodge colt hardtop\",\"volkswagen type 3\",\"chevrolet vega\",\"ford pinto runabout\",\"chevrolet impala\",\"pontiac catalina\",\"plymouth fury iii\",\"ford galaxie 500\",\"amc ambassador sst\",\"mercury marquis\",\"buick lesabre custom\",\"oldsmobile delta 88 royale\",\"chrysler newport royal\",\"mazda rx2 coupe\",\"amc matador (sw)\",\"chevrolet chevelle concours (sw)\",\"ford gran torino (sw)\",\"plymouth satellite custom (sw)\",\"volvo 145e (sw)\",\"volkswagen 411 (sw)\",\"peugeot 504 (sw)\",\"renault 12 (sw)\",\"ford pinto (sw)\",\"datsun 510 (sw)\",\"toyouta corona mark ii (sw)\",\"dodge colt (sw)\",\"toyota corolla 1600 (sw)\",\"buick century 350\",\"amc matador\",\"chevrolet malibu\",\"ford gran torino\",\"dodge coronet custom\",\"mercury marquis brougham\",\"chevrolet caprice classic\",\"ford ltd\",\"plymouth fury gran sedan\",\"chrysler new yorker brougham\",\"buick electra 225 custom\",\"amc ambassador brougham\",\"plymouth valiant\",\"chevrolet nova custom\",\"amc hornet\",\"ford maverick\",\"plymouth duster\",\"volkswagen super beetle\",\"chevrolet impala\",\"ford country\",\"plymouth custom suburb\",\"oldsmobile vista cruiser\",\"amc gremlin\",\"toyota carina\",\"chevrolet vega\",\"datsun 610\",\"maxda rx3\",\"ford pinto\",\"mercury capri v6\",\"fiat 124 sport coupe\",\"chevrolet monte carlo s\",\"pontiac grand prix\",\"fiat 128\",\"opel manta\",\"audi 100ls\",\"volvo 144ea\",\"dodge dart custom\",\"saab 99le\",\"toyota mark ii\",\"oldsmobile omega\",\"plymouth duster\",\"amc hornet\",\"chevrolet nova\",\"datsun b210\",\"ford pinto\",\"toyota corolla 1200\",\"chevrolet vega\",\"chevrolet chevelle malibu classic\",\"amc matador\",\"plymouth satellite sebring\",\"ford gran torino\",\"buick century luxus (sw)\",\"dodge coronet custom (sw)\",\"ford gran torino (sw)\",\"amc matador (sw)\",\"audi fox\",\"volkswagen dasher\",\"opel manta\",\"toyota corona\",\"datsun 710\",\"dodge colt\",\"fiat 128\",\"fiat 124 tc\",\"honda civic\",\"subaru\",\"fiat x1.9\",\"plymouth valiant custom\",\"chevrolet nova\",\"mercury monarch\",\"ford maverick\",\"pontiac catalina\",\"chevrolet bel air\",\"plymouth grand fury\",\"ford ltd\",\"buick century\",\"chevroelt chevelle malibu\",\"amc matador\",\"plymouth fury\",\"buick skyhawk\",\"chevrolet monza 2+2\",\"ford mustang ii\",\"toyota corolla\",\"ford pinto\",\"amc gremlin\",\"pontiac astro\",\"toyota corona\",\"volkswagen dasher\",\"datsun 710\",\"ford pinto\",\"volkswagen rabbit\",\"amc pacer\",\"audi 100ls\",\"peugeot 504\",\"volvo 244dl\",\"saab 99le\",\"honda civic cvcc\",\"fiat 131\",\"opel 1900\",\"capri ii\",\"dodge colt\",\"renault 12tl\",\"chevrolet chevelle malibu classic\",\"dodge coronet brougham\",\"amc matador\",\"ford gran torino\",\"plymouth valiant\",\"chevrolet nova\",\"ford maverick\",\"amc hornet\",\"chevrolet chevette\",\"chevrolet woody\",\"vw rabbit\",\"honda civic\",\"dodge aspen se\",\"ford granada ghia\",\"pontiac ventura sj\",\"amc pacer d/l\",\"volkswagen rabbit\",\"datsun b-210\",\"toyota corolla\",\"ford pinto\",\"volvo 245\",\"plymouth volare premier v8\",\"peugeot 504\",\"toyota mark ii\",\"mercedes-benz 280s\",\"cadillac seville\",\"chevy c10\",\"ford f108\",\"dodge d100\",\"honda accord cvcc\",\"buick opel isuzu deluxe\",\"renault 5 gtl\",\"plymouth arrow gs\",\"datsun f-10 hatchback\",\"chevrolet caprice classic\",\"oldsmobile cutlass supreme\",\"dodge monaco brougham\",\"mercury cougar brougham\",\"chevrolet concours\",\"buick skylark\",\"plymouth volare custom\",\"ford granada\",\"pontiac grand prix lj\",\"chevrolet monte carlo landau\",\"chrysler cordoba\",\"ford thunderbird\",\"volkswagen rabbit custom\",\"pontiac sunbird coupe\",\"toyota corolla liftback\",\"ford mustang ii 2+2\",\"chevrolet chevette\",\"dodge colt m/m\",\"subaru dl\",\"volkswagen dasher\",\"datsun 810\",\"bmw 320i\",\"mazda rx-4\",\"volkswagen rabbit custom diesel\",\"ford fiesta\",\"mazda glc deluxe\",\"datsun b210 gx\",\"honda civic cvcc\",\"oldsmobile cutlass salon brougham\",\"dodge diplomat\",\"mercury monarch ghia\",\"pontiac phoenix lj\",\"chevrolet malibu\",\"ford fairmont (auto)\",\"ford fairmont (man)\",\"plymouth volare\",\"amc concord\",\"buick century special\",\"mercury zephyr\",\"dodge aspen\",\"amc concord d/l\",\"chevrolet monte carlo landau\",\"buick regal sport coupe (turbo)\",\"ford futura\",\"dodge magnum xe\",\"chevrolet chevette\",\"toyota corona\",\"datsun 510\",\"dodge omni\",\"toyota celica gt liftback\",\"plymouth sapporo\",\"oldsmobile starfire sx\",\"datsun 200-sx\",\"audi 5000\",\"volvo 264gl\",\"saab 99gle\",\"peugeot 604sl\",\"volkswagen scirocco\",\"honda accord lx\",\"pontiac lemans v6\",\"mercury zephyr 6\",\"ford fairmont 4\",\"amc concord dl 6\",\"dodge aspen 6\",\"chevrolet caprice classic\",\"ford ltd landau\",\"mercury grand marquis\",\"dodge st. regis\",\"buick estate wagon (sw)\",\"ford country squire (sw)\",\"chevrolet malibu classic (sw)\",\"chrysler lebaron town @ country (sw)\",\"vw rabbit custom\",\"maxda glc deluxe\",\"dodge colt hatchback custom\",\"amc spirit dl\",\"mercedes benz 300d\",\"cadillac eldorado\",\"peugeot 504\",\"oldsmobile cutlass salon brougham\",\"plymouth horizon\",\"plymouth horizon tc3\",\"datsun 210\",\"fiat strada custom\",\"buick skylark limited\",\"chevrolet citation\",\"oldsmobile omega brougham\",\"pontiac phoenix\",\"vw rabbit\",\"toyota corolla tercel\",\"chevrolet chevette\",\"datsun 310\",\"chevrolet citation\",\"ford fairmont\",\"amc concord\",\"dodge aspen\",\"audi 4000\",\"toyota corona liftback\",\"mazda 626\",\"datsun 510 hatchback\",\"toyota corolla\",\"mazda glc\",\"dodge colt\",\"datsun 210\",\"vw rabbit c (diesel)\",\"vw dasher (diesel)\",\"audi 5000s (diesel)\",\"mercedes-benz 240d\",\"honda civic 1500 gl\",\"subaru dl\",\"vokswagen rabbit\",\"datsun 280-zx\",\"mazda rx-7 gs\",\"triumph tr7 coupe\",\"honda accord\",\"plymouth reliant\",\"buick skylark\",\"dodge aries wagon (sw)\",\"chevrolet citation\",\"plymouth reliant\",\"toyota starlet\",\"plymouth champ\",\"honda civic 1300\",\"subaru\",\"datsun 210 mpg\",\"toyota tercel\",\"mazda glc 4\",\"plymouth horizon 4\",\"ford escort 4w\",\"ford escort 2h\",\"volkswagen jetta\",\"honda prelude\",\"toyota corolla\",\"datsun 200sx\",\"mazda 626\",\"peugeot 505s turbo diesel\",\"volvo diesel\",\"toyota cressida\",\"datsun 810 maxima\",\"buick century\",\"oldsmobile cutlass ls\",\"ford granada gl\",\"chrysler lebaron salon\",\"chevrolet cavalier\",\"chevrolet cavalier wagon\",\"chevrolet cavalier 2-door\",\"pontiac j2000 se hatchback\",\"dodge aries se\",\"pontiac phoenix\",\"ford fairmont futura\",\"volkswagen rabbit l\",\"mazda glc custom l\",\"mazda glc custom\",\"plymouth horizon miser\",\"mercury lynx l\",\"nissan stanza xe\",\"honda accord\",\"toyota corolla\",\"honda civic\",\"honda civic (auto)\",\"datsun 310 gx\",\"buick century limited\",\"oldsmobile cutlass ciera (diesel)\",\"chrysler lebaron medallion\",\"ford granada l\",\"toyota celica gt\",\"dodge charger 2.2\",\"chevrolet camaro\",\"ford mustang gl\",\"vw pickup\",\"dodge rampage\",\"ford ranger\",\"chevy s-10\"],\"x\":[130.0,165.0,150.0,150.0,140.0,198.0,220.0,215.0,225.0,190.0,170.0,160.0,150.0,225.0,95.0,95.0,97.0,85.0,88.0,46.0,87.0,90.0,95.0,113.0,90.0,215.0,200.0,210.0,193.0,88.0,90.0,95.0,100.0,105.0,100.0,88.0,100.0,165.0,175.0,153.0,150.0,180.0,170.0,175.0,110.0,72.0,100.0,88.0,86.0,90.0,70.0,76.0,65.0,69.0,60.0,70.0,95.0,80.0,54.0,90.0,86.0,165.0,175.0,150.0,153.0,150.0,208.0,155.0,160.0,190.0,97.0,150.0,130.0,140.0,150.0,112.0,76.0,87.0,69.0,86.0,92.0,97.0,80.0,88.0,175.0,150.0,145.0,137.0,150.0,198.0,150.0,158.0,150.0,215.0,225.0,175.0,105.0,100.0,100.0,88.0,95.0,46.0,150.0,167.0,170.0,180.0,100.0,88.0,72.0,94.0,90.0,85.0,107.0,90.0,145.0,230.0,49.0,75.0,91.0,112.0,150.0,110.0,122.0,180.0,95.0,100.0,100.0,67.0,80.0,65.0,75.0,100.0,110.0,105.0,140.0,150.0,150.0,140.0,150.0,83.0,67.0,78.0,52.0,61.0,75.0,75.0,75.0,97.0,93.0,67.0,95.0,105.0,72.0,72.0,170.0,145.0,150.0,148.0,110.0,105.0,110.0,95.0,110.0,110.0,129.0,75.0,83.0,100.0,78.0,96.0,71.0,97.0,97.0,70.0,90.0,95.0,88.0,98.0,115.0,53.0,86.0,81.0,92.0,79.0,83.0,140.0,150.0,120.0,152.0,100.0,105.0,81.0,90.0,52.0,60.0,70.0,53.0,100.0,78.0,110.0,95.0,71.0,70.0,75.0,72.0,102.0,150.0,88.0,108.0,120.0,180.0,145.0,130.0,150.0,68.0,80.0,58.0,96.0,70.0,145.0,110.0,145.0,130.0,110.0,105.0,100.0,98.0,180.0,170.0,190.0,149.0,78.0,88.0,75.0,89.0,63.0,83.0,67.0,78.0,97.0,110.0,110.0,48.0,66.0,52.0,70.0,60.0,110.0,140.0,139.0,105.0,95.0,85.0,88.0,100.0,90.0,105.0,85.0,110.0,120.0,145.0,165.0,139.0,140.0,68.0,95.0,97.0,75.0,95.0,105.0,85.0,97.0,103.0,125.0,115.0,133.0,71.0,68.0,115.0,85.0,88.0,90.0,110.0,130.0,129.0,138.0,135.0,155.0,142.0,125.0,150.0,71.0,65.0,80.0,80.0,77.0,125.0,71.0,90.0,70.0,70.0,65.0,69.0,90.0,115.0,115.0,90.0,76.0,60.0,70.0,65.0,90.0,88.0,90.0,90.0,78.0,90.0,75.0,92.0,75.0,65.0,105.0,65.0,48.0,48.0,67.0,67.0,67.0,67.0,62.0,132.0,100.0,88.0,72.0,84.0,84.0,92.0,110.0,84.0,58.0,64.0,60.0,67.0,65.0,62.0,68.0,63.0,65.0,65.0,74.0,75.0,75.0,100.0,74.0,80.0,76.0,116.0,120.0,110.0,105.0,88.0,85.0,88.0,88.0,88.0,85.0,84.0,90.0,92.0,74.0,68.0,68.0,63.0,70.0,88.0,75.0,70.0,67.0,67.0,67.0,110.0,85.0,92.0,112.0,96.0,84.0,90.0,86.0,52.0,84.0,79.0,82.0],\"y\":[18.0,15.0,18.0,16.0,17.0,15.0,14.0,14.0,14.0,15.0,15.0,14.0,15.0,14.0,24.0,22.0,18.0,21.0,27.0,26.0,25.0,24.0,25.0,26.0,21.0,10.0,10.0,11.0,9.0,27.0,28.0,25.0,19.0,16.0,17.0,19.0,18.0,14.0,14.0,14.0,14.0,12.0,13.0,13.0,18.0,22.0,19.0,18.0,23.0,28.0,30.0,30.0,31.0,35.0,27.0,26.0,24.0,25.0,23.0,20.0,21.0,13.0,14.0,15.0,14.0,17.0,11.0,13.0,12.0,13.0,19.0,15.0,13.0,13.0,14.0,18.0,22.0,21.0,26.0,22.0,28.0,23.0,28.0,27.0,13.0,14.0,13.0,14.0,15.0,12.0,13.0,13.0,14.0,13.0,12.0,13.0,18.0,16.0,18.0,18.0,23.0,26.0,11.0,12.0,13.0,12.0,18.0,20.0,21.0,22.0,18.0,19.0,21.0,26.0,15.0,16.0,29.0,24.0,20.0,19.0,15.0,24.0,20.0,11.0,20.0,19.0,15.0,31.0,26.0,32.0,25.0,16.0,16.0,18.0,16.0,13.0,14.0,14.0,14.0,29.0,26.0,26.0,31.0,32.0,28.0,24.0,26.0,24.0,26.0,31.0,19.0,18.0,15.0,15.0,16.0,15.0,16.0,14.0,17.0,16.0,15.0,18.0,21.0,20.0,13.0,29.0,23.0,20.0,23.0,24.0,25.0,24.0,18.0,29.0,19.0,23.0,23.0,22.0,25.0,33.0,28.0,25.0,25.0,26.0,27.0,17.5,16.0,15.5,14.5,22.0,22.0,24.0,22.5,29.0,24.5,29.0,33.0,20.0,18.0,18.5,17.5,29.5,32.0,28.0,26.5,20.0,13.0,19.0,19.0,16.5,16.5,13.0,13.0,13.0,31.5,30.0,36.0,25.5,33.5,17.5,17.0,15.5,15.0,17.5,20.5,19.0,18.5,16.0,15.5,15.5,16.0,29.0,24.5,26.0,25.5,30.5,33.5,30.0,30.5,22.0,21.5,21.5,43.1,36.1,32.8,39.4,36.1,19.9,19.4,20.2,19.2,20.5,20.2,25.1,20.5,19.4,20.6,20.8,18.6,18.1,19.2,17.7,18.1,17.5,30.0,27.5,27.2,30.9,21.1,23.2,23.8,23.9,20.3,17.0,21.6,16.2,31.5,29.5,21.5,19.8,22.3,20.2,20.6,17.0,17.6,16.5,18.2,16.9,15.5,19.2,18.5,31.9,34.1,35.7,27.4,25.4,23.0,27.2,23.9,34.2,34.5,31.8,37.3,28.4,28.8,26.8,33.5,41.5,38.1,32.1,37.2,28.0,26.4,24.3,19.1,34.3,29.8,31.3,37.0,32.2,46.6,27.9,40.8,44.3,43.4,36.4,30.0,44.6,33.8,29.8,32.7,23.7,35.0,32.4,27.2,26.6,25.8,23.5,30.0,39.1,39.0,35.1,32.3,37.0,37.7,34.1,34.7,34.4,29.9,33.0,33.7,32.4,32.9,31.6,28.1,30.7,25.4,24.2,22.4,26.6,20.2,17.6,28.0,27.0,34.0,31.0,29.0,27.0,24.0,36.0,37.0,31.0,38.0,36.0,36.0,36.0,34.0,38.0,32.0,38.0,25.0,38.0,26.0,22.0,32.0,36.0,27.0,27.0,44.0,32.0,28.0,31.0],\"type\":\"scatter\"}],                        {\"hovermode\":\"closest\",\"template\":{\"data\":{\"barpolar\":[{\"marker\":{\"line\":{\"color\":\"#E5ECF6\",\"width\":0.5},\"pattern\":{\"fillmode\":\"overlay\",\"size\":10,\"solidity\":0.2}},\"type\":\"barpolar\"}],\"bar\":[{\"error_x\":{\"color\":\"#2a3f5f\"},\"error_y\":{\"color\":\"#2a3f5f\"},\"marker\":{\"line\":{\"color\":\"#E5ECF6\",\"width\":0.5},\"pattern\":{\"fillmode\":\"overlay\",\"size\":10,\"solidity\":0.2}},\"type\":\"bar\"}],\"carpet\":[{\"aaxis\":{\"endlinecolor\":\"#2a3f5f\",\"gridcolor\":\"white\",\"linecolor\":\"white\",\"minorgridcolor\":\"white\",\"startlinecolor\":\"#2a3f5f\"},\"baxis\":{\"endlinecolor\":\"#2a3f5f\",\"gridcolor\":\"white\",\"linecolor\":\"white\",\"minorgridcolor\":\"white\",\"startlinecolor\":\"#2a3f5f\"},\"type\":\"carpet\"}],\"choropleth\":[{\"colorbar\":{\"outlinewidth\":0,\"ticks\":\"\"},\"type\":\"choropleth\"}],\"contourcarpet\":[{\"colorbar\":{\"outlinewidth\":0,\"ticks\":\"\"},\"type\":\"contourcarpet\"}],\"contour\":[{\"colorbar\":{\"outlinewidth\":0,\"ticks\":\"\"},\"colorscale\":[[0.0,\"#0d0887\"],[0.1111111111111111,\"#46039f\"],[0.2222222222222222,\"#7201a8\"],[0.3333333333333333,\"#9c179e\"],[0.4444444444444444,\"#bd3786\"],[0.5555555555555556,\"#d8576b\"],[0.6666666666666666,\"#ed7953\"],[0.7777777777777778,\"#fb9f3a\"],[0.8888888888888888,\"#fdca26\"],[1.0,\"#f0f921\"]],\"type\":\"contour\"}],\"heatmapgl\":[{\"colorbar\":{\"outlinewidth\":0,\"ticks\":\"\"},\"colorscale\":[[0.0,\"#0d0887\"],[0.1111111111111111,\"#46039f\"],[0.2222222222222222,\"#7201a8\"],[0.3333333333333333,\"#9c179e\"],[0.4444444444444444,\"#bd3786\"],[0.5555555555555556,\"#d8576b\"],[0.6666666666666666,\"#ed7953\"],[0.7777777777777778,\"#fb9f3a\"],[0.8888888888888888,\"#fdca26\"],[1.0,\"#f0f921\"]],\"type\":\"heatmapgl\"}],\"heatmap\":[{\"colorbar\":{\"outlinewidth\":0,\"ticks\":\"\"},\"colorscale\":[[0.0,\"#0d0887\"],[0.1111111111111111,\"#46039f\"],[0.2222222222222222,\"#7201a8\"],[0.3333333333333333,\"#9c179e\"],[0.4444444444444444,\"#bd3786\"],[0.5555555555555556,\"#d8576b\"],[0.6666666666666666,\"#ed7953\"],[0.7777777777777778,\"#fb9f3a\"],[0.8888888888888888,\"#fdca26\"],[1.0,\"#f0f921\"]],\"type\":\"heatmap\"}],\"histogram2dcontour\":[{\"colorbar\":{\"outlinewidth\":0,\"ticks\":\"\"},\"colorscale\":[[0.0,\"#0d0887\"],[0.1111111111111111,\"#46039f\"],[0.2222222222222222,\"#7201a8\"],[0.3333333333333333,\"#9c179e\"],[0.4444444444444444,\"#bd3786\"],[0.5555555555555556,\"#d8576b\"],[0.6666666666666666,\"#ed7953\"],[0.7777777777777778,\"#fb9f3a\"],[0.8888888888888888,\"#fdca26\"],[1.0,\"#f0f921\"]],\"type\":\"histogram2dcontour\"}],\"histogram2d\":[{\"colorbar\":{\"outlinewidth\":0,\"ticks\":\"\"},\"colorscale\":[[0.0,\"#0d0887\"],[0.1111111111111111,\"#46039f\"],[0.2222222222222222,\"#7201a8\"],[0.3333333333333333,\"#9c179e\"],[0.4444444444444444,\"#bd3786\"],[0.5555555555555556,\"#d8576b\"],[0.6666666666666666,\"#ed7953\"],[0.7777777777777778,\"#fb9f3a\"],[0.8888888888888888,\"#fdca26\"],[1.0,\"#f0f921\"]],\"type\":\"histogram2d\"}],\"histogram\":[{\"marker\":{\"pattern\":{\"fillmode\":\"overlay\",\"size\":10,\"solidity\":0.2}},\"type\":\"histogram\"}],\"mesh3d\":[{\"colorbar\":{\"outlinewidth\":0,\"ticks\":\"\"},\"type\":\"mesh3d\"}],\"parcoords\":[{\"line\":{\"colorbar\":{\"outlinewidth\":0,\"ticks\":\"\"}},\"type\":\"parcoords\"}],\"pie\":[{\"automargin\":true,\"type\":\"pie\"}],\"scatter3d\":[{\"line\":{\"colorbar\":{\"outlinewidth\":0,\"ticks\":\"\"}},\"marker\":{\"colorbar\":{\"outlinewidth\":0,\"ticks\":\"\"}},\"type\":\"scatter3d\"}],\"scattercarpet\":[{\"marker\":{\"colorbar\":{\"outlinewidth\":0,\"ticks\":\"\"}},\"type\":\"scattercarpet\"}],\"scattergeo\":[{\"marker\":{\"colorbar\":{\"outlinewidth\":0,\"ticks\":\"\"}},\"type\":\"scattergeo\"}],\"scattergl\":[{\"marker\":{\"colorbar\":{\"outlinewidth\":0,\"ticks\":\"\"}},\"type\":\"scattergl\"}],\"scattermapbox\":[{\"marker\":{\"colorbar\":{\"outlinewidth\":0,\"ticks\":\"\"}},\"type\":\"scattermapbox\"}],\"scatterpolargl\":[{\"marker\":{\"colorbar\":{\"outlinewidth\":0,\"ticks\":\"\"}},\"type\":\"scatterpolargl\"}],\"scatterpolar\":[{\"marker\":{\"colorbar\":{\"outlinewidth\":0,\"ticks\":\"\"}},\"type\":\"scatterpolar\"}],\"scatter\":[{\"marker\":{\"colorbar\":{\"outlinewidth\":0,\"ticks\":\"\"}},\"type\":\"scatter\"}],\"scatterternary\":[{\"marker\":{\"colorbar\":{\"outlinewidth\":0,\"ticks\":\"\"}},\"type\":\"scatterternary\"}],\"surface\":[{\"colorbar\":{\"outlinewidth\":0,\"ticks\":\"\"},\"colorscale\":[[0.0,\"#0d0887\"],[0.1111111111111111,\"#46039f\"],[0.2222222222222222,\"#7201a8\"],[0.3333333333333333,\"#9c179e\"],[0.4444444444444444,\"#bd3786\"],[0.5555555555555556,\"#d8576b\"],[0.6666666666666666,\"#ed7953\"],[0.7777777777777778,\"#fb9f3a\"],[0.8888888888888888,\"#fdca26\"],[1.0,\"#f0f921\"]],\"type\":\"surface\"}],\"table\":[{\"cells\":{\"fill\":{\"color\":\"#EBF0F8\"},\"line\":{\"color\":\"white\"}},\"header\":{\"fill\":{\"color\":\"#C8D4E3\"},\"line\":{\"color\":\"white\"}},\"type\":\"table\"}]},\"layout\":{\"annotationdefaults\":{\"arrowcolor\":\"#2a3f5f\",\"arrowhead\":0,\"arrowwidth\":1},\"autotypenumbers\":\"strict\",\"coloraxis\":{\"colorbar\":{\"outlinewidth\":0,\"ticks\":\"\"}},\"colorscale\":{\"diverging\":[[0,\"#8e0152\"],[0.1,\"#c51b7d\"],[0.2,\"#de77ae\"],[0.3,\"#f1b6da\"],[0.4,\"#fde0ef\"],[0.5,\"#f7f7f7\"],[0.6,\"#e6f5d0\"],[0.7,\"#b8e186\"],[0.8,\"#7fbc41\"],[0.9,\"#4d9221\"],[1,\"#276419\"]],\"sequential\":[[0.0,\"#0d0887\"],[0.1111111111111111,\"#46039f\"],[0.2222222222222222,\"#7201a8\"],[0.3333333333333333,\"#9c179e\"],[0.4444444444444444,\"#bd3786\"],[0.5555555555555556,\"#d8576b\"],[0.6666666666666666,\"#ed7953\"],[0.7777777777777778,\"#fb9f3a\"],[0.8888888888888888,\"#fdca26\"],[1.0,\"#f0f921\"]],\"sequentialminus\":[[0.0,\"#0d0887\"],[0.1111111111111111,\"#46039f\"],[0.2222222222222222,\"#7201a8\"],[0.3333333333333333,\"#9c179e\"],[0.4444444444444444,\"#bd3786\"],[0.5555555555555556,\"#d8576b\"],[0.6666666666666666,\"#ed7953\"],[0.7777777777777778,\"#fb9f3a\"],[0.8888888888888888,\"#fdca26\"],[1.0,\"#f0f921\"]]},\"colorway\":[\"#636efa\",\"#EF553B\",\"#00cc96\",\"#ab63fa\",\"#FFA15A\",\"#19d3f3\",\"#FF6692\",\"#B6E880\",\"#FF97FF\",\"#FECB52\"],\"font\":{\"color\":\"#2a3f5f\"},\"geo\":{\"bgcolor\":\"white\",\"lakecolor\":\"white\",\"landcolor\":\"#E5ECF6\",\"showlakes\":true,\"showland\":true,\"subunitcolor\":\"white\"},\"hoverlabel\":{\"align\":\"left\"},\"hovermode\":\"closest\",\"mapbox\":{\"style\":\"light\"},\"paper_bgcolor\":\"white\",\"plot_bgcolor\":\"#E5ECF6\",\"polar\":{\"angularaxis\":{\"gridcolor\":\"white\",\"linecolor\":\"white\",\"ticks\":\"\"},\"bgcolor\":\"#E5ECF6\",\"radialaxis\":{\"gridcolor\":\"white\",\"linecolor\":\"white\",\"ticks\":\"\"}},\"scene\":{\"xaxis\":{\"backgroundcolor\":\"#E5ECF6\",\"gridcolor\":\"white\",\"gridwidth\":2,\"linecolor\":\"white\",\"showbackground\":true,\"ticks\":\"\",\"zerolinecolor\":\"white\"},\"yaxis\":{\"backgroundcolor\":\"#E5ECF6\",\"gridcolor\":\"white\",\"gridwidth\":2,\"linecolor\":\"white\",\"showbackground\":true,\"ticks\":\"\",\"zerolinecolor\":\"white\"},\"zaxis\":{\"backgroundcolor\":\"#E5ECF6\",\"gridcolor\":\"white\",\"gridwidth\":2,\"linecolor\":\"white\",\"showbackground\":true,\"ticks\":\"\",\"zerolinecolor\":\"white\"}},\"shapedefaults\":{\"line\":{\"color\":\"#2a3f5f\"}},\"ternary\":{\"aaxis\":{\"gridcolor\":\"white\",\"linecolor\":\"white\",\"ticks\":\"\"},\"baxis\":{\"gridcolor\":\"white\",\"linecolor\":\"white\",\"ticks\":\"\"},\"bgcolor\":\"#E5ECF6\",\"caxis\":{\"gridcolor\":\"white\",\"linecolor\":\"white\",\"ticks\":\"\"}},\"title\":{\"x\":0.05},\"xaxis\":{\"automargin\":true,\"gridcolor\":\"white\",\"linecolor\":\"white\",\"ticks\":\"\",\"title\":{\"standoff\":15},\"zerolinecolor\":\"white\",\"zerolinewidth\":2},\"yaxis\":{\"automargin\":true,\"gridcolor\":\"white\",\"linecolor\":\"white\",\"ticks\":\"\",\"title\":{\"standoff\":15},\"zerolinecolor\":\"white\",\"zerolinewidth\":2}}},\"title\":{\"text\":\"Bubble Chart\"}},                        {\"responsive\": true}                    ).then(function(){\n",
              "                            \n",
              "var gd = document.getElementById('918cb110-bcdb-4172-b8f3-44ea8af18762');\n",
              "var x = new MutationObserver(function (mutations, observer) {{\n",
              "        var display = window.getComputedStyle(gd).display;\n",
              "        if (!display || display === 'none') {{\n",
              "            console.log([gd, 'removed!']);\n",
              "            Plotly.purge(gd);\n",
              "            observer.disconnect();\n",
              "        }}\n",
              "}});\n",
              "\n",
              "// Listen for the removal of the full notebook cells\n",
              "var notebookContainer = gd.closest('#notebook-container');\n",
              "if (notebookContainer) {{\n",
              "    x.observe(notebookContainer, {childList: true});\n",
              "}}\n",
              "\n",
              "// Listen for the clearing of the current output cell\n",
              "var outputEl = gd.closest('.output');\n",
              "if (outputEl) {{\n",
              "    x.observe(outputEl, {childList: true});\n",
              "}}\n",
              "\n",
              "                        })                };                            </script>        </div>\n",
              "</body>\n",
              "</html>"
            ]
          },
          "metadata": {}
        }
      ]
    },
    {
      "cell_type": "markdown",
      "source": [
        "### Box Plots\n",
        "\n",
        "A box plot (aka box and whisker plot) uses boxes and lines to depict the distributions of one or more groups of numeric data. Box limits indicate the range of the central 50% of the data, with a central line marking the median value. Lines extend from each box to capture the range of the remaining data, with dots placed past the line edges to indicate outliers.\n",
        "\n",
        "https://chartio.com\n"
      ],
      "metadata": {
        "id": "k-dcmTAV_HVF"
      }
    },
    {
      "cell_type": "code",
      "source": [
        "a = [1, 1, 2, 3, 4, 5, 6, 7, 8, 9, 4, 3, 2, 6, 8, 9, 7]\n",
        "b = [11, 15, 16, 17, 16, 14, 13, 19, 10, 19, 14, 13, 15, 16, 17, 38, 1]\n",
        "\n",
        "data = [\n",
        "    go.Box(y=a, boxpoints=\"all\", jitter=0.5, name=\"series A\"),\n",
        "    go.Box(y=b, boxpoints=\"outliers\", name=\"series B\"),\n",
        "]\n",
        "\n",
        "pyo.iplot(data)\n"
      ],
      "metadata": {
        "colab": {
          "base_uri": "https://localhost:8080/",
          "height": 542
        },
        "id": "51SmIgZRu7Wx",
        "outputId": "6ecdb5d3-fb59-4434-fe93-02d778bc5e6d"
      },
      "execution_count": null,
      "outputs": [
        {
          "output_type": "display_data",
          "data": {
            "text/html": [
              "<html>\n",
              "<head><meta charset=\"utf-8\" /></head>\n",
              "<body>\n",
              "    <div>            <script src=\"https://cdnjs.cloudflare.com/ajax/libs/mathjax/2.7.5/MathJax.js?config=TeX-AMS-MML_SVG\"></script><script type=\"text/javascript\">if (window.MathJax) {MathJax.Hub.Config({SVG: {font: \"STIX-Web\"}});}</script>                <script type=\"text/javascript\">window.PlotlyConfig = {MathJaxConfig: 'local'};</script>\n",
              "        <script src=\"https://cdn.plot.ly/plotly-2.8.3.min.js\"></script>                <div id=\"2fcc6533-e719-4679-b7b3-8c942f96b3c4\" class=\"plotly-graph-div\" style=\"height:525px; width:100%;\"></div>            <script type=\"text/javascript\">                                    window.PLOTLYENV=window.PLOTLYENV || {};                                    if (document.getElementById(\"2fcc6533-e719-4679-b7b3-8c942f96b3c4\")) {                    Plotly.newPlot(                        \"2fcc6533-e719-4679-b7b3-8c942f96b3c4\",                        [{\"boxpoints\":\"all\",\"jitter\":0.5,\"name\":\"series A\",\"y\":[1,1,2,3,4,5,6,7,8,9,4,3,2,6,8,9,7],\"type\":\"box\"},{\"boxpoints\":\"outliers\",\"name\":\"series B\",\"y\":[11,15,16,17,16,14,13,19,10,19,14,13,15,16,17,38,1],\"type\":\"box\"}],                        {\"template\":{\"data\":{\"barpolar\":[{\"marker\":{\"line\":{\"color\":\"#E5ECF6\",\"width\":0.5},\"pattern\":{\"fillmode\":\"overlay\",\"size\":10,\"solidity\":0.2}},\"type\":\"barpolar\"}],\"bar\":[{\"error_x\":{\"color\":\"#2a3f5f\"},\"error_y\":{\"color\":\"#2a3f5f\"},\"marker\":{\"line\":{\"color\":\"#E5ECF6\",\"width\":0.5},\"pattern\":{\"fillmode\":\"overlay\",\"size\":10,\"solidity\":0.2}},\"type\":\"bar\"}],\"carpet\":[{\"aaxis\":{\"endlinecolor\":\"#2a3f5f\",\"gridcolor\":\"white\",\"linecolor\":\"white\",\"minorgridcolor\":\"white\",\"startlinecolor\":\"#2a3f5f\"},\"baxis\":{\"endlinecolor\":\"#2a3f5f\",\"gridcolor\":\"white\",\"linecolor\":\"white\",\"minorgridcolor\":\"white\",\"startlinecolor\":\"#2a3f5f\"},\"type\":\"carpet\"}],\"choropleth\":[{\"colorbar\":{\"outlinewidth\":0,\"ticks\":\"\"},\"type\":\"choropleth\"}],\"contourcarpet\":[{\"colorbar\":{\"outlinewidth\":0,\"ticks\":\"\"},\"type\":\"contourcarpet\"}],\"contour\":[{\"colorbar\":{\"outlinewidth\":0,\"ticks\":\"\"},\"colorscale\":[[0.0,\"#0d0887\"],[0.1111111111111111,\"#46039f\"],[0.2222222222222222,\"#7201a8\"],[0.3333333333333333,\"#9c179e\"],[0.4444444444444444,\"#bd3786\"],[0.5555555555555556,\"#d8576b\"],[0.6666666666666666,\"#ed7953\"],[0.7777777777777778,\"#fb9f3a\"],[0.8888888888888888,\"#fdca26\"],[1.0,\"#f0f921\"]],\"type\":\"contour\"}],\"heatmapgl\":[{\"colorbar\":{\"outlinewidth\":0,\"ticks\":\"\"},\"colorscale\":[[0.0,\"#0d0887\"],[0.1111111111111111,\"#46039f\"],[0.2222222222222222,\"#7201a8\"],[0.3333333333333333,\"#9c179e\"],[0.4444444444444444,\"#bd3786\"],[0.5555555555555556,\"#d8576b\"],[0.6666666666666666,\"#ed7953\"],[0.7777777777777778,\"#fb9f3a\"],[0.8888888888888888,\"#fdca26\"],[1.0,\"#f0f921\"]],\"type\":\"heatmapgl\"}],\"heatmap\":[{\"colorbar\":{\"outlinewidth\":0,\"ticks\":\"\"},\"colorscale\":[[0.0,\"#0d0887\"],[0.1111111111111111,\"#46039f\"],[0.2222222222222222,\"#7201a8\"],[0.3333333333333333,\"#9c179e\"],[0.4444444444444444,\"#bd3786\"],[0.5555555555555556,\"#d8576b\"],[0.6666666666666666,\"#ed7953\"],[0.7777777777777778,\"#fb9f3a\"],[0.8888888888888888,\"#fdca26\"],[1.0,\"#f0f921\"]],\"type\":\"heatmap\"}],\"histogram2dcontour\":[{\"colorbar\":{\"outlinewidth\":0,\"ticks\":\"\"},\"colorscale\":[[0.0,\"#0d0887\"],[0.1111111111111111,\"#46039f\"],[0.2222222222222222,\"#7201a8\"],[0.3333333333333333,\"#9c179e\"],[0.4444444444444444,\"#bd3786\"],[0.5555555555555556,\"#d8576b\"],[0.6666666666666666,\"#ed7953\"],[0.7777777777777778,\"#fb9f3a\"],[0.8888888888888888,\"#fdca26\"],[1.0,\"#f0f921\"]],\"type\":\"histogram2dcontour\"}],\"histogram2d\":[{\"colorbar\":{\"outlinewidth\":0,\"ticks\":\"\"},\"colorscale\":[[0.0,\"#0d0887\"],[0.1111111111111111,\"#46039f\"],[0.2222222222222222,\"#7201a8\"],[0.3333333333333333,\"#9c179e\"],[0.4444444444444444,\"#bd3786\"],[0.5555555555555556,\"#d8576b\"],[0.6666666666666666,\"#ed7953\"],[0.7777777777777778,\"#fb9f3a\"],[0.8888888888888888,\"#fdca26\"],[1.0,\"#f0f921\"]],\"type\":\"histogram2d\"}],\"histogram\":[{\"marker\":{\"pattern\":{\"fillmode\":\"overlay\",\"size\":10,\"solidity\":0.2}},\"type\":\"histogram\"}],\"mesh3d\":[{\"colorbar\":{\"outlinewidth\":0,\"ticks\":\"\"},\"type\":\"mesh3d\"}],\"parcoords\":[{\"line\":{\"colorbar\":{\"outlinewidth\":0,\"ticks\":\"\"}},\"type\":\"parcoords\"}],\"pie\":[{\"automargin\":true,\"type\":\"pie\"}],\"scatter3d\":[{\"line\":{\"colorbar\":{\"outlinewidth\":0,\"ticks\":\"\"}},\"marker\":{\"colorbar\":{\"outlinewidth\":0,\"ticks\":\"\"}},\"type\":\"scatter3d\"}],\"scattercarpet\":[{\"marker\":{\"colorbar\":{\"outlinewidth\":0,\"ticks\":\"\"}},\"type\":\"scattercarpet\"}],\"scattergeo\":[{\"marker\":{\"colorbar\":{\"outlinewidth\":0,\"ticks\":\"\"}},\"type\":\"scattergeo\"}],\"scattergl\":[{\"marker\":{\"colorbar\":{\"outlinewidth\":0,\"ticks\":\"\"}},\"type\":\"scattergl\"}],\"scattermapbox\":[{\"marker\":{\"colorbar\":{\"outlinewidth\":0,\"ticks\":\"\"}},\"type\":\"scattermapbox\"}],\"scatterpolargl\":[{\"marker\":{\"colorbar\":{\"outlinewidth\":0,\"ticks\":\"\"}},\"type\":\"scatterpolargl\"}],\"scatterpolar\":[{\"marker\":{\"colorbar\":{\"outlinewidth\":0,\"ticks\":\"\"}},\"type\":\"scatterpolar\"}],\"scatter\":[{\"marker\":{\"colorbar\":{\"outlinewidth\":0,\"ticks\":\"\"}},\"type\":\"scatter\"}],\"scatterternary\":[{\"marker\":{\"colorbar\":{\"outlinewidth\":0,\"ticks\":\"\"}},\"type\":\"scatterternary\"}],\"surface\":[{\"colorbar\":{\"outlinewidth\":0,\"ticks\":\"\"},\"colorscale\":[[0.0,\"#0d0887\"],[0.1111111111111111,\"#46039f\"],[0.2222222222222222,\"#7201a8\"],[0.3333333333333333,\"#9c179e\"],[0.4444444444444444,\"#bd3786\"],[0.5555555555555556,\"#d8576b\"],[0.6666666666666666,\"#ed7953\"],[0.7777777777777778,\"#fb9f3a\"],[0.8888888888888888,\"#fdca26\"],[1.0,\"#f0f921\"]],\"type\":\"surface\"}],\"table\":[{\"cells\":{\"fill\":{\"color\":\"#EBF0F8\"},\"line\":{\"color\":\"white\"}},\"header\":{\"fill\":{\"color\":\"#C8D4E3\"},\"line\":{\"color\":\"white\"}},\"type\":\"table\"}]},\"layout\":{\"annotationdefaults\":{\"arrowcolor\":\"#2a3f5f\",\"arrowhead\":0,\"arrowwidth\":1},\"autotypenumbers\":\"strict\",\"coloraxis\":{\"colorbar\":{\"outlinewidth\":0,\"ticks\":\"\"}},\"colorscale\":{\"diverging\":[[0,\"#8e0152\"],[0.1,\"#c51b7d\"],[0.2,\"#de77ae\"],[0.3,\"#f1b6da\"],[0.4,\"#fde0ef\"],[0.5,\"#f7f7f7\"],[0.6,\"#e6f5d0\"],[0.7,\"#b8e186\"],[0.8,\"#7fbc41\"],[0.9,\"#4d9221\"],[1,\"#276419\"]],\"sequential\":[[0.0,\"#0d0887\"],[0.1111111111111111,\"#46039f\"],[0.2222222222222222,\"#7201a8\"],[0.3333333333333333,\"#9c179e\"],[0.4444444444444444,\"#bd3786\"],[0.5555555555555556,\"#d8576b\"],[0.6666666666666666,\"#ed7953\"],[0.7777777777777778,\"#fb9f3a\"],[0.8888888888888888,\"#fdca26\"],[1.0,\"#f0f921\"]],\"sequentialminus\":[[0.0,\"#0d0887\"],[0.1111111111111111,\"#46039f\"],[0.2222222222222222,\"#7201a8\"],[0.3333333333333333,\"#9c179e\"],[0.4444444444444444,\"#bd3786\"],[0.5555555555555556,\"#d8576b\"],[0.6666666666666666,\"#ed7953\"],[0.7777777777777778,\"#fb9f3a\"],[0.8888888888888888,\"#fdca26\"],[1.0,\"#f0f921\"]]},\"colorway\":[\"#636efa\",\"#EF553B\",\"#00cc96\",\"#ab63fa\",\"#FFA15A\",\"#19d3f3\",\"#FF6692\",\"#B6E880\",\"#FF97FF\",\"#FECB52\"],\"font\":{\"color\":\"#2a3f5f\"},\"geo\":{\"bgcolor\":\"white\",\"lakecolor\":\"white\",\"landcolor\":\"#E5ECF6\",\"showlakes\":true,\"showland\":true,\"subunitcolor\":\"white\"},\"hoverlabel\":{\"align\":\"left\"},\"hovermode\":\"closest\",\"mapbox\":{\"style\":\"light\"},\"paper_bgcolor\":\"white\",\"plot_bgcolor\":\"#E5ECF6\",\"polar\":{\"angularaxis\":{\"gridcolor\":\"white\",\"linecolor\":\"white\",\"ticks\":\"\"},\"bgcolor\":\"#E5ECF6\",\"radialaxis\":{\"gridcolor\":\"white\",\"linecolor\":\"white\",\"ticks\":\"\"}},\"scene\":{\"xaxis\":{\"backgroundcolor\":\"#E5ECF6\",\"gridcolor\":\"white\",\"gridwidth\":2,\"linecolor\":\"white\",\"showbackground\":true,\"ticks\":\"\",\"zerolinecolor\":\"white\"},\"yaxis\":{\"backgroundcolor\":\"#E5ECF6\",\"gridcolor\":\"white\",\"gridwidth\":2,\"linecolor\":\"white\",\"showbackground\":true,\"ticks\":\"\",\"zerolinecolor\":\"white\"},\"zaxis\":{\"backgroundcolor\":\"#E5ECF6\",\"gridcolor\":\"white\",\"gridwidth\":2,\"linecolor\":\"white\",\"showbackground\":true,\"ticks\":\"\",\"zerolinecolor\":\"white\"}},\"shapedefaults\":{\"line\":{\"color\":\"#2a3f5f\"}},\"ternary\":{\"aaxis\":{\"gridcolor\":\"white\",\"linecolor\":\"white\",\"ticks\":\"\"},\"baxis\":{\"gridcolor\":\"white\",\"linecolor\":\"white\",\"ticks\":\"\"},\"bgcolor\":\"#E5ECF6\",\"caxis\":{\"gridcolor\":\"white\",\"linecolor\":\"white\",\"ticks\":\"\"}},\"title\":{\"x\":0.05},\"xaxis\":{\"automargin\":true,\"gridcolor\":\"white\",\"linecolor\":\"white\",\"ticks\":\"\",\"title\":{\"standoff\":15},\"zerolinecolor\":\"white\",\"zerolinewidth\":2},\"yaxis\":{\"automargin\":true,\"gridcolor\":\"white\",\"linecolor\":\"white\",\"ticks\":\"\",\"title\":{\"standoff\":15},\"zerolinecolor\":\"white\",\"zerolinewidth\":2}}}},                        {\"responsive\": true}                    ).then(function(){\n",
              "                            \n",
              "var gd = document.getElementById('2fcc6533-e719-4679-b7b3-8c942f96b3c4');\n",
              "var x = new MutationObserver(function (mutations, observer) {{\n",
              "        var display = window.getComputedStyle(gd).display;\n",
              "        if (!display || display === 'none') {{\n",
              "            console.log([gd, 'removed!']);\n",
              "            Plotly.purge(gd);\n",
              "            observer.disconnect();\n",
              "        }}\n",
              "}});\n",
              "\n",
              "// Listen for the removal of the full notebook cells\n",
              "var notebookContainer = gd.closest('#notebook-container');\n",
              "if (notebookContainer) {{\n",
              "    x.observe(notebookContainer, {childList: true});\n",
              "}}\n",
              "\n",
              "// Listen for the clearing of the current output cell\n",
              "var outputEl = gd.closest('.output');\n",
              "if (outputEl) {{\n",
              "    x.observe(outputEl, {childList: true});\n",
              "}}\n",
              "\n",
              "                        })                };                            </script>        </div>\n",
              "</body>\n",
              "</html>"
            ]
          },
          "metadata": {}
        }
      ]
    },
    {
      "cell_type": "markdown",
      "source": [
        "### Histograms\n",
        "\n",
        "A histogram is a chart that plots the distribution of a numeric variable’s values as a series of bars. Each bar typically covers a range of numeric values called a bin or class; a bar’s height indicates the frequency of data points with a value within the corresponding bin.\n",
        "\n",
        "https://chartio.com"
      ],
      "metadata": {
        "id": "PvlHww3tBZfF"
      }
    },
    {
      "cell_type": "code",
      "source": [
        "df = pd.read_csv('https://raw.githubusercontent.com/Pierian-Data/Plotly-Dashboards-with-Dash/master/Data/mpg.csv')\n",
        "data = [go.Histogram(x=df['mpg'], xbins=dict(start=0, end=50, size=2))]\n",
        "layout = go.Layout(title='Histogram')\n",
        "fig = go.Figure(data=data, layout=layout)\n",
        "pyo.iplot(fig)"
      ],
      "metadata": {
        "colab": {
          "base_uri": "https://localhost:8080/",
          "height": 542
        },
        "id": "FGH1BzPRA0X6",
        "outputId": "6bc1a63a-d1a0-42a7-f24e-fef0d5c5d3a6"
      },
      "execution_count": null,
      "outputs": [
        {
          "output_type": "display_data",
          "data": {
            "text/html": [
              "<html>\n",
              "<head><meta charset=\"utf-8\" /></head>\n",
              "<body>\n",
              "    <div>            <script src=\"https://cdnjs.cloudflare.com/ajax/libs/mathjax/2.7.5/MathJax.js?config=TeX-AMS-MML_SVG\"></script><script type=\"text/javascript\">if (window.MathJax) {MathJax.Hub.Config({SVG: {font: \"STIX-Web\"}});}</script>                <script type=\"text/javascript\">window.PlotlyConfig = {MathJaxConfig: 'local'};</script>\n",
              "        <script src=\"https://cdn.plot.ly/plotly-2.8.3.min.js\"></script>                <div id=\"6de72048-a79d-4eca-9466-402448085c65\" class=\"plotly-graph-div\" style=\"height:525px; width:100%;\"></div>            <script type=\"text/javascript\">                                    window.PLOTLYENV=window.PLOTLYENV || {};                                    if (document.getElementById(\"6de72048-a79d-4eca-9466-402448085c65\")) {                    Plotly.newPlot(                        \"6de72048-a79d-4eca-9466-402448085c65\",                        [{\"x\":[18.0,15.0,18.0,16.0,17.0,15.0,14.0,14.0,14.0,15.0,15.0,14.0,15.0,14.0,24.0,22.0,18.0,21.0,27.0,26.0,25.0,24.0,25.0,26.0,21.0,10.0,10.0,11.0,9.0,27.0,28.0,25.0,25.0,19.0,16.0,17.0,19.0,18.0,14.0,14.0,14.0,14.0,12.0,13.0,13.0,18.0,22.0,19.0,18.0,23.0,28.0,30.0,30.0,31.0,35.0,27.0,26.0,24.0,25.0,23.0,20.0,21.0,13.0,14.0,15.0,14.0,17.0,11.0,13.0,12.0,13.0,19.0,15.0,13.0,13.0,14.0,18.0,22.0,21.0,26.0,22.0,28.0,23.0,28.0,27.0,13.0,14.0,13.0,14.0,15.0,12.0,13.0,13.0,14.0,13.0,12.0,13.0,18.0,16.0,18.0,18.0,23.0,26.0,11.0,12.0,13.0,12.0,18.0,20.0,21.0,22.0,18.0,19.0,21.0,26.0,15.0,16.0,29.0,24.0,20.0,19.0,15.0,24.0,20.0,11.0,20.0,21.0,19.0,15.0,31.0,26.0,32.0,25.0,16.0,16.0,18.0,16.0,13.0,14.0,14.0,14.0,29.0,26.0,26.0,31.0,32.0,28.0,24.0,26.0,24.0,26.0,31.0,19.0,18.0,15.0,15.0,16.0,15.0,16.0,14.0,17.0,16.0,15.0,18.0,21.0,20.0,13.0,29.0,23.0,20.0,23.0,24.0,25.0,24.0,18.0,29.0,19.0,23.0,23.0,22.0,25.0,33.0,28.0,25.0,25.0,26.0,27.0,17.5,16.0,15.5,14.5,22.0,22.0,24.0,22.5,29.0,24.5,29.0,33.0,20.0,18.0,18.5,17.5,29.5,32.0,28.0,26.5,20.0,13.0,19.0,19.0,16.5,16.5,13.0,13.0,13.0,31.5,30.0,36.0,25.5,33.5,17.5,17.0,15.5,15.0,17.5,20.5,19.0,18.5,16.0,15.5,15.5,16.0,29.0,24.5,26.0,25.5,30.5,33.5,30.0,30.5,22.0,21.5,21.5,43.1,36.1,32.8,39.4,36.1,19.9,19.4,20.2,19.2,20.5,20.2,25.1,20.5,19.4,20.6,20.8,18.6,18.1,19.2,17.7,18.1,17.5,30.0,27.5,27.2,30.9,21.1,23.2,23.8,23.9,20.3,17.0,21.6,16.2,31.5,29.5,21.5,19.8,22.3,20.2,20.6,17.0,17.6,16.5,18.2,16.9,15.5,19.2,18.5,31.9,34.1,35.7,27.4,25.4,23.0,27.2,23.9,34.2,34.5,31.8,37.3,28.4,28.8,26.8,33.5,41.5,38.1,32.1,37.2,28.0,26.4,24.3,19.1,34.3,29.8,31.3,37.0,32.2,46.6,27.9,40.8,44.3,43.4,36.4,30.0,44.6,40.9,33.8,29.8,32.7,23.7,35.0,23.6,32.4,27.2,26.6,25.8,23.5,30.0,39.1,39.0,35.1,32.3,37.0,37.7,34.1,34.7,34.4,29.9,33.0,34.5,33.7,32.4,32.9,31.6,28.1,30.7,25.4,24.2,22.4,26.6,20.2,17.6,28.0,27.0,34.0,31.0,29.0,27.0,24.0,23.0,36.0,37.0,31.0,38.0,36.0,36.0,36.0,34.0,38.0,32.0,38.0,25.0,38.0,26.0,22.0,32.0,36.0,27.0,27.0,44.0,32.0,28.0,31.0],\"xbins\":{\"end\":50,\"size\":2,\"start\":0},\"type\":\"histogram\"}],                        {\"template\":{\"data\":{\"barpolar\":[{\"marker\":{\"line\":{\"color\":\"#E5ECF6\",\"width\":0.5},\"pattern\":{\"fillmode\":\"overlay\",\"size\":10,\"solidity\":0.2}},\"type\":\"barpolar\"}],\"bar\":[{\"error_x\":{\"color\":\"#2a3f5f\"},\"error_y\":{\"color\":\"#2a3f5f\"},\"marker\":{\"line\":{\"color\":\"#E5ECF6\",\"width\":0.5},\"pattern\":{\"fillmode\":\"overlay\",\"size\":10,\"solidity\":0.2}},\"type\":\"bar\"}],\"carpet\":[{\"aaxis\":{\"endlinecolor\":\"#2a3f5f\",\"gridcolor\":\"white\",\"linecolor\":\"white\",\"minorgridcolor\":\"white\",\"startlinecolor\":\"#2a3f5f\"},\"baxis\":{\"endlinecolor\":\"#2a3f5f\",\"gridcolor\":\"white\",\"linecolor\":\"white\",\"minorgridcolor\":\"white\",\"startlinecolor\":\"#2a3f5f\"},\"type\":\"carpet\"}],\"choropleth\":[{\"colorbar\":{\"outlinewidth\":0,\"ticks\":\"\"},\"type\":\"choropleth\"}],\"contourcarpet\":[{\"colorbar\":{\"outlinewidth\":0,\"ticks\":\"\"},\"type\":\"contourcarpet\"}],\"contour\":[{\"colorbar\":{\"outlinewidth\":0,\"ticks\":\"\"},\"colorscale\":[[0.0,\"#0d0887\"],[0.1111111111111111,\"#46039f\"],[0.2222222222222222,\"#7201a8\"],[0.3333333333333333,\"#9c179e\"],[0.4444444444444444,\"#bd3786\"],[0.5555555555555556,\"#d8576b\"],[0.6666666666666666,\"#ed7953\"],[0.7777777777777778,\"#fb9f3a\"],[0.8888888888888888,\"#fdca26\"],[1.0,\"#f0f921\"]],\"type\":\"contour\"}],\"heatmapgl\":[{\"colorbar\":{\"outlinewidth\":0,\"ticks\":\"\"},\"colorscale\":[[0.0,\"#0d0887\"],[0.1111111111111111,\"#46039f\"],[0.2222222222222222,\"#7201a8\"],[0.3333333333333333,\"#9c179e\"],[0.4444444444444444,\"#bd3786\"],[0.5555555555555556,\"#d8576b\"],[0.6666666666666666,\"#ed7953\"],[0.7777777777777778,\"#fb9f3a\"],[0.8888888888888888,\"#fdca26\"],[1.0,\"#f0f921\"]],\"type\":\"heatmapgl\"}],\"heatmap\":[{\"colorbar\":{\"outlinewidth\":0,\"ticks\":\"\"},\"colorscale\":[[0.0,\"#0d0887\"],[0.1111111111111111,\"#46039f\"],[0.2222222222222222,\"#7201a8\"],[0.3333333333333333,\"#9c179e\"],[0.4444444444444444,\"#bd3786\"],[0.5555555555555556,\"#d8576b\"],[0.6666666666666666,\"#ed7953\"],[0.7777777777777778,\"#fb9f3a\"],[0.8888888888888888,\"#fdca26\"],[1.0,\"#f0f921\"]],\"type\":\"heatmap\"}],\"histogram2dcontour\":[{\"colorbar\":{\"outlinewidth\":0,\"ticks\":\"\"},\"colorscale\":[[0.0,\"#0d0887\"],[0.1111111111111111,\"#46039f\"],[0.2222222222222222,\"#7201a8\"],[0.3333333333333333,\"#9c179e\"],[0.4444444444444444,\"#bd3786\"],[0.5555555555555556,\"#d8576b\"],[0.6666666666666666,\"#ed7953\"],[0.7777777777777778,\"#fb9f3a\"],[0.8888888888888888,\"#fdca26\"],[1.0,\"#f0f921\"]],\"type\":\"histogram2dcontour\"}],\"histogram2d\":[{\"colorbar\":{\"outlinewidth\":0,\"ticks\":\"\"},\"colorscale\":[[0.0,\"#0d0887\"],[0.1111111111111111,\"#46039f\"],[0.2222222222222222,\"#7201a8\"],[0.3333333333333333,\"#9c179e\"],[0.4444444444444444,\"#bd3786\"],[0.5555555555555556,\"#d8576b\"],[0.6666666666666666,\"#ed7953\"],[0.7777777777777778,\"#fb9f3a\"],[0.8888888888888888,\"#fdca26\"],[1.0,\"#f0f921\"]],\"type\":\"histogram2d\"}],\"histogram\":[{\"marker\":{\"pattern\":{\"fillmode\":\"overlay\",\"size\":10,\"solidity\":0.2}},\"type\":\"histogram\"}],\"mesh3d\":[{\"colorbar\":{\"outlinewidth\":0,\"ticks\":\"\"},\"type\":\"mesh3d\"}],\"parcoords\":[{\"line\":{\"colorbar\":{\"outlinewidth\":0,\"ticks\":\"\"}},\"type\":\"parcoords\"}],\"pie\":[{\"automargin\":true,\"type\":\"pie\"}],\"scatter3d\":[{\"line\":{\"colorbar\":{\"outlinewidth\":0,\"ticks\":\"\"}},\"marker\":{\"colorbar\":{\"outlinewidth\":0,\"ticks\":\"\"}},\"type\":\"scatter3d\"}],\"scattercarpet\":[{\"marker\":{\"colorbar\":{\"outlinewidth\":0,\"ticks\":\"\"}},\"type\":\"scattercarpet\"}],\"scattergeo\":[{\"marker\":{\"colorbar\":{\"outlinewidth\":0,\"ticks\":\"\"}},\"type\":\"scattergeo\"}],\"scattergl\":[{\"marker\":{\"colorbar\":{\"outlinewidth\":0,\"ticks\":\"\"}},\"type\":\"scattergl\"}],\"scattermapbox\":[{\"marker\":{\"colorbar\":{\"outlinewidth\":0,\"ticks\":\"\"}},\"type\":\"scattermapbox\"}],\"scatterpolargl\":[{\"marker\":{\"colorbar\":{\"outlinewidth\":0,\"ticks\":\"\"}},\"type\":\"scatterpolargl\"}],\"scatterpolar\":[{\"marker\":{\"colorbar\":{\"outlinewidth\":0,\"ticks\":\"\"}},\"type\":\"scatterpolar\"}],\"scatter\":[{\"marker\":{\"colorbar\":{\"outlinewidth\":0,\"ticks\":\"\"}},\"type\":\"scatter\"}],\"scatterternary\":[{\"marker\":{\"colorbar\":{\"outlinewidth\":0,\"ticks\":\"\"}},\"type\":\"scatterternary\"}],\"surface\":[{\"colorbar\":{\"outlinewidth\":0,\"ticks\":\"\"},\"colorscale\":[[0.0,\"#0d0887\"],[0.1111111111111111,\"#46039f\"],[0.2222222222222222,\"#7201a8\"],[0.3333333333333333,\"#9c179e\"],[0.4444444444444444,\"#bd3786\"],[0.5555555555555556,\"#d8576b\"],[0.6666666666666666,\"#ed7953\"],[0.7777777777777778,\"#fb9f3a\"],[0.8888888888888888,\"#fdca26\"],[1.0,\"#f0f921\"]],\"type\":\"surface\"}],\"table\":[{\"cells\":{\"fill\":{\"color\":\"#EBF0F8\"},\"line\":{\"color\":\"white\"}},\"header\":{\"fill\":{\"color\":\"#C8D4E3\"},\"line\":{\"color\":\"white\"}},\"type\":\"table\"}]},\"layout\":{\"annotationdefaults\":{\"arrowcolor\":\"#2a3f5f\",\"arrowhead\":0,\"arrowwidth\":1},\"autotypenumbers\":\"strict\",\"coloraxis\":{\"colorbar\":{\"outlinewidth\":0,\"ticks\":\"\"}},\"colorscale\":{\"diverging\":[[0,\"#8e0152\"],[0.1,\"#c51b7d\"],[0.2,\"#de77ae\"],[0.3,\"#f1b6da\"],[0.4,\"#fde0ef\"],[0.5,\"#f7f7f7\"],[0.6,\"#e6f5d0\"],[0.7,\"#b8e186\"],[0.8,\"#7fbc41\"],[0.9,\"#4d9221\"],[1,\"#276419\"]],\"sequential\":[[0.0,\"#0d0887\"],[0.1111111111111111,\"#46039f\"],[0.2222222222222222,\"#7201a8\"],[0.3333333333333333,\"#9c179e\"],[0.4444444444444444,\"#bd3786\"],[0.5555555555555556,\"#d8576b\"],[0.6666666666666666,\"#ed7953\"],[0.7777777777777778,\"#fb9f3a\"],[0.8888888888888888,\"#fdca26\"],[1.0,\"#f0f921\"]],\"sequentialminus\":[[0.0,\"#0d0887\"],[0.1111111111111111,\"#46039f\"],[0.2222222222222222,\"#7201a8\"],[0.3333333333333333,\"#9c179e\"],[0.4444444444444444,\"#bd3786\"],[0.5555555555555556,\"#d8576b\"],[0.6666666666666666,\"#ed7953\"],[0.7777777777777778,\"#fb9f3a\"],[0.8888888888888888,\"#fdca26\"],[1.0,\"#f0f921\"]]},\"colorway\":[\"#636efa\",\"#EF553B\",\"#00cc96\",\"#ab63fa\",\"#FFA15A\",\"#19d3f3\",\"#FF6692\",\"#B6E880\",\"#FF97FF\",\"#FECB52\"],\"font\":{\"color\":\"#2a3f5f\"},\"geo\":{\"bgcolor\":\"white\",\"lakecolor\":\"white\",\"landcolor\":\"#E5ECF6\",\"showlakes\":true,\"showland\":true,\"subunitcolor\":\"white\"},\"hoverlabel\":{\"align\":\"left\"},\"hovermode\":\"closest\",\"mapbox\":{\"style\":\"light\"},\"paper_bgcolor\":\"white\",\"plot_bgcolor\":\"#E5ECF6\",\"polar\":{\"angularaxis\":{\"gridcolor\":\"white\",\"linecolor\":\"white\",\"ticks\":\"\"},\"bgcolor\":\"#E5ECF6\",\"radialaxis\":{\"gridcolor\":\"white\",\"linecolor\":\"white\",\"ticks\":\"\"}},\"scene\":{\"xaxis\":{\"backgroundcolor\":\"#E5ECF6\",\"gridcolor\":\"white\",\"gridwidth\":2,\"linecolor\":\"white\",\"showbackground\":true,\"ticks\":\"\",\"zerolinecolor\":\"white\"},\"yaxis\":{\"backgroundcolor\":\"#E5ECF6\",\"gridcolor\":\"white\",\"gridwidth\":2,\"linecolor\":\"white\",\"showbackground\":true,\"ticks\":\"\",\"zerolinecolor\":\"white\"},\"zaxis\":{\"backgroundcolor\":\"#E5ECF6\",\"gridcolor\":\"white\",\"gridwidth\":2,\"linecolor\":\"white\",\"showbackground\":true,\"ticks\":\"\",\"zerolinecolor\":\"white\"}},\"shapedefaults\":{\"line\":{\"color\":\"#2a3f5f\"}},\"ternary\":{\"aaxis\":{\"gridcolor\":\"white\",\"linecolor\":\"white\",\"ticks\":\"\"},\"baxis\":{\"gridcolor\":\"white\",\"linecolor\":\"white\",\"ticks\":\"\"},\"bgcolor\":\"#E5ECF6\",\"caxis\":{\"gridcolor\":\"white\",\"linecolor\":\"white\",\"ticks\":\"\"}},\"title\":{\"x\":0.05},\"xaxis\":{\"automargin\":true,\"gridcolor\":\"white\",\"linecolor\":\"white\",\"ticks\":\"\",\"title\":{\"standoff\":15},\"zerolinecolor\":\"white\",\"zerolinewidth\":2},\"yaxis\":{\"automargin\":true,\"gridcolor\":\"white\",\"linecolor\":\"white\",\"ticks\":\"\",\"title\":{\"standoff\":15},\"zerolinecolor\":\"white\",\"zerolinewidth\":2}}},\"title\":{\"text\":\"Histogram\"}},                        {\"responsive\": true}                    ).then(function(){\n",
              "                            \n",
              "var gd = document.getElementById('6de72048-a79d-4eca-9466-402448085c65');\n",
              "var x = new MutationObserver(function (mutations, observer) {{\n",
              "        var display = window.getComputedStyle(gd).display;\n",
              "        if (!display || display === 'none') {{\n",
              "            console.log([gd, 'removed!']);\n",
              "            Plotly.purge(gd);\n",
              "            observer.disconnect();\n",
              "        }}\n",
              "}});\n",
              "\n",
              "// Listen for the removal of the full notebook cells\n",
              "var notebookContainer = gd.closest('#notebook-container');\n",
              "if (notebookContainer) {{\n",
              "    x.observe(notebookContainer, {childList: true});\n",
              "}}\n",
              "\n",
              "// Listen for the clearing of the current output cell\n",
              "var outputEl = gd.closest('.output');\n",
              "if (outputEl) {{\n",
              "    x.observe(outputEl, {childList: true});\n",
              "}}\n",
              "\n",
              "                        })                };                            </script>        </div>\n",
              "</body>\n",
              "</html>"
            ]
          },
          "metadata": {}
        }
      ]
    },
    {
      "cell_type": "markdown",
      "source": [
        "### Distribution Plots\n",
        "\n",
        "Distribution Plots, or Displots, typically layer three plots on top of one another. The first is a histogram, where each data point is placed inside a bin of similar values. The second is a rug plot - marks are placed along the x-axis for every data point, which lets you see the distribution of values inside each bin. Lastly, Displots often include a “kernel density estimate”, or KDE line that tries to describes the shape of the distribution. \n",
        "\n",
        "We need to import `figure_factory` from the plotly package for this chart."
      ],
      "metadata": {
        "id": "dx0PLnCeCVMj"
      }
    },
    {
      "cell_type": "code",
      "source": [
        "x1 = np.random.randn(300)-2\n",
        "x2 = np.random.randn(300)\n",
        "x3 = np.random.randn(300)+2\n",
        "x4 = np.random.randn(300)+4\n",
        "\n",
        "hist_data = [x1,x2,x3,x4]\n",
        "group_labels = ['x1','x2','x3','x4']\n",
        "\n",
        "#need to use ff to create distribution plot\n",
        "fig = ff.create_distplot(hist_data, group_labels, bin_size=[0.2,0.1,0.2,0.3])\n",
        "\n",
        "pyo.iplot(fig)"
      ],
      "metadata": {
        "colab": {
          "base_uri": "https://localhost:8080/",
          "height": 542
        },
        "id": "Gfqh0bizCC0c",
        "outputId": "0335b55e-3fcb-4faf-b684-d31c08fffbf3"
      },
      "execution_count": null,
      "outputs": [
        {
          "output_type": "display_data",
          "data": {
            "text/html": [
              "<html>\n",
              "<head><meta charset=\"utf-8\" /></head>\n",
              "<body>\n",
              "    <div>            <script src=\"https://cdnjs.cloudflare.com/ajax/libs/mathjax/2.7.5/MathJax.js?config=TeX-AMS-MML_SVG\"></script><script type=\"text/javascript\">if (window.MathJax) {MathJax.Hub.Config({SVG: {font: \"STIX-Web\"}});}</script>                <script type=\"text/javascript\">window.PlotlyConfig = {MathJaxConfig: 'local'};</script>\n",
              "        <script src=\"https://cdn.plot.ly/plotly-2.8.3.min.js\"></script>                <div id=\"ab46fb7d-fe63-4ad7-867b-a71a0ddd8f1d\" class=\"plotly-graph-div\" style=\"height:525px; width:100%;\"></div>            <script type=\"text/javascript\">                                    window.PLOTLYENV=window.PLOTLYENV || {};                                    if (document.getElementById(\"ab46fb7d-fe63-4ad7-867b-a71a0ddd8f1d\")) {                    Plotly.newPlot(                        \"ab46fb7d-fe63-4ad7-867b-a71a0ddd8f1d\",                        [{\"autobinx\":false,\"histnorm\":\"probability density\",\"legendgroup\":\"x1\",\"marker\":{\"color\":\"rgb(31, 119, 180)\"},\"name\":\"x1\",\"opacity\":0.7,\"x\":[-1.6422126396517167,-1.4392154736317657,-0.916948756824723,-0.946197947965097,-3.377669367957091,-2.937825039915123,-1.4849647327913402,-1.486214049087791,-1.484952313693952,1.8527314906547212,-1.429109489306833,-0.8644343598194011,-1.0459982365067977,-1.348608748694202,-2.3152692446403456,-1.2410307795067326,-2.772825214537572,-2.236818606740009,-2.4853635478291034,-1.9181258606136775,0.31465856667350867,-3.867265192591748,-1.3137398096254866,-3.6127158711896517,-2.4719318657894336,-0.9110494030326339,-1.9357199809045373,-3.077744777929306,-2.715303709259968,-1.3204022510653242,-2.7303666317171364,-1.7835414104180252,-1.9544281600961861,-2.651600347605817,0.14394408932532565,-1.3660809776819889,-4.025142586657607,-1.8135456852305722,-2.661786464768388,-1.147566665203776,-2.7925207384327004,-2.114736441466899,-1.4950127210195427,-1.1342448058298786,-3.2002964070557764,-2.3345012358409485,-2.474945311160956,-2.6533292325737117,-0.23454575971890312,-1.5950182890390445,-3.2608839543350454,-1.0821380529452238,0.12215619701263325,-0.9675347394488532,-3.5193699659540134,-2.4842340728662515,-0.7330888508133773,-2.707669465618781,-1.5561805718537716,-1.2253659465706632,-2.926930471578083,-2.0595253560618,-5.241267340069072,-3.0243876413342896,-2.2525681513931604,-3.2477831819648495,-0.36758869606836475,-3.4301413779606325,-2.440044486696984,-1.8692594227139088,-0.5587267109338845,-3.4358621511794394,-0.8368362478450404,-1.989766938980413,-2.981508651047951,-1.5378965257367292,-1.80094030442653,-2.6002168771587946,-1.930197915009981,-2.38531359686176,-1.8864826547487519,-1.3378693254789533,-0.41398318385464794,-3.237815498826849,0.13303337465626663,-3.952087799522502,-2.1517850950355832,-1.4116827935154235,-1.7190081322649673,-2.6226995198205936,-2.2081222503572753,-2.493000934658833,-2.5893647569442115,-1.1503979029789755,-1.6429845140349526,-2.6929095952606543,-1.1004001245667494,-1.6927004791233906,-1.18713788116104,-1.3703711580763878,-2.828995010922072,-2.5601810401969693,-1.2527063948767383,-1.3896297345665352,-2.020901593964148,-1.882672616691218,-0.7223351042115751,-2.59157138883583,-1.452902618829962,-2.202192652433894,-2.21768120322722,-0.9012231480128099,-1.1745836510119703,-1.1864903639993614,-0.6945211928456709,-1.9789961583672409,-1.318047028705036,-2.310266756593456,-1.6758336475115578,-2.1301430543676845,-1.9030040350072819,-1.4048429745630864,-2.8182206832334726,0.09238727568546024,-3.006017381499702,-3.214188612787732,-0.8418891264999322,-1.2083373060370641,-1.3758801829478449,-1.37165449073572,-2.0122467728469147,-2.8972543714858316,-1.9241954418062737,-2.677161711512112,-1.0248802665822487,-2.1470573815021385,-2.8254971967925115,-2.3213858416529933,-1.5870685457243756,-2.5637245528039747,-2.8222203955664313,-1.7563127885080876,-1.7550334288912772,-2.5069431753711298,-2.4710383056183227,-1.7679500626423637,-3.4480843414973243,-3.4074637743765552,-2.718444221252436,-2.213447151711847,-1.6890924344019953,-0.524643783050448,-1.1423403767979807,-2.1599385299634273,-2.019016207902689,-3.002529364637809,-2.01851313599239,-2.2886586389201384,-1.6772814396619105,-2.827230943552323,-1.4806534857588276,-0.4672610869974223,-2.1087601484568577,-1.5982882779010585,-1.3098560082888875,-2.401220471885836,-1.7759075181895831,-1.9874075992182052,-1.9023239014511684,-2.7730097838554664,-1.9754898257410574,-1.5020017087545503,-0.5488563922049583,-1.040729173914793,0.15318245751155635,-2.7673475628880495,-1.1276793632793218,-1.8166579942616483,0.18980293321767228,-2.8082982853551517,-2.839721842180776,-2.599392645444022,-4.123895724309807,-2.525755021680761,-2.759132661553698,-1.8496062135237923,-1.6582440242228405,-0.12382916078411377,-1.0495761618139499,-2.576903655662403,-2.898414671348358,-1.5080808284934943,-3.3202332070206424,-0.16854123414564626,-0.820559879278713,-2.469175652104705,-3.7131345290908775,-0.6461276258345872,-2.114539845252618,-0.7621836880265382,-3.594427658794367,-2.599375022953773,-1.994756300281817,-1.953019406235258,-2.4500654714792436,-1.3771500676525013,-3.067620429382594,-2.1423794850212934,-1.8797043682881012,-1.485561165941251,-1.2883851219111102,-3.1246420918378695,-3.5341141707356223,-0.7223231781014909,-1.6676859880204082,-2.7484865365565536,-0.44884802447747707,-1.8843253657071413,-0.8207028159361736,-1.9324815185898911,0.0607479248819871,-0.24465915755679557,-2.2489641484790734,-1.0284290490456445,-1.3546240504148526,-0.6313684424676513,-2.9649234605801045,-1.3139485400015607,-0.9415755131504122,-3.7587394864231145,-3.183258512665775,-4.0392321777601,-2.269406834444558,-1.2824577442040377,-0.4976429479039719,-1.9259052195802249,-0.37138445442870816,-3.3801014582148916,-3.7033824393551544,-2.0555476988966186,-1.6159345510606928,-2.032694748094093,-4.067442100039877,-2.0891200395127885,-3.304469500504853,-1.3303274511699614,-1.6334017539031518,-2.939879786327355,-2.5138669173366934,-3.0592135218889513,-2.062679097273172,-1.0448576794987616,-2.985726046335544,-1.4959534844821556,-2.530257618372441,-2.7928728322623444,-2.1070303599545577,-3.035242322419374,-2.5536493053471823,-3.1978778925888482,-0.03527486708361072,-1.9647364480282714,-2.6997255079925857,-1.786020089265778,-2.11232804969083,-2.220969599533223,-1.3858332999565748,-1.242492289952695,-2.5305011476105275,-2.57581824064468,-2.275051697151644,-4.301921164735585,-3.5151910621985523,-0.6331257325554753,-0.3550322864987163,-2.2490360395563784,-1.4234430369442337,-1.688749845456464,1.0788808084552377,-0.8804250885654232,-2.1279175914807666,-2.9555404406004255,-3.6064463202575725,-1.796536364132777,-2.7563507452843035,-3.4222537095976744,-2.6465728842425267,-3.0815480036143947,-0.31285836492743524,-1.1183602430505495,-2.0079726413166172,-0.5200558611099741,-1.9226316923523816,-2.8612842013282638,-0.47687592273034274,-1.4610899563153414,-3.037246154326456,-2.190338678083608,-2.875618253384757,-3.382799730964336],\"xaxis\":\"x\",\"xbins\":{\"end\":1.8527314906547212,\"size\":0.2,\"start\":-5.241267340069072},\"yaxis\":\"y\",\"type\":\"histogram\"},{\"autobinx\":false,\"histnorm\":\"probability density\",\"legendgroup\":\"x2\",\"marker\":{\"color\":\"rgb(255, 127, 14)\"},\"name\":\"x2\",\"opacity\":0.7,\"x\":[0.9261775475316414,1.9094166404701305,-1.3985675738191412,0.5629692366905709,-0.6506425691218269,-0.48712538376469605,-0.5923939242388692,-0.863990769679816,0.04852162794482699,-0.8309501164110378,0.2704568257798388,-0.05023810944913695,-0.23894804686640975,-0.9075636620415979,-0.5767713305683327,0.755391225825756,0.5009171876243808,-0.977555244798551,0.09933230542922587,0.751387123371789,-1.6694052811213718,0.543360192379935,-0.6626237589458467,0.5705986685931593,-0.7632591565425169,-1.804882100664519,-1.6275424378831627,0.048084946661381994,0.25972250172148187,-0.9043166251044086,0.6385924587773739,-1.6615200622689599,-0.06607979864731657,-1.2110161997624567,-0.6518361078021592,0.047398671316414016,-0.8604133652839524,-0.38455554422982535,1.0062928092144405,-0.5768918695231487,0.8356921120651418,-1.129706854657618,0.5298041779152828,1.4415686206579004,-2.4716445001272893,-0.7968952554704768,0.57707212718054,-0.2030453860429927,0.37114587337130883,-0.6039851867158206,0.08658978747289992,-0.15567723539207948,1.1677820616598074,0.2544208433012131,0.3376026620752022,-0.4118769661224674,-0.48760622407249354,-0.4325581878196209,0.39445214237829684,-0.42098448082026296,0.2897748568964129,2.075400798645439,0.8711247034316923,-0.32602353216784113,1.2012139221639448,-0.4080753730215514,-2.038124535177854,-1.008086310917404,-1.8707919210258557,-0.35151348404130867,0.0184183791895517,1.6764373122752827,0.32692737376416264,-0.21910052880886424,0.8294055811834892,-2.211135309007885,0.23561455810856594,0.7708651938869668,-1.4785862457798415,1.143754043206929,0.3384964074944141,-0.4152879139008013,0.6327818661062848,2.270692857804396,0.18186625505849516,0.24822058630033608,-0.4593608995402441,-0.8498443694647918,0.8303358165442456,-0.8560838259088672,0.07156623721939247,-0.4776574467651167,0.47897982574639186,0.3336621052869483,1.0375399442578992,-0.510016398854747,-0.26987493529337125,-0.9787637157823074,-0.4442932600761116,0.3773004930448522,0.7569886166453519,-0.9221653241776254,0.8696059201056602,1.355637858804951,0.41343490322370086,1.876795812558066,-0.773789199103573,-1.244654703311417,-1.7787202489042786,1.496044311489183,0.6543656563540577,-0.05558467091045507,0.2799686263198203,-1.1254890472983765,2.4457519796168263,0.1292211819752275,0.10939479460489289,0.725766623898692,0.4810092317367132,0.22388402427913137,-0.7904744554453119,0.4714683571359957,1.8820244964750337,1.3454200461549777,1.593186626639397,-0.5112156764311852,-0.9896048202585809,-0.12578692009964815,0.055724912288694604,1.0941915184709485,-1.6924646297148194,1.5295503194606137,-0.15800789857898942,-0.42688106994742003,-1.0121043752601675,-1.6548566718657693,0.8231705839619146,0.07331796718840389,-1.2899608997410539,-1.295078772063616,-0.3357846992901282,1.669021525289393,-0.2595913513636048,-1.5031429531181062,-0.24574306408594432,-0.2727235697476705,-2.6968866429415717,-0.05429486651781221,-0.23093453020867796,0.6962063648134184,1.8489560949453452,1.1265650295477574,-0.26888869055483056,-1.1065259087416703,2.5733598032498604,0.05921843401448826,0.013929291912946203,-0.024125087110003277,0.19808476076785494,-0.14436041192394247,-0.5736620068802363,-0.5468589412403921,-0.03275327021599839,-0.543424771133765,-0.7128457826771644,0.10643022769189683,-0.2549772174208553,1.5039929885826886,-2.650969808393012,1.0915068519224618,1.246085192497629,-2.0733902324081495,-0.34268759408034877,-0.37144086599579146,-1.4075116947178212,-0.7778166875908753,-1.1105758454658288,1.7522704434236227,0.9356783931474612,1.2715550949941588,0.7216720640432351,-1.1290517712172292,-0.5245202662797737,0.48937456122791806,-1.2221278088919454,0.7129984301723881,-0.24032539815813503,-0.3748208075495975,0.7109599682034915,0.44426331148603976,-0.3609661658190799,1.159329803364248,-1.0810633275998973,0.6159356069442637,0.5931012579683838,-0.3095464393139903,0.326133022242118,-1.251113576385303,0.924027019206901,-0.18490213644298903,-0.5227230205190395,1.0490092258368893,-0.7043436905427592,-1.4084612963635597,-1.5566291735239037,0.6060099513456396,-1.280429352496283,1.7547941819843647,-2.081929407883722,1.6964563682900382,0.2110174672026184,-0.09671311187039239,-0.5449190868089497,0.39913611435207086,-0.037634702424848364,1.1033018820165215,0.11422764866203965,0.1503017614618776,-0.36361221221385587,-0.056945623721067457,0.3078017688920592,-1.7101683926566256,-1.348185422105713,0.743264094022715,0.17086543812794186,-0.18398333635267913,0.01843393306539316,0.34758170536167105,-0.5397596803093615,-0.7783047254023127,0.19584525509768155,-0.978372777615032,0.40825275571447184,-1.7025836042378404,1.0291556373256436,0.472597482413043,0.25602973431387566,0.9826909839455139,1.6654744444625766,1.0143700650181304,-1.8408742313316453,-1.2795769667357015,-0.6248185776956788,0.026091050210833786,0.517659020469123,-0.7257438131534656,0.18676676447707832,-0.7553829323533225,-0.6115178029919482,-1.4066610968482223,-0.9232332461109043,-1.3516846056163336,-0.9758732529773327,1.0536417966078395,-0.949398888831943,2.632382064837391,0.4933179008808892,0.1848361236948739,-0.8583577801812136,0.7003098794089914,-0.5756378262377739,0.12200981464536144,2.5600845382687947,-0.09605989972464987,1.1492733262856758,-0.7031764251258874,-0.0349884904969617,1.77080063563551,-0.6269670577877674,1.8124485579969287,0.7077519354554754,-0.5624667758942676,0.632407739055521,0.9725544496267299,0.6218099622171964,-1.5702247198904564,-0.7271371758248686,-0.24751863555150475,-0.07443342910004629,0.620672097550678,0.17770100093325383,-1.3353443587101013,0.3801978510059632,0.6105857452838231,0.5597904479310398,1.0807807255546218,0.8339221545489041,0.4591800792284367,-0.07016571145864703,-1.6609609335159914,0.42961821913258585,0.20768768716311115,0.27157883719537346,-1.2767485758203094,-1.0810565404082624,1.0531528533329035,-0.03955515385665504,0.6815006973726244,0.028318376130461172,0.02975613949574519],\"xaxis\":\"x\",\"xbins\":{\"end\":2.632382064837391,\"size\":0.1,\"start\":-2.6968866429415717},\"yaxis\":\"y\",\"type\":\"histogram\"},{\"autobinx\":false,\"histnorm\":\"probability density\",\"legendgroup\":\"x3\",\"marker\":{\"color\":\"rgb(44, 160, 44)\"},\"name\":\"x3\",\"opacity\":0.7,\"x\":[2.9382838059759977,1.483955271782626,2.0961207769409835,1.5377247112949575,1.5655037725676844,1.6908278765313607,2.222133771633713,1.5212513783365227,3.255756125573521,1.1053926977804962,1.813128355838641,1.560268941725825,3.446977884353733,2.1965547765115745,3.0318445394686346,0.514439626963028,2.267050265869259,2.889630795623437,2.082283989275424,3.065480375065351,1.4827115498996277,3.40934744018558,4.29889812361925,1.6371614395603409,1.5544974785992283,3.4533844771177007,3.5795721457307126,1.4771399728467318,1.5798131829041426,1.7182153911394928,0.655549488965723,1.0813480535158018,0.9958592332479321,1.2322024348958716,1.965315112613219,2.234214732536521,3.550500492814077,1.001645959261209,2.984322398476584,1.786011155774491,1.9505362903475671,2.6748194921666038,0.8772779784377014,2.3824097461840505,2.166452208213056,2.492451264008149,2.2891686439078183,4.455300139910895,1.3622600157486842,1.4690030449981824,1.3768594735752355,1.4445228808397452,1.3626128726934823,3.189016531107552,3.4205042479898546,1.4292537062505237,1.1676444268957713,2.471415556386404,1.4477769557190288,2.6329318177555106,2.2029230208512995,0.48425588500276806,3.5475052013300616,3.7958776730955215,1.3872113095156138,1.612298440064016,2.285865390724905,2.334456789987025,2.6585442726728306,4.01020453876635,1.8230527725059507,1.2017027554615463,0.6206807719854728,1.269069960058081,1.966873027126203,3.7945578635177877,1.4823887009638286,2.2237879516388985,1.9835771039272478,3.188393273448084,4.526932425873621,1.4691312270796795,1.510560557481778,3.0441608770690722,2.6818914896263113,3.8467073257360336,2.5839281853259637,1.6407079092129404,2.5906548306923094,3.1087035805829077,2.820482181197364,2.507274031107298,3.0666746895891537,3.1692955904456728,3.382158991037527,2.648709887589643,1.8328819196831456,2.1467136864333227,3.206508966508357,1.183064329012764,2.3686733088729013,1.6066611876726393,2.0287448229348173,3.278451862607299,2.1910990680199034,2.046436548156149,0.6401438590200808,2.746253566027221,2.645484181141075,4.16325472330546,1.692221765046999,2.219150327663939,2.2493836837107555,3.5774532797634744,1.904704467613048,2.2790215257703395,2.6078965097165394,2.1866091231563582,1.5535663854494717,2.1940899928983075,3.0736317498597723,0.9734847005889398,2.132969674146876,1.299879185060827,3.1950466289248425,0.4768130952162253,1.4410781527284118,2.377211875064521,3.56552402923434,1.9342497389270121,1.4448004733068016,3.88115706944059,0.551986099583756,-0.19880595662008194,2.4400144500533325,1.4979457756473888,0.9787671828692868,2.7083564472993533,2.243800713771199,1.4359213692632715,0.7196956013291056,2.8724573282801447,2.650201177958661,1.900824136220617,3.846636996047666,0.9299152336738474,0.4744748290752612,1.3080919301187555,1.9544139836445023,2.2433394493226917,1.75876394214367,2.352055396514297,0.7484605758095559,3.4437646040732597,1.9178488216074312,3.1172958315881276,2.342725346377704,2.456753219153784,2.569767280232204,2.4477085600173147,2.642722759867544,3.3291525301324314,2.19652116970147,2.7090037575885124,1.9102643057127733,3.440117215449473,1.3236076979407303,3.8009404329108154,1.9598420493556565,0.5692248978819519,2.1281044149107893,1.3189483425251192,2.840643548988724,1.347376020697609,1.5538165667852204,0.11045926905446901,1.5476936807509234,-0.42387932662895667,0.4160971765142767,2.7604146561442975,2.785800158650832,2.425457561784965,1.033023856870787,1.95228864385802,1.9963974609094315,0.8416353108074572,3.5033983017671506,2.8773622905756713,1.779035826170336,2.026885838994531,2.2083828079475527,-0.04173486842429064,1.752822617479403,1.3180157520022013,0.9983799901050845,1.718899707114045,3.797686526849523,2.64084286126701,1.4288210102172032,2.5725827813561586,3.399355436586002,2.924633682912769,2.0596303699201743,1.353063222294426,2.69822331361359,2.3934853854217497,2.8951932200277324,2.6351718016819694,3.049552715319335,1.4647647884394321,3.3173940656343257,2.1975996046923996,4.0752608726252655,1.3108121819104321,3.7359638031652493,2.197910783462648,1.3485819963855517,1.5161141659456785,1.6796526918056798,2.4241659464019163,2.5228354880354997,1.426299996061421,1.975645407739017,4.142270358611864,3.727543170100711,2.436323669674032,2.0380034781682004,2.1200313267182613,2.6135179727304165,0.9772074348015944,1.7426234625766548,0.33141592612241055,2.3992231226052794,2.647195939702741,1.516813537700626,3.5739867632900326,0.7742343369976588,0.5356251197901798,2.224451818559972,3.0470983026121545,3.6839276914578685,1.54111573713106,3.078680833431296,1.9614915304992928,1.8273727000591804,2.8836599374866725,2.6523228784134196,0.4236078430157506,3.4765403497258958,3.3800913541474515,1.3744372984904705,2.395803533437409,2.494030186282739,2.260673765823907,1.4496948461545798,1.3283766320619486,1.9744459290085548,3.1727290192593647,2.5436001545944324,1.629385667913894,2.771698710648345,-0.8485426206300755,3.1487657003721035,0.26028622122190037,1.6375590585968678,0.8803301053738561,0.7053185242790942,3.1608267873785194,1.5322987986881087,2.346503881730716,1.953079421120816,2.4770408272231217,2.076821891060255,0.7170077758114304,2.99626681944714,1.5062434168386876,0.44341810134024895,1.5718848390340874,3.500759790634311,2.8502217421134928,1.6513478655921408,1.6507422956815712,1.6783649487826173,4.076747983560841,2.3819354522315535,2.4300416471910697,3.030283454031842,2.2387891590265134,1.740957854179297,1.8036501509150218,1.928398740585936,1.9627777634901584,2.7276295436369797,2.0519458858072994,2.732640077215579,1.9192834198914177,2.0786351903160907,0.0017993154678923595,2.9163276747024813,2.346488475897993],\"xaxis\":\"x\",\"xbins\":{\"end\":4.526932425873621,\"size\":0.2,\"start\":-0.8485426206300755},\"yaxis\":\"y\",\"type\":\"histogram\"},{\"autobinx\":false,\"histnorm\":\"probability density\",\"legendgroup\":\"x4\",\"marker\":{\"color\":\"rgb(214, 39, 40)\"},\"name\":\"x4\",\"opacity\":0.7,\"x\":[4.998010109859652,1.1037446218063107,6.088374704780728,3.8604103718448264,5.108182816737516,2.960094072874469,4.61277390506257,2.9465844368263436,3.3762310393041948,5.914031353866786,3.8093175992366533,4.217432873179723,4.8700677306887545,4.495681887972605,4.150418905143576,4.3649610024662255,6.403415585238275,3.9423812029664145,4.201099046714967,5.050654396007612,5.105525932957984,5.187030305560381,4.638730222029185,2.8569950872695165,5.6334315323010955,2.853654606981312,4.3026354652390335,3.245724149980642,3.9358616534070077,4.32876241030348,4.3213572154502735,4.421920754235285,5.613711269058647,4.453534301513979,3.755843364709351,4.964087168288358,5.18947048892464,2.7723921848630075,4.597400069849858,4.701172742310899,3.702436496640008,5.37570681331162,3.8499444129674734,4.125576453471543,3.82692817571613,4.015579047581467,2.9037249131047984,2.5599491174057056,5.594505063224972,3.153038651681672,3.0086076505436927,1.8466098863962852,3.3610382523104976,2.6769102065925017,5.642015160136369,5.009817089342635,3.311849654822276,6.252435805344309,4.981765486991594,3.6751686164913777,1.500594285126427,6.290942572590742,2.610427533236404,2.354601253043108,5.0225704320096405,6.439752406339273,5.384272818510518,4.56390912005236,4.594754341665286,4.853415558780307,4.758928589786765,4.281191423969376,4.104201103951876,3.937406872100478,3.246035411133324,3.719324923133226,2.3070431858046145,3.90166037320525,3.0114088928490825,2.896410682784229,4.179894151153478,5.392002286344599,4.918316606002313,2.4294993963768228,3.0103718634296626,4.940771187988216,3.0175126064616906,3.7753668500029756,4.550052099024552,3.0316555451363647,4.10537550614596,2.6659745050817953,3.398632356048786,4.3197819341425365,2.407006266468331,4.440474737960399,3.980362201073319,4.5524899544171475,4.223914134064661,5.364140429973844,4.1252245026479075,3.570594458874747,4.122297503032284,4.543298029036388,4.048860070325705,4.040591691203883,3.298008312193245,3.337099082449052,2.5973947282003067,5.749576743186939,2.7561367646087147,3.3070948022040927,3.2815927344308027,4.8949243769444415,3.705050321707972,5.247742072673734,3.3265093757561317,4.278994162223802,3.164652946740243,6.145149127773388,2.812401580970487,4.309820710227028,4.633776880932098,4.4137990974514985,3.814712341122292,3.8701793002665736,4.04381147197911,3.8529979983715115,4.96387911679491,6.210523001591351,3.4425082149921664,2.630197020420922,3.911717951648745,6.579709337654318,3.196325432030269,5.6391168054440675,5.677700814076441,3.4464117582920055,4.5689830791852755,5.628396623128538,3.620872259012513,3.796419639897638,3.418319086051356,2.985243269307133,3.350722454933993,2.7760597332377435,4.034083468259226,3.230026768941358,4.233785911790748,2.444104353796373,4.330880232214457,4.833528961608924,2.0062643574285444,4.374056569847572,5.227668992473292,2.7903589813087946,5.672572386837704,4.419019009366045,3.294988144241591,3.9442309223422938,4.558326912521722,4.076005391412411,4.538755992446369,3.0793264069206336,4.169360824036078,2.58628550309502,3.8887739386513,3.09609235853521,3.264470057410233,5.236093175210438,5.091310120594269,4.609138120907177,2.907687235327421,3.683591550305198,5.213097699979183,4.141716913639905,6.319329539981695,4.3933178393943715,4.192049116490032,3.6908835357974987,4.133540904782282,3.847530163619456,4.708108676688591,4.956702316794584,3.2140105394920506,2.668767046442222,2.1637946268967037,4.507991326912544,2.8966333938261264,1.8471094070475171,4.388578604530964,6.492999517432791,3.993929088460107,4.838490774451642,4.081829358547565,3.9011103468088573,4.9190764829877685,3.709725455811349,4.267392314071903,4.321697806196013,3.3319095463569512,4.992042349536523,3.825040243304591,3.244254840507155,4.536509843570403,3.101532018208963,4.028181157369128,3.9908810033557964,5.085895565831578,4.474698232879953,3.9749730412548563,4.817766299200287,5.390207549017314,4.557810306351862,4.01035261984338,2.6881637676498404,2.9348863369246274,3.694775295645332,3.390487797840717,3.813028697014554,4.0566499248971075,4.529692754356731,3.929501221940909,4.486501643826202,4.06447441481012,2.0245334336461287,3.0606646061812457,3.8559124442783848,2.7903052571588924,4.599928729996204,5.530750832343697,5.218761851697317,3.786557129069792,5.490726136849952,4.148667457202111,3.6629140288819606,3.3865973364590602,3.6975303135118716,3.6118231814587713,4.170416222375488,4.160573981049865,4.003046020153414,4.43693816974635,5.190646274786341,4.949554135441324,2.5151020315500965,1.4460788650980452,4.934319911239274,2.6331213015845787,3.7752345981073163,2.8298869739406403,2.1980195624199803,4.541462728204788,4.7591551603026465,3.423489599273281,1.4089577078550901,3.453755551747517,4.3918040054025465,2.5210884312258712,4.183359919779155,3.9846901508270043,4.579291499601088,4.119580368414153,3.0269310591184446,5.196571501664492,3.84147042697303,3.972695460490068,3.066732040926804,3.55671774880849,3.115197285973099,3.827053940076577,5.7117084801423434,2.6280988570686437,2.386438602123259,5.471170327493608,3.790676322848134,3.3309272613400833,5.039904687396076,3.3943844602631357,5.826009713546936,4.677925871339269,3.5120885918542974,6.1573082132655035,3.3942850769966615,4.742095372009307,4.299292580406492,5.301741289398798,5.561511196726853,4.0320041490657665,3.2465821296538167,4.459972142939116,3.3222846302478937,6.013387247526623,4.1365353310827375,3.6346784486878914,4.184680305864909,2.6528737104703035,3.0283859614893487,5.200413907944426,3.3431057210286044],\"xaxis\":\"x\",\"xbins\":{\"end\":6.579709337654318,\"size\":0.3,\"start\":1.1037446218063107},\"yaxis\":\"y\",\"type\":\"histogram\"},{\"legendgroup\":\"x1\",\"marker\":{\"color\":\"rgb(31, 119, 180)\"},\"mode\":\"lines\",\"name\":\"x1\",\"showlegend\":false,\"x\":[-5.241267340069072,-5.227079342407625,-5.212891344746177,-5.198703347084729,-5.184515349423282,-5.170327351761834,-5.156139354100387,-5.141951356438939,-5.127763358777491,-5.113575361116044,-5.099387363454596,-5.085199365793149,-5.0710113681317015,-5.056823370470253,-5.042635372808806,-5.028447375147358,-5.014259377485911,-5.000071379824464,-4.985883382163015,-4.971695384501568,-4.9575073868401205,-4.943319389178673,-4.929131391517226,-4.914943393855777,-4.90075539619433,-4.886567398532883,-4.872379400871435,-4.858191403209988,-4.8440034055485395,-4.829815407887092,-4.815627410225645,-4.801439412564197,-4.78725141490275,-4.773063417241302,-4.758875419579854,-4.744687421918407,-4.730499424256959,-4.716311426595511,-4.702123428934064,-4.687935431272616,-4.673747433611169,-4.659559435949721,-4.645371438288274,-4.631183440626826,-4.616995442965378,-4.602807445303931,-4.5886194476424835,-4.574431449981035,-4.560243452319588,-4.54605545465814,-4.531867456996693,-4.517679459335246,-4.503491461673797,-4.48930346401235,-4.4751154663509025,-4.460927468689455,-4.446739471028007,-4.432551473366559,-4.418363475705112,-4.404175478043665,-4.389987480382217,-4.37579948272077,-4.3616114850593215,-4.347423487397874,-4.333235489736427,-4.319047492074979,-4.304859494413531,-4.290671496752084,-4.276483499090636,-4.262295501429189,-4.248107503767741,-4.233919506106293,-4.219731508444846,-4.205543510783398,-4.191355513121951,-4.1771675154605035,-4.162979517799055,-4.148791520137609,-4.13460352247616,-4.120415524814713,-4.1062275271532656,-4.092039529491817,-4.07785153183037,-4.0636635341689225,-4.049475536507475,-4.035287538846028,-4.021099541184579,-4.006911543523132,-3.9927235458616845,-3.978535548200237,-3.9643475505387893,-3.950159552877342,-3.935971555215894,-3.9217835575544466,-3.9075955598929992,-3.893407562231552,-3.8792195645701035,-3.865031566908656,-3.8508435692472087,-3.8366555715857613,-3.8224675739243135,-3.8082795762628656,-3.794091578601418,-3.779903580939971,-3.7657155832785234,-3.7515275856170756,-3.737339587955628,-3.7231515902941803,-3.708963592632733,-3.6947755949712855,-3.6805875973098376,-3.6663995996483902,-3.6522116019869424,-3.638023604325495,-3.6238356066640476,-3.6096476090025997,-3.595459611341152,-3.5812716136797045,-3.567083616018257,-3.5528956183568092,-3.538707620695362,-3.524519623033914,-3.5103316253724666,-3.496143627711019,-3.4819556300495718,-3.467767632388124,-3.4535796347266765,-3.4393916370652287,-3.4252036394037813,-3.411015641742334,-3.3968276440808856,-3.382639646419438,-3.3684516487579907,-3.3542636510965433,-3.3400756534350955,-3.325887655773648,-3.3116996581122002,-3.297511660450753,-3.2833236627893054,-3.2691356651278576,-3.25494766746641,-3.2407596698049628,-3.226571672143515,-3.2123836744820675,-3.1981956768206197,-3.1840076791591723,-3.169819681497725,-3.155631683836277,-3.141443686174829,-3.127255688513382,-3.1130676908519344,-3.0988796931904865,-3.084691695529039,-3.0705036978675913,-3.0563157002061443,-3.0421277025446964,-3.0279397048832486,-3.013751707221801,-2.999563709560354,-2.985375711898906,-2.9711877142374585,-2.9569997165760107,-2.942811718914563,-2.928623721253116,-2.914435723591668,-2.9002477259302206,-2.8860597282687728,-2.8718717306073254,-2.857683732945878,-2.84349573528443,-2.8293077376229823,-2.815119739961535,-2.8009317423000875,-2.78674374463864,-2.772555746977192,-2.7583677493157444,-2.7441797516542974,-2.7299917539928495,-2.7158037563314017,-2.7016157586699543,-2.6874277610085064,-2.673239763347059,-2.6590517656856116,-2.644863768024164,-2.6306757703627164,-2.616487772701269,-2.602299775039821,-2.5881117773783737,-2.573923779716926,-2.559735782055478,-2.545547784394031,-2.531359786732583,-2.5171717890711354,-2.502983791409688,-2.4887957937482406,-2.474607796086793,-2.4604197984253453,-2.4462318007638975,-2.4320438031024505,-2.4178558054410026,-2.403667807779555,-2.3894798101181074,-2.3752918124566595,-2.3611038147952126,-2.3469158171337647,-2.332727819472317,-2.3185398218108695,-2.304351824149422,-2.2901638264879742,-2.275975828826527,-2.261787831165079,-2.247599833503631,-2.233411835842184,-2.2192238381807363,-2.205035840519289,-2.190847842857841,-2.1766598451963937,-2.1624718475349463,-2.1482838498734984,-2.1340958522120506,-2.119907854550603,-2.1057198568891557,-2.0915318592277083,-2.0773438615662605,-2.0631558639048126,-2.0489678662433657,-2.034779868581918,-2.02059187092047,-2.0064038732590226,-1.9922158755975747,-1.9780278779361273,-1.96383988027468,-1.949651882613232,-1.9354638849517847,-1.9212758872903373,-1.9070878896288894,-1.892899891967442,-1.8787118943059942,-1.8645238966445463,-1.8503358989830994,-1.8361479013216515,-1.8219599036602037,-1.8077719059987563,-1.7935839083373089,-1.7793959106758614,-1.7652079130144136,-1.7510199153529658,-1.7368319176915188,-1.722643920030071,-1.708455922368623,-1.6942679247071757,-1.6800799270457278,-1.6658919293842809,-1.651703931722833,-1.6375159340613852,-1.6233279363999378,-1.6091399387384904,-1.5949519410770425,-1.5807639434155951,-1.5665759457541473,-1.5523879480926994,-1.5381999504312525,-1.5240119527698046,-1.5098239551083572,-1.4956359574469094,-1.481447959785462,-1.4672599621240145,-1.4530719644625667,-1.4388839668011189,-1.4246959691396714,-1.410507971478224,-1.3963199738167766,-1.3821319761553288,-1.367943978493881,-1.353755980832434,-1.3395679831709861,-1.3253799855095383,-1.3111919878480909,-1.297003990186643,-1.2828159925251956,-1.2686279948637482,-1.2544399972023004,-1.2402519995408534,-1.2260640018794051,-1.2118760042179577,-1.1976880065565103,-1.183500008895063,-1.1693120112336146,-1.1551240135721672,-1.1409360159107198,-1.1267480182492724,-1.112560020587825,-1.0983720229263776,-1.0841840252649293,-1.069996027603482,-1.0558080299420345,-1.0416200322805862,-1.0274320346191388,-1.0132440369576923,-0.999056039296244,-0.9848680416347966,-0.9706800439733492,-0.9564920463119009,-0.9423040486504535,-0.9281160509890061,-0.9139280533275578,-0.8997400556661104,-0.8855520580046639,-0.8713640603432165,-0.8571760626817682,-0.8429880650203208,-0.8288000673588733,-0.8146120696974251,-0.8004240720359777,-0.7862360743745302,-0.772048076713082,-0.7578600790516354,-0.743672081390188,-0.7294840837287397,-0.7152960860672923,-0.7011080884058449,-0.6869200907443966,-0.6727320930829492,-0.6585440954215018,-0.6443560977600535,-0.630168100098607,-0.6159801024371596,-0.6017921047757122,-0.5876041071142639,-0.5734161094528165,-0.5592281117913691,-0.5450401141299208,-0.5308521164684734,-0.516664118807026,-0.5024761211455786,-0.4882881234841312,-0.4741001258226838,-0.4599121281612355,-0.4457241304997881,-0.4315361328383407,-0.4173481351768924,-0.403160137515445,-0.3889721398539976,-0.3747841421925502,-0.3605961445311028,-0.3464081468696554,-0.33222014920820797,-0.3180321515467597,-0.3038441538853123,-0.28965615622386487,-0.2754681585624166,-0.26128016090096917,-0.24709216323952266,-0.23290416557807436,-0.21871616791662696,-0.20452817025517955,-0.19034017259373126,-0.17615217493228386,-0.16196417727083645,-0.14777617960938816,-0.13358818194794075,-0.11940018428649424,-0.10521218662504594,-0.09102418896359854,-0.07683619130215114,-0.06264819364070373,-0.04846019597925544,-0.034272198317808034,-0.02008420065636063,-0.005896202994912336,0.00829179466653418,0.022479792327981585,0.03666778998942988,0.05085578765087728,0.06504378531232469,0.07923178297377298,0.09341978063522038,0.10760777829666779,0.12179577595811608,0.1359837736195626,0.15017177128101,0.1643597689424583,0.1785477666039057,0.1927357642653531,0.2069237619268014,0.2211117595882488,0.2352997572496962,0.24948775491114272,0.263675752572591,0.2778637502340384,0.2920517478954858,0.3062397455569341,0.3204277432183815,0.3346157408798289,0.3488037385412772,0.3629917362027246,0.37717973386417114,0.39136773152561943,0.40555572918706684,0.41974372684851424,0.43393172450996254,0.44811972217140994,0.46230771983285734,0.47649571749430564,0.49068371515575304,0.5048717128171996,0.519059710478647,0.5332477081400953,0.5474357058015427,0.5616237034629901,0.5758117011244384,0.5899996987858858,0.6041876964473332,0.6183756941087815,0.632563691770228,0.6467516894316754,0.6609396870931237,0.6751276847545711,0.6893156824160185,0.7035036800774668,0.7176916777389142,0.7318796754003616,0.7460676730618099,0.7602556707232564,0.7744436683847038,0.7886316660461512,0.8028196637075995,0.8170076613690469,0.8311956590304943,0.8453836566919426,0.85957165435339,0.8737596520148374,0.8879476496762848,0.9021356473377322,0.9163236449991796,0.9305116426606279,0.9446996403220753,0.9588876379835227,0.973075635644971,0.9872636333064184,1.0014516309678658,1.0156396286293132,1.0298276262907606,1.044015623952208,1.0582036216136554,1.0723916192751037,1.0865796169365511,1.1007676145979985,1.1149556122594468,1.1291436099208942,1.1433316075823408,1.157519605243789,1.1717076029052365,1.1858956005666839,1.2000835982281322,1.2142715958895796,1.228459593551027,1.2426475912124753,1.2568355888739227,1.2710235865353692,1.2852115841968175,1.2993995818582649,1.3135875795197123,1.3277755771811597,1.341963574842608,1.3561515725040554,1.3703395701655028,1.384527567826951,1.3987155654883976,1.412903563149845,1.4270915608112933,1.4412795584727407,1.455467556134188,1.4696555537956364,1.4838435514570838,1.4980315491185312,1.5122195467799795,1.526407544441426,1.5405955421028734,1.5547835397643217,1.5689715374257691,1.5831595350872165,1.5973475327486648,1.6115355304101122,1.6257235280715596,1.6399115257330061,1.6540995233944544,1.6682875210559018,1.6824755187173492,1.6966635163787975,1.710851514040245,1.7250395117016923,1.7392275093631406,1.753415507024588,1.7676035046860346,1.7817915023474828,1.7959795000089303,1.8101674976703777,1.824355495331826,1.8385434929932734],\"xaxis\":\"x\",\"y\":[0.0041929231478888464,0.004201765858135409,0.004204426381163927,0.004201160415121161,0.004192285182861434,0.004178179398408771,0.0041592828232829,0.0041360954228048434,0.0041091761365317355,0.004079141280602963,0.004046662602953304,0.004012465015015063,0.0039773240256584545,0.003942062904686202,0.00390754960419878,0.0038746934665892284,0.003844441747832383,0.0038177759841384264,0.003795708228991962,0.0037792771861541842,0.003769544262435073,0.0037675895620207394,0.0037745078419495815,0.0037914044460544785,0.0038193912324136115,0.003859582507164447,0.003913090975515816,0.003981023719018392,0.004064478206692323,0.00416453834652133,0.004282270583152389,0.00441872004742336,0.004574906763598435,0.004751821920926921,0.0049504242173456095,0.0051716362847915275,0.005416341207638972,0.005685379148165799,0.005979544095618168,0.0062995807582977405,0.006646181621044851,0.007019984193435499,0.007421568476835513,0.00785145468105114,0.008310101223564105,0.008797903046128222,0.009315190284722275,0.009862227329399882,0.0104392123103565,0.011046277045469389,0.011683487482591908,0.0123508446669566,0.01304828626013256,0.013775688632091776,0.014532869542084367,0.015319591417247667,0.01613556523025126,0.016980454968897666,0.01785388268158118,0.01875543407298765,0.019684664614565337,0.02064110612428547,0.02162427376023852,0.022633673362885676,0.023668809071521378,0.02472919113191753,0.02581434380443688,0.026923813275329816,0.028057175468669694,0.029214043652620994,0.03039407573163654,0.03159698111588502,0.03282252706082244,0.034070544373420115,0.03534093238717781,0.03663366311568493,0.03794878450409426,0.039286422709352245,0.04064678335325745,0.042030151707205435,0.043436891783628126,0.04486744432636114,0.046322323710215024,0.04780211377854112,0.04930746266623851,0.050839076674074786,0.05239771327802805,0.053984173374208855,0.05559929287543702,0.05724393378935374,0.05891897491971934,0.06062530234197482,0.06236379981094896,0.06413533926256218,0.06594077157232653,0.06778091773125378,0.06965656059439647,0.0715684373486729,0.0735172328349242,0.07550357384446259,0.07752802449289582,0.07959108275400968,0.0816931782142967,0.08383467108468388,0.08601585248059855,0.08823694595514431,0.09049811024337193,0.09279944314891421,0.09514098647815626,0.09752273190217207,0.09994462760338184,0.10240658554279654,0.1049084891652865,0.10745020134496518,0.11003157236092435,0.11265244768549665,0.11531267536323443,0.1180121127590647,0.12075063245870739,0.12352812711349073,0.1263445130350683,0.1291997323631448,0.1320937536509077,0.13502657073815016,0.13799819981070616,0.14100867457633018,0.14405803952108043,0.14714634124602707,0.15027361792112615,0.15343988693074967,0.15664513082298945,0.15988928171180478,0.16317220431670518,0.16649367785830402,0.16985337705913026,0.17325085252696484,0.1766855108221283,0.18015659453010519,0.18366316267624466,0.18720407182964036,0.19077795824842336,0.1943832214183898,0.19801800933100644,0.2016802058353917,0.2053674203818969,0.20907698045254025,0.21280592694605324,0.21655101275291455,0.22030870471892144,0.22407518915497665,0.22784638100639384,0.23161793674769252,0.23538527101919599,0.2391435769704085,0.24288785022280254,0.24661291631204513,0.2503134614175049,0.2539840661358722,0.25761924200661274,0.2612134704504465,0.2647612437388287,0.26825710757313453,0.27169570481754823,0.2750718199001107,0.27838042337249475,0.2816167161013413,0.28477617255274534,0.2878545826271273,0.29084809150439994,0.293753236969292,0.29656698370391815,0.2992867540591846,0.3019104548482644,0.30443649974392395,0.30686382690663994,0.3091919115217455,0.3114207729807982,0.31355097650434766,0.3155836290695574,0.31752036957597085,0.31936335325517984,0.32111523040433015,0.32277911959834343,0.3243585756103096,0.3258575523427286,0.3272803611430299,0.32863162494397474,0.3299162287321205,0.33113926690440393,0.332305988123187,0.33342173832278615,0.3344919025548461,0.3355218463851518,0.3365168575700159,0.3374820887457661,0.33842250185979883,0.339342815055968,0.3402474527007979,0.34114049920029266,0.34202565721035133,0.34290621078749145,0.3437849939614676,0.3446643651382636,0.3455461876618949,0.34643181677760676,0.3473220931486421,0.34821734298522344,0.34911738474907905,0.35002154230137555,0.3509286642677216,0.35183714930256615,0.352744976848348,0.3536497429035729,0.3545487002400148,0.35543880244372084,0.356316751098566,0.3571790453858023,0.35802203333909155,0.3588419639726791,0.3596350394909252,0.36039746679072576,0.36112550748429895,0.36181552569828684,0.3624640329455581,0.36306772941798715,0.36362354111084566,0.36412865226133523,0.3645805326639644,0.3649769595125706,0.36531603351135533,0.365596189093731,0.36581619868645,0.36597517105569216,0.3660725438698296,0.3661080707088113,0.3660818028408464,0.3659940661718384,0.3658454338502972,0.36563669507905316,0.3653688207437616,0.36504292651604836,0.36466023412537774,0.36422203151781996,0.36372963263148694,0.3631843375173991,0.3625873935210918,0.36193995821462005,0.3612430647314654,0.3604975901088251,0.3597042271838882,0.3588634605240833,0.35797554679718036,0.35704049990691933,0.35605808113501636,0.3550277944425234,0.35394888699411736,0.3528203548796534,0.35164095391967926,0.3504092153571916,0.3491234661580826,0.3477818535688044,0.34638237351300494,0.3449229023501968,0.3434012314699449,0.34181510415506705,0.34016225411764606,0.33844044509239896,0.3366475108632951,0.3347813951011694,0.3328401904021427,0.3308221759384409,0.3287258531641676,0.3265499790577983,0.32429359642989963,0.321956060877671,0.3195370640263483,0.317036652760124,0.3144552442108274,0.3117936363399432,0.3090530140175302,0.3062349505689543,0.30334140482607824,0.3003747137825907,0.29733758101258484,0.2942330610664925,0.29106454010834804,0.28783571310252276,0.28455055789603706,0.2812133065741001,0.2778284144913437,0.27440052739935666,0.27093444710254677,0.2674350960793056,0.2639074815041384,0.2603566590992463,0.25678769723139444,0.2532056416523061,0.24961548125877905,0.24602211522283401,0.2424303218130296,0.23884472919623193,0.2352697884751651,0.23170974918160134,0.2281686374085725,0.2246502367280279,0.2211580720034285,0.21769539617020534,0.21426518002127826,0.21087010500024028,0.2075125589716208,0.20419463490614964,0.2009181323893339,0.1976845618340893,0.19449515125280803,0.19135085542117247,0.18825236724536923,0.18520013112613998,0.1821943580974123,0.1792350425041503,0.17632197997350638,0.1734547864254778,0.17063291786401533,0.16785569068696005,0.16512230225328703,0.16243185144894406,0.15978335899806545,0.1571757872744832,0.15460805937928304,0.1520790772635066,0.14958773869100958,0.14713295285476483,0.14471365448046322,0.14232881627391553,0.13997745959329755,0.13765866325349013,0.1353715703973071,0.13311539339703468,0.13088941677901317,0.12869299819363375,0.1265255674826643,0.12438662392486458,0.12227573176891542,0.12019251418936386,0.11813664582610377,0.11610784409044685,0.11410585944067288,0.11213046484670385,0.11018144467687783,0.10825858324941214,0.10636165329679696,0.10449040459289899,0.10264455298984071,0.10082377010476722,0.099027673885436,0.09725582026832048,0.09550769612379323,0.0937827136602635,0.09208020643321876,0.09039942707640797,0.08873954684139729,0.08709965699894832,0.08547877212172042,0.08387583523328025,0.08228972477394979,0.08071926330026806,0.07916322780242105,0.07762036149349913,0.07608938689645703,0.07456902002969078,0.07305798547069345,0.07155503205968826,0.07005894899180098,0.06856858203746895,0.06708284962652382,0.06560075853182075,0.06412141889336999,0.06264405833354088,0.06116803492785307,0.059692848813850716,0.05821815224220305,0.056743757899062545,0.05526964535634871,0.05379596553646586,0.05232304310944583,0.05085137677303394,0.049381637399203,0.04791466406338649,0.046451458004794464,0.04499317459694043,0.0435411134364676,0.04209670668502824,0.04066150582295169,0.03923716699436321,0.03782543514102054,0.03642812713621387,0.035047114140476496,0.033684303407538585,0.03234161977192548,0.031020987048942152,0.029724309573638377,0.028453454097931954,0.027210232254622723,0.02599638378386883,0.02481356070215564,0.023663312576224414,0.022547073045227642,0.021466147713933147,0.02042170351849376,0.019414759644520416,0.018446180055311574,0.017516667666445832,0.016626760181854033,0.01577682758624076,0.014967071269576719,0.014197524741538237,0.013468055877410389,0.01277837062222854,0.012128018066899284,0.011516396798784077,0.01094276241976397,0.010406236117124157,0.009905814166668489,0.009440378243232786,0.009008706411128942,0.008609484665922188,0.008241318899210877,0.007902747159617972,0.007592252085898866,0.00730827339178838,0.007049220286832945,0.006813483722857986,0.006599448361794303,0.006405504167224614,0.006230057529113399,0.006071541838664279,0.0059284274380282595,0.005799230877595398,0.0056825234217785,0.005576938752488873,0.005481179827860712,0.005394024862162333,0.005314332401199868,0.005241045475836172,0.005173194824481089,0.005109901183524242,0.005050376652643982,0.004993925149699844,0.004939941977463283,0.004887912531722363,0.004837410187268283,0.004788093404890592,0.004739702108727703,0.0046920533890922435,0.004645036591168862,0.004598607854718329,0.004552784174069079,0.004507637051192474,0.004463285817500089,0.0044198907021342085,0.004377645725915628,0.004336771500741654,0.0042975080140743435,0.0042601074772154685,0.004224827314329878,0.00419192336666054,0.004161643383094797,0.004134220864218363,0.004109869322268386,0.0040887770140140755,0.004071102197607812,0.004056968957923657,0.004046463637903768,0.004039631906044019,0.004036476482451189,0.0040369555379835475,0.004040981772937347,0.0040484221736586164,0.004059098437439587,0.004072788048199878,0.004089225977850084,0.004108106980984648,0.004129088443742308,0.004151793741391996,0.004175816053530387,0.004200722580786437,0.004226059102683024,0.004251354812860967,0.004276127365270455,0.004299888063212739,0.0043221471222915095,0.0043424189384179,0.00436022729300084,0.004375110429328573,0.0043866259368775,0.004394355383828201,0.004397908642370664,0.004396927856375181,0.004391091006614991,0.004380115034865655,0.00436375849478003],\"yaxis\":\"y\",\"type\":\"scatter\"},{\"legendgroup\":\"x2\",\"marker\":{\"color\":\"rgb(255, 127, 14)\"},\"mode\":\"lines\",\"name\":\"x2\",\"showlegend\":false,\"x\":[-2.6968866429415717,-2.6862281055260135,-2.675569568110456,-2.6649110306948978,-2.65425249327934,-2.643593955863782,-2.6329354184482243,-2.622276881032666,-2.611618343617108,-2.6009598062015504,-2.5903012687859923,-2.5796427313704346,-2.5689841939548765,-2.5583256565393184,-2.5476671191237608,-2.5370085817082026,-2.526350044292645,-2.515691506877087,-2.505032969461529,-2.494374432045971,-2.483715894630413,-2.4730573572148553,-2.462398819799297,-2.4517402823837395,-2.4410817449681814,-2.4304232075526233,-2.4197646701370656,-2.4091061327215075,-2.39844759530595,-2.3877890578903918,-2.377130520474834,-2.366471983059276,-2.355813445643718,-2.34515490822816,-2.334496370812602,-2.3238378333970444,-2.3131792959814863,-2.3025207585659286,-2.2918622211503705,-2.2812036837348124,-2.2705451463192547,-2.2598866089036966,-2.249228071488139,-2.238569534072581,-2.227910996657023,-2.217252459241465,-2.206593921825907,-2.1959353844103493,-2.185276846994791,-2.174618309579233,-2.1639597721636754,-2.1533012347481173,-2.1426426973325596,-2.1319841599170015,-2.121325622501444,-2.1106670850858857,-2.1000085476703276,-2.08935001025477,-2.0786914728392123,-2.068032935423654,-2.057374398008096,-2.0467158605925384,-2.0360573231769803,-2.025398785761422,-2.0147402483458645,-2.0040817109303064,-1.9934231735147487,-1.9827646360991906,-1.9721060986836327,-1.9614475612680748,-1.9507890238525167,-1.940130486436959,-1.929471949021401,-1.918813411605843,-1.9081548741902852,-1.8974963367747273,-1.8868377993591694,-1.8761792619436115,-1.8655207245280536,-1.8548621871124955,-1.8442036496969378,-1.8335451122813797,-1.8228865748658218,-1.812228037450264,-1.8015695000347058,-1.7909109626191482,-1.78025242520359,-1.7695938877880322,-1.7589353503724743,-1.7482768129569162,-1.7376182755413585,-1.7269597381258004,-1.7163012007102425,-1.7056426632946846,-1.6949841258791267,-1.6843255884635688,-1.6736670510480107,-1.6630085136324528,-1.652349976216895,-1.641691438801337,-1.6310329013857792,-1.620374363970221,-1.6097158265546632,-1.5990572891391053,-1.5883987517235474,-1.5777402143079895,-1.5670816768924316,-1.5564231394768737,-1.5457646020613158,-1.535106064645758,-1.5244475272302,-1.5137889898146422,-1.503130452399084,-1.4924719149835262,-1.4818133775679683,-1.4711548401524104,-1.4604963027368525,-1.4498377653212946,-1.4391792279057365,-1.4285206904901786,-1.4178621530746207,-1.4072036156590628,-1.396545078243505,-1.3858865408279468,-1.375228003412389,-1.364569465996831,-1.3539109285812732,-1.3432523911657153,-1.3325938537501574,-1.3219353163345993,-1.3112767789190414,-1.3006182415034835,-1.2899597040879256,-1.2793011666723677,-1.2686426292568096,-1.2579840918412517,-1.2473255544256938,-1.236667017010136,-1.226008479594578,-1.21534994217902,-1.204691404763462,-1.1940328673479041,-1.1833743299323463,-1.1727157925167884,-1.1620572551012305,-1.1513987176856724,-1.1407401802701145,-1.1300816428545566,-1.1194231054389987,-1.1087645680234408,-1.098106030607883,-1.087447493192325,-1.0767889557767671,-1.0661304183612093,-1.0554718809456514,-1.0448133435300935,-1.0341548061145354,-1.0234962686989775,-1.0128377312834196,-1.0021791938678617,-0.9915206564523038,-0.9808621190367457,-0.9702035816211878,-0.9595450442056299,-0.948886506790072,-0.9382279693745141,-0.9275694319589562,-0.9169108945433981,-0.9062523571278402,-0.8955938197122824,-0.8849352822967245,-0.8742767448811666,-0.8636182074656085,-0.8529596700500506,-0.8423011326344927,-0.8316425952189348,-0.8209840578033769,-0.810325520387819,-0.7996669829722609,-0.789008445556703,-0.7783499081411451,-0.7676913707255872,-0.7570328333100294,-0.7463742958944712,-0.7357157584789134,-0.7250572210633555,-0.7143986836477976,-0.7037401462322397,-0.6930816088166818,-0.6824230714011237,-0.671764533985566,-0.6611059965700079,-0.6504474591544498,-0.6397889217388921,-0.629130384323334,-0.6184718469077763,-0.6078133094922182,-0.5971547720766601,-0.5864962346611025,-0.5758376972455443,-0.5651791598299867,-0.5545206224144286,-0.5438620849988705,-0.5332035475833128,-0.5225450101677547,-0.511886472752197,-0.5012279353366389,-0.49056939792108123,-0.4799108605055231,-0.469252323089965,-0.45859378567440734,-0.44793524825884923,-0.43727671084329156,-0.42661817342773345,-0.4159596360121758,-0.4053010985966181,-0.39464256118106,-0.38398402376550234,-0.3733254863499442,-0.3626669489343861,-0.35200841151882845,-0.34134987410327033,-0.33069133668771267,-0.32003279927215456,-0.30937426185659644,-0.2987157244410388,-0.28805718702548067,-0.277398649609923,-0.2667401121943649,-0.2560815747788072,-0.2454230373632491,-0.234764499947691,-0.22410596253213333,-0.21344742511657522,-0.20278888770101755,-0.19213035028545944,-0.18147181286990133,-0.17081327545434366,-0.16015473803878555,-0.14949620062322788,-0.13883766320766977,-0.12817912579211166,-0.11752058837655399,-0.10686205096099588,-0.09620351354543821,-0.0855449761298801,-0.07488643871432199,-0.06422790129876432,-0.05356936388320621,-0.042910826467648544,-0.03225228905209043,-0.02159375163653232,-0.010935214220974654,-0.0002766768054165425,0.010381860610141125,0.021040398025699236,0.031698935441256904,0.042357472856815015,0.053016010272373126,0.0636745476879308,0.0743330851034889,0.08499162251904657,0.09565015993460468,0.1063086973501628,0.11696723476572046,0.12762577218127857,0.13828430959683624,0.14894284701239435,0.15960138442795246,0.17025992184351013,0.18091845925906824,0.1915769966746259,0.20223553409018402,0.21289407150574213,0.2235526089212998,0.2342111463368579,0.24486968375241558,0.2555282211679737,0.2661867585835318,0.27684529599908947,0.2875038334146476,0.29816237083020525,0.30882090824576336,0.319479445661321,0.33013798307687914,0.34079652049243725,0.3514550579079949,0.36211359532355303,0.3727721327391107,0.3834306701546688,0.3940892075702269,0.4047477449857846,0.4154062824013427,0.42606481981690036,0.4367233572324585,0.4473818946480166,0.45804043206357425,0.46869896947913237,0.47935750689469003,0.4900160443102477,0.5006745817258058,0.5113331191413635,0.5219916565569216,0.5326501939724793,0.5433087313880374,0.553967268803595,0.5646258062191531,0.5752843436347113,0.5859428810502689,0.596601418465827,0.6072599558813847,0.6179184932969428,0.6285770307125009,0.6392355681280586,0.6498941055436167,0.6605526429591744,0.6712111803747325,0.6818697177902906,0.6925282552058483,0.7031867926214064,0.713845330036964,0.7245038674525222,0.7351624048680803,0.7458209422836379,0.756479479699196,0.7671380171147537,0.7777965545303118,0.7884550919458695,0.7991136293614276,0.8097721667769857,0.8204307041925434,0.8310892416081015,0.8417477790236592,0.8524063164392173,0.8630648538547754,0.873723391270333,0.8843819286858912,0.8950404661014488,0.9056990035170069,0.916357540932565,0.9270160783481227,0.9376746157636808,0.9483331531792385,0.9589916905947966,0.9696502280103547,0.9803087654259124,0.9909673028414705,1.0016258402570282,1.0122843776725863,1.0229429150881444,1.033601452503702,1.0442599899192602,1.0549185273348178,1.065577064750376,1.0762356021659336,1.0868941395814917,1.0975526769970498,1.1082112144126075,1.1188697518281656,1.1295282892437233,1.1401868266592814,1.1508453640748395,1.1615039014903972,1.1721624389059553,1.182820976321513,1.193479513737071,1.2041380511526292,1.2147965885681868,1.225455125983745,1.2361136633993026,1.2467722008148607,1.2574307382304188,1.2680892756459765,1.2787478130615346,1.2894063504770923,1.3000648878926504,1.310723425308208,1.3213819627237666,1.3320405001393243,1.342699037554882,1.3533575749704396,1.3640161123859982,1.3746746498015558,1.3853331872171135,1.395991724632672,1.4066502620482288,1.4173087994637874,1.427967336879345,1.4386258742949036,1.4492844117104613,1.459942949126019,1.4706014865415766,1.4812600239571352,1.4919185613726929,1.5025770987882514,1.5132356362038082,1.5238941736193667,1.5345527110349244,1.545211248450483,1.5558697858660406,1.5665283232815983,1.577186860697156,1.5878453981127145,1.5985039355282722,1.6091624729438307,1.6198210103593875,1.630479547774946,1.6411380851905037,1.6517966226060623,1.66245516002162,1.6731136974371776,1.6837722348527353,1.6944307722682939,1.7050893096838515,1.7157478470994092,1.7264063845149669,1.7370649219305254,1.747723459346083,1.7583819967616416,1.7690405341771984,1.779699071592757,1.7903576090083146,1.8010161464238732,1.8116746838394309,1.8223332212549885,1.8329917586705462,1.8436502960861048,1.8543088335016624,1.86496737091722,1.8756259083327778,1.8862844457483354,1.896942983163894,1.9076015205794516,1.9182600579950102,1.928918595410567,1.9395771328261255,1.9502356702416832,1.9608942076572418,1.9715527450727994,1.982211282488357,1.9928698199039148,2.0035283573194733,2.014186894735031,2.0248454321505895,2.0355039695661463,2.046162506981705,2.0568210443972625,2.067479581812821,2.0781381192283788,2.0887966566439364,2.099455194059494,2.1101137314750527,2.1207722688906103,2.131430806306169,2.1420893437217257,2.152747881137284,2.163406418552842,2.1740649559684004,2.184723493383957,2.1953820307995158,2.2060405682150734,2.216699105630632,2.2273576430461897,2.2380161804617473,2.248674717877305,2.2593332552928636,2.269991792708421,2.2806503301239798,2.2913088675395366,2.301967404955095,2.3126259423706528,2.3232844797862113,2.333943017201769,2.3446015546173267,2.3552600920328843,2.365918629448443,2.3765771668640006,2.387235704279559,2.397894241695116,2.4085527791106744,2.419211316526232,2.4298698539417907,2.4405283913573483,2.451186928772906,2.4618454661884637,2.4725040036040222,2.48316254101958,2.4938210784351384,2.5044796158506952,2.515138153266254,2.5257966906818115,2.53645522809737,2.5471137655129277,2.5577723029284853,2.568430840344043,2.5790893777596016,2.5897479151751592,2.600406452590718,2.6110649900062746,2.621723527421833],\"xaxis\":\"x\",\"y\":[0.015234020949237623,0.015574550134111135,0.01591701312723625,0.01626164433035144,0.016608714202408233,0.016958529337672376,0.017311432347560107,0.017667801545062953,0.01802805043199916,0.018392626990699764,0.01876201278308187,0.01913672186136415,0.019517299495929407,0.019904320727024596,0.020298388748097227,0.020700133129593037,0.021110207892969135,0.02152928944551001,0.02195807438725722,0.02239727720198147,0.022847627844629133,0.023309869238068458,0.02378475469224046,0.024273045258991315,0.024775507035929345,0.025292908432615634,0.02582601741226738,0.026375598721940754,0.026942411123864033,0.027527204640231284,0.02813071782334243,0.028753675062505205,0.029396783938600506,0.03006073263667194,0.030746187426338986,0.03145379021925914,0.032184156212292744,0.032937871624454045,0.03371549153517934,0.03451753783090643,0.035344497266449004,0.0361968196471663,0.0370749161374748,0.037979157700827056,0.03890987367589044,0.039867350493299064,0.04085183053701374,0.04186351115401606,0.04290254381576562,0.04396903343456916,0.045063037837734056,0.046184567402103194,0.04733358485128196,0.04851000521757114,0.049713695970296075,0.05094447731187406,0.052202122642572776,0.053486359194490705,0.05479686883481407,0.056133289037886135,0.05749521402505052,0.05888219607060728,0.060293746971539434,0.06172933967794184,0.0631884100803099,0.06467035894902526,0.06617455402052529,0.06770033222375875,0.06924700203962939,0.07081384598522104,0.07240012321368255,0.07400507221976285,0.0756279136401102,0.07726785313662282,0.07892408435035567,0.080595791912775,0.08228215450050944,0.08398234791919969,0.0856955482015906,0.08742093470467031,0.0891576931904272,0.09090501887469345,0.09266211942856409,0.09442821791703498,0.09620255565978537,0.09798439499944946,0.09977302196326433,0.10156774880464788,0.10336791641204894,0.10517289657329842,0.1069820940846855,0.10879494869505531,0.11061093687637659,0.11242957341343032,0.11425041280652669,0.11607305048243112,0.11789712380997268,0.11972231291809082,0.1215483413153475,0.12337497631115239,0.12520202924013826,0.1270293554922344,0.12885685435202981,0.13068446865197525,0.13251218424483216,0.1343400293015374,0.1361680734413105,0.13799642670136467,0.1398252383540268,0.14165469557938698,0.1434850220018165,0.14531647609881146,0.14714934949062988,0.14898396511912984,0.15082067532406088,0.15265985982485167,0.15450192361566412,0.15634729478116685,0.15819642224014174,0.16004977342366472,0.16190783189424096,0.1637710949119059,0.16564007095296338,0.16751527718671771,0.16939723691528275,0.17128647698132574,0.17318352514843718,0.17508890745870712,0.1770031455720556,0.17892675409188732,0.18086023788175024,0.18280408937783924,0.1847587859024359,0.18672478698366882,0.1887025316873564,0.19069243596709448,0.19269489003922896,0.19471025578984308,0.19673886422142028,0.19878101294738548,0.2008369637432782,0.2029069401638549,0.20499112523594754,0.20708965923740447,0.20920263757290383,0.21133010875783803,0.21347207252182573,0.21562847804368007,0.2177992223298767,0.21998414874866923,0.22218304573202968,0.22439564565749986,0.22662162392186788,0.22886059821826332,0.23111212802787431,0.23337571433693582,0.23565079958900884,0.23793676788178159,0.24023294541675116,0.2425386012091316,0.24485294806421487,0.2471751438251818,0.24950429289602494,0.2518394480418074,0.2541796124669387,0.25652374217054424,0.2588707485762931,0.26121950143227957,0.26356883197471986,0.26591753634735016,0.2682643792664828,0.27060809791972984,0.27294740608445134,0.2752809984500122,0.27760755512600876,0.27992574631668776,0.2822342371399508,0.2845316925675112,0.28681678246107956,0.2890881866778299,0.29134460021692055,0.29358473837747545,0.2958073418972597,0.2980111820402505,0.3001950656004873,0.30235783978898073,0.30449839697006575,0.30661567921346333,0.30870868262842,0.31077646144669485,0.3128181318218304,0.3148328753131093,0.316819942023847,0.31877865336522077,0.32070840441869736,0.3226086658722407,0.3244789855079404,0.32631898922137664,0.32812838155603485,0.32990694573929,0.3316545432099184,0.33337111263075725,0.33505666838394116,0.33671129855011844,0.3383351623771235,0.3399284872477442,0.34149156516039725,0.34302474874073413,0.3445284468063171,0.34600311951058216,0.3474492730962108,0.3488674542917913,0.3502582443891736,0.35162225304219824,0.3529601118304369,0.35427246763424375,0.3555599758696356,0.3568232936334102,0.35806307281031946,0.3592799531950675,0.36047455568241266,0.3616474755786424,0.3627992760871776,0.363930482020075,0.3650415737856777,0.3661329817006798,0.3672050806723757,0.36825818529394655,0.3692925453922667,0.3703083420639255,0.3713056842310377,0.3722846057439497,0.37324506305319344,0.3741869334680587,0.37511001401401267,0.37601402089588004,0.3768985895683543,0.3777632754100344,0.3786075549918462,0.3794308279254922,0.38023241927248813,0.38101158248950945,0.38176750288116906,0.38249930152708456,0.38320603964618083,0.38388672335767204,0.3845403087951027,0.3851657075272324,0.38576179223746754,0.38632740261195697,0.3868613513854325,0.3873624304933669,0.38782941727906806,0.38826108070487947,0.3886561875177581,0.38901350832109,0.38933182350666506,0.3896099290032509,0.3898466418011313,0.3900408052152644,0.39019129385333867,0.39029701825891067,0.3903569292039135,0.39037002160915096,0.39033533807578713,0.3902519720153287,0.39011907037009536,0.3899358359206036,0.38970152918063367,0.3894154698849515,0.38907703807863914,0.38868567482074207,0.3882408825184031,0.3877422249108123,0.38718932672507106,0.3865818730285141,0.38591960830404337,0.3852023352766211,0.3844299135202998,0.3836022578759005,0.38271933670982,0.3817811700444024,0.3807878275898407,0.3797394267067799,0.37863613032761495,0.3774781448629969,0.3762657181183023,0.37499913724280354,0.3736787267320684,0.37230484650173346,0.3708778900483008,0.36939828271001696,0.3678664800383029,0.36628296628758555,0.36464825302884074,0.36296287788971404,0.36122740342172655,0.35944241609295413,0.3576085254025554,0.3557263631118021,0.3537965825847404,0.3518198582303572,0.34979688503714607,0.3477283781902477,0.3456150727609026,0.3434577234577932,0.3412571044299329,0.3390140091111087,0.33672925009645277,0.33440365904246705,0.3320380865828093,0.3296334022532028,0.3271904944200691,0.3247102702087618,0.32219365542859774,0.31964159449324536,0.3170550503363093,0.31443500432321314,0.31178245616161054,0.30909842381356795,0.3063839434136065,0.3036400691973556,0.30086787344600185,0.29806844645195724,0.29524289651112734,0.2923923499469049,0.28951795117047674,0.2866208627812647,0.28370226571029733,0.28076335940807284,0.2778053620770081,0.2748295109469306,0.2718370625902682,0.2688292932716593,0.2658074993246947,0.26277299754641686,0.2597271255981312,0.25667124239902767,0.2536067284971301,0.2505349864002365,0.24745744084781798,0.24437553900334683,0.24129075054528304,0.23820456763396994,0.2351185047310469,0.23203409824766122,0.22895290599782547,0.2258765064337011,0.22280649764042615,0.21974449606934912,0.21669213499018358,0.2136510626446356,0.21062294008651153,0.20760943869610252,0.20461223735980566,0.20163301930940067,0.19867346861914653,0.19573526636283609,0.1928200864371164,0.18992959106169166,0.18706542597141088,0.1842292153196708,0.18142255631695575,0.178647013632645,0.17590411359238245,0.1731953382072583,0.17052211907475903,0.16788583119482114,0.16528778674735098,0.16272922888017982,0.16021132555857953,0.15773516352912503,0.1553017424518327,0.15291196925509623,0.1505666527679568,0.14826649868369576,0.14601210490759106,0.14380395733994802,0.14164242614322736,0.13952776253921376,0.13746009617879093,0.135439433122976,0.13346565446949554,0.13153851565437652,0.12965764645284544,0.12782255169830162,0.12603261273232538,0.12428708959267869,0.12258512394005251,0.12092574271806512,0.11930786253468738,0.11773029474700385,0.11619175122503908,0.11469085076435297,0.11322612611130768,0.11179603155938977,0.11039895106977522,0.10903320686453226,0.10769706843647565,0.10638876191580786,0.10510647973029572,0.10384839049290571,0.10261264904856802,0.10139740661007264,0.10020082091205575,0.09902106631159822,0.09785634376413901,0.09670489060422131,0.09556499006197812,0.09443498044827678,0.09331326394399672,0.09219831493202803,0.09108868781418702,0.08998302425934285,0.08888005983356267,0.0877786299680031,0.08667767522552113,0.08557624583252676,0.08447350544838567,0.0833687341506495,0.08226133062049851,0.08115081351896443,0.08003682205070375,0.07891911571827101,0.07779757327593027,0.0766721908979987,0.07554307958249146,0.07441046181637537,0.0732746675340062,0.07213612940528015,0.07099537749462445,0.06985303333617279,0.06870980347426861,0.06756647252180191,0.06642389579179149,0.0652829915600448,0.06414473301867656,0.06301013998170177,0.06188027040487843,0.06075621178241796,0.05963907248315063,0.05852997308821153,0.057430037791330914,0.056340385921374414,0.0552621236449211,0.05419633590439019,0.05314407864458784,0.052106371377535786,0.051084190132132,0.05007846083158244,0.049090053137683096,0.04811977479695513,0.04716836651937416,0.046236497416028706,0.0453247610175331,0.04443367189042638,0.043563662864177496,0.04271508287678423,0.04188819544237511,0.04108317773969843,0.04030012031596672,0.039539027396232496,0.038799817784345256,0.038082326337593696,0.03738630599340567,0.036711430322978966,0.03605729658347183,0.03542342923740796,0.03480928390526812,0.03421425171485328,0.03363766400893669,0.03307879737096631,0.03253687892715837,0.032011091882223126,0.03150058124520499,0.03100445970148027,0.030521813586851104,0.03005170891988557,0.029593197449180868,0.029145322673053736,0.028707125790284494,0.028277651541935293,0.027855953905925462,0.027441101607948874,0.027032183414449715,0.02662831317570956,0.02622863458962116,0.025832325659409645,0.025438602821387456,0.025046724721771437,0.02465599562462563,0.024265768436093203,0.02387544733322788,0.02348448998889583,0.02309240938737584,0.022698775228410406,0.022303214920529845,0.02190541416746511,0.021505117154358572,0.021102126343253338],\"yaxis\":\"y\",\"type\":\"scatter\"},{\"legendgroup\":\"x3\",\"marker\":{\"color\":\"rgb(44, 160, 44)\"},\"mode\":\"lines\",\"name\":\"x3\",\"showlegend\":false,\"x\":[-0.8485426206300755,-0.837791670537068,-0.8270407204440606,-0.8162897703510533,-0.8055388202580459,-0.7947878701650385,-0.7840369200720311,-0.7732859699790237,-0.7625350198860164,-0.7517840697930089,-0.7410331197000015,-0.7302821696069941,-0.7195312195139867,-0.7087802694209793,-0.698029319327972,-0.6872783692349645,-0.6765274191419571,-0.6657764690489498,-0.6550255189559424,-0.644274568862935,-0.6335236187699276,-0.6227726686769202,-0.6120217185839127,-0.6012707684909054,-0.5905198183978979,-0.5797688683048906,-0.5690179182118832,-0.5582669681188759,-0.5475160180258685,-0.536765067932861,-0.5260141178398536,-0.5152631677468462,-0.5045122176538388,-0.49376126756083144,-0.4830103174678241,-0.47225936737481666,-0.4615084172818093,-0.4507574671888019,-0.4400065170957945,-0.4292555670027871,-0.41850461690977975,-0.40775366681677233,-0.3970027167237649,-0.38625176663075755,-0.37550081653775014,-0.3647498664447428,-0.35399891635173536,-0.343247966258728,-0.33249701616572047,-0.32174606607271317,-0.31099511597970575,-0.30024416588669833,-0.2894932157936909,-0.2787422657006836,-0.2679913156076762,-0.2572403655146688,-0.24648941542166136,-0.23573846532865395,-0.22498751523564664,-0.21423656514263922,-0.2034856150496318,-0.1927346649566244,-0.18198371486361709,-0.17123276477060967,-0.16048181467760225,-0.14973086458459484,-0.13897991449158742,-0.12822896439858011,-0.1174780143055727,-0.10672706421256528,-0.09597611411955786,-0.08522516402655056,-0.07447421393354314,-0.06372326384053573,-0.05297231374752831,-0.042221363654520894,-0.03147041356151359,-0.020719463468506172,-0.009968513375498755,0.0007824367175086611,0.011533386810515966,0.022284336903523383,0.0330352869965308,0.043786237089538216,0.05453718718254563,0.06528813727555294,0.07603908736856035,0.08679003746156777,0.09754098755457519,0.1082919376475826,0.11904288774058991,0.12979383783359733,0.14054478792660474,0.15129573801961216,0.16204668811261946,0.17279763820562688,0.18354858829863452,0.1942995383916417,0.20505048848464913,0.21580143857765655,0.22655238867066396,0.23730333876367116,0.2480542888566788,0.258805238949686,0.26955618904269363,0.2803071391357008,0.29105808922870824,0.30180903932171566,0.31255998941472307,0.3233109395077305,0.3340618896007379,0.3448128396937451,0.35556378978675274,0.36631473987975993,0.37706568997276757,0.38781664006577476,0.3985675901587822,0.4093185402517896,0.420069490344797,0.4308204404378042,0.44157139053081185,0.45232234062381904,0.4630732907168267,0.4738242408098339,0.4845751909028413,0.4953261409958487,0.5060770910888561,0.5168280411818635,0.527578991274871,0.5383299413678782,0.5490808914608858,0.559831841553893,0.5705827916469006,0.5813337417399078,0.5920846918329152,0.6028356419259226,0.6135865920189301,0.6243375421119375,0.6350884922049449,0.6458394422979521,0.6565903923909597,0.6673413424839669,0.6780922925769743,0.6888432426699818,0.6995941927629892,0.7103451428559966,0.721096092949004,0.7318470430420112,0.7425979931350188,0.753348943228026,0.7640998933210337,0.7748508434140409,0.7856017935070483,0.7963527436000557,0.8071036936930631,0.8178546437860705,0.828605593879078,0.8393565439720851,0.8501074940650928,0.8608584441581,0.8716093942511074,0.8823603443441148,0.8931112944371222,0.9038622445301296,0.9146131946231371,0.9253641447161443,0.9361150948091519,0.9468660449021591,0.9576169949951667,0.9683679450881739,0.9791188951811813,0.9898698452741888,1.0006207953671962,1.0113717454602036,1.022122695553211,1.0328736456462182,1.0436245957392258,1.054375545832233,1.0651264959252407,1.0758774460182479,1.0866283961112553,1.0973793462042627,1.1081302962972701,1.1188812463902773,1.129632196483285,1.1403831465762921,1.1511340966692998,1.1618850467623072,1.1726359968553144,1.183386946948322,1.1941378970413292,1.2048888471343364,1.2156397972273445,1.2263907473203517,1.2371416974133589,1.247892647506366,1.2586435975993737,1.269394547692381,1.2801454977853886,1.2908964478783957,1.3016473979714034,1.3123983480644106,1.3231492981574178,1.3339002482504254,1.344651198343433,1.3554021484364402,1.3661530985294474,1.3769040486224546,1.3876549987154627,1.39840594880847,1.409156898901477,1.4199078489944843,1.430658799087492,1.4414097491804996,1.4521606992735068,1.462911649366514,1.4736625994595216,1.4844135495525288,1.4951644996455364,1.5059154497385436,1.5166663998315513,1.5274173499245585,1.5381683000175657,1.5489192501105733,1.559670200203581,1.5704211502965881,1.5811721003895953,1.5919230504826025,1.6026740005756106,1.6134249506686178,1.624175900761625,1.6349268508546322,1.6456778009476398,1.6564287510406475,1.6671797011336547,1.6779306512266619,1.6886816013196695,1.6994325514126767,1.7101835015056839,1.7209344515986915,1.7316854016916992,1.7424363517847063,1.7531873018777135,1.7639382519707207,1.7746892020637288,1.785440152156736,1.7961911022497432,1.8069420523427504,1.817693002435758,1.8284439525287657,1.8391949026217729,1.84994585271478,1.8606968028077877,1.871447752900795,1.8821987029938025,1.8929496530868097,1.9037006031798174,1.9144515532728246,1.9252025033658318,1.9359534534588394,1.946704403551847,1.9574553536448542,1.9682063037378614,1.9789572538308686,1.9897082039238767,2.000459154016884,2.011210104109891,2.0219610542028983,2.032712004295906,2.0434629543889136,2.0542139044819208,2.064964854574928,2.0757158046679356,2.086466754760943,2.0972177048539504,2.1079686549469576,2.1187196050399653,2.1294705551329725,2.1402215052259796,2.150972455318987,2.161723405411995,2.172474355505002,2.1832253055980093,2.193976255691017,2.204727205784024,2.215478155877032,2.226229105970039,2.2369800560630466,2.247731006156054,2.258481956249061,2.2692329063420686,2.2799838564350763,2.2907348065280835,2.3014857566210907,2.312236706714098,2.322987656807106,2.333738606900113,2.3444895569931203,2.3552405070861275,2.365991457179135,2.376742407272143,2.38749335736515,2.398244307458157,2.408995257551165,2.419746207644172,2.4304971577371797,2.441248107830187,2.4519990579231945,2.4627500080162017,2.473500958109209,2.4842519082022165,2.495002858295224,2.5057538083882314,2.5165047584812386,2.5272557085742458,2.538006658667254,2.548757608760261,2.5595085588532682,2.5702595089462754,2.581010459039283,2.5917614091322903,2.602512359225298,2.613263309318305,2.6240142594113127,2.63476520950432,2.645516159597327,2.6562671096903347,2.6670180597833424,2.6777690098763496,2.6885199599693568,2.699270910062364,2.710021860155372,2.7207728102483792,2.7315237603413864,2.7422747104343936,2.7530256605274013,2.763776610620409,2.774527560713416,2.7852785108064233,2.796029460899431,2.806780410992438,2.8175313610854458,2.828282311178453,2.8390332612714606,2.849784211364468,2.860535161457475,2.8712861115504826,2.8820370616434903,2.8927880117364975,2.9035389618295047,2.914289911922512,2.92504086201552,2.935791812108527,2.9465427622015343,2.9572937122945415,2.968044662387549,2.978795612480557,2.989546562573564,3.000297512666571,3.011048462759579,3.021799412852586,3.0325503629455937,3.043301313038601,3.0540522631316085,3.0648032132246157,3.075554163317623,3.08630511341063,3.097056063503638,3.1078070135966454,3.1185579636896525,3.1293089137826597,3.1400598638756674,3.150810813968675,3.161561764061682,3.17231271415469,3.1830636642476966,3.1938146143407042,3.204565564433712,3.2153165145267195,3.2260674646197263,3.236818414712734,3.2475693648057415,3.2583203148987483,3.269071264991756,3.2798222150847645,3.290573165177771,3.301324115270779,3.3120750653637856,3.3228260154567932,3.333576965549801,3.3443279156428076,3.3550788657358153,3.365829815828823,3.3765807659218297,3.3873317160148373,3.398082666107845,3.4088336162008526,3.41958456629386,3.430335516386867,3.4410864664798746,3.4518374165728822,3.462588366665889,3.4733393167588966,3.4840902668519034,3.494841216944911,3.5055921670379195,3.5163431171309263,3.527094067223934,3.5378450173169416,3.5485959674099483,3.559346917502956,3.5700978675959627,3.5808488176889703,3.591599767781978,3.6023507178749847,3.6131016679679933,3.623852618061001,3.6346035681540076,3.6453545182470153,3.656105468340022,3.6668564184330297,3.6776073685260373,3.688358318619044,3.6991092687120517,3.7098602188050593,3.720611168898067,3.7313621189910746,3.7421130690840814,3.752864019177089,3.7636149692700966,3.7743659193631034,3.785116869456111,3.7958678195491187,3.8066187696421254,3.817369719735133,3.82812066982814,3.8388716199211483,3.849622570014156,3.8603735201071627,3.8711244702001704,3.881875420293178,3.8926263703861848,3.9033773204791924,3.914128270572199,3.924879220665207,3.9356301707582144,3.946381120851222,3.9571320709442297,3.9678830210372373,3.978633971130244,3.9893849212232517,4.0001358713162585,4.010886821409266,4.021637771502274,4.0323887215952805,4.043139671688288,4.053890621781297,4.064641571874303,4.075392521967311,4.086143472060318,4.096894422153325,4.107645372246333,4.11839632233934,4.1291472724323475,4.139898222525355,4.150649172618362,4.16140012271137,4.172151072804378,4.182902022897385,4.193652972990392,4.204403923083399,4.215154873176407,4.225905823269414,4.236656773362421,4.247407723455429,4.2581586735484365,4.268909623641443,4.279660573734452,4.2904115238274585,4.301162473920466,4.311913424013474,4.3226643741064805,4.333415324199488,4.344166274292496,4.3549172243855025,4.36566817447851,4.376419124571517,4.3871700746645255,4.397921024757533,4.40867197485054,4.4194229249435475,4.430173875036555,4.440924825129562,4.4516757752225695,4.462426725315576,4.473177675408584,4.4839286255015915,4.494679575594599,4.505430525687607,4.5161814757806145],\"xaxis\":\"x\",\"y\":[0.006728162615712103,0.006869594418593063,0.007011925520757925,0.007155303739906765,0.007299890408939745,0.007445859747301003,0.007593398149007001,0.007742703394495251,0.007893983794264009,0.008047457273030334,0.008203350403805305,0.008361897401863454,0.008523339089062448,0.008687921839343957,0.008855896516513124,0.009027517415550398,0.009203041218753242,0.009382725977937314,0.00956683013374714,0.009755611582837609,0.009949326803292887,0.01014823004815212,0.0103525726163167,0.01056260220942729,0.01077856238252624,0.011000692095469259,0.011229225371126025,0.011464391065420602,0.011706412753215652,0.011955508732948792,0.012211892151790955,0.012475771251924209,0.012747349737338199,0.013026827259326183,0.013314400017633584,0.013610261472979345,0.013914603165442348,0.01422761563198818,0.014549489415213826,0.014880416154216255,0.015220589747353758,0.015570207575573567,0.01592947177393355,0.016298590537959012,0.016677779450554344,0.017067262814344192,0.017467274973557947,0.01787806160890386,0.01829988098831569,0.018733005156003624,0.019177721041914106,0.019634331473508126,0.020103156071716283,0.020584532013029275,0.02107881463994547,0.02158637790242993,0.022107614613650538,0.022642936504052972,0.02319277405882367,0.023757576124971574,0.02433780927563837,0.024933956920824604,0.02554651815549173,0.026176006337966046,0.026822947393721288,0.02748787784194578,0.028171342544791127,0.02887389218184315,0.029596080455130673,0.03033846103287321,0.03110158424314435,0.031885993531664276,0.03269222170100473,0.03352078695156354,0.03437218874770808,0.03524690353546525,0.036145380341012015,0.03706803628196079,0.03801525202599751,0.03898736723378421,0.03998467602514123,0.041007422509345845,0.04205579642188752,0.043129928911175494,0.04422988851947334,0.0453556774027108,0.046507227833779675,0.04768439903343121,0.04888697437195811,0.05011465898344411,0.051367077832509704,0.05264377427116552,0.053944209120625995,0.05526776030973968,0.05661372309809198,0.0579813109078441,0.05936965678403433,0.06077781549841004,0.062204766306930497,0.06364941636592235,0.06511060480653456,0.06658710746167636,0.06807764223409005,0.06958087508865829,0.0710954266465419,0.0726198793533299,0.07415278518813506,0.0756926738755149,0.07723806155732071,0.07878745987709745,0.08033938542553978,0.08189236949178609,0.08344496806203934,0.08499577200417267,0.0865434173746336,0.08808659578211536,0.08962406474114176,0.0911546579478983,0.09267729541035846,0.09419099336496871,0.0956948739128804,0.09718817430990083,0.09867025584599093,0.10014061225219571,0.1015988775753579,0.10304483346376854,0.10447841581003266,0.10589972070082097,0.10730900962680166,0.10870671390986336,0.11009343830869116,0.11146996376783891,0.11283724927957241,0.1141964328319411,0.11554883142072636,0.11689594010708006,0.11823943010680907,0.11958114590133571,0.12092310136438769,0.12226747490241774,0.12361660361063571,0.1249729764503572,0.126339226457135,0.1277181219928674,0.12911255705878474,0.13052554068991065,0.13196018545532787,0.13341969509233448,0.13490735130641557,0.1364264997728751,0.13798053538000135,0.13957288675779583,0.14120700014059465,0.14288632261634113,0.14461428481987382,0.1463942831323143,0.14822966145350713,0.1501236926194453,0.15207955954165994,0.15410033615066296,0.15618896823062745,0.15834825423752555,0.16058082619787659,0.1628891307899776,0.1652754107139567,0.16774168646110021,0.17028973859657368,0.1729210906727945,0.17563699289323656,0.17843840664823202,0.18132599004533012,0.1843000845568482,0.18736070290635753,0.19050751831387472,0.19373985521644413,0.19705668157650044,0.20045660288489436,0.20393785795866537,0.2074983166255809,0.2111354793780967,0.21484647906877316,0.21862808470731235,0.22247670740634895,0.22638840850896977,0.23035890991577918,0.23438360661324967,0.2384575813882515,0.2425756216961629,0.24673223863201177,0.2509216879358288,0.25513799294501716,0.2593749693882463,0.26362625189735445,0.2678853220962165,0.272145538108696,0.27640016531187395,0.28064240814592156,0.2848654427784794,0.2890624504093809,0.29322665099120915,0.29735133713267653,0.30142990794525676,0.3054559025890776,0.30942303327182075,0.3133252174544244,0.3171566090197308,0.32091162816492746,0.3245849897856956,0.32817173012933465,0.3316672315057634,0.3350672448590869,0.338367910018255,0.3415657734631076,0.34465780346158126,0.3476414024549364,0.3505144165902675,0.3532751423230871,0.35592233003722595,0.3584551846543258,0.36087336323065033,0.36317696956447204,0.36536654586265477,0.36744306154002093,0.3694078992493154,0.3712628382628892,0.3730100353493408,0.3746520033090233,0.3761915873513898,0.3776319395143748,0.37897649134122324,0.3802289250432933,0.38139314338814106,0.38247323856069554,0.3834734602513517,0.3843981832283783,0.38525187465317584,0.3860390613955301,0.38676429760229764,0.38743213276684263,0.38804708053824977,0.3886135884988971,0.3891360091265709,0.38961857214313,0.3900653584358496,0.390480275720383,0.39086703609573964,0.3912291356222431,0.3915698360331263,0.39189214866961913,0.39219882070821666,0.39249232372753795,0.39277484464105394,0.39304827900110456,0.3933142266593488,0.3935739897491803,0.39382857293697277,0.3940786858713757,0.3943247477434548,0.39456689385538896,0.39480498408176296,0.3950386130953914,0.3952671222190808,0.39548961275587835,0.39570496064316085,0.3959118322704422,0.39610870129697534,0.3962938663030884,0.3964654691086751,0.3966215135933301,0.3967598848551347,0.39687836854906827,0.3969746702512773,0.39704643470187856,0.39709126478654544,0.3971067401256213,0.3970904351488516,0.3970399365438979,0.3969528599773955,0.3968268659984034,0.3966596750454332,0.3964490814898111,0.39619296665968734,0.3958893108005205,0.39553620393919103,0.3951318556298849,0.3946746035705359,0.39416292108869194,0.39359542350523524,0.39297087339326703,0.39228818475765104,0.3915464261681116,0.3907448228854054,0.3898827580258781,0.38895977281461624,0.3879755659815146,0.38692999235778003,0.3858230607327823,0.38465493103272885,0.38342591088341643,0.3821364516193621,0.38078714380095025,0.3793787122999311,0.37791201101174765,0.37638801725075566,0.3748078258815719,0.3731726432365804,0.37148378086610373,0.3697426491640214,0.3679507509077096,0.3661096747472306,0.3642210886746745,0.36228673350068175,0.36030841636129857,0.3582880042747236,0.35622741776404776,0.354128624558947,0.35199363338642725,0.34982448785818115,0.3476232604599711,0.3453920466466035,0.34313295904465907,0.3408481217640494,0.3385396648187779,0.33620971865691346,0.33386040879975704,0.33149385059042435,0.3291121440525929,0.3267173688609201,0.3243115794255348,0.32189680009410593,0.31947502047614457,0.31704819089541153,0.3146182179775416,0.3121869603811742,0.30975622468200514,0.30732776142017193,0.30490326132223156,0.3024843517096852,0.3000725931064497,0.2976694760579553,0.2952764181745497,0.29289476141167164,0.2905257695987882,0.2881706262283824,0.28583043251534024,0.28350620573593344,0.28119887785424896,0.27890929444240115,0.27663821389918775,0.2743863069700974,0.272154156569708,0.2699422579056116,0.26775101890110775,0.2655807609119975,0.2634317197309918,0.2613040468714918,0.25919781112087625,0.2571130003519355,0.2550495235797692,0.2530072132503236,0.25098582774578854,0.24898505409133423,0.24700451084712824,0.24504375116924218,0.24310226602292354,0.24117948753178176,0.23927479244666405,0.23738750571840456,0.2355169041591788,0.23366222017783408,0.2318226455753436,0.22999733538732853,0.2281854117614637,0.22638596785844886,0.22459807176609048,0.2228207704168616,0.22105309350007563,0.21929405736050114,0.21754266887583695,0.21579792930595612,0.21405883810721094,0.21232439670532505,0.2105936122205479,0.2088655011387361,0.20713909292194016,0.20541343355184355,0.20368758899911477,0.20196064861134613,0.2002317284118179,0.19849997430085922,0.19676456515107504,0.1950247157872426,0.19327967984121658,0.1915287524717899,0.18977127293912707,0.18800662702315785,0.18623424927520196,0.18445362509210056,0.1826642926022837,0.18086584435350928,0.17905792879246146,0.17724025152702816,0.17541257636285382,0.173574726106713,0.17172658313033204,0.16986808968953174,0.16799924799491034,0.16612012003175772,0.16423082712846432,0.16233154927429805,0.16042252418912073,0.1585040461493188,0.15657646457591895,0.15464018239256508,0.15269565416265402,0.15074338401651372,0.14878392338098465,0.14681786852513556,0.1448458579370904,0.1428685695480558,0.1408867178205588,0.1389010507187119,0.13691234657889997,0.13492141089972418,0.13292907307026874,0.13093618305582458,0.12894360806007735,0.12695222918249288,0.12496293808916656,0.12297663371481064,0.12099421901280547,0.11901659776937043,0.11704467149693303,0.11507933642069589,0.11312148057124964,0.11117198099487176,0.10923170109188367,0.10730148809216755,0.10538217067564,0.1034745567442004,0.10157943135039928,0.09969755478683698,0.09782966083911679,0.09597645520404625,0.09413861407370024,0.09231678288498639,0.09051157523341317,0.08872357194894695,0.08695332033108268,0.08520133353960024,0.08346809013689503,0.08175403377728718,0.0800595730382947,0.07838508138853172,0.07673089728662477,0.07509732440534529,0.07348463197502933,0.0718930552402595,0.07032279602375598,0.06877402339142392,0.06724687441252772,0.06574145500902259,0.06425784088813997,0.06279607855240095,0.06135618638131334,0.05993815577908232,0.058541952382736843,0.057167517325131846,0.05581476854732035,0.054483602154823646,0.05317389381232486,0.05188550017129483,0.050618260325028704,0.049371997285511976,0.048146519476465616,0.04694162223683769,0.04575708932891018,0.04459269444509199,0.043448202707370154,0.0423233721532864,0.04121795520223214,0.04013170009577144,0.0390643523056604,0.038015655903210065,0.03698535488364761,0.03597319443918778,0.0349789221746195,0.034002289259356486,0.03304305151010107,0.032100970398516795,0.03117581397862187,0.030267357728981023,0.029375385305200914,0.02849968919872346,0.027640071298453982,0.026796343352355687,0.025968327326792467,0.025155855662090033,0.024358771423517195,0.023576928347650433],\"yaxis\":\"y\",\"type\":\"scatter\"},{\"legendgroup\":\"x4\",\"marker\":{\"color\":\"rgb(214, 39, 40)\"},\"mode\":\"lines\",\"name\":\"x4\",\"showlegend\":false,\"x\":[1.1037446218063107,1.1146965512380067,1.1256484806697027,1.1366004101013987,1.1475523395330949,1.1585042689647909,1.1694561983964868,1.1804081278281828,1.1913600572598788,1.2023119866915748,1.2132639161232708,1.224215845554967,1.235167774986663,1.246119704418359,1.257071633850055,1.268023563281751,1.278975492713447,1.2899274221451429,1.300879351576839,1.311831281008535,1.322783210440231,1.333735139871927,1.344687069303623,1.355638998735319,1.3665909281670152,1.3775428575987112,1.3884947870304072,1.3994467164621032,1.4103986458937992,1.4213505753254951,1.4323025047571911,1.443254434188887,1.454206363620583,1.4651582930522793,1.4761102224839753,1.4870621519156713,1.4980140813473672,1.5089660107790634,1.5199179402107594,1.5308698696424554,1.5418217990741514,1.5527737285058474,1.5637256579375434,1.5746775873692394,1.5856295168009353,1.5965814462326313,1.6075333756643273,1.6184853050960233,1.6294372345277195,1.6403891639594155,1.6513410933911117,1.6622930228228074,1.6732449522545036,1.6841968816861996,1.6951488111178956,1.7061007405495916,1.7170526699812876,1.7280045994129836,1.7389565288446795,1.7499084582763755,1.7608603877080715,1.7718123171397677,1.7827642465714635,1.7937161760031597,1.8046681054348557,1.8156200348665519,1.8265719642982479,1.8375238937299438,1.8484758231616398,1.8594277525933358,1.8703796820250318,1.8813316114567278,1.8922835408884238,1.9032354703201197,1.914187399751816,1.9251393291835117,1.936091258615208,1.947043188046904,1.9579951174786,1.9689470469102959,1.979898976341992,1.990850905773688,2.001802835205384,2.01275476463708,2.023706694068776,2.034658623500472,2.045610552932168,2.056562482363864,2.06751441179556,2.078466341227256,2.0894182706589524,2.100370200090648,2.1113221295223443,2.1222740589540403,2.1332259883857363,2.1441779178174323,2.1551298472491283,2.1660817766808242,2.1770337061125202,2.1879856355442167,2.198937564975912,2.209889494407608,2.220841423839304,2.2317933532710006,2.242745282702696,2.2536972121343926,2.2646491415660885,2.2756010709977845,2.28655300042948,2.2975049298611765,2.3084568592928725,2.3194087887245685,2.3303607181562644,2.3413126475879604,2.352264577019657,2.3632165064513524,2.374168435883049,2.3851203653147444,2.396072294746441,2.4070242241781363,2.4179761536098328,2.4289280830415287,2.4398800124732247,2.4508319419049207,2.4617838713366167,2.4727358007683127,2.4836877302000087,2.4946396596317046,2.5055915890634006,2.516543518495097,2.5274954479267926,2.538447377358489,2.549399306790185,2.560351236221881,2.5713031656535765,2.582255095085273,2.593207024516969,2.604158953948665,2.615110883380361,2.626062812812057,2.637014742243753,2.647966671675449,2.658918601107145,2.669870530538841,2.6808224599705373,2.691774389402233,2.702726318833929,2.713678248265625,2.724630177697321,2.7355821071290167,2.746534036560713,2.757485965992409,2.768437895424105,2.779389824855801,2.790341754287497,2.8012936837191935,2.812245613150889,2.823197542582585,2.834149472014281,2.8451014014459775,2.856053330877673,2.8670052603093694,2.8779571897410654,2.8889091191727614,2.8998610486044574,2.9108129780361534,2.9217649074678493,2.9327168368995453,2.9436687663312413,2.9546206957629373,2.9655726251946337,2.9765245546263293,2.9874764840580252,2.9984284134897212,3.0093803429214177,3.020332272353113,3.0312842017848096,3.0422361312165056,3.0531880606482016,3.0641399900798976,3.0750919195115936,3.0860438489432895,3.0969957783749855,3.1079477078066815,3.1188996372383775,3.1298515666700735,3.14080349610177,3.1517554255334654,3.1627073549651614,3.1736592843968574,3.184611213828554,3.19556314326025,3.206515072691946,3.217467002123642,3.2284189315553378,3.2393708609870338,3.2503227904187297,3.261274719850426,3.272226649282122,3.283178578713818,3.294130508145514,3.3050824375772097,3.3160343670089056,3.3269862964406016,3.3379382258722976,3.348890155303994,3.35984208473569,3.370794014167386,3.381745943599082,3.392697873030778,3.403649802462474,3.41460173189417,3.4255536613258664,3.4365055907575623,3.4474575201892583,3.4584094496209543,3.46936137905265,3.480313308484346,3.491265237916042,3.502217167347738,3.5131690967794342,3.52412102621113,3.535072955642826,3.546024885074522,3.556976814506218,3.567928743937914,3.57888067336961,3.5898326028013066,3.6007845322330025,3.6117364616646985,3.6226883910963945,3.6336403205280905,3.6445922499597865,3.655544179391482,3.666496108823178,3.6774480382548744,3.6883999676865704,3.6993518971182664,3.7103038265499624,3.7212557559816584,3.7322076854133543,3.7431596148450503,3.7541115442767468,3.7650634737084427,3.7760154031401387,3.7869673325718347,3.7979192620035307,3.8088711914352267,3.819823120866922,3.830775050298618,3.8417269797303146,3.8526789091620106,3.8636308385937066,3.8745827680254026,3.8855346974570986,3.8964866268887945,3.9074385563204905,3.918390485752187,3.929342415183883,3.940294344615579,3.951246274047275,3.962198203478971,3.973150132910667,3.984102062342363,3.9950539917740593,4.006005921205755,4.016957850637451,4.027909780069146,4.038861709500843,4.049813638932539,4.060765568364235,4.07171749779593,4.082669427227627,4.093621356659323,4.10457328609102,4.115525215522715,4.126477144954411,4.137429074386107,4.1483810038178035,4.1593329332495,4.170284862681195,4.181236792112891,4.192188721544587,4.203140650976283,4.2140925804079785,4.225044509839675,4.235996439271371,4.246948368703068,4.257900298134763,4.268852227566459,4.279804156998155,4.290756086429852,4.301708015861547,4.312659945293243,4.323611874724939,4.334563804156636,4.345515733588332,4.356467663020027,4.367419592451723,4.37837152188342,4.389323451315115,4.400275380746811,4.411227310178507,4.4221792396102035,4.4331311690419,4.4440830984735955,4.455035027905291,4.4659869573369875,4.476938886768684,4.48789081620038,4.498842745632076,4.509794675063771,4.520746604495468,4.531698533927163,4.542650463358859,4.553602392790555,4.564554322222252,4.575506251653948,4.586458181085644,4.597410110517339,4.608362039949036,4.619313969380732,4.630265898812428,4.641217828244123,4.65216975767582,4.663121687107516,4.6740736165392125,4.685025545970908,4.695977475402604,4.7069294048343,4.7178813342659955,4.728833263697692,4.7397851931293875,4.750737122561084,4.76168905199278,4.772640981424476,4.783592910856171,4.794544840287868,4.805496769719564,4.816448699151261,4.827400628582956,4.838352558014652,4.849304487446348,4.860256416878045,4.871208346309739,4.882160275741436,4.893112205173132,4.904064134604829,4.915016064036524,4.92596799346822,4.936919922899916,4.9478718523316125,4.958823781763308,4.969775711195004,4.9807276406267,4.9916795700583965,5.002631499490093,5.013583428921788,5.024535358353484,5.03548728778518,5.046439217216877,5.057391146648572,5.068343076080268,5.079295005511964,5.090246934943661,5.101198864375356,5.112150793807052,5.123102723238748,5.134054652670445,5.145006582102141,5.155958511533836,5.166910440965532,5.177862370397229,5.188814299828925,5.19976622926062,5.210718158692316,5.221670088124013,5.232622017555709,5.243573946987404,5.2545258764191,5.2654778058507965,5.276429735282493,5.287381664714189,5.298333594145884,5.30928552357758,5.320237453009277,5.331189382440973,5.34214131187267,5.353093241304364,5.364045170736061,5.374997100167757,5.385949029599454,5.396900959031148,5.407852888462845,5.418804817894541,5.429756747326238,5.440708676757934,5.451660606189629,5.462612535621325,5.4735644650530215,5.484516394484718,5.495468323916413,5.506420253348109,5.5173721827798055,5.5283241122115,5.5392760416431965,5.550227971074893,5.561179900506589,5.572131829938284,5.5830837593699805,5.594035688801677,5.604987618233373,5.61593954766507,5.626891477096764,5.637843406528461,5.648795335960157,5.659747265391854,5.67069919482355,5.681651124255245,5.692603053686941,5.703554983118638,5.714506912550334,5.725458841982029,5.736410771413725,5.747362700845422,5.758314630277118,5.769266559708814,5.780218489140509,5.7911704185722055,5.802122348003902,5.813074277435598,5.824026206867293,5.834978136298989,5.845930065730686,5.8568819951623805,5.867833924594077,5.878785854025773,5.88973778345747,5.900689712889164,5.911641642320861,5.922593571752557,5.933545501184254,5.94449743061595,5.955449360047645,5.966401289479341,5.977353218911038,5.988305148342734,5.9992570777744305,6.010209007206125,6.021160936637822,6.032112866069518,6.0430647955012144,6.054016724932909,6.0649686543646055,6.075920583796302,6.086872513227998,6.097824442659695,6.1087763720913895,6.119728301523086,6.130680230954782,6.141632160386479,6.152584089818175,6.16353601924987,6.174487948681566,6.185439878113263,6.196391807544957,6.207343736976654,6.21829566640835,6.229247595840045,6.240199525271741,6.251151454703438,6.262103384135134,6.2730553135668305,6.284007242998525,6.294959172430222,6.305911101861918,6.3168630312936145,6.327814960725311,6.338766890157006,6.349718819588702,6.360670749020398,6.371622678452095,6.3825746078837895,6.393526537315486,6.404478466747182,6.415430396178879,6.426382325610575,6.43733425504227,6.448286184473966,6.459238113905663,6.470190043337359,6.481141972769056,6.49209390220075,6.503045831632447,6.513997761064143,6.5249496904958395,6.535901619927534,6.546853549359231,6.557805478790925,6.568757408222622],\"xaxis\":\"x\",\"y\":[0.011833266593616444,0.012144900617938785,0.012457421876456402,0.01277059173763577,0.013084176585155228,0.013397949135153341,0.013711689773849817,0.014025187909268946,0.014338243330459485,0.014650667567310333,0.014962285243816965,0.015272935417462163,0.015582472897243365,0.015890769532811055,0.016197715467182655,0.016503220345566925,0.016807214472977897,0.017109649913535842,0.017410501524645766,0.017709767919612127,0.01800747235268816,0.018303663521068873,0.018598416278912188,0.018891832259110026,0.01918404039922262,0.019475197368728065,0.019765487895519004,0.02005512499038683,0.020344350069064463,0.02063343297224003,0.02092267188479402,0.021212393156342456,0.02150295102597376,0.02179472725484176,0.022088130671000628,0.02238359663154262,0.022681586407698934,0.022982586499095757,0.023287107883797672,0.023595685211122402,0.023908875944460704,0.02422725946148233,0.024551436119147136,0.024882026290868206,0.025219669382991115,0.02556502283746051,0.025918761127145393,0.02628157474979188,0.026654169225973728,0.027037264105722495,0.027431591987754064,0.027837897554370574,0.02825693662422684,0.028689475224212987,0.029136288680742292,0.029598160729751574,0.030075882643745295,0.030570252373252154,0.031082073699134325,0.031612155391309085,0.032161310368626836,0.032730354853911146,0.03332010751752047,0.0339313886022543,0.03456501902199966,0.03522181942622259,0.03590260922224722,0.03660820554724869,0.0373394221820175,0.03809706839883231,0.038881947736211044,0.03969485669389017,0.04053658334211153,0.04140790584016093,0.04230959086010597,0.04324239191280108,0.04420704757446556,0.0452042796134681,0.04623479101837084,0.04729926392976353,0.0483983574799497,0.049532705546105144,0.050702914424099,0.051909560431727196,0.053153187451636025,0.054434304425694593,0.05575338281398026,0.05711085403286073,0.05850710688786365,0.05994248501810568,0.061417284369991186,0.0629317507186676,0.06448607725633344,0.06608040226691089,0.06771480690683078,0.0693893131116963,0.07110388164841684,0.07285841033201162,0.07465273242568042,0.07648661524193665,0.07835975896157542,0.08027179568605039,0.08222228873742461,0.08421073221849354,0.08623655084393232,0.08829910005143837,0.09039766639981743,0.09253146825883354,0.09469965679342311,0.09690131724258087,0.09913547049088826,0.1014010749282976,0.10369702859142214,0.10602217157725184,0.10837528871793338,0.11075511250303867,0.11316032623364816,0.11558956739057415,0.11804143119722038,0.1205144743558842,0.12300721893482472,0.1255181563821192,0.1280457516412707,0.13058844734267736,0.1331446680444882,0.13571282449602615,0.13829131789687563,0.14087854412492137,0.14347289790707218,0.14607277690711998,0.14867658570616568,0.15128273965227124,0.1538896685574807,0.156495820222063,0.15909966376775822,0.1616996927639473,0.1642944281329712,0.16688242082331184,0.16946225424194286,0.17203254643989374,0.17459195204786085,0.17713916396156287,0.17967291477941338,0.18219197799795217,0.18469516897330707,0.18718134565971498,0.1896494091387749,0.19209830395562374,0.19452701828056454,0.1969345839168165,0.19932007617696892,0.20168261365237294,0.20402135790107395,0.20633551308094805,0.20862432555543634,0.2108870834996586,0.21312311653470442,0.21533179541755687,0.21751253181336141,0.21966477817564295,0.22178802775857115,0.22388181478348462,0.2259457147796448,0.22797934511657497,0.22998236574238967,0.23195448013927666,0.23389543650372338,0.2358050291553004,0.2376831001737763,0.23952954126015435,0.24134429581287942,0.24312736120605033,0.24487879125201728,0.24659869882630292,0.24828725862842302,0.24994471004793542,0.25157136010099684,0.2531675863988898,0.25473384010645933,0.2562706488452371,0.2577786194932714,0.25925844083137,0.260710885983662,0.2621368145991272,0.2635371747200587,0.26491300428336834,0.26626543220121324,0.26759567896866165,0.2689050567480236,0.27019496888204825,0.2714669087914444,0.27272245821609814,0.2739632847638999,0.2751911387362734,0.2764078492052133,0.2776153193229183,0.27881552085184313,0.2800104879101394,0.2812023099349712,0.2823931238739676,0.28358510562304284,0.284780460736922,0.2859814144468115,0.2871902010277199,0.2884090525658306,0.28964018718398593,0.29088579679066207,0.29214803442470716,0.29342900127449323,0.29473073345592843,0.2960551886388775,0.297404232615924,0.2987796259109631,0.30018301052782,0.3016158969408881,0.30307965143061644,0.30457548386656896,0.30610443603964427,0.30766737064295746,0.3092649609977689,0.3108976816168015,0.3125657996922591,0.3142693675899712,0.31600821642430976,0.31778195078098526,0.3195899446465542,0.32143133859454764,0.3233050382686599,0.32520971419350453,0.32714380293312467,0.3291055096068853,0.3310928117616473,0.33310346458833373,0.33513500746028835,0.3371847717602698,0.3392498899526304,0.34132730584734067,0.3434137859930594,0.34550593212761,0.34760019460598457,0.349692886718528,0.3517801998052879,0.35385821906667503,0.35592293996572244,0.35797028511327367,0.3599961215245039,0.3619962781332437,0.36396656344967354,0.36590278324706293,0.3678007581643626,0.3696563411135454,0.37146543438366186,0.3732240063375396,0.37492810760185463,0.3765738866569433,0.3781576047390453,0.3796756499746544,0.3811245506742314,0.38250098772054925,0.383801805995411,0.385024024797185,0.38616484721057304,0.387221668399084,0.3881920827997441,0.389073890208608,0.3898651007544541,0.39056393876664486,0.39116884555139453,0.39167848109853154,0.39209172474820925,0.3924076748538529,0.39262564748385,0.39274517421007993,0.3927659990362499,0.3926880745232079,0.3925115571718021,0.3922368021265656,0.3918643572654005,0.39139495674162245,0.39082951404514976,0.3901691146493353,0.38941500830897513,0.38856860107339886,0.38763144707634767,0.38660524016155173,0.3854918053996817,0.3842930905486354,0.38301115750507747,0.38164817379078964,0.38020640411281026,0.37868820203161363,0.3770960017667657,0.37543231016466927,0.373699698848265,0.3719007965639047,0.3700382817361918,0.3681148752373835,0.36613333337407783,0.3640964410903604,0.362007005383483,0.3598678489254012,0.3576818038812845,0.35545170591432346,0.35318038836487986,0.35087067659123355,0.3485253824588841,0.34614729896551627,0.34373919498939987,0.34130381015001293,0.33884384977115706,0.336361979938624,0.33386082264659206,0.3313429510293129,0.32881088467721636,0.32626708503930146,0.32371395091649374,0.3211538140535083,0.3185889348395479,0.3160214981309238,0.31345360921123655,0.3108872899071381,0.3083244748798057,0.30576700811407315,0.3032166396286263,0.3006750224317586,0.2981437097478439,0.295624152539933,0.29311769735365034,0.2906255845068973,0.2881489466487468,0.28568880770929533,0.28324608226024234,0.2808215753035052,0.2784159825023416,0.2760298908662895,0.2736637798977064,0.27131802320395504,0.26899289057529335,0.2666885505243985,0.2644050732792221,0.26214243421659394,0.2599005177197491,0.2576791214387694,0.2554779609289207,0.2532966746380092,0.25113482921034935,0.24899192507164594,0.24686740225620454,0.24476064643538747,0.2426709951041662,0.24059774388103736,0.23854015287547836,0.23649745307653314,0.2344688527160709,0.23245354356073053,0.23045070708755325,0.22845952049981902,0.22647916254159098,0.2245088190719428,0.22254768836272618,0.2205949860870439,0.2186499499692123,0.21671184407095914,0.21477996269278252,0.21285363387378947,0.21093222247784624,0.2090151328584772,0.20710181109955295,0.20519174683338123,0.20328447464226226,0.20137957505388127,0.19947667514497788,0.19757544877155325,0.19567561644735376,0.19377694489551783,0.19187924630099645,0.18998237729367665,0.18808623769397517,0.1861907690540623,0.1842959530287646,0.1824018096106061,0.1805083952633468,0.17861580098783875,0.17672415035296757,0.17483359752297956,0.17294432531061898,0.17105654328320288,0.16917048594616046,0.16728641102563233,0.16540459786855327,0.16352534597525684,0.16164897367609235,0.15977581695991733,0.15790622845863372,0.15604057658826756,0.1541792448434667,0.15232263123880607,0.15047114788695498,0.14862522070064815,0.146785289202552,0.144951806424561,0.1431252388758502,0.14130606655716205,0.13949478299735787,0.13769189528722445,0.13589792408491552,0.13411340356725623,0.13233888130137164,0.13057491801183618,0.12882208721963423,0.12708097473077715,0.12535217795431186,0.12363630503174347,0.12193397376247925,0.1202458103127862,0.11857244769888596,0.11691452403813439,0.11527268056572883,0.11364755941798171,0.11203980118684985,0.11045004225407618,0.10887891191691683,0.107327029320955,0.10579500021889272,0.10428341357741329,0.10279283805717046,0.10132381839366938,0.09987687170919503,0.09845248378799475,0.09705110534861613,0.09567314834858623,0.09431898235752062,0.0929889310352075,0.09168326875126537,0.09040221738256864,0.08914594332383816,0.0879145547455581,0.08670809913174603,0.0855265611280941,0.08436986072862691,0.08323785182631553,0.08213032115008359,0.08104698760737296,0.07998750204794829,0.07895144746092478,0.07793833961319295,0.07694762813347195,0.07597869804224403,0.07503087172382164,0.07410341133282237,0.0731955216234333,0.07230635318605028,0.07143500607225083,0.07058053378560311,0.0697419476125972,0.06891822126500305,0.06810829580227828,0.06731108480025903,0.06652547973030654,0.06575035551136794,0.06498457619603974,0.06422700075072656,0.06347648888934751,0.0627319069197767,0.061992133562297914,0.06125606569980396,0.06052262402026561,0.059790758513124695,0.059059453782702616,0.0583277341434516,0.0575946684638861,0.05685937472827914,0.05612102428768972,0.05537884577455624,0.05463212865792359,0.05388022641934689,0.053122559332586236,0.05235861683336851,0.05158795946868553,0.05081022041832022,0.050025106584499664,0.04923239924874028,0.04843195429805902,0.04762370202573899,0.04680764651474333,0.04598386461464277,0.0451525045255435,0.04431378400495142,0.04346798821577821,0.04261546723576233,0.04175663325044113,0.04089195745345762,0.0400219666794062,0.039147239795621666,0.038268403880280764,0.037386130214926025,0.03650113012003253,0.03561415066252509,0.03472597026422631,0.03383739424006712],\"yaxis\":\"y\",\"type\":\"scatter\"},{\"legendgroup\":\"x1\",\"marker\":{\"color\":\"rgb(31, 119, 180)\",\"symbol\":\"line-ns-open\"},\"mode\":\"markers\",\"name\":\"x1\",\"showlegend\":false,\"x\":[-1.6422126396517167,-1.4392154736317657,-0.916948756824723,-0.946197947965097,-3.377669367957091,-2.937825039915123,-1.4849647327913402,-1.486214049087791,-1.484952313693952,1.8527314906547212,-1.429109489306833,-0.8644343598194011,-1.0459982365067977,-1.348608748694202,-2.3152692446403456,-1.2410307795067326,-2.772825214537572,-2.236818606740009,-2.4853635478291034,-1.9181258606136775,0.31465856667350867,-3.867265192591748,-1.3137398096254866,-3.6127158711896517,-2.4719318657894336,-0.9110494030326339,-1.9357199809045373,-3.077744777929306,-2.715303709259968,-1.3204022510653242,-2.7303666317171364,-1.7835414104180252,-1.9544281600961861,-2.651600347605817,0.14394408932532565,-1.3660809776819889,-4.025142586657607,-1.8135456852305722,-2.661786464768388,-1.147566665203776,-2.7925207384327004,-2.114736441466899,-1.4950127210195427,-1.1342448058298786,-3.2002964070557764,-2.3345012358409485,-2.474945311160956,-2.6533292325737117,-0.23454575971890312,-1.5950182890390445,-3.2608839543350454,-1.0821380529452238,0.12215619701263325,-0.9675347394488532,-3.5193699659540134,-2.4842340728662515,-0.7330888508133773,-2.707669465618781,-1.5561805718537716,-1.2253659465706632,-2.926930471578083,-2.0595253560618,-5.241267340069072,-3.0243876413342896,-2.2525681513931604,-3.2477831819648495,-0.36758869606836475,-3.4301413779606325,-2.440044486696984,-1.8692594227139088,-0.5587267109338845,-3.4358621511794394,-0.8368362478450404,-1.989766938980413,-2.981508651047951,-1.5378965257367292,-1.80094030442653,-2.6002168771587946,-1.930197915009981,-2.38531359686176,-1.8864826547487519,-1.3378693254789533,-0.41398318385464794,-3.237815498826849,0.13303337465626663,-3.952087799522502,-2.1517850950355832,-1.4116827935154235,-1.7190081322649673,-2.6226995198205936,-2.2081222503572753,-2.493000934658833,-2.5893647569442115,-1.1503979029789755,-1.6429845140349526,-2.6929095952606543,-1.1004001245667494,-1.6927004791233906,-1.18713788116104,-1.3703711580763878,-2.828995010922072,-2.5601810401969693,-1.2527063948767383,-1.3896297345665352,-2.020901593964148,-1.882672616691218,-0.7223351042115751,-2.59157138883583,-1.452902618829962,-2.202192652433894,-2.21768120322722,-0.9012231480128099,-1.1745836510119703,-1.1864903639993614,-0.6945211928456709,-1.9789961583672409,-1.318047028705036,-2.310266756593456,-1.6758336475115578,-2.1301430543676845,-1.9030040350072819,-1.4048429745630864,-2.8182206832334726,0.09238727568546024,-3.006017381499702,-3.214188612787732,-0.8418891264999322,-1.2083373060370641,-1.3758801829478449,-1.37165449073572,-2.0122467728469147,-2.8972543714858316,-1.9241954418062737,-2.677161711512112,-1.0248802665822487,-2.1470573815021385,-2.8254971967925115,-2.3213858416529933,-1.5870685457243756,-2.5637245528039747,-2.8222203955664313,-1.7563127885080876,-1.7550334288912772,-2.5069431753711298,-2.4710383056183227,-1.7679500626423637,-3.4480843414973243,-3.4074637743765552,-2.718444221252436,-2.213447151711847,-1.6890924344019953,-0.524643783050448,-1.1423403767979807,-2.1599385299634273,-2.019016207902689,-3.002529364637809,-2.01851313599239,-2.2886586389201384,-1.6772814396619105,-2.827230943552323,-1.4806534857588276,-0.4672610869974223,-2.1087601484568577,-1.5982882779010585,-1.3098560082888875,-2.401220471885836,-1.7759075181895831,-1.9874075992182052,-1.9023239014511684,-2.7730097838554664,-1.9754898257410574,-1.5020017087545503,-0.5488563922049583,-1.040729173914793,0.15318245751155635,-2.7673475628880495,-1.1276793632793218,-1.8166579942616483,0.18980293321767228,-2.8082982853551517,-2.839721842180776,-2.599392645444022,-4.123895724309807,-2.525755021680761,-2.759132661553698,-1.8496062135237923,-1.6582440242228405,-0.12382916078411377,-1.0495761618139499,-2.576903655662403,-2.898414671348358,-1.5080808284934943,-3.3202332070206424,-0.16854123414564626,-0.820559879278713,-2.469175652104705,-3.7131345290908775,-0.6461276258345872,-2.114539845252618,-0.7621836880265382,-3.594427658794367,-2.599375022953773,-1.994756300281817,-1.953019406235258,-2.4500654714792436,-1.3771500676525013,-3.067620429382594,-2.1423794850212934,-1.8797043682881012,-1.485561165941251,-1.2883851219111102,-3.1246420918378695,-3.5341141707356223,-0.7223231781014909,-1.6676859880204082,-2.7484865365565536,-0.44884802447747707,-1.8843253657071413,-0.8207028159361736,-1.9324815185898911,0.0607479248819871,-0.24465915755679557,-2.2489641484790734,-1.0284290490456445,-1.3546240504148526,-0.6313684424676513,-2.9649234605801045,-1.3139485400015607,-0.9415755131504122,-3.7587394864231145,-3.183258512665775,-4.0392321777601,-2.269406834444558,-1.2824577442040377,-0.4976429479039719,-1.9259052195802249,-0.37138445442870816,-3.3801014582148916,-3.7033824393551544,-2.0555476988966186,-1.6159345510606928,-2.032694748094093,-4.067442100039877,-2.0891200395127885,-3.304469500504853,-1.3303274511699614,-1.6334017539031518,-2.939879786327355,-2.5138669173366934,-3.0592135218889513,-2.062679097273172,-1.0448576794987616,-2.985726046335544,-1.4959534844821556,-2.530257618372441,-2.7928728322623444,-2.1070303599545577,-3.035242322419374,-2.5536493053471823,-3.1978778925888482,-0.03527486708361072,-1.9647364480282714,-2.6997255079925857,-1.786020089265778,-2.11232804969083,-2.220969599533223,-1.3858332999565748,-1.242492289952695,-2.5305011476105275,-2.57581824064468,-2.275051697151644,-4.301921164735585,-3.5151910621985523,-0.6331257325554753,-0.3550322864987163,-2.2490360395563784,-1.4234430369442337,-1.688749845456464,1.0788808084552377,-0.8804250885654232,-2.1279175914807666,-2.9555404406004255,-3.6064463202575725,-1.796536364132777,-2.7563507452843035,-3.4222537095976744,-2.6465728842425267,-3.0815480036143947,-0.31285836492743524,-1.1183602430505495,-2.0079726413166172,-0.5200558611099741,-1.9226316923523816,-2.8612842013282638,-0.47687592273034274,-1.4610899563153414,-3.037246154326456,-2.190338678083608,-2.875618253384757,-3.382799730964336],\"xaxis\":\"x\",\"y\":[\"x1\",\"x1\",\"x1\",\"x1\",\"x1\",\"x1\",\"x1\",\"x1\",\"x1\",\"x1\",\"x1\",\"x1\",\"x1\",\"x1\",\"x1\",\"x1\",\"x1\",\"x1\",\"x1\",\"x1\",\"x1\",\"x1\",\"x1\",\"x1\",\"x1\",\"x1\",\"x1\",\"x1\",\"x1\",\"x1\",\"x1\",\"x1\",\"x1\",\"x1\",\"x1\",\"x1\",\"x1\",\"x1\",\"x1\",\"x1\",\"x1\",\"x1\",\"x1\",\"x1\",\"x1\",\"x1\",\"x1\",\"x1\",\"x1\",\"x1\",\"x1\",\"x1\",\"x1\",\"x1\",\"x1\",\"x1\",\"x1\",\"x1\",\"x1\",\"x1\",\"x1\",\"x1\",\"x1\",\"x1\",\"x1\",\"x1\",\"x1\",\"x1\",\"x1\",\"x1\",\"x1\",\"x1\",\"x1\",\"x1\",\"x1\",\"x1\",\"x1\",\"x1\",\"x1\",\"x1\",\"x1\",\"x1\",\"x1\",\"x1\",\"x1\",\"x1\",\"x1\",\"x1\",\"x1\",\"x1\",\"x1\",\"x1\",\"x1\",\"x1\",\"x1\",\"x1\",\"x1\",\"x1\",\"x1\",\"x1\",\"x1\",\"x1\",\"x1\",\"x1\",\"x1\",\"x1\",\"x1\",\"x1\",\"x1\",\"x1\",\"x1\",\"x1\",\"x1\",\"x1\",\"x1\",\"x1\",\"x1\",\"x1\",\"x1\",\"x1\",\"x1\",\"x1\",\"x1\",\"x1\",\"x1\",\"x1\",\"x1\",\"x1\",\"x1\",\"x1\",\"x1\",\"x1\",\"x1\",\"x1\",\"x1\",\"x1\",\"x1\",\"x1\",\"x1\",\"x1\",\"x1\",\"x1\",\"x1\",\"x1\",\"x1\",\"x1\",\"x1\",\"x1\",\"x1\",\"x1\",\"x1\",\"x1\",\"x1\",\"x1\",\"x1\",\"x1\",\"x1\",\"x1\",\"x1\",\"x1\",\"x1\",\"x1\",\"x1\",\"x1\",\"x1\",\"x1\",\"x1\",\"x1\",\"x1\",\"x1\",\"x1\",\"x1\",\"x1\",\"x1\",\"x1\",\"x1\",\"x1\",\"x1\",\"x1\",\"x1\",\"x1\",\"x1\",\"x1\",\"x1\",\"x1\",\"x1\",\"x1\",\"x1\",\"x1\",\"x1\",\"x1\",\"x1\",\"x1\",\"x1\",\"x1\",\"x1\",\"x1\",\"x1\",\"x1\",\"x1\",\"x1\",\"x1\",\"x1\",\"x1\",\"x1\",\"x1\",\"x1\",\"x1\",\"x1\",\"x1\",\"x1\",\"x1\",\"x1\",\"x1\",\"x1\",\"x1\",\"x1\",\"x1\",\"x1\",\"x1\",\"x1\",\"x1\",\"x1\",\"x1\",\"x1\",\"x1\",\"x1\",\"x1\",\"x1\",\"x1\",\"x1\",\"x1\",\"x1\",\"x1\",\"x1\",\"x1\",\"x1\",\"x1\",\"x1\",\"x1\",\"x1\",\"x1\",\"x1\",\"x1\",\"x1\",\"x1\",\"x1\",\"x1\",\"x1\",\"x1\",\"x1\",\"x1\",\"x1\",\"x1\",\"x1\",\"x1\",\"x1\",\"x1\",\"x1\",\"x1\",\"x1\",\"x1\",\"x1\",\"x1\",\"x1\",\"x1\",\"x1\",\"x1\",\"x1\",\"x1\",\"x1\",\"x1\",\"x1\",\"x1\",\"x1\",\"x1\",\"x1\",\"x1\",\"x1\",\"x1\",\"x1\",\"x1\",\"x1\",\"x1\",\"x1\",\"x1\",\"x1\",\"x1\",\"x1\",\"x1\",\"x1\",\"x1\",\"x1\",\"x1\",\"x1\",\"x1\",\"x1\",\"x1\",\"x1\",\"x1\"],\"yaxis\":\"y2\",\"type\":\"scatter\"},{\"legendgroup\":\"x2\",\"marker\":{\"color\":\"rgb(255, 127, 14)\",\"symbol\":\"line-ns-open\"},\"mode\":\"markers\",\"name\":\"x2\",\"showlegend\":false,\"x\":[0.9261775475316414,1.9094166404701305,-1.3985675738191412,0.5629692366905709,-0.6506425691218269,-0.48712538376469605,-0.5923939242388692,-0.863990769679816,0.04852162794482699,-0.8309501164110378,0.2704568257798388,-0.05023810944913695,-0.23894804686640975,-0.9075636620415979,-0.5767713305683327,0.755391225825756,0.5009171876243808,-0.977555244798551,0.09933230542922587,0.751387123371789,-1.6694052811213718,0.543360192379935,-0.6626237589458467,0.5705986685931593,-0.7632591565425169,-1.804882100664519,-1.6275424378831627,0.048084946661381994,0.25972250172148187,-0.9043166251044086,0.6385924587773739,-1.6615200622689599,-0.06607979864731657,-1.2110161997624567,-0.6518361078021592,0.047398671316414016,-0.8604133652839524,-0.38455554422982535,1.0062928092144405,-0.5768918695231487,0.8356921120651418,-1.129706854657618,0.5298041779152828,1.4415686206579004,-2.4716445001272893,-0.7968952554704768,0.57707212718054,-0.2030453860429927,0.37114587337130883,-0.6039851867158206,0.08658978747289992,-0.15567723539207948,1.1677820616598074,0.2544208433012131,0.3376026620752022,-0.4118769661224674,-0.48760622407249354,-0.4325581878196209,0.39445214237829684,-0.42098448082026296,0.2897748568964129,2.075400798645439,0.8711247034316923,-0.32602353216784113,1.2012139221639448,-0.4080753730215514,-2.038124535177854,-1.008086310917404,-1.8707919210258557,-0.35151348404130867,0.0184183791895517,1.6764373122752827,0.32692737376416264,-0.21910052880886424,0.8294055811834892,-2.211135309007885,0.23561455810856594,0.7708651938869668,-1.4785862457798415,1.143754043206929,0.3384964074944141,-0.4152879139008013,0.6327818661062848,2.270692857804396,0.18186625505849516,0.24822058630033608,-0.4593608995402441,-0.8498443694647918,0.8303358165442456,-0.8560838259088672,0.07156623721939247,-0.4776574467651167,0.47897982574639186,0.3336621052869483,1.0375399442578992,-0.510016398854747,-0.26987493529337125,-0.9787637157823074,-0.4442932600761116,0.3773004930448522,0.7569886166453519,-0.9221653241776254,0.8696059201056602,1.355637858804951,0.41343490322370086,1.876795812558066,-0.773789199103573,-1.244654703311417,-1.7787202489042786,1.496044311489183,0.6543656563540577,-0.05558467091045507,0.2799686263198203,-1.1254890472983765,2.4457519796168263,0.1292211819752275,0.10939479460489289,0.725766623898692,0.4810092317367132,0.22388402427913137,-0.7904744554453119,0.4714683571359957,1.8820244964750337,1.3454200461549777,1.593186626639397,-0.5112156764311852,-0.9896048202585809,-0.12578692009964815,0.055724912288694604,1.0941915184709485,-1.6924646297148194,1.5295503194606137,-0.15800789857898942,-0.42688106994742003,-1.0121043752601675,-1.6548566718657693,0.8231705839619146,0.07331796718840389,-1.2899608997410539,-1.295078772063616,-0.3357846992901282,1.669021525289393,-0.2595913513636048,-1.5031429531181062,-0.24574306408594432,-0.2727235697476705,-2.6968866429415717,-0.05429486651781221,-0.23093453020867796,0.6962063648134184,1.8489560949453452,1.1265650295477574,-0.26888869055483056,-1.1065259087416703,2.5733598032498604,0.05921843401448826,0.013929291912946203,-0.024125087110003277,0.19808476076785494,-0.14436041192394247,-0.5736620068802363,-0.5468589412403921,-0.03275327021599839,-0.543424771133765,-0.7128457826771644,0.10643022769189683,-0.2549772174208553,1.5039929885826886,-2.650969808393012,1.0915068519224618,1.246085192497629,-2.0733902324081495,-0.34268759408034877,-0.37144086599579146,-1.4075116947178212,-0.7778166875908753,-1.1105758454658288,1.7522704434236227,0.9356783931474612,1.2715550949941588,0.7216720640432351,-1.1290517712172292,-0.5245202662797737,0.48937456122791806,-1.2221278088919454,0.7129984301723881,-0.24032539815813503,-0.3748208075495975,0.7109599682034915,0.44426331148603976,-0.3609661658190799,1.159329803364248,-1.0810633275998973,0.6159356069442637,0.5931012579683838,-0.3095464393139903,0.326133022242118,-1.251113576385303,0.924027019206901,-0.18490213644298903,-0.5227230205190395,1.0490092258368893,-0.7043436905427592,-1.4084612963635597,-1.5566291735239037,0.6060099513456396,-1.280429352496283,1.7547941819843647,-2.081929407883722,1.6964563682900382,0.2110174672026184,-0.09671311187039239,-0.5449190868089497,0.39913611435207086,-0.037634702424848364,1.1033018820165215,0.11422764866203965,0.1503017614618776,-0.36361221221385587,-0.056945623721067457,0.3078017688920592,-1.7101683926566256,-1.348185422105713,0.743264094022715,0.17086543812794186,-0.18398333635267913,0.01843393306539316,0.34758170536167105,-0.5397596803093615,-0.7783047254023127,0.19584525509768155,-0.978372777615032,0.40825275571447184,-1.7025836042378404,1.0291556373256436,0.472597482413043,0.25602973431387566,0.9826909839455139,1.6654744444625766,1.0143700650181304,-1.8408742313316453,-1.2795769667357015,-0.6248185776956788,0.026091050210833786,0.517659020469123,-0.7257438131534656,0.18676676447707832,-0.7553829323533225,-0.6115178029919482,-1.4066610968482223,-0.9232332461109043,-1.3516846056163336,-0.9758732529773327,1.0536417966078395,-0.949398888831943,2.632382064837391,0.4933179008808892,0.1848361236948739,-0.8583577801812136,0.7003098794089914,-0.5756378262377739,0.12200981464536144,2.5600845382687947,-0.09605989972464987,1.1492733262856758,-0.7031764251258874,-0.0349884904969617,1.77080063563551,-0.6269670577877674,1.8124485579969287,0.7077519354554754,-0.5624667758942676,0.632407739055521,0.9725544496267299,0.6218099622171964,-1.5702247198904564,-0.7271371758248686,-0.24751863555150475,-0.07443342910004629,0.620672097550678,0.17770100093325383,-1.3353443587101013,0.3801978510059632,0.6105857452838231,0.5597904479310398,1.0807807255546218,0.8339221545489041,0.4591800792284367,-0.07016571145864703,-1.6609609335159914,0.42961821913258585,0.20768768716311115,0.27157883719537346,-1.2767485758203094,-1.0810565404082624,1.0531528533329035,-0.03955515385665504,0.6815006973726244,0.028318376130461172,0.02975613949574519],\"xaxis\":\"x\",\"y\":[\"x2\",\"x2\",\"x2\",\"x2\",\"x2\",\"x2\",\"x2\",\"x2\",\"x2\",\"x2\",\"x2\",\"x2\",\"x2\",\"x2\",\"x2\",\"x2\",\"x2\",\"x2\",\"x2\",\"x2\",\"x2\",\"x2\",\"x2\",\"x2\",\"x2\",\"x2\",\"x2\",\"x2\",\"x2\",\"x2\",\"x2\",\"x2\",\"x2\",\"x2\",\"x2\",\"x2\",\"x2\",\"x2\",\"x2\",\"x2\",\"x2\",\"x2\",\"x2\",\"x2\",\"x2\",\"x2\",\"x2\",\"x2\",\"x2\",\"x2\",\"x2\",\"x2\",\"x2\",\"x2\",\"x2\",\"x2\",\"x2\",\"x2\",\"x2\",\"x2\",\"x2\",\"x2\",\"x2\",\"x2\",\"x2\",\"x2\",\"x2\",\"x2\",\"x2\",\"x2\",\"x2\",\"x2\",\"x2\",\"x2\",\"x2\",\"x2\",\"x2\",\"x2\",\"x2\",\"x2\",\"x2\",\"x2\",\"x2\",\"x2\",\"x2\",\"x2\",\"x2\",\"x2\",\"x2\",\"x2\",\"x2\",\"x2\",\"x2\",\"x2\",\"x2\",\"x2\",\"x2\",\"x2\",\"x2\",\"x2\",\"x2\",\"x2\",\"x2\",\"x2\",\"x2\",\"x2\",\"x2\",\"x2\",\"x2\",\"x2\",\"x2\",\"x2\",\"x2\",\"x2\",\"x2\",\"x2\",\"x2\",\"x2\",\"x2\",\"x2\",\"x2\",\"x2\",\"x2\",\"x2\",\"x2\",\"x2\",\"x2\",\"x2\",\"x2\",\"x2\",\"x2\",\"x2\",\"x2\",\"x2\",\"x2\",\"x2\",\"x2\",\"x2\",\"x2\",\"x2\",\"x2\",\"x2\",\"x2\",\"x2\",\"x2\",\"x2\",\"x2\",\"x2\",\"x2\",\"x2\",\"x2\",\"x2\",\"x2\",\"x2\",\"x2\",\"x2\",\"x2\",\"x2\",\"x2\",\"x2\",\"x2\",\"x2\",\"x2\",\"x2\",\"x2\",\"x2\",\"x2\",\"x2\",\"x2\",\"x2\",\"x2\",\"x2\",\"x2\",\"x2\",\"x2\",\"x2\",\"x2\",\"x2\",\"x2\",\"x2\",\"x2\",\"x2\",\"x2\",\"x2\",\"x2\",\"x2\",\"x2\",\"x2\",\"x2\",\"x2\",\"x2\",\"x2\",\"x2\",\"x2\",\"x2\",\"x2\",\"x2\",\"x2\",\"x2\",\"x2\",\"x2\",\"x2\",\"x2\",\"x2\",\"x2\",\"x2\",\"x2\",\"x2\",\"x2\",\"x2\",\"x2\",\"x2\",\"x2\",\"x2\",\"x2\",\"x2\",\"x2\",\"x2\",\"x2\",\"x2\",\"x2\",\"x2\",\"x2\",\"x2\",\"x2\",\"x2\",\"x2\",\"x2\",\"x2\",\"x2\",\"x2\",\"x2\",\"x2\",\"x2\",\"x2\",\"x2\",\"x2\",\"x2\",\"x2\",\"x2\",\"x2\",\"x2\",\"x2\",\"x2\",\"x2\",\"x2\",\"x2\",\"x2\",\"x2\",\"x2\",\"x2\",\"x2\",\"x2\",\"x2\",\"x2\",\"x2\",\"x2\",\"x2\",\"x2\",\"x2\",\"x2\",\"x2\",\"x2\",\"x2\",\"x2\",\"x2\",\"x2\",\"x2\",\"x2\",\"x2\",\"x2\",\"x2\",\"x2\",\"x2\",\"x2\",\"x2\",\"x2\",\"x2\",\"x2\",\"x2\",\"x2\",\"x2\",\"x2\",\"x2\",\"x2\",\"x2\",\"x2\",\"x2\",\"x2\",\"x2\",\"x2\",\"x2\",\"x2\",\"x2\",\"x2\",\"x2\",\"x2\",\"x2\",\"x2\",\"x2\"],\"yaxis\":\"y2\",\"type\":\"scatter\"},{\"legendgroup\":\"x3\",\"marker\":{\"color\":\"rgb(44, 160, 44)\",\"symbol\":\"line-ns-open\"},\"mode\":\"markers\",\"name\":\"x3\",\"showlegend\":false,\"x\":[2.9382838059759977,1.483955271782626,2.0961207769409835,1.5377247112949575,1.5655037725676844,1.6908278765313607,2.222133771633713,1.5212513783365227,3.255756125573521,1.1053926977804962,1.813128355838641,1.560268941725825,3.446977884353733,2.1965547765115745,3.0318445394686346,0.514439626963028,2.267050265869259,2.889630795623437,2.082283989275424,3.065480375065351,1.4827115498996277,3.40934744018558,4.29889812361925,1.6371614395603409,1.5544974785992283,3.4533844771177007,3.5795721457307126,1.4771399728467318,1.5798131829041426,1.7182153911394928,0.655549488965723,1.0813480535158018,0.9958592332479321,1.2322024348958716,1.965315112613219,2.234214732536521,3.550500492814077,1.001645959261209,2.984322398476584,1.786011155774491,1.9505362903475671,2.6748194921666038,0.8772779784377014,2.3824097461840505,2.166452208213056,2.492451264008149,2.2891686439078183,4.455300139910895,1.3622600157486842,1.4690030449981824,1.3768594735752355,1.4445228808397452,1.3626128726934823,3.189016531107552,3.4205042479898546,1.4292537062505237,1.1676444268957713,2.471415556386404,1.4477769557190288,2.6329318177555106,2.2029230208512995,0.48425588500276806,3.5475052013300616,3.7958776730955215,1.3872113095156138,1.612298440064016,2.285865390724905,2.334456789987025,2.6585442726728306,4.01020453876635,1.8230527725059507,1.2017027554615463,0.6206807719854728,1.269069960058081,1.966873027126203,3.7945578635177877,1.4823887009638286,2.2237879516388985,1.9835771039272478,3.188393273448084,4.526932425873621,1.4691312270796795,1.510560557481778,3.0441608770690722,2.6818914896263113,3.8467073257360336,2.5839281853259637,1.6407079092129404,2.5906548306923094,3.1087035805829077,2.820482181197364,2.507274031107298,3.0666746895891537,3.1692955904456728,3.382158991037527,2.648709887589643,1.8328819196831456,2.1467136864333227,3.206508966508357,1.183064329012764,2.3686733088729013,1.6066611876726393,2.0287448229348173,3.278451862607299,2.1910990680199034,2.046436548156149,0.6401438590200808,2.746253566027221,2.645484181141075,4.16325472330546,1.692221765046999,2.219150327663939,2.2493836837107555,3.5774532797634744,1.904704467613048,2.2790215257703395,2.6078965097165394,2.1866091231563582,1.5535663854494717,2.1940899928983075,3.0736317498597723,0.9734847005889398,2.132969674146876,1.299879185060827,3.1950466289248425,0.4768130952162253,1.4410781527284118,2.377211875064521,3.56552402923434,1.9342497389270121,1.4448004733068016,3.88115706944059,0.551986099583756,-0.19880595662008194,2.4400144500533325,1.4979457756473888,0.9787671828692868,2.7083564472993533,2.243800713771199,1.4359213692632715,0.7196956013291056,2.8724573282801447,2.650201177958661,1.900824136220617,3.846636996047666,0.9299152336738474,0.4744748290752612,1.3080919301187555,1.9544139836445023,2.2433394493226917,1.75876394214367,2.352055396514297,0.7484605758095559,3.4437646040732597,1.9178488216074312,3.1172958315881276,2.342725346377704,2.456753219153784,2.569767280232204,2.4477085600173147,2.642722759867544,3.3291525301324314,2.19652116970147,2.7090037575885124,1.9102643057127733,3.440117215449473,1.3236076979407303,3.8009404329108154,1.9598420493556565,0.5692248978819519,2.1281044149107893,1.3189483425251192,2.840643548988724,1.347376020697609,1.5538165667852204,0.11045926905446901,1.5476936807509234,-0.42387932662895667,0.4160971765142767,2.7604146561442975,2.785800158650832,2.425457561784965,1.033023856870787,1.95228864385802,1.9963974609094315,0.8416353108074572,3.5033983017671506,2.8773622905756713,1.779035826170336,2.026885838994531,2.2083828079475527,-0.04173486842429064,1.752822617479403,1.3180157520022013,0.9983799901050845,1.718899707114045,3.797686526849523,2.64084286126701,1.4288210102172032,2.5725827813561586,3.399355436586002,2.924633682912769,2.0596303699201743,1.353063222294426,2.69822331361359,2.3934853854217497,2.8951932200277324,2.6351718016819694,3.049552715319335,1.4647647884394321,3.3173940656343257,2.1975996046923996,4.0752608726252655,1.3108121819104321,3.7359638031652493,2.197910783462648,1.3485819963855517,1.5161141659456785,1.6796526918056798,2.4241659464019163,2.5228354880354997,1.426299996061421,1.975645407739017,4.142270358611864,3.727543170100711,2.436323669674032,2.0380034781682004,2.1200313267182613,2.6135179727304165,0.9772074348015944,1.7426234625766548,0.33141592612241055,2.3992231226052794,2.647195939702741,1.516813537700626,3.5739867632900326,0.7742343369976588,0.5356251197901798,2.224451818559972,3.0470983026121545,3.6839276914578685,1.54111573713106,3.078680833431296,1.9614915304992928,1.8273727000591804,2.8836599374866725,2.6523228784134196,0.4236078430157506,3.4765403497258958,3.3800913541474515,1.3744372984904705,2.395803533437409,2.494030186282739,2.260673765823907,1.4496948461545798,1.3283766320619486,1.9744459290085548,3.1727290192593647,2.5436001545944324,1.629385667913894,2.771698710648345,-0.8485426206300755,3.1487657003721035,0.26028622122190037,1.6375590585968678,0.8803301053738561,0.7053185242790942,3.1608267873785194,1.5322987986881087,2.346503881730716,1.953079421120816,2.4770408272231217,2.076821891060255,0.7170077758114304,2.99626681944714,1.5062434168386876,0.44341810134024895,1.5718848390340874,3.500759790634311,2.8502217421134928,1.6513478655921408,1.6507422956815712,1.6783649487826173,4.076747983560841,2.3819354522315535,2.4300416471910697,3.030283454031842,2.2387891590265134,1.740957854179297,1.8036501509150218,1.928398740585936,1.9627777634901584,2.7276295436369797,2.0519458858072994,2.732640077215579,1.9192834198914177,2.0786351903160907,0.0017993154678923595,2.9163276747024813,2.346488475897993],\"xaxis\":\"x\",\"y\":[\"x3\",\"x3\",\"x3\",\"x3\",\"x3\",\"x3\",\"x3\",\"x3\",\"x3\",\"x3\",\"x3\",\"x3\",\"x3\",\"x3\",\"x3\",\"x3\",\"x3\",\"x3\",\"x3\",\"x3\",\"x3\",\"x3\",\"x3\",\"x3\",\"x3\",\"x3\",\"x3\",\"x3\",\"x3\",\"x3\",\"x3\",\"x3\",\"x3\",\"x3\",\"x3\",\"x3\",\"x3\",\"x3\",\"x3\",\"x3\",\"x3\",\"x3\",\"x3\",\"x3\",\"x3\",\"x3\",\"x3\",\"x3\",\"x3\",\"x3\",\"x3\",\"x3\",\"x3\",\"x3\",\"x3\",\"x3\",\"x3\",\"x3\",\"x3\",\"x3\",\"x3\",\"x3\",\"x3\",\"x3\",\"x3\",\"x3\",\"x3\",\"x3\",\"x3\",\"x3\",\"x3\",\"x3\",\"x3\",\"x3\",\"x3\",\"x3\",\"x3\",\"x3\",\"x3\",\"x3\",\"x3\",\"x3\",\"x3\",\"x3\",\"x3\",\"x3\",\"x3\",\"x3\",\"x3\",\"x3\",\"x3\",\"x3\",\"x3\",\"x3\",\"x3\",\"x3\",\"x3\",\"x3\",\"x3\",\"x3\",\"x3\",\"x3\",\"x3\",\"x3\",\"x3\",\"x3\",\"x3\",\"x3\",\"x3\",\"x3\",\"x3\",\"x3\",\"x3\",\"x3\",\"x3\",\"x3\",\"x3\",\"x3\",\"x3\",\"x3\",\"x3\",\"x3\",\"x3\",\"x3\",\"x3\",\"x3\",\"x3\",\"x3\",\"x3\",\"x3\",\"x3\",\"x3\",\"x3\",\"x3\",\"x3\",\"x3\",\"x3\",\"x3\",\"x3\",\"x3\",\"x3\",\"x3\",\"x3\",\"x3\",\"x3\",\"x3\",\"x3\",\"x3\",\"x3\",\"x3\",\"x3\",\"x3\",\"x3\",\"x3\",\"x3\",\"x3\",\"x3\",\"x3\",\"x3\",\"x3\",\"x3\",\"x3\",\"x3\",\"x3\",\"x3\",\"x3\",\"x3\",\"x3\",\"x3\",\"x3\",\"x3\",\"x3\",\"x3\",\"x3\",\"x3\",\"x3\",\"x3\",\"x3\",\"x3\",\"x3\",\"x3\",\"x3\",\"x3\",\"x3\",\"x3\",\"x3\",\"x3\",\"x3\",\"x3\",\"x3\",\"x3\",\"x3\",\"x3\",\"x3\",\"x3\",\"x3\",\"x3\",\"x3\",\"x3\",\"x3\",\"x3\",\"x3\",\"x3\",\"x3\",\"x3\",\"x3\",\"x3\",\"x3\",\"x3\",\"x3\",\"x3\",\"x3\",\"x3\",\"x3\",\"x3\",\"x3\",\"x3\",\"x3\",\"x3\",\"x3\",\"x3\",\"x3\",\"x3\",\"x3\",\"x3\",\"x3\",\"x3\",\"x3\",\"x3\",\"x3\",\"x3\",\"x3\",\"x3\",\"x3\",\"x3\",\"x3\",\"x3\",\"x3\",\"x3\",\"x3\",\"x3\",\"x3\",\"x3\",\"x3\",\"x3\",\"x3\",\"x3\",\"x3\",\"x3\",\"x3\",\"x3\",\"x3\",\"x3\",\"x3\",\"x3\",\"x3\",\"x3\",\"x3\",\"x3\",\"x3\",\"x3\",\"x3\",\"x3\",\"x3\",\"x3\",\"x3\",\"x3\",\"x3\",\"x3\",\"x3\",\"x3\",\"x3\",\"x3\",\"x3\",\"x3\",\"x3\",\"x3\",\"x3\",\"x3\",\"x3\",\"x3\",\"x3\",\"x3\",\"x3\",\"x3\",\"x3\",\"x3\",\"x3\",\"x3\",\"x3\",\"x3\",\"x3\",\"x3\",\"x3\",\"x3\",\"x3\",\"x3\",\"x3\",\"x3\",\"x3\"],\"yaxis\":\"y2\",\"type\":\"scatter\"},{\"legendgroup\":\"x4\",\"marker\":{\"color\":\"rgb(214, 39, 40)\",\"symbol\":\"line-ns-open\"},\"mode\":\"markers\",\"name\":\"x4\",\"showlegend\":false,\"x\":[4.998010109859652,1.1037446218063107,6.088374704780728,3.8604103718448264,5.108182816737516,2.960094072874469,4.61277390506257,2.9465844368263436,3.3762310393041948,5.914031353866786,3.8093175992366533,4.217432873179723,4.8700677306887545,4.495681887972605,4.150418905143576,4.3649610024662255,6.403415585238275,3.9423812029664145,4.201099046714967,5.050654396007612,5.105525932957984,5.187030305560381,4.638730222029185,2.8569950872695165,5.6334315323010955,2.853654606981312,4.3026354652390335,3.245724149980642,3.9358616534070077,4.32876241030348,4.3213572154502735,4.421920754235285,5.613711269058647,4.453534301513979,3.755843364709351,4.964087168288358,5.18947048892464,2.7723921848630075,4.597400069849858,4.701172742310899,3.702436496640008,5.37570681331162,3.8499444129674734,4.125576453471543,3.82692817571613,4.015579047581467,2.9037249131047984,2.5599491174057056,5.594505063224972,3.153038651681672,3.0086076505436927,1.8466098863962852,3.3610382523104976,2.6769102065925017,5.642015160136369,5.009817089342635,3.311849654822276,6.252435805344309,4.981765486991594,3.6751686164913777,1.500594285126427,6.290942572590742,2.610427533236404,2.354601253043108,5.0225704320096405,6.439752406339273,5.384272818510518,4.56390912005236,4.594754341665286,4.853415558780307,4.758928589786765,4.281191423969376,4.104201103951876,3.937406872100478,3.246035411133324,3.719324923133226,2.3070431858046145,3.90166037320525,3.0114088928490825,2.896410682784229,4.179894151153478,5.392002286344599,4.918316606002313,2.4294993963768228,3.0103718634296626,4.940771187988216,3.0175126064616906,3.7753668500029756,4.550052099024552,3.0316555451363647,4.10537550614596,2.6659745050817953,3.398632356048786,4.3197819341425365,2.407006266468331,4.440474737960399,3.980362201073319,4.5524899544171475,4.223914134064661,5.364140429973844,4.1252245026479075,3.570594458874747,4.122297503032284,4.543298029036388,4.048860070325705,4.040591691203883,3.298008312193245,3.337099082449052,2.5973947282003067,5.749576743186939,2.7561367646087147,3.3070948022040927,3.2815927344308027,4.8949243769444415,3.705050321707972,5.247742072673734,3.3265093757561317,4.278994162223802,3.164652946740243,6.145149127773388,2.812401580970487,4.309820710227028,4.633776880932098,4.4137990974514985,3.814712341122292,3.8701793002665736,4.04381147197911,3.8529979983715115,4.96387911679491,6.210523001591351,3.4425082149921664,2.630197020420922,3.911717951648745,6.579709337654318,3.196325432030269,5.6391168054440675,5.677700814076441,3.4464117582920055,4.5689830791852755,5.628396623128538,3.620872259012513,3.796419639897638,3.418319086051356,2.985243269307133,3.350722454933993,2.7760597332377435,4.034083468259226,3.230026768941358,4.233785911790748,2.444104353796373,4.330880232214457,4.833528961608924,2.0062643574285444,4.374056569847572,5.227668992473292,2.7903589813087946,5.672572386837704,4.419019009366045,3.294988144241591,3.9442309223422938,4.558326912521722,4.076005391412411,4.538755992446369,3.0793264069206336,4.169360824036078,2.58628550309502,3.8887739386513,3.09609235853521,3.264470057410233,5.236093175210438,5.091310120594269,4.609138120907177,2.907687235327421,3.683591550305198,5.213097699979183,4.141716913639905,6.319329539981695,4.3933178393943715,4.192049116490032,3.6908835357974987,4.133540904782282,3.847530163619456,4.708108676688591,4.956702316794584,3.2140105394920506,2.668767046442222,2.1637946268967037,4.507991326912544,2.8966333938261264,1.8471094070475171,4.388578604530964,6.492999517432791,3.993929088460107,4.838490774451642,4.081829358547565,3.9011103468088573,4.9190764829877685,3.709725455811349,4.267392314071903,4.321697806196013,3.3319095463569512,4.992042349536523,3.825040243304591,3.244254840507155,4.536509843570403,3.101532018208963,4.028181157369128,3.9908810033557964,5.085895565831578,4.474698232879953,3.9749730412548563,4.817766299200287,5.390207549017314,4.557810306351862,4.01035261984338,2.6881637676498404,2.9348863369246274,3.694775295645332,3.390487797840717,3.813028697014554,4.0566499248971075,4.529692754356731,3.929501221940909,4.486501643826202,4.06447441481012,2.0245334336461287,3.0606646061812457,3.8559124442783848,2.7903052571588924,4.599928729996204,5.530750832343697,5.218761851697317,3.786557129069792,5.490726136849952,4.148667457202111,3.6629140288819606,3.3865973364590602,3.6975303135118716,3.6118231814587713,4.170416222375488,4.160573981049865,4.003046020153414,4.43693816974635,5.190646274786341,4.949554135441324,2.5151020315500965,1.4460788650980452,4.934319911239274,2.6331213015845787,3.7752345981073163,2.8298869739406403,2.1980195624199803,4.541462728204788,4.7591551603026465,3.423489599273281,1.4089577078550901,3.453755551747517,4.3918040054025465,2.5210884312258712,4.183359919779155,3.9846901508270043,4.579291499601088,4.119580368414153,3.0269310591184446,5.196571501664492,3.84147042697303,3.972695460490068,3.066732040926804,3.55671774880849,3.115197285973099,3.827053940076577,5.7117084801423434,2.6280988570686437,2.386438602123259,5.471170327493608,3.790676322848134,3.3309272613400833,5.039904687396076,3.3943844602631357,5.826009713546936,4.677925871339269,3.5120885918542974,6.1573082132655035,3.3942850769966615,4.742095372009307,4.299292580406492,5.301741289398798,5.561511196726853,4.0320041490657665,3.2465821296538167,4.459972142939116,3.3222846302478937,6.013387247526623,4.1365353310827375,3.6346784486878914,4.184680305864909,2.6528737104703035,3.0283859614893487,5.200413907944426,3.3431057210286044],\"xaxis\":\"x\",\"y\":[\"x4\",\"x4\",\"x4\",\"x4\",\"x4\",\"x4\",\"x4\",\"x4\",\"x4\",\"x4\",\"x4\",\"x4\",\"x4\",\"x4\",\"x4\",\"x4\",\"x4\",\"x4\",\"x4\",\"x4\",\"x4\",\"x4\",\"x4\",\"x4\",\"x4\",\"x4\",\"x4\",\"x4\",\"x4\",\"x4\",\"x4\",\"x4\",\"x4\",\"x4\",\"x4\",\"x4\",\"x4\",\"x4\",\"x4\",\"x4\",\"x4\",\"x4\",\"x4\",\"x4\",\"x4\",\"x4\",\"x4\",\"x4\",\"x4\",\"x4\",\"x4\",\"x4\",\"x4\",\"x4\",\"x4\",\"x4\",\"x4\",\"x4\",\"x4\",\"x4\",\"x4\",\"x4\",\"x4\",\"x4\",\"x4\",\"x4\",\"x4\",\"x4\",\"x4\",\"x4\",\"x4\",\"x4\",\"x4\",\"x4\",\"x4\",\"x4\",\"x4\",\"x4\",\"x4\",\"x4\",\"x4\",\"x4\",\"x4\",\"x4\",\"x4\",\"x4\",\"x4\",\"x4\",\"x4\",\"x4\",\"x4\",\"x4\",\"x4\",\"x4\",\"x4\",\"x4\",\"x4\",\"x4\",\"x4\",\"x4\",\"x4\",\"x4\",\"x4\",\"x4\",\"x4\",\"x4\",\"x4\",\"x4\",\"x4\",\"x4\",\"x4\",\"x4\",\"x4\",\"x4\",\"x4\",\"x4\",\"x4\",\"x4\",\"x4\",\"x4\",\"x4\",\"x4\",\"x4\",\"x4\",\"x4\",\"x4\",\"x4\",\"x4\",\"x4\",\"x4\",\"x4\",\"x4\",\"x4\",\"x4\",\"x4\",\"x4\",\"x4\",\"x4\",\"x4\",\"x4\",\"x4\",\"x4\",\"x4\",\"x4\",\"x4\",\"x4\",\"x4\",\"x4\",\"x4\",\"x4\",\"x4\",\"x4\",\"x4\",\"x4\",\"x4\",\"x4\",\"x4\",\"x4\",\"x4\",\"x4\",\"x4\",\"x4\",\"x4\",\"x4\",\"x4\",\"x4\",\"x4\",\"x4\",\"x4\",\"x4\",\"x4\",\"x4\",\"x4\",\"x4\",\"x4\",\"x4\",\"x4\",\"x4\",\"x4\",\"x4\",\"x4\",\"x4\",\"x4\",\"x4\",\"x4\",\"x4\",\"x4\",\"x4\",\"x4\",\"x4\",\"x4\",\"x4\",\"x4\",\"x4\",\"x4\",\"x4\",\"x4\",\"x4\",\"x4\",\"x4\",\"x4\",\"x4\",\"x4\",\"x4\",\"x4\",\"x4\",\"x4\",\"x4\",\"x4\",\"x4\",\"x4\",\"x4\",\"x4\",\"x4\",\"x4\",\"x4\",\"x4\",\"x4\",\"x4\",\"x4\",\"x4\",\"x4\",\"x4\",\"x4\",\"x4\",\"x4\",\"x4\",\"x4\",\"x4\",\"x4\",\"x4\",\"x4\",\"x4\",\"x4\",\"x4\",\"x4\",\"x4\",\"x4\",\"x4\",\"x4\",\"x4\",\"x4\",\"x4\",\"x4\",\"x4\",\"x4\",\"x4\",\"x4\",\"x4\",\"x4\",\"x4\",\"x4\",\"x4\",\"x4\",\"x4\",\"x4\",\"x4\",\"x4\",\"x4\",\"x4\",\"x4\",\"x4\",\"x4\",\"x4\",\"x4\",\"x4\",\"x4\",\"x4\",\"x4\",\"x4\",\"x4\",\"x4\",\"x4\",\"x4\",\"x4\",\"x4\",\"x4\",\"x4\",\"x4\",\"x4\",\"x4\",\"x4\",\"x4\",\"x4\",\"x4\",\"x4\",\"x4\",\"x4\",\"x4\",\"x4\",\"x4\",\"x4\",\"x4\",\"x4\",\"x4\",\"x4\",\"x4\",\"x4\",\"x4\",\"x4\"],\"yaxis\":\"y2\",\"type\":\"scatter\"}],                        {\"barmode\":\"overlay\",\"hovermode\":\"closest\",\"legend\":{\"traceorder\":\"reversed\"},\"template\":{\"data\":{\"barpolar\":[{\"marker\":{\"line\":{\"color\":\"#E5ECF6\",\"width\":0.5},\"pattern\":{\"fillmode\":\"overlay\",\"size\":10,\"solidity\":0.2}},\"type\":\"barpolar\"}],\"bar\":[{\"error_x\":{\"color\":\"#2a3f5f\"},\"error_y\":{\"color\":\"#2a3f5f\"},\"marker\":{\"line\":{\"color\":\"#E5ECF6\",\"width\":0.5},\"pattern\":{\"fillmode\":\"overlay\",\"size\":10,\"solidity\":0.2}},\"type\":\"bar\"}],\"carpet\":[{\"aaxis\":{\"endlinecolor\":\"#2a3f5f\",\"gridcolor\":\"white\",\"linecolor\":\"white\",\"minorgridcolor\":\"white\",\"startlinecolor\":\"#2a3f5f\"},\"baxis\":{\"endlinecolor\":\"#2a3f5f\",\"gridcolor\":\"white\",\"linecolor\":\"white\",\"minorgridcolor\":\"white\",\"startlinecolor\":\"#2a3f5f\"},\"type\":\"carpet\"}],\"choropleth\":[{\"colorbar\":{\"outlinewidth\":0,\"ticks\":\"\"},\"type\":\"choropleth\"}],\"contourcarpet\":[{\"colorbar\":{\"outlinewidth\":0,\"ticks\":\"\"},\"type\":\"contourcarpet\"}],\"contour\":[{\"colorbar\":{\"outlinewidth\":0,\"ticks\":\"\"},\"colorscale\":[[0.0,\"#0d0887\"],[0.1111111111111111,\"#46039f\"],[0.2222222222222222,\"#7201a8\"],[0.3333333333333333,\"#9c179e\"],[0.4444444444444444,\"#bd3786\"],[0.5555555555555556,\"#d8576b\"],[0.6666666666666666,\"#ed7953\"],[0.7777777777777778,\"#fb9f3a\"],[0.8888888888888888,\"#fdca26\"],[1.0,\"#f0f921\"]],\"type\":\"contour\"}],\"heatmapgl\":[{\"colorbar\":{\"outlinewidth\":0,\"ticks\":\"\"},\"colorscale\":[[0.0,\"#0d0887\"],[0.1111111111111111,\"#46039f\"],[0.2222222222222222,\"#7201a8\"],[0.3333333333333333,\"#9c179e\"],[0.4444444444444444,\"#bd3786\"],[0.5555555555555556,\"#d8576b\"],[0.6666666666666666,\"#ed7953\"],[0.7777777777777778,\"#fb9f3a\"],[0.8888888888888888,\"#fdca26\"],[1.0,\"#f0f921\"]],\"type\":\"heatmapgl\"}],\"heatmap\":[{\"colorbar\":{\"outlinewidth\":0,\"ticks\":\"\"},\"colorscale\":[[0.0,\"#0d0887\"],[0.1111111111111111,\"#46039f\"],[0.2222222222222222,\"#7201a8\"],[0.3333333333333333,\"#9c179e\"],[0.4444444444444444,\"#bd3786\"],[0.5555555555555556,\"#d8576b\"],[0.6666666666666666,\"#ed7953\"],[0.7777777777777778,\"#fb9f3a\"],[0.8888888888888888,\"#fdca26\"],[1.0,\"#f0f921\"]],\"type\":\"heatmap\"}],\"histogram2dcontour\":[{\"colorbar\":{\"outlinewidth\":0,\"ticks\":\"\"},\"colorscale\":[[0.0,\"#0d0887\"],[0.1111111111111111,\"#46039f\"],[0.2222222222222222,\"#7201a8\"],[0.3333333333333333,\"#9c179e\"],[0.4444444444444444,\"#bd3786\"],[0.5555555555555556,\"#d8576b\"],[0.6666666666666666,\"#ed7953\"],[0.7777777777777778,\"#fb9f3a\"],[0.8888888888888888,\"#fdca26\"],[1.0,\"#f0f921\"]],\"type\":\"histogram2dcontour\"}],\"histogram2d\":[{\"colorbar\":{\"outlinewidth\":0,\"ticks\":\"\"},\"colorscale\":[[0.0,\"#0d0887\"],[0.1111111111111111,\"#46039f\"],[0.2222222222222222,\"#7201a8\"],[0.3333333333333333,\"#9c179e\"],[0.4444444444444444,\"#bd3786\"],[0.5555555555555556,\"#d8576b\"],[0.6666666666666666,\"#ed7953\"],[0.7777777777777778,\"#fb9f3a\"],[0.8888888888888888,\"#fdca26\"],[1.0,\"#f0f921\"]],\"type\":\"histogram2d\"}],\"histogram\":[{\"marker\":{\"pattern\":{\"fillmode\":\"overlay\",\"size\":10,\"solidity\":0.2}},\"type\":\"histogram\"}],\"mesh3d\":[{\"colorbar\":{\"outlinewidth\":0,\"ticks\":\"\"},\"type\":\"mesh3d\"}],\"parcoords\":[{\"line\":{\"colorbar\":{\"outlinewidth\":0,\"ticks\":\"\"}},\"type\":\"parcoords\"}],\"pie\":[{\"automargin\":true,\"type\":\"pie\"}],\"scatter3d\":[{\"line\":{\"colorbar\":{\"outlinewidth\":0,\"ticks\":\"\"}},\"marker\":{\"colorbar\":{\"outlinewidth\":0,\"ticks\":\"\"}},\"type\":\"scatter3d\"}],\"scattercarpet\":[{\"marker\":{\"colorbar\":{\"outlinewidth\":0,\"ticks\":\"\"}},\"type\":\"scattercarpet\"}],\"scattergeo\":[{\"marker\":{\"colorbar\":{\"outlinewidth\":0,\"ticks\":\"\"}},\"type\":\"scattergeo\"}],\"scattergl\":[{\"marker\":{\"colorbar\":{\"outlinewidth\":0,\"ticks\":\"\"}},\"type\":\"scattergl\"}],\"scattermapbox\":[{\"marker\":{\"colorbar\":{\"outlinewidth\":0,\"ticks\":\"\"}},\"type\":\"scattermapbox\"}],\"scatterpolargl\":[{\"marker\":{\"colorbar\":{\"outlinewidth\":0,\"ticks\":\"\"}},\"type\":\"scatterpolargl\"}],\"scatterpolar\":[{\"marker\":{\"colorbar\":{\"outlinewidth\":0,\"ticks\":\"\"}},\"type\":\"scatterpolar\"}],\"scatter\":[{\"marker\":{\"colorbar\":{\"outlinewidth\":0,\"ticks\":\"\"}},\"type\":\"scatter\"}],\"scatterternary\":[{\"marker\":{\"colorbar\":{\"outlinewidth\":0,\"ticks\":\"\"}},\"type\":\"scatterternary\"}],\"surface\":[{\"colorbar\":{\"outlinewidth\":0,\"ticks\":\"\"},\"colorscale\":[[0.0,\"#0d0887\"],[0.1111111111111111,\"#46039f\"],[0.2222222222222222,\"#7201a8\"],[0.3333333333333333,\"#9c179e\"],[0.4444444444444444,\"#bd3786\"],[0.5555555555555556,\"#d8576b\"],[0.6666666666666666,\"#ed7953\"],[0.7777777777777778,\"#fb9f3a\"],[0.8888888888888888,\"#fdca26\"],[1.0,\"#f0f921\"]],\"type\":\"surface\"}],\"table\":[{\"cells\":{\"fill\":{\"color\":\"#EBF0F8\"},\"line\":{\"color\":\"white\"}},\"header\":{\"fill\":{\"color\":\"#C8D4E3\"},\"line\":{\"color\":\"white\"}},\"type\":\"table\"}]},\"layout\":{\"annotationdefaults\":{\"arrowcolor\":\"#2a3f5f\",\"arrowhead\":0,\"arrowwidth\":1},\"autotypenumbers\":\"strict\",\"coloraxis\":{\"colorbar\":{\"outlinewidth\":0,\"ticks\":\"\"}},\"colorscale\":{\"diverging\":[[0,\"#8e0152\"],[0.1,\"#c51b7d\"],[0.2,\"#de77ae\"],[0.3,\"#f1b6da\"],[0.4,\"#fde0ef\"],[0.5,\"#f7f7f7\"],[0.6,\"#e6f5d0\"],[0.7,\"#b8e186\"],[0.8,\"#7fbc41\"],[0.9,\"#4d9221\"],[1,\"#276419\"]],\"sequential\":[[0.0,\"#0d0887\"],[0.1111111111111111,\"#46039f\"],[0.2222222222222222,\"#7201a8\"],[0.3333333333333333,\"#9c179e\"],[0.4444444444444444,\"#bd3786\"],[0.5555555555555556,\"#d8576b\"],[0.6666666666666666,\"#ed7953\"],[0.7777777777777778,\"#fb9f3a\"],[0.8888888888888888,\"#fdca26\"],[1.0,\"#f0f921\"]],\"sequentialminus\":[[0.0,\"#0d0887\"],[0.1111111111111111,\"#46039f\"],[0.2222222222222222,\"#7201a8\"],[0.3333333333333333,\"#9c179e\"],[0.4444444444444444,\"#bd3786\"],[0.5555555555555556,\"#d8576b\"],[0.6666666666666666,\"#ed7953\"],[0.7777777777777778,\"#fb9f3a\"],[0.8888888888888888,\"#fdca26\"],[1.0,\"#f0f921\"]]},\"colorway\":[\"#636efa\",\"#EF553B\",\"#00cc96\",\"#ab63fa\",\"#FFA15A\",\"#19d3f3\",\"#FF6692\",\"#B6E880\",\"#FF97FF\",\"#FECB52\"],\"font\":{\"color\":\"#2a3f5f\"},\"geo\":{\"bgcolor\":\"white\",\"lakecolor\":\"white\",\"landcolor\":\"#E5ECF6\",\"showlakes\":true,\"showland\":true,\"subunitcolor\":\"white\"},\"hoverlabel\":{\"align\":\"left\"},\"hovermode\":\"closest\",\"mapbox\":{\"style\":\"light\"},\"paper_bgcolor\":\"white\",\"plot_bgcolor\":\"#E5ECF6\",\"polar\":{\"angularaxis\":{\"gridcolor\":\"white\",\"linecolor\":\"white\",\"ticks\":\"\"},\"bgcolor\":\"#E5ECF6\",\"radialaxis\":{\"gridcolor\":\"white\",\"linecolor\":\"white\",\"ticks\":\"\"}},\"scene\":{\"xaxis\":{\"backgroundcolor\":\"#E5ECF6\",\"gridcolor\":\"white\",\"gridwidth\":2,\"linecolor\":\"white\",\"showbackground\":true,\"ticks\":\"\",\"zerolinecolor\":\"white\"},\"yaxis\":{\"backgroundcolor\":\"#E5ECF6\",\"gridcolor\":\"white\",\"gridwidth\":2,\"linecolor\":\"white\",\"showbackground\":true,\"ticks\":\"\",\"zerolinecolor\":\"white\"},\"zaxis\":{\"backgroundcolor\":\"#E5ECF6\",\"gridcolor\":\"white\",\"gridwidth\":2,\"linecolor\":\"white\",\"showbackground\":true,\"ticks\":\"\",\"zerolinecolor\":\"white\"}},\"shapedefaults\":{\"line\":{\"color\":\"#2a3f5f\"}},\"ternary\":{\"aaxis\":{\"gridcolor\":\"white\",\"linecolor\":\"white\",\"ticks\":\"\"},\"baxis\":{\"gridcolor\":\"white\",\"linecolor\":\"white\",\"ticks\":\"\"},\"bgcolor\":\"#E5ECF6\",\"caxis\":{\"gridcolor\":\"white\",\"linecolor\":\"white\",\"ticks\":\"\"}},\"title\":{\"x\":0.05},\"xaxis\":{\"automargin\":true,\"gridcolor\":\"white\",\"linecolor\":\"white\",\"ticks\":\"\",\"title\":{\"standoff\":15},\"zerolinecolor\":\"white\",\"zerolinewidth\":2},\"yaxis\":{\"automargin\":true,\"gridcolor\":\"white\",\"linecolor\":\"white\",\"ticks\":\"\",\"title\":{\"standoff\":15},\"zerolinecolor\":\"white\",\"zerolinewidth\":2}}},\"xaxis\":{\"anchor\":\"y2\",\"domain\":[0.0,1.0],\"zeroline\":false},\"yaxis\":{\"anchor\":\"free\",\"domain\":[0.35,1],\"position\":0.0},\"yaxis2\":{\"anchor\":\"x\",\"domain\":[0,0.25],\"dtick\":1,\"showticklabels\":false}},                        {\"responsive\": true}                    ).then(function(){\n",
              "                            \n",
              "var gd = document.getElementById('ab46fb7d-fe63-4ad7-867b-a71a0ddd8f1d');\n",
              "var x = new MutationObserver(function (mutations, observer) {{\n",
              "        var display = window.getComputedStyle(gd).display;\n",
              "        if (!display || display === 'none') {{\n",
              "            console.log([gd, 'removed!']);\n",
              "            Plotly.purge(gd);\n",
              "            observer.disconnect();\n",
              "        }}\n",
              "}});\n",
              "\n",
              "// Listen for the removal of the full notebook cells\n",
              "var notebookContainer = gd.closest('#notebook-container');\n",
              "if (notebookContainer) {{\n",
              "    x.observe(notebookContainer, {childList: true});\n",
              "}}\n",
              "\n",
              "// Listen for the clearing of the current output cell\n",
              "var outputEl = gd.closest('.output');\n",
              "if (outputEl) {{\n",
              "    x.observe(outputEl, {childList: true});\n",
              "}}\n",
              "\n",
              "                        })                };                            </script>        </div>\n",
              "</body>\n",
              "</html>"
            ]
          },
          "metadata": {}
        }
      ]
    },
    {
      "cell_type": "markdown",
      "source": [
        "### Heatmaps\n",
        "\n",
        "A heatmap (aka heat map) depicts values for a main variable of interest across two axis variables as a grid of colored squares. The axis variables are divided into ranges like a bar chart or histogram, and each cell’s color indicates the value of the main variable in the corresponding cell range.\n",
        "\n",
        "https://chartio.com"
      ],
      "metadata": {
        "id": "sghsWCLwIsU8"
      }
    },
    {
      "cell_type": "code",
      "source": [
        "df = pd.read_csv(\n",
        "    \"https://raw.githubusercontent.com/Pierian-Data/Plotly-Dashboards-with-Dash/master/Data/2010SantaBarbaraCA.csv\"\n",
        ")\n",
        "data = [go.Heatmap(x=df[\"DAY\"], y=df[\"LST_TIME\"], z=df[\"T_HR_AVG\"].values.tolist())]\n",
        "# z is colour code, it has to be list\n",
        "layout = go.Layout(title=\"SB CA Temp\")\n",
        "fig = go.Figure(data=data, layout=layout)\n",
        "pyo.iplot(fig)"
      ],
      "metadata": {
        "colab": {
          "base_uri": "https://localhost:8080/",
          "height": 542
        },
        "id": "lexPLZHNIt3r",
        "outputId": "5ed28c6a-ea11-49d8-c154-5b0fac050e41"
      },
      "execution_count": null,
      "outputs": [
        {
          "output_type": "display_data",
          "data": {
            "text/html": [
              "<html>\n",
              "<head><meta charset=\"utf-8\" /></head>\n",
              "<body>\n",
              "    <div>            <script src=\"https://cdnjs.cloudflare.com/ajax/libs/mathjax/2.7.5/MathJax.js?config=TeX-AMS-MML_SVG\"></script><script type=\"text/javascript\">if (window.MathJax) {MathJax.Hub.Config({SVG: {font: \"STIX-Web\"}});}</script>                <script type=\"text/javascript\">window.PlotlyConfig = {MathJaxConfig: 'local'};</script>\n",
              "        <script src=\"https://cdn.plot.ly/plotly-2.8.3.min.js\"></script>                <div id=\"aa59655d-eaec-4b57-bd08-ba5ccf87197f\" class=\"plotly-graph-div\" style=\"height:525px; width:100%;\"></div>            <script type=\"text/javascript\">                                    window.PLOTLYENV=window.PLOTLYENV || {};                                    if (document.getElementById(\"aa59655d-eaec-4b57-bd08-ba5ccf87197f\")) {                    Plotly.newPlot(                        \"aa59655d-eaec-4b57-bd08-ba5ccf87197f\",                        [{\"x\":[\"TUESDAY\",\"TUESDAY\",\"TUESDAY\",\"TUESDAY\",\"TUESDAY\",\"TUESDAY\",\"TUESDAY\",\"TUESDAY\",\"TUESDAY\",\"TUESDAY\",\"TUESDAY\",\"TUESDAY\",\"TUESDAY\",\"TUESDAY\",\"TUESDAY\",\"TUESDAY\",\"TUESDAY\",\"TUESDAY\",\"TUESDAY\",\"TUESDAY\",\"TUESDAY\",\"TUESDAY\",\"TUESDAY\",\"TUESDAY\",\"WEDNESDAY\",\"WEDNESDAY\",\"WEDNESDAY\",\"WEDNESDAY\",\"WEDNESDAY\",\"WEDNESDAY\",\"WEDNESDAY\",\"WEDNESDAY\",\"WEDNESDAY\",\"WEDNESDAY\",\"WEDNESDAY\",\"WEDNESDAY\",\"WEDNESDAY\",\"WEDNESDAY\",\"WEDNESDAY\",\"WEDNESDAY\",\"WEDNESDAY\",\"WEDNESDAY\",\"WEDNESDAY\",\"WEDNESDAY\",\"WEDNESDAY\",\"WEDNESDAY\",\"WEDNESDAY\",\"WEDNESDAY\",\"THURSDAY\",\"THURSDAY\",\"THURSDAY\",\"THURSDAY\",\"THURSDAY\",\"THURSDAY\",\"THURSDAY\",\"THURSDAY\",\"THURSDAY\",\"THURSDAY\",\"THURSDAY\",\"THURSDAY\",\"THURSDAY\",\"THURSDAY\",\"THURSDAY\",\"THURSDAY\",\"THURSDAY\",\"THURSDAY\",\"THURSDAY\",\"THURSDAY\",\"THURSDAY\",\"THURSDAY\",\"THURSDAY\",\"THURSDAY\",\"FRIDAY\",\"FRIDAY\",\"FRIDAY\",\"FRIDAY\",\"FRIDAY\",\"FRIDAY\",\"FRIDAY\",\"FRIDAY\",\"FRIDAY\",\"FRIDAY\",\"FRIDAY\",\"FRIDAY\",\"FRIDAY\",\"FRIDAY\",\"FRIDAY\",\"FRIDAY\",\"FRIDAY\",\"FRIDAY\",\"FRIDAY\",\"FRIDAY\",\"FRIDAY\",\"FRIDAY\",\"FRIDAY\",\"FRIDAY\",\"SATURDAY\",\"SATURDAY\",\"SATURDAY\",\"SATURDAY\",\"SATURDAY\",\"SATURDAY\",\"SATURDAY\",\"SATURDAY\",\"SATURDAY\",\"SATURDAY\",\"SATURDAY\",\"SATURDAY\",\"SATURDAY\",\"SATURDAY\",\"SATURDAY\",\"SATURDAY\",\"SATURDAY\",\"SATURDAY\",\"SATURDAY\",\"SATURDAY\",\"SATURDAY\",\"SATURDAY\",\"SATURDAY\",\"SATURDAY\",\"SUNDAY\",\"SUNDAY\",\"SUNDAY\",\"SUNDAY\",\"SUNDAY\",\"SUNDAY\",\"SUNDAY\",\"SUNDAY\",\"SUNDAY\",\"SUNDAY\",\"SUNDAY\",\"SUNDAY\",\"SUNDAY\",\"SUNDAY\",\"SUNDAY\",\"SUNDAY\",\"SUNDAY\",\"SUNDAY\",\"SUNDAY\",\"SUNDAY\",\"SUNDAY\",\"SUNDAY\",\"SUNDAY\",\"SUNDAY\",\"MONDAY\",\"MONDAY\",\"MONDAY\",\"MONDAY\",\"MONDAY\",\"MONDAY\",\"MONDAY\",\"MONDAY\",\"MONDAY\",\"MONDAY\",\"MONDAY\",\"MONDAY\",\"MONDAY\",\"MONDAY\",\"MONDAY\",\"MONDAY\",\"MONDAY\",\"MONDAY\",\"MONDAY\",\"MONDAY\",\"MONDAY\",\"MONDAY\",\"MONDAY\",\"MONDAY\"],\"y\":[\"0:00\",\"1:00\",\"2:00\",\"3:00\",\"4:00\",\"5:00\",\"6:00\",\"7:00\",\"8:00\",\"9:00\",\"10:00\",\"11:00\",\"12:00\",\"13:00\",\"14:00\",\"15:00\",\"16:00\",\"17:00\",\"18:00\",\"19:00\",\"20:00\",\"21:00\",\"22:00\",\"23:00\",\"0:00\",\"1:00\",\"2:00\",\"3:00\",\"4:00\",\"5:00\",\"6:00\",\"7:00\",\"8:00\",\"9:00\",\"10:00\",\"11:00\",\"12:00\",\"13:00\",\"14:00\",\"15:00\",\"16:00\",\"17:00\",\"18:00\",\"19:00\",\"20:00\",\"21:00\",\"22:00\",\"23:00\",\"0:00\",\"1:00\",\"2:00\",\"3:00\",\"4:00\",\"5:00\",\"6:00\",\"7:00\",\"8:00\",\"9:00\",\"10:00\",\"11:00\",\"12:00\",\"13:00\",\"14:00\",\"15:00\",\"16:00\",\"17:00\",\"18:00\",\"19:00\",\"20:00\",\"21:00\",\"22:00\",\"23:00\",\"0:00\",\"1:00\",\"2:00\",\"3:00\",\"4:00\",\"5:00\",\"6:00\",\"7:00\",\"8:00\",\"9:00\",\"10:00\",\"11:00\",\"12:00\",\"13:00\",\"14:00\",\"15:00\",\"16:00\",\"17:00\",\"18:00\",\"19:00\",\"20:00\",\"21:00\",\"22:00\",\"23:00\",\"0:00\",\"1:00\",\"2:00\",\"3:00\",\"4:00\",\"5:00\",\"6:00\",\"7:00\",\"8:00\",\"9:00\",\"10:00\",\"11:00\",\"12:00\",\"13:00\",\"14:00\",\"15:00\",\"16:00\",\"17:00\",\"18:00\",\"19:00\",\"20:00\",\"21:00\",\"22:00\",\"23:00\",\"0:00\",\"1:00\",\"2:00\",\"3:00\",\"4:00\",\"5:00\",\"6:00\",\"7:00\",\"8:00\",\"9:00\",\"10:00\",\"11:00\",\"12:00\",\"13:00\",\"14:00\",\"15:00\",\"16:00\",\"17:00\",\"18:00\",\"19:00\",\"20:00\",\"21:00\",\"22:00\",\"23:00\",\"0:00\",\"1:00\",\"2:00\",\"3:00\",\"4:00\",\"5:00\",\"6:00\",\"7:00\",\"8:00\",\"9:00\",\"10:00\",\"11:00\",\"12:00\",\"13:00\",\"14:00\",\"15:00\",\"16:00\",\"17:00\",\"18:00\",\"19:00\",\"20:00\",\"21:00\",\"22:00\",\"23:00\"],\"z\":[12.7,12.7,12.3,12.5,12.7,12.7,13.0,12.7,12.8,12.7,13.2,14.1,14.8,15.3,15.6,15.8,16.0,15.5,14.9,14.4,13.6,13.1,12.3,11.9,11.3,11.1,10.8,10.5,10.4,10.3,11.8,13.7,14.5,14.3,14.9,16.0,16.5,17.0,17.1,16.9,16.4,15.9,15.4,14.4,13.6,13.7,12.8,12.8,12.1,11.9,11.6,11.5,11.2,12.4,12.9,13.7,14.0,14.1,14.5,14.9,15.7,15.6,15.5,15.8,15.6,14.9,14.9,14.5,13.8,13.7,13.6,13.7,13.8,13.0,12.7,13.3,13.6,13.6,13.7,14.1,14.7,14.8,15.9,16.3,16.5,16.8,17.3,17.0,16.3,15.6,15.3,15.0,14.4,14.3,14.2,14.1,14.2,14.0,13.7,13.7,13.7,13.7,13.8,14.2,14.6,15.1,16.2,17.2,17.3,17.2,17.0,16.9,16.2,15.5,15.3,14.6,15.0,15.2,15.0,15.1,15.0,15.0,15.0,15.1,15.2,15.2,15.2,15.3,15.3,15.3,15.8,16.3,17.4,17.6,17.7,17.4,16.4,16.2,16.0,15.0,13.9,13.7,14.6,15.0,15.1,14.9,14.8,14.8,14.9,14.9,14.8,14.9,15.1,15.3,15.6,15.8,16.5,16.5,16.8,17.5,17.7,17.6,16.5,15.6,14.8,14.3,14.4,14.6],\"type\":\"heatmap\"}],                        {\"template\":{\"data\":{\"barpolar\":[{\"marker\":{\"line\":{\"color\":\"#E5ECF6\",\"width\":0.5},\"pattern\":{\"fillmode\":\"overlay\",\"size\":10,\"solidity\":0.2}},\"type\":\"barpolar\"}],\"bar\":[{\"error_x\":{\"color\":\"#2a3f5f\"},\"error_y\":{\"color\":\"#2a3f5f\"},\"marker\":{\"line\":{\"color\":\"#E5ECF6\",\"width\":0.5},\"pattern\":{\"fillmode\":\"overlay\",\"size\":10,\"solidity\":0.2}},\"type\":\"bar\"}],\"carpet\":[{\"aaxis\":{\"endlinecolor\":\"#2a3f5f\",\"gridcolor\":\"white\",\"linecolor\":\"white\",\"minorgridcolor\":\"white\",\"startlinecolor\":\"#2a3f5f\"},\"baxis\":{\"endlinecolor\":\"#2a3f5f\",\"gridcolor\":\"white\",\"linecolor\":\"white\",\"minorgridcolor\":\"white\",\"startlinecolor\":\"#2a3f5f\"},\"type\":\"carpet\"}],\"choropleth\":[{\"colorbar\":{\"outlinewidth\":0,\"ticks\":\"\"},\"type\":\"choropleth\"}],\"contourcarpet\":[{\"colorbar\":{\"outlinewidth\":0,\"ticks\":\"\"},\"type\":\"contourcarpet\"}],\"contour\":[{\"colorbar\":{\"outlinewidth\":0,\"ticks\":\"\"},\"colorscale\":[[0.0,\"#0d0887\"],[0.1111111111111111,\"#46039f\"],[0.2222222222222222,\"#7201a8\"],[0.3333333333333333,\"#9c179e\"],[0.4444444444444444,\"#bd3786\"],[0.5555555555555556,\"#d8576b\"],[0.6666666666666666,\"#ed7953\"],[0.7777777777777778,\"#fb9f3a\"],[0.8888888888888888,\"#fdca26\"],[1.0,\"#f0f921\"]],\"type\":\"contour\"}],\"heatmapgl\":[{\"colorbar\":{\"outlinewidth\":0,\"ticks\":\"\"},\"colorscale\":[[0.0,\"#0d0887\"],[0.1111111111111111,\"#46039f\"],[0.2222222222222222,\"#7201a8\"],[0.3333333333333333,\"#9c179e\"],[0.4444444444444444,\"#bd3786\"],[0.5555555555555556,\"#d8576b\"],[0.6666666666666666,\"#ed7953\"],[0.7777777777777778,\"#fb9f3a\"],[0.8888888888888888,\"#fdca26\"],[1.0,\"#f0f921\"]],\"type\":\"heatmapgl\"}],\"heatmap\":[{\"colorbar\":{\"outlinewidth\":0,\"ticks\":\"\"},\"colorscale\":[[0.0,\"#0d0887\"],[0.1111111111111111,\"#46039f\"],[0.2222222222222222,\"#7201a8\"],[0.3333333333333333,\"#9c179e\"],[0.4444444444444444,\"#bd3786\"],[0.5555555555555556,\"#d8576b\"],[0.6666666666666666,\"#ed7953\"],[0.7777777777777778,\"#fb9f3a\"],[0.8888888888888888,\"#fdca26\"],[1.0,\"#f0f921\"]],\"type\":\"heatmap\"}],\"histogram2dcontour\":[{\"colorbar\":{\"outlinewidth\":0,\"ticks\":\"\"},\"colorscale\":[[0.0,\"#0d0887\"],[0.1111111111111111,\"#46039f\"],[0.2222222222222222,\"#7201a8\"],[0.3333333333333333,\"#9c179e\"],[0.4444444444444444,\"#bd3786\"],[0.5555555555555556,\"#d8576b\"],[0.6666666666666666,\"#ed7953\"],[0.7777777777777778,\"#fb9f3a\"],[0.8888888888888888,\"#fdca26\"],[1.0,\"#f0f921\"]],\"type\":\"histogram2dcontour\"}],\"histogram2d\":[{\"colorbar\":{\"outlinewidth\":0,\"ticks\":\"\"},\"colorscale\":[[0.0,\"#0d0887\"],[0.1111111111111111,\"#46039f\"],[0.2222222222222222,\"#7201a8\"],[0.3333333333333333,\"#9c179e\"],[0.4444444444444444,\"#bd3786\"],[0.5555555555555556,\"#d8576b\"],[0.6666666666666666,\"#ed7953\"],[0.7777777777777778,\"#fb9f3a\"],[0.8888888888888888,\"#fdca26\"],[1.0,\"#f0f921\"]],\"type\":\"histogram2d\"}],\"histogram\":[{\"marker\":{\"pattern\":{\"fillmode\":\"overlay\",\"size\":10,\"solidity\":0.2}},\"type\":\"histogram\"}],\"mesh3d\":[{\"colorbar\":{\"outlinewidth\":0,\"ticks\":\"\"},\"type\":\"mesh3d\"}],\"parcoords\":[{\"line\":{\"colorbar\":{\"outlinewidth\":0,\"ticks\":\"\"}},\"type\":\"parcoords\"}],\"pie\":[{\"automargin\":true,\"type\":\"pie\"}],\"scatter3d\":[{\"line\":{\"colorbar\":{\"outlinewidth\":0,\"ticks\":\"\"}},\"marker\":{\"colorbar\":{\"outlinewidth\":0,\"ticks\":\"\"}},\"type\":\"scatter3d\"}],\"scattercarpet\":[{\"marker\":{\"colorbar\":{\"outlinewidth\":0,\"ticks\":\"\"}},\"type\":\"scattercarpet\"}],\"scattergeo\":[{\"marker\":{\"colorbar\":{\"outlinewidth\":0,\"ticks\":\"\"}},\"type\":\"scattergeo\"}],\"scattergl\":[{\"marker\":{\"colorbar\":{\"outlinewidth\":0,\"ticks\":\"\"}},\"type\":\"scattergl\"}],\"scattermapbox\":[{\"marker\":{\"colorbar\":{\"outlinewidth\":0,\"ticks\":\"\"}},\"type\":\"scattermapbox\"}],\"scatterpolargl\":[{\"marker\":{\"colorbar\":{\"outlinewidth\":0,\"ticks\":\"\"}},\"type\":\"scatterpolargl\"}],\"scatterpolar\":[{\"marker\":{\"colorbar\":{\"outlinewidth\":0,\"ticks\":\"\"}},\"type\":\"scatterpolar\"}],\"scatter\":[{\"marker\":{\"colorbar\":{\"outlinewidth\":0,\"ticks\":\"\"}},\"type\":\"scatter\"}],\"scatterternary\":[{\"marker\":{\"colorbar\":{\"outlinewidth\":0,\"ticks\":\"\"}},\"type\":\"scatterternary\"}],\"surface\":[{\"colorbar\":{\"outlinewidth\":0,\"ticks\":\"\"},\"colorscale\":[[0.0,\"#0d0887\"],[0.1111111111111111,\"#46039f\"],[0.2222222222222222,\"#7201a8\"],[0.3333333333333333,\"#9c179e\"],[0.4444444444444444,\"#bd3786\"],[0.5555555555555556,\"#d8576b\"],[0.6666666666666666,\"#ed7953\"],[0.7777777777777778,\"#fb9f3a\"],[0.8888888888888888,\"#fdca26\"],[1.0,\"#f0f921\"]],\"type\":\"surface\"}],\"table\":[{\"cells\":{\"fill\":{\"color\":\"#EBF0F8\"},\"line\":{\"color\":\"white\"}},\"header\":{\"fill\":{\"color\":\"#C8D4E3\"},\"line\":{\"color\":\"white\"}},\"type\":\"table\"}]},\"layout\":{\"annotationdefaults\":{\"arrowcolor\":\"#2a3f5f\",\"arrowhead\":0,\"arrowwidth\":1},\"autotypenumbers\":\"strict\",\"coloraxis\":{\"colorbar\":{\"outlinewidth\":0,\"ticks\":\"\"}},\"colorscale\":{\"diverging\":[[0,\"#8e0152\"],[0.1,\"#c51b7d\"],[0.2,\"#de77ae\"],[0.3,\"#f1b6da\"],[0.4,\"#fde0ef\"],[0.5,\"#f7f7f7\"],[0.6,\"#e6f5d0\"],[0.7,\"#b8e186\"],[0.8,\"#7fbc41\"],[0.9,\"#4d9221\"],[1,\"#276419\"]],\"sequential\":[[0.0,\"#0d0887\"],[0.1111111111111111,\"#46039f\"],[0.2222222222222222,\"#7201a8\"],[0.3333333333333333,\"#9c179e\"],[0.4444444444444444,\"#bd3786\"],[0.5555555555555556,\"#d8576b\"],[0.6666666666666666,\"#ed7953\"],[0.7777777777777778,\"#fb9f3a\"],[0.8888888888888888,\"#fdca26\"],[1.0,\"#f0f921\"]],\"sequentialminus\":[[0.0,\"#0d0887\"],[0.1111111111111111,\"#46039f\"],[0.2222222222222222,\"#7201a8\"],[0.3333333333333333,\"#9c179e\"],[0.4444444444444444,\"#bd3786\"],[0.5555555555555556,\"#d8576b\"],[0.6666666666666666,\"#ed7953\"],[0.7777777777777778,\"#fb9f3a\"],[0.8888888888888888,\"#fdca26\"],[1.0,\"#f0f921\"]]},\"colorway\":[\"#636efa\",\"#EF553B\",\"#00cc96\",\"#ab63fa\",\"#FFA15A\",\"#19d3f3\",\"#FF6692\",\"#B6E880\",\"#FF97FF\",\"#FECB52\"],\"font\":{\"color\":\"#2a3f5f\"},\"geo\":{\"bgcolor\":\"white\",\"lakecolor\":\"white\",\"landcolor\":\"#E5ECF6\",\"showlakes\":true,\"showland\":true,\"subunitcolor\":\"white\"},\"hoverlabel\":{\"align\":\"left\"},\"hovermode\":\"closest\",\"mapbox\":{\"style\":\"light\"},\"paper_bgcolor\":\"white\",\"plot_bgcolor\":\"#E5ECF6\",\"polar\":{\"angularaxis\":{\"gridcolor\":\"white\",\"linecolor\":\"white\",\"ticks\":\"\"},\"bgcolor\":\"#E5ECF6\",\"radialaxis\":{\"gridcolor\":\"white\",\"linecolor\":\"white\",\"ticks\":\"\"}},\"scene\":{\"xaxis\":{\"backgroundcolor\":\"#E5ECF6\",\"gridcolor\":\"white\",\"gridwidth\":2,\"linecolor\":\"white\",\"showbackground\":true,\"ticks\":\"\",\"zerolinecolor\":\"white\"},\"yaxis\":{\"backgroundcolor\":\"#E5ECF6\",\"gridcolor\":\"white\",\"gridwidth\":2,\"linecolor\":\"white\",\"showbackground\":true,\"ticks\":\"\",\"zerolinecolor\":\"white\"},\"zaxis\":{\"backgroundcolor\":\"#E5ECF6\",\"gridcolor\":\"white\",\"gridwidth\":2,\"linecolor\":\"white\",\"showbackground\":true,\"ticks\":\"\",\"zerolinecolor\":\"white\"}},\"shapedefaults\":{\"line\":{\"color\":\"#2a3f5f\"}},\"ternary\":{\"aaxis\":{\"gridcolor\":\"white\",\"linecolor\":\"white\",\"ticks\":\"\"},\"baxis\":{\"gridcolor\":\"white\",\"linecolor\":\"white\",\"ticks\":\"\"},\"bgcolor\":\"#E5ECF6\",\"caxis\":{\"gridcolor\":\"white\",\"linecolor\":\"white\",\"ticks\":\"\"}},\"title\":{\"x\":0.05},\"xaxis\":{\"automargin\":true,\"gridcolor\":\"white\",\"linecolor\":\"white\",\"ticks\":\"\",\"title\":{\"standoff\":15},\"zerolinecolor\":\"white\",\"zerolinewidth\":2},\"yaxis\":{\"automargin\":true,\"gridcolor\":\"white\",\"linecolor\":\"white\",\"ticks\":\"\",\"title\":{\"standoff\":15},\"zerolinecolor\":\"white\",\"zerolinewidth\":2}}},\"title\":{\"text\":\"SB CA Temp\"}},                        {\"responsive\": true}                    ).then(function(){\n",
              "                            \n",
              "var gd = document.getElementById('aa59655d-eaec-4b57-bd08-ba5ccf87197f');\n",
              "var x = new MutationObserver(function (mutations, observer) {{\n",
              "        var display = window.getComputedStyle(gd).display;\n",
              "        if (!display || display === 'none') {{\n",
              "            console.log([gd, 'removed!']);\n",
              "            Plotly.purge(gd);\n",
              "            observer.disconnect();\n",
              "        }}\n",
              "}});\n",
              "\n",
              "// Listen for the removal of the full notebook cells\n",
              "var notebookContainer = gd.closest('#notebook-container');\n",
              "if (notebookContainer) {{\n",
              "    x.observe(notebookContainer, {childList: true});\n",
              "}}\n",
              "\n",
              "// Listen for the clearing of the current output cell\n",
              "var outputEl = gd.closest('.output');\n",
              "if (outputEl) {{\n",
              "    x.observe(outputEl, {childList: true});\n",
              "}}\n",
              "\n",
              "                        })                };                            </script>        </div>\n",
              "</body>\n",
              "</html>"
            ]
          },
          "metadata": {}
        }
      ]
    },
    {
      "cell_type": "markdown",
      "source": [
        "### Subplots\n",
        "\n",
        "Codes below demonstrate a way to create subplot with plotly.\n",
        "\n",
        "You will need to import `tools` from plotly package."
      ],
      "metadata": {
        "id": "_3lbTL-AKpsP"
      }
    },
    {
      "cell_type": "code",
      "source": [
        "df1 = pd.read_csv(\n",
        "    \"https://raw.githubusercontent.com/Pierian-Data/Plotly-Dashboards-with-Dash/master/Data/2010YumaAZ.csv\"\n",
        ")\n",
        "df2 = pd.read_csv(\n",
        "    \"https://raw.githubusercontent.com/Pierian-Data/Plotly-Dashboards-with-Dash/master/Data/2010SantaBarbaraCA.csv\"\n",
        ")\n",
        "df3 = pd.read_csv(\n",
        "    \"https://raw.githubusercontent.com/Pierian-Data/Plotly-Dashboards-with-Dash/master/Data/2010SitkaAK.csv\"\n",
        ")\n",
        "\n",
        "trace1 = go.Heatmap(\n",
        "    x=df1[\"DAY\"],\n",
        "    y=df1[\"LST_TIME\"],\n",
        "    z=df1[\"T_HR_AVG\"],\n",
        "    colorscale=\"Jet\",\n",
        "    zmin=5,\n",
        "    zmax=40,\n",
        ")\n",
        "\n",
        "trace2 = go.Heatmap(\n",
        "    x=df2[\"DAY\"],\n",
        "    y=df2[\"LST_TIME\"],\n",
        "    z=df2[\"T_HR_AVG\"],\n",
        "    colorscale=\"Jet\",\n",
        "    zmin=5,\n",
        "    zmax=40,\n",
        ")\n",
        "\n",
        "trace3 = go.Heatmap(\n",
        "    x=df3[\"DAY\"],\n",
        "    y=df3[\"LST_TIME\"],\n",
        "    z=df3[\"T_HR_AVG\"],\n",
        "    colorscale=\"Jet\",\n",
        "    zmin=5,\n",
        "    zmax=40,\n",
        ")\n",
        "\n",
        "fig = tools.make_subplots(\n",
        "    rows=1,\n",
        "    cols=3,\n",
        "    subplot_titles=[\"df1 data\", \"df2 data\", \"df3 data\"],\n",
        "    shared_yaxes=True,\n",
        ")\n",
        "\n",
        "fig.append_trace(trace1, 1, 1)\n",
        "fig.append_trace(trace2, 1, 2)\n",
        "fig.append_trace(trace3, 1, 3)\n",
        "\n",
        "fig[\"layout\"].update(title=\"Temps for 3 cities\")\n",
        "\n",
        "pyo.iplot(fig)\n"
      ],
      "metadata": {
        "colab": {
          "base_uri": "https://localhost:8080/",
          "height": 608
        },
        "id": "S7UafE-YKah3",
        "outputId": "e60b52fc-9038-4322-c539-2b85b4e4a03d"
      },
      "execution_count": null,
      "outputs": [
        {
          "output_type": "stream",
          "name": "stderr",
          "text": [
            "/usr/local/lib/python3.7/dist-packages/plotly/tools.py:465: DeprecationWarning:\n",
            "\n",
            "plotly.tools.make_subplots is deprecated, please use plotly.subplots.make_subplots instead\n",
            "\n"
          ]
        },
        {
          "output_type": "display_data",
          "data": {
            "text/html": [
              "<html>\n",
              "<head><meta charset=\"utf-8\" /></head>\n",
              "<body>\n",
              "    <div>            <script src=\"https://cdnjs.cloudflare.com/ajax/libs/mathjax/2.7.5/MathJax.js?config=TeX-AMS-MML_SVG\"></script><script type=\"text/javascript\">if (window.MathJax) {MathJax.Hub.Config({SVG: {font: \"STIX-Web\"}});}</script>                <script type=\"text/javascript\">window.PlotlyConfig = {MathJaxConfig: 'local'};</script>\n",
              "        <script src=\"https://cdn.plot.ly/plotly-2.8.3.min.js\"></script>                <div id=\"5c0739e6-0c11-46e6-a667-e448d8e33515\" class=\"plotly-graph-div\" style=\"height:525px; width:100%;\"></div>            <script type=\"text/javascript\">                                    window.PLOTLYENV=window.PLOTLYENV || {};                                    if (document.getElementById(\"5c0739e6-0c11-46e6-a667-e448d8e33515\")) {                    Plotly.newPlot(                        \"5c0739e6-0c11-46e6-a667-e448d8e33515\",                        [{\"colorscale\":[[0.0,\"rgb(0,0,131)\"],[0.2,\"rgb(0,60,170)\"],[0.4,\"rgb(5,255,255)\"],[0.6,\"rgb(255,255,0)\"],[0.8,\"rgb(250,0,0)\"],[1.0,\"rgb(128,0,0)\"]],\"x\":[\"TUESDAY\",\"TUESDAY\",\"TUESDAY\",\"TUESDAY\",\"TUESDAY\",\"TUESDAY\",\"TUESDAY\",\"TUESDAY\",\"TUESDAY\",\"TUESDAY\",\"TUESDAY\",\"TUESDAY\",\"TUESDAY\",\"TUESDAY\",\"TUESDAY\",\"TUESDAY\",\"TUESDAY\",\"TUESDAY\",\"TUESDAY\",\"TUESDAY\",\"TUESDAY\",\"TUESDAY\",\"TUESDAY\",\"TUESDAY\",\"WEDNESDAY\",\"WEDNESDAY\",\"WEDNESDAY\",\"WEDNESDAY\",\"WEDNESDAY\",\"WEDNESDAY\",\"WEDNESDAY\",\"WEDNESDAY\",\"WEDNESDAY\",\"WEDNESDAY\",\"WEDNESDAY\",\"WEDNESDAY\",\"WEDNESDAY\",\"WEDNESDAY\",\"WEDNESDAY\",\"WEDNESDAY\",\"WEDNESDAY\",\"WEDNESDAY\",\"WEDNESDAY\",\"WEDNESDAY\",\"WEDNESDAY\",\"WEDNESDAY\",\"WEDNESDAY\",\"WEDNESDAY\",\"THURSDAY\",\"THURSDAY\",\"THURSDAY\",\"THURSDAY\",\"THURSDAY\",\"THURSDAY\",\"THURSDAY\",\"THURSDAY\",\"THURSDAY\",\"THURSDAY\",\"THURSDAY\",\"THURSDAY\",\"THURSDAY\",\"THURSDAY\",\"THURSDAY\",\"THURSDAY\",\"THURSDAY\",\"THURSDAY\",\"THURSDAY\",\"THURSDAY\",\"THURSDAY\",\"THURSDAY\",\"THURSDAY\",\"THURSDAY\",\"FRIDAY\",\"FRIDAY\",\"FRIDAY\",\"FRIDAY\",\"FRIDAY\",\"FRIDAY\",\"FRIDAY\",\"FRIDAY\",\"FRIDAY\",\"FRIDAY\",\"FRIDAY\",\"FRIDAY\",\"FRIDAY\",\"FRIDAY\",\"FRIDAY\",\"FRIDAY\",\"FRIDAY\",\"FRIDAY\",\"FRIDAY\",\"FRIDAY\",\"FRIDAY\",\"FRIDAY\",\"FRIDAY\",\"FRIDAY\",\"SATURDAY\",\"SATURDAY\",\"SATURDAY\",\"SATURDAY\",\"SATURDAY\",\"SATURDAY\",\"SATURDAY\",\"SATURDAY\",\"SATURDAY\",\"SATURDAY\",\"SATURDAY\",\"SATURDAY\",\"SATURDAY\",\"SATURDAY\",\"SATURDAY\",\"SATURDAY\",\"SATURDAY\",\"SATURDAY\",\"SATURDAY\",\"SATURDAY\",\"SATURDAY\",\"SATURDAY\",\"SATURDAY\",\"SATURDAY\",\"SUNDAY\",\"SUNDAY\",\"SUNDAY\",\"SUNDAY\",\"SUNDAY\",\"SUNDAY\",\"SUNDAY\",\"SUNDAY\",\"SUNDAY\",\"SUNDAY\",\"SUNDAY\",\"SUNDAY\",\"SUNDAY\",\"SUNDAY\",\"SUNDAY\",\"SUNDAY\",\"SUNDAY\",\"SUNDAY\",\"SUNDAY\",\"SUNDAY\",\"SUNDAY\",\"SUNDAY\",\"SUNDAY\",\"SUNDAY\",\"MONDAY\",\"MONDAY\",\"MONDAY\",\"MONDAY\",\"MONDAY\",\"MONDAY\",\"MONDAY\",\"MONDAY\",\"MONDAY\",\"MONDAY\",\"MONDAY\",\"MONDAY\",\"MONDAY\",\"MONDAY\",\"MONDAY\",\"MONDAY\",\"MONDAY\",\"MONDAY\",\"MONDAY\",\"MONDAY\",\"MONDAY\",\"MONDAY\",\"MONDAY\",\"MONDAY\"],\"xaxis\":\"x\",\"y\":[\"0:00\",\"1:00\",\"2:00\",\"3:00\",\"4:00\",\"5:00\",\"6:00\",\"7:00\",\"8:00\",\"9:00\",\"10:00\",\"11:00\",\"12:00\",\"13:00\",\"14:00\",\"15:00\",\"16:00\",\"17:00\",\"18:00\",\"19:00\",\"20:00\",\"21:00\",\"22:00\",\"23:00\",\"0:00\",\"1:00\",\"2:00\",\"3:00\",\"4:00\",\"5:00\",\"6:00\",\"7:00\",\"8:00\",\"9:00\",\"10:00\",\"11:00\",\"12:00\",\"13:00\",\"14:00\",\"15:00\",\"16:00\",\"17:00\",\"18:00\",\"19:00\",\"20:00\",\"21:00\",\"22:00\",\"23:00\",\"0:00\",\"1:00\",\"2:00\",\"3:00\",\"4:00\",\"5:00\",\"6:00\",\"7:00\",\"8:00\",\"9:00\",\"10:00\",\"11:00\",\"12:00\",\"13:00\",\"14:00\",\"15:00\",\"16:00\",\"17:00\",\"18:00\",\"19:00\",\"20:00\",\"21:00\",\"22:00\",\"23:00\",\"0:00\",\"1:00\",\"2:00\",\"3:00\",\"4:00\",\"5:00\",\"6:00\",\"7:00\",\"8:00\",\"9:00\",\"10:00\",\"11:00\",\"12:00\",\"13:00\",\"14:00\",\"15:00\",\"16:00\",\"17:00\",\"18:00\",\"19:00\",\"20:00\",\"21:00\",\"22:00\",\"23:00\",\"0:00\",\"1:00\",\"2:00\",\"3:00\",\"4:00\",\"5:00\",\"6:00\",\"7:00\",\"8:00\",\"9:00\",\"10:00\",\"11:00\",\"12:00\",\"13:00\",\"14:00\",\"15:00\",\"16:00\",\"17:00\",\"18:00\",\"19:00\",\"20:00\",\"21:00\",\"22:00\",\"23:00\",\"0:00\",\"1:00\",\"2:00\",\"3:00\",\"4:00\",\"5:00\",\"6:00\",\"7:00\",\"8:00\",\"9:00\",\"10:00\",\"11:00\",\"12:00\",\"13:00\",\"14:00\",\"15:00\",\"16:00\",\"17:00\",\"18:00\",\"19:00\",\"20:00\",\"21:00\",\"22:00\",\"23:00\",\"0:00\",\"1:00\",\"2:00\",\"3:00\",\"4:00\",\"5:00\",\"6:00\",\"7:00\",\"8:00\",\"9:00\",\"10:00\",\"11:00\",\"12:00\",\"13:00\",\"14:00\",\"15:00\",\"16:00\",\"17:00\",\"18:00\",\"19:00\",\"20:00\",\"21:00\",\"22:00\",\"23:00\"],\"yaxis\":\"y\",\"z\":[25.2,24.1,24.4,24.9,22.8,19.8,18.8,21.2,24.2,27.1,29.3,30.6,32.6,34.0,34.0,34.9,34.6,33.8,33.5,32.8,31.0,29.0,27.6,26.3,23.8,20.6,19.1,18.4,18.9,18.2,17.9,20.2,23.8,26.1,27.9,29.3,30.9,32.2,33.1,33.7,34.5,34.7,34.8,34.2,32.8,31.0,28.7,25.5,24.3,23.1,21.8,19.8,18.5,19.2,19.7,20.7,23.2,26.1,28.6,30.8,32.3,33.8,34.9,35.8,35.9,36.3,35.8,35.4,34.2,32.7,31.1,28.6,26.4,25.4,24.2,23.6,22.5,21.0,21.3,22.5,24.7,28.1,30.6,32.5,33.9,35.5,36.6,37.2,37.8,38.1,38.2,37.4,36.0,34.4,32.6,30.1,28.3,27.3,26.3,25.3,24.7,24.7,23.9,24.7,27.7,30.4,32.6,34.8,36.4,37.2,38.4,39.7,40.0,40.4,40.1,39.0,37.3,35.7,33.9,31.4,29.7,28.6,26.9,25.9,25.2,24.8,23.9,26.1,27.9,30.5,33.7,35.6,36.9,38.4,39.2,40.2,40.6,40.6,40.3,39.5,37.9,36.5,35.0,32.9,30.9,28.7,26.9,25.2,24.1,24.3,23.4,25.7,28.5,30.7,32.5,34.1,36.1,37.6,39.0,40.2,40.3,40.2,40.1,39.4,38.5,37.0,34.7,32.6],\"zmax\":40,\"zmin\":5,\"type\":\"heatmap\"},{\"colorscale\":[[0.0,\"rgb(0,0,131)\"],[0.2,\"rgb(0,60,170)\"],[0.4,\"rgb(5,255,255)\"],[0.6,\"rgb(255,255,0)\"],[0.8,\"rgb(250,0,0)\"],[1.0,\"rgb(128,0,0)\"]],\"x\":[\"TUESDAY\",\"TUESDAY\",\"TUESDAY\",\"TUESDAY\",\"TUESDAY\",\"TUESDAY\",\"TUESDAY\",\"TUESDAY\",\"TUESDAY\",\"TUESDAY\",\"TUESDAY\",\"TUESDAY\",\"TUESDAY\",\"TUESDAY\",\"TUESDAY\",\"TUESDAY\",\"TUESDAY\",\"TUESDAY\",\"TUESDAY\",\"TUESDAY\",\"TUESDAY\",\"TUESDAY\",\"TUESDAY\",\"TUESDAY\",\"WEDNESDAY\",\"WEDNESDAY\",\"WEDNESDAY\",\"WEDNESDAY\",\"WEDNESDAY\",\"WEDNESDAY\",\"WEDNESDAY\",\"WEDNESDAY\",\"WEDNESDAY\",\"WEDNESDAY\",\"WEDNESDAY\",\"WEDNESDAY\",\"WEDNESDAY\",\"WEDNESDAY\",\"WEDNESDAY\",\"WEDNESDAY\",\"WEDNESDAY\",\"WEDNESDAY\",\"WEDNESDAY\",\"WEDNESDAY\",\"WEDNESDAY\",\"WEDNESDAY\",\"WEDNESDAY\",\"WEDNESDAY\",\"THURSDAY\",\"THURSDAY\",\"THURSDAY\",\"THURSDAY\",\"THURSDAY\",\"THURSDAY\",\"THURSDAY\",\"THURSDAY\",\"THURSDAY\",\"THURSDAY\",\"THURSDAY\",\"THURSDAY\",\"THURSDAY\",\"THURSDAY\",\"THURSDAY\",\"THURSDAY\",\"THURSDAY\",\"THURSDAY\",\"THURSDAY\",\"THURSDAY\",\"THURSDAY\",\"THURSDAY\",\"THURSDAY\",\"THURSDAY\",\"FRIDAY\",\"FRIDAY\",\"FRIDAY\",\"FRIDAY\",\"FRIDAY\",\"FRIDAY\",\"FRIDAY\",\"FRIDAY\",\"FRIDAY\",\"FRIDAY\",\"FRIDAY\",\"FRIDAY\",\"FRIDAY\",\"FRIDAY\",\"FRIDAY\",\"FRIDAY\",\"FRIDAY\",\"FRIDAY\",\"FRIDAY\",\"FRIDAY\",\"FRIDAY\",\"FRIDAY\",\"FRIDAY\",\"FRIDAY\",\"SATURDAY\",\"SATURDAY\",\"SATURDAY\",\"SATURDAY\",\"SATURDAY\",\"SATURDAY\",\"SATURDAY\",\"SATURDAY\",\"SATURDAY\",\"SATURDAY\",\"SATURDAY\",\"SATURDAY\",\"SATURDAY\",\"SATURDAY\",\"SATURDAY\",\"SATURDAY\",\"SATURDAY\",\"SATURDAY\",\"SATURDAY\",\"SATURDAY\",\"SATURDAY\",\"SATURDAY\",\"SATURDAY\",\"SATURDAY\",\"SUNDAY\",\"SUNDAY\",\"SUNDAY\",\"SUNDAY\",\"SUNDAY\",\"SUNDAY\",\"SUNDAY\",\"SUNDAY\",\"SUNDAY\",\"SUNDAY\",\"SUNDAY\",\"SUNDAY\",\"SUNDAY\",\"SUNDAY\",\"SUNDAY\",\"SUNDAY\",\"SUNDAY\",\"SUNDAY\",\"SUNDAY\",\"SUNDAY\",\"SUNDAY\",\"SUNDAY\",\"SUNDAY\",\"SUNDAY\",\"MONDAY\",\"MONDAY\",\"MONDAY\",\"MONDAY\",\"MONDAY\",\"MONDAY\",\"MONDAY\",\"MONDAY\",\"MONDAY\",\"MONDAY\",\"MONDAY\",\"MONDAY\",\"MONDAY\",\"MONDAY\",\"MONDAY\",\"MONDAY\",\"MONDAY\",\"MONDAY\",\"MONDAY\",\"MONDAY\",\"MONDAY\",\"MONDAY\",\"MONDAY\",\"MONDAY\"],\"xaxis\":\"x2\",\"y\":[\"0:00\",\"1:00\",\"2:00\",\"3:00\",\"4:00\",\"5:00\",\"6:00\",\"7:00\",\"8:00\",\"9:00\",\"10:00\",\"11:00\",\"12:00\",\"13:00\",\"14:00\",\"15:00\",\"16:00\",\"17:00\",\"18:00\",\"19:00\",\"20:00\",\"21:00\",\"22:00\",\"23:00\",\"0:00\",\"1:00\",\"2:00\",\"3:00\",\"4:00\",\"5:00\",\"6:00\",\"7:00\",\"8:00\",\"9:00\",\"10:00\",\"11:00\",\"12:00\",\"13:00\",\"14:00\",\"15:00\",\"16:00\",\"17:00\",\"18:00\",\"19:00\",\"20:00\",\"21:00\",\"22:00\",\"23:00\",\"0:00\",\"1:00\",\"2:00\",\"3:00\",\"4:00\",\"5:00\",\"6:00\",\"7:00\",\"8:00\",\"9:00\",\"10:00\",\"11:00\",\"12:00\",\"13:00\",\"14:00\",\"15:00\",\"16:00\",\"17:00\",\"18:00\",\"19:00\",\"20:00\",\"21:00\",\"22:00\",\"23:00\",\"0:00\",\"1:00\",\"2:00\",\"3:00\",\"4:00\",\"5:00\",\"6:00\",\"7:00\",\"8:00\",\"9:00\",\"10:00\",\"11:00\",\"12:00\",\"13:00\",\"14:00\",\"15:00\",\"16:00\",\"17:00\",\"18:00\",\"19:00\",\"20:00\",\"21:00\",\"22:00\",\"23:00\",\"0:00\",\"1:00\",\"2:00\",\"3:00\",\"4:00\",\"5:00\",\"6:00\",\"7:00\",\"8:00\",\"9:00\",\"10:00\",\"11:00\",\"12:00\",\"13:00\",\"14:00\",\"15:00\",\"16:00\",\"17:00\",\"18:00\",\"19:00\",\"20:00\",\"21:00\",\"22:00\",\"23:00\",\"0:00\",\"1:00\",\"2:00\",\"3:00\",\"4:00\",\"5:00\",\"6:00\",\"7:00\",\"8:00\",\"9:00\",\"10:00\",\"11:00\",\"12:00\",\"13:00\",\"14:00\",\"15:00\",\"16:00\",\"17:00\",\"18:00\",\"19:00\",\"20:00\",\"21:00\",\"22:00\",\"23:00\",\"0:00\",\"1:00\",\"2:00\",\"3:00\",\"4:00\",\"5:00\",\"6:00\",\"7:00\",\"8:00\",\"9:00\",\"10:00\",\"11:00\",\"12:00\",\"13:00\",\"14:00\",\"15:00\",\"16:00\",\"17:00\",\"18:00\",\"19:00\",\"20:00\",\"21:00\",\"22:00\",\"23:00\"],\"yaxis\":\"y2\",\"z\":[12.7,12.7,12.3,12.5,12.7,12.7,13.0,12.7,12.8,12.7,13.2,14.1,14.8,15.3,15.6,15.8,16.0,15.5,14.9,14.4,13.6,13.1,12.3,11.9,11.3,11.1,10.8,10.5,10.4,10.3,11.8,13.7,14.5,14.3,14.9,16.0,16.5,17.0,17.1,16.9,16.4,15.9,15.4,14.4,13.6,13.7,12.8,12.8,12.1,11.9,11.6,11.5,11.2,12.4,12.9,13.7,14.0,14.1,14.5,14.9,15.7,15.6,15.5,15.8,15.6,14.9,14.9,14.5,13.8,13.7,13.6,13.7,13.8,13.0,12.7,13.3,13.6,13.6,13.7,14.1,14.7,14.8,15.9,16.3,16.5,16.8,17.3,17.0,16.3,15.6,15.3,15.0,14.4,14.3,14.2,14.1,14.2,14.0,13.7,13.7,13.7,13.7,13.8,14.2,14.6,15.1,16.2,17.2,17.3,17.2,17.0,16.9,16.2,15.5,15.3,14.6,15.0,15.2,15.0,15.1,15.0,15.0,15.0,15.1,15.2,15.2,15.2,15.3,15.3,15.3,15.8,16.3,17.4,17.6,17.7,17.4,16.4,16.2,16.0,15.0,13.9,13.7,14.6,15.0,15.1,14.9,14.8,14.8,14.9,14.9,14.8,14.9,15.1,15.3,15.6,15.8,16.5,16.5,16.8,17.5,17.7,17.6,16.5,15.6,14.8,14.3,14.4,14.6],\"zmax\":40,\"zmin\":5,\"type\":\"heatmap\"},{\"colorscale\":[[0.0,\"rgb(0,0,131)\"],[0.2,\"rgb(0,60,170)\"],[0.4,\"rgb(5,255,255)\"],[0.6,\"rgb(255,255,0)\"],[0.8,\"rgb(250,0,0)\"],[1.0,\"rgb(128,0,0)\"]],\"x\":[\"TUESDAY\",\"TUESDAY\",\"TUESDAY\",\"TUESDAY\",\"TUESDAY\",\"TUESDAY\",\"TUESDAY\",\"TUESDAY\",\"TUESDAY\",\"TUESDAY\",\"TUESDAY\",\"TUESDAY\",\"TUESDAY\",\"TUESDAY\",\"TUESDAY\",\"TUESDAY\",\"TUESDAY\",\"TUESDAY\",\"TUESDAY\",\"TUESDAY\",\"TUESDAY\",\"TUESDAY\",\"TUESDAY\",\"TUESDAY\",\"WEDNESDAY\",\"WEDNESDAY\",\"WEDNESDAY\",\"WEDNESDAY\",\"WEDNESDAY\",\"WEDNESDAY\",\"WEDNESDAY\",\"WEDNESDAY\",\"WEDNESDAY\",\"WEDNESDAY\",\"WEDNESDAY\",\"WEDNESDAY\",\"WEDNESDAY\",\"WEDNESDAY\",\"WEDNESDAY\",\"WEDNESDAY\",\"WEDNESDAY\",\"WEDNESDAY\",\"WEDNESDAY\",\"WEDNESDAY\",\"WEDNESDAY\",\"WEDNESDAY\",\"WEDNESDAY\",\"WEDNESDAY\",\"THURSDAY\",\"THURSDAY\",\"THURSDAY\",\"THURSDAY\",\"THURSDAY\",\"THURSDAY\",\"THURSDAY\",\"THURSDAY\",\"THURSDAY\",\"THURSDAY\",\"THURSDAY\",\"THURSDAY\",\"THURSDAY\",\"THURSDAY\",\"THURSDAY\",\"THURSDAY\",\"THURSDAY\",\"THURSDAY\",\"THURSDAY\",\"THURSDAY\",\"THURSDAY\",\"THURSDAY\",\"THURSDAY\",\"THURSDAY\",\"FRIDAY\",\"FRIDAY\",\"FRIDAY\",\"FRIDAY\",\"FRIDAY\",\"FRIDAY\",\"FRIDAY\",\"FRIDAY\",\"FRIDAY\",\"FRIDAY\",\"FRIDAY\",\"FRIDAY\",\"FRIDAY\",\"FRIDAY\",\"FRIDAY\",\"FRIDAY\",\"FRIDAY\",\"FRIDAY\",\"FRIDAY\",\"FRIDAY\",\"FRIDAY\",\"FRIDAY\",\"FRIDAY\",\"FRIDAY\",\"SATURDAY\",\"SATURDAY\",\"SATURDAY\",\"SATURDAY\",\"SATURDAY\",\"SATURDAY\",\"SATURDAY\",\"SATURDAY\",\"SATURDAY\",\"SATURDAY\",\"SATURDAY\",\"SATURDAY\",\"SATURDAY\",\"SATURDAY\",\"SATURDAY\",\"SATURDAY\",\"SATURDAY\",\"SATURDAY\",\"SATURDAY\",\"SATURDAY\",\"SATURDAY\",\"SATURDAY\",\"SATURDAY\",\"SATURDAY\",\"SUNDAY\",\"SUNDAY\",\"SUNDAY\",\"SUNDAY\",\"SUNDAY\",\"SUNDAY\",\"SUNDAY\",\"SUNDAY\",\"SUNDAY\",\"SUNDAY\",\"SUNDAY\",\"SUNDAY\",\"SUNDAY\",\"SUNDAY\",\"SUNDAY\",\"SUNDAY\",\"SUNDAY\",\"SUNDAY\",\"SUNDAY\",\"SUNDAY\",\"SUNDAY\",\"SUNDAY\",\"SUNDAY\",\"SUNDAY\",\"MONDAY\",\"MONDAY\",\"MONDAY\",\"MONDAY\",\"MONDAY\",\"MONDAY\",\"MONDAY\",\"MONDAY\",\"MONDAY\",\"MONDAY\",\"MONDAY\",\"MONDAY\",\"MONDAY\",\"MONDAY\",\"MONDAY\",\"MONDAY\",\"MONDAY\",\"MONDAY\",\"MONDAY\",\"MONDAY\",\"MONDAY\",\"MONDAY\",\"MONDAY\",\"MONDAY\"],\"xaxis\":\"x3\",\"y\":[\"0:00\",\"1:00\",\"2:00\",\"3:00\",\"4:00\",\"5:00\",\"6:00\",\"7:00\",\"8:00\",\"9:00\",\"10:00\",\"11:00\",\"12:00\",\"13:00\",\"14:00\",\"15:00\",\"16:00\",\"17:00\",\"18:00\",\"19:00\",\"20:00\",\"21:00\",\"22:00\",\"23:00\",\"0:00\",\"1:00\",\"2:00\",\"3:00\",\"4:00\",\"5:00\",\"6:00\",\"7:00\",\"8:00\",\"9:00\",\"10:00\",\"11:00\",\"12:00\",\"13:00\",\"14:00\",\"15:00\",\"16:00\",\"17:00\",\"18:00\",\"19:00\",\"20:00\",\"21:00\",\"22:00\",\"23:00\",\"0:00\",\"1:00\",\"2:00\",\"3:00\",\"4:00\",\"5:00\",\"6:00\",\"7:00\",\"8:00\",\"9:00\",\"10:00\",\"11:00\",\"12:00\",\"13:00\",\"14:00\",\"15:00\",\"16:00\",\"17:00\",\"18:00\",\"19:00\",\"20:00\",\"21:00\",\"22:00\",\"23:00\",\"0:00\",\"1:00\",\"2:00\",\"3:00\",\"4:00\",\"5:00\",\"6:00\",\"7:00\",\"8:00\",\"9:00\",\"10:00\",\"11:00\",\"12:00\",\"13:00\",\"14:00\",\"15:00\",\"16:00\",\"17:00\",\"18:00\",\"19:00\",\"20:00\",\"21:00\",\"22:00\",\"23:00\",\"0:00\",\"1:00\",\"2:00\",\"3:00\",\"4:00\",\"5:00\",\"6:00\",\"7:00\",\"8:00\",\"9:00\",\"10:00\",\"11:00\",\"12:00\",\"13:00\",\"14:00\",\"15:00\",\"16:00\",\"17:00\",\"18:00\",\"19:00\",\"20:00\",\"21:00\",\"22:00\",\"23:00\",\"0:00\",\"1:00\",\"2:00\",\"3:00\",\"4:00\",\"5:00\",\"6:00\",\"7:00\",\"8:00\",\"9:00\",\"10:00\",\"11:00\",\"12:00\",\"13:00\",\"14:00\",\"15:00\",\"16:00\",\"17:00\",\"18:00\",\"19:00\",\"20:00\",\"21:00\",\"22:00\",\"23:00\",\"0:00\",\"1:00\",\"2:00\",\"3:00\",\"4:00\",\"5:00\",\"6:00\",\"7:00\",\"8:00\",\"9:00\",\"10:00\",\"11:00\",\"12:00\",\"13:00\",\"14:00\",\"15:00\",\"16:00\",\"17:00\",\"18:00\",\"19:00\",\"20:00\",\"21:00\",\"22:00\",\"23:00\"],\"yaxis\":\"y3\",\"z\":[10.5,10.5,10.0,9.7,9.4,9.4,9.7,10.3,10.9,10.8,10.6,11.9,12.3,14.9,16.0,14.1,14.8,16.6,16.2,14.7,13.9,13.6,13.5,12.7,12.6,12.1,12.4,12.7,12.0,11.5,12.1,14.2,15.3,16.0,17.2,16.7,15.7,15.4,15.9,12.1,9.9,9.7,10.8,10.2,9.1,7.1,6.0,5.4,5.7,6.0,6.4,6.4,6.6,6.9,7.9,9.5,11.9,13.1,13.8,14.0,14.9,15.1,13.7,14.4,13.2,10.9,9.6,9.7,9.6,8.9,7.7,7.8,7.6,7.3,6.1,5.5,5.2,6.9,8.8,9.7,11.9,12.5,13.8,14.1,14.3,15.7,16.5,15.0,13.4,13.1,12.6,12.1,10.3,9.5,9.1,8.7,9.3,9.6,9.0,8.6,8.4,8.6,9.0,9.5,10.2,10.9,12.0,11.4,11.4,11.3,12.0,13.0,12.3,11.1,10.7,10.5,10.0,9.6,8.1,7.0,5.9,5.3,4.9,4.3,3.9,4.1,5.7,8.3,11.3,13.4,14.3,14.8,14.4,14.7,14.8,14.6,15.1,15.3,14.9,13.9,12.1,9.9,8.1,6.9,5.9,5.2,4.6,4.0,3.7,4.3,6.0,8.8,10.7,11.9,13.1,14.0,14.2,13.6,13.7,13.5,12.8,12.6,12.0,11.9,10.8,9.2,7.8,6.7],\"zmax\":40,\"zmin\":5,\"type\":\"heatmap\"}],                        {\"annotations\":[{\"font\":{\"size\":16},\"showarrow\":false,\"text\":\"df1 data\",\"x\":0.14444444444444446,\"xanchor\":\"center\",\"xref\":\"paper\",\"y\":1.0,\"yanchor\":\"bottom\",\"yref\":\"paper\"},{\"font\":{\"size\":16},\"showarrow\":false,\"text\":\"df2 data\",\"x\":0.5,\"xanchor\":\"center\",\"xref\":\"paper\",\"y\":1.0,\"yanchor\":\"bottom\",\"yref\":\"paper\"},{\"font\":{\"size\":16},\"showarrow\":false,\"text\":\"df3 data\",\"x\":0.8555555555555556,\"xanchor\":\"center\",\"xref\":\"paper\",\"y\":1.0,\"yanchor\":\"bottom\",\"yref\":\"paper\"}],\"template\":{\"data\":{\"barpolar\":[{\"marker\":{\"line\":{\"color\":\"#E5ECF6\",\"width\":0.5},\"pattern\":{\"fillmode\":\"overlay\",\"size\":10,\"solidity\":0.2}},\"type\":\"barpolar\"}],\"bar\":[{\"error_x\":{\"color\":\"#2a3f5f\"},\"error_y\":{\"color\":\"#2a3f5f\"},\"marker\":{\"line\":{\"color\":\"#E5ECF6\",\"width\":0.5},\"pattern\":{\"fillmode\":\"overlay\",\"size\":10,\"solidity\":0.2}},\"type\":\"bar\"}],\"carpet\":[{\"aaxis\":{\"endlinecolor\":\"#2a3f5f\",\"gridcolor\":\"white\",\"linecolor\":\"white\",\"minorgridcolor\":\"white\",\"startlinecolor\":\"#2a3f5f\"},\"baxis\":{\"endlinecolor\":\"#2a3f5f\",\"gridcolor\":\"white\",\"linecolor\":\"white\",\"minorgridcolor\":\"white\",\"startlinecolor\":\"#2a3f5f\"},\"type\":\"carpet\"}],\"choropleth\":[{\"colorbar\":{\"outlinewidth\":0,\"ticks\":\"\"},\"type\":\"choropleth\"}],\"contourcarpet\":[{\"colorbar\":{\"outlinewidth\":0,\"ticks\":\"\"},\"type\":\"contourcarpet\"}],\"contour\":[{\"colorbar\":{\"outlinewidth\":0,\"ticks\":\"\"},\"colorscale\":[[0.0,\"#0d0887\"],[0.1111111111111111,\"#46039f\"],[0.2222222222222222,\"#7201a8\"],[0.3333333333333333,\"#9c179e\"],[0.4444444444444444,\"#bd3786\"],[0.5555555555555556,\"#d8576b\"],[0.6666666666666666,\"#ed7953\"],[0.7777777777777778,\"#fb9f3a\"],[0.8888888888888888,\"#fdca26\"],[1.0,\"#f0f921\"]],\"type\":\"contour\"}],\"heatmapgl\":[{\"colorbar\":{\"outlinewidth\":0,\"ticks\":\"\"},\"colorscale\":[[0.0,\"#0d0887\"],[0.1111111111111111,\"#46039f\"],[0.2222222222222222,\"#7201a8\"],[0.3333333333333333,\"#9c179e\"],[0.4444444444444444,\"#bd3786\"],[0.5555555555555556,\"#d8576b\"],[0.6666666666666666,\"#ed7953\"],[0.7777777777777778,\"#fb9f3a\"],[0.8888888888888888,\"#fdca26\"],[1.0,\"#f0f921\"]],\"type\":\"heatmapgl\"}],\"heatmap\":[{\"colorbar\":{\"outlinewidth\":0,\"ticks\":\"\"},\"colorscale\":[[0.0,\"#0d0887\"],[0.1111111111111111,\"#46039f\"],[0.2222222222222222,\"#7201a8\"],[0.3333333333333333,\"#9c179e\"],[0.4444444444444444,\"#bd3786\"],[0.5555555555555556,\"#d8576b\"],[0.6666666666666666,\"#ed7953\"],[0.7777777777777778,\"#fb9f3a\"],[0.8888888888888888,\"#fdca26\"],[1.0,\"#f0f921\"]],\"type\":\"heatmap\"}],\"histogram2dcontour\":[{\"colorbar\":{\"outlinewidth\":0,\"ticks\":\"\"},\"colorscale\":[[0.0,\"#0d0887\"],[0.1111111111111111,\"#46039f\"],[0.2222222222222222,\"#7201a8\"],[0.3333333333333333,\"#9c179e\"],[0.4444444444444444,\"#bd3786\"],[0.5555555555555556,\"#d8576b\"],[0.6666666666666666,\"#ed7953\"],[0.7777777777777778,\"#fb9f3a\"],[0.8888888888888888,\"#fdca26\"],[1.0,\"#f0f921\"]],\"type\":\"histogram2dcontour\"}],\"histogram2d\":[{\"colorbar\":{\"outlinewidth\":0,\"ticks\":\"\"},\"colorscale\":[[0.0,\"#0d0887\"],[0.1111111111111111,\"#46039f\"],[0.2222222222222222,\"#7201a8\"],[0.3333333333333333,\"#9c179e\"],[0.4444444444444444,\"#bd3786\"],[0.5555555555555556,\"#d8576b\"],[0.6666666666666666,\"#ed7953\"],[0.7777777777777778,\"#fb9f3a\"],[0.8888888888888888,\"#fdca26\"],[1.0,\"#f0f921\"]],\"type\":\"histogram2d\"}],\"histogram\":[{\"marker\":{\"pattern\":{\"fillmode\":\"overlay\",\"size\":10,\"solidity\":0.2}},\"type\":\"histogram\"}],\"mesh3d\":[{\"colorbar\":{\"outlinewidth\":0,\"ticks\":\"\"},\"type\":\"mesh3d\"}],\"parcoords\":[{\"line\":{\"colorbar\":{\"outlinewidth\":0,\"ticks\":\"\"}},\"type\":\"parcoords\"}],\"pie\":[{\"automargin\":true,\"type\":\"pie\"}],\"scatter3d\":[{\"line\":{\"colorbar\":{\"outlinewidth\":0,\"ticks\":\"\"}},\"marker\":{\"colorbar\":{\"outlinewidth\":0,\"ticks\":\"\"}},\"type\":\"scatter3d\"}],\"scattercarpet\":[{\"marker\":{\"colorbar\":{\"outlinewidth\":0,\"ticks\":\"\"}},\"type\":\"scattercarpet\"}],\"scattergeo\":[{\"marker\":{\"colorbar\":{\"outlinewidth\":0,\"ticks\":\"\"}},\"type\":\"scattergeo\"}],\"scattergl\":[{\"marker\":{\"colorbar\":{\"outlinewidth\":0,\"ticks\":\"\"}},\"type\":\"scattergl\"}],\"scattermapbox\":[{\"marker\":{\"colorbar\":{\"outlinewidth\":0,\"ticks\":\"\"}},\"type\":\"scattermapbox\"}],\"scatterpolargl\":[{\"marker\":{\"colorbar\":{\"outlinewidth\":0,\"ticks\":\"\"}},\"type\":\"scatterpolargl\"}],\"scatterpolar\":[{\"marker\":{\"colorbar\":{\"outlinewidth\":0,\"ticks\":\"\"}},\"type\":\"scatterpolar\"}],\"scatter\":[{\"marker\":{\"colorbar\":{\"outlinewidth\":0,\"ticks\":\"\"}},\"type\":\"scatter\"}],\"scatterternary\":[{\"marker\":{\"colorbar\":{\"outlinewidth\":0,\"ticks\":\"\"}},\"type\":\"scatterternary\"}],\"surface\":[{\"colorbar\":{\"outlinewidth\":0,\"ticks\":\"\"},\"colorscale\":[[0.0,\"#0d0887\"],[0.1111111111111111,\"#46039f\"],[0.2222222222222222,\"#7201a8\"],[0.3333333333333333,\"#9c179e\"],[0.4444444444444444,\"#bd3786\"],[0.5555555555555556,\"#d8576b\"],[0.6666666666666666,\"#ed7953\"],[0.7777777777777778,\"#fb9f3a\"],[0.8888888888888888,\"#fdca26\"],[1.0,\"#f0f921\"]],\"type\":\"surface\"}],\"table\":[{\"cells\":{\"fill\":{\"color\":\"#EBF0F8\"},\"line\":{\"color\":\"white\"}},\"header\":{\"fill\":{\"color\":\"#C8D4E3\"},\"line\":{\"color\":\"white\"}},\"type\":\"table\"}]},\"layout\":{\"annotationdefaults\":{\"arrowcolor\":\"#2a3f5f\",\"arrowhead\":0,\"arrowwidth\":1},\"autotypenumbers\":\"strict\",\"coloraxis\":{\"colorbar\":{\"outlinewidth\":0,\"ticks\":\"\"}},\"colorscale\":{\"diverging\":[[0,\"#8e0152\"],[0.1,\"#c51b7d\"],[0.2,\"#de77ae\"],[0.3,\"#f1b6da\"],[0.4,\"#fde0ef\"],[0.5,\"#f7f7f7\"],[0.6,\"#e6f5d0\"],[0.7,\"#b8e186\"],[0.8,\"#7fbc41\"],[0.9,\"#4d9221\"],[1,\"#276419\"]],\"sequential\":[[0.0,\"#0d0887\"],[0.1111111111111111,\"#46039f\"],[0.2222222222222222,\"#7201a8\"],[0.3333333333333333,\"#9c179e\"],[0.4444444444444444,\"#bd3786\"],[0.5555555555555556,\"#d8576b\"],[0.6666666666666666,\"#ed7953\"],[0.7777777777777778,\"#fb9f3a\"],[0.8888888888888888,\"#fdca26\"],[1.0,\"#f0f921\"]],\"sequentialminus\":[[0.0,\"#0d0887\"],[0.1111111111111111,\"#46039f\"],[0.2222222222222222,\"#7201a8\"],[0.3333333333333333,\"#9c179e\"],[0.4444444444444444,\"#bd3786\"],[0.5555555555555556,\"#d8576b\"],[0.6666666666666666,\"#ed7953\"],[0.7777777777777778,\"#fb9f3a\"],[0.8888888888888888,\"#fdca26\"],[1.0,\"#f0f921\"]]},\"colorway\":[\"#636efa\",\"#EF553B\",\"#00cc96\",\"#ab63fa\",\"#FFA15A\",\"#19d3f3\",\"#FF6692\",\"#B6E880\",\"#FF97FF\",\"#FECB52\"],\"font\":{\"color\":\"#2a3f5f\"},\"geo\":{\"bgcolor\":\"white\",\"lakecolor\":\"white\",\"landcolor\":\"#E5ECF6\",\"showlakes\":true,\"showland\":true,\"subunitcolor\":\"white\"},\"hoverlabel\":{\"align\":\"left\"},\"hovermode\":\"closest\",\"mapbox\":{\"style\":\"light\"},\"paper_bgcolor\":\"white\",\"plot_bgcolor\":\"#E5ECF6\",\"polar\":{\"angularaxis\":{\"gridcolor\":\"white\",\"linecolor\":\"white\",\"ticks\":\"\"},\"bgcolor\":\"#E5ECF6\",\"radialaxis\":{\"gridcolor\":\"white\",\"linecolor\":\"white\",\"ticks\":\"\"}},\"scene\":{\"xaxis\":{\"backgroundcolor\":\"#E5ECF6\",\"gridcolor\":\"white\",\"gridwidth\":2,\"linecolor\":\"white\",\"showbackground\":true,\"ticks\":\"\",\"zerolinecolor\":\"white\"},\"yaxis\":{\"backgroundcolor\":\"#E5ECF6\",\"gridcolor\":\"white\",\"gridwidth\":2,\"linecolor\":\"white\",\"showbackground\":true,\"ticks\":\"\",\"zerolinecolor\":\"white\"},\"zaxis\":{\"backgroundcolor\":\"#E5ECF6\",\"gridcolor\":\"white\",\"gridwidth\":2,\"linecolor\":\"white\",\"showbackground\":true,\"ticks\":\"\",\"zerolinecolor\":\"white\"}},\"shapedefaults\":{\"line\":{\"color\":\"#2a3f5f\"}},\"ternary\":{\"aaxis\":{\"gridcolor\":\"white\",\"linecolor\":\"white\",\"ticks\":\"\"},\"baxis\":{\"gridcolor\":\"white\",\"linecolor\":\"white\",\"ticks\":\"\"},\"bgcolor\":\"#E5ECF6\",\"caxis\":{\"gridcolor\":\"white\",\"linecolor\":\"white\",\"ticks\":\"\"}},\"title\":{\"x\":0.05},\"xaxis\":{\"automargin\":true,\"gridcolor\":\"white\",\"linecolor\":\"white\",\"ticks\":\"\",\"title\":{\"standoff\":15},\"zerolinecolor\":\"white\",\"zerolinewidth\":2},\"yaxis\":{\"automargin\":true,\"gridcolor\":\"white\",\"linecolor\":\"white\",\"ticks\":\"\",\"title\":{\"standoff\":15},\"zerolinecolor\":\"white\",\"zerolinewidth\":2}}},\"title\":{\"text\":\"Temps for 3 cities\"},\"xaxis\":{\"anchor\":\"y\",\"domain\":[0.0,0.2888888888888889]},\"yaxis\":{\"anchor\":\"x\",\"domain\":[0.0,1.0]},\"xaxis2\":{\"anchor\":\"y2\",\"domain\":[0.35555555555555557,0.6444444444444445]},\"yaxis2\":{\"anchor\":\"x2\",\"domain\":[0.0,1.0],\"matches\":\"y\",\"showticklabels\":false},\"xaxis3\":{\"anchor\":\"y3\",\"domain\":[0.7111111111111111,1.0]},\"yaxis3\":{\"anchor\":\"x3\",\"domain\":[0.0,1.0],\"matches\":\"y\",\"showticklabels\":false}},                        {\"responsive\": true}                    ).then(function(){\n",
              "                            \n",
              "var gd = document.getElementById('5c0739e6-0c11-46e6-a667-e448d8e33515');\n",
              "var x = new MutationObserver(function (mutations, observer) {{\n",
              "        var display = window.getComputedStyle(gd).display;\n",
              "        if (!display || display === 'none') {{\n",
              "            console.log([gd, 'removed!']);\n",
              "            Plotly.purge(gd);\n",
              "            observer.disconnect();\n",
              "        }}\n",
              "}});\n",
              "\n",
              "// Listen for the removal of the full notebook cells\n",
              "var notebookContainer = gd.closest('#notebook-container');\n",
              "if (notebookContainer) {{\n",
              "    x.observe(notebookContainer, {childList: true});\n",
              "}}\n",
              "\n",
              "// Listen for the clearing of the current output cell\n",
              "var outputEl = gd.closest('.output');\n",
              "if (outputEl) {{\n",
              "    x.observe(outputEl, {childList: true});\n",
              "}}\n",
              "\n",
              "                        })                };                            </script>        </div>\n",
              "</body>\n",
              "</html>"
            ]
          },
          "metadata": {}
        }
      ]
    },
    {
      "cell_type": "markdown",
      "source": [
        "## Dash"
      ],
      "metadata": {
        "id": "kC_lK_PaR6ys"
      }
    },
    {
      "cell_type": "markdown",
      "source": [
        "### Introduction\n",
        "\n",
        "What Dash is used for?\n",
        "- create dashboards purely in python\n",
        "- dashboards are served as web applications that you can deploy, i.e. not static html files\n",
        "- connect and interact with the dashboard\n",
        "\n",
        "There are two parts in Dash:\n",
        "1. layout of the app\n",
        "\n",
        "  `dash_html_components`\n",
        "\n",
        "2. description of the interactivity of the app\n",
        "\n",
        "  `dash_core_components`\n",
        "\n",
        "HTML or CSS knowledge?\n",
        "- not required, most html tags are provided as python classes\n",
        "\n"
      ],
      "metadata": {
        "id": "vfWnLmexSZQv"
      }
    },
    {
      "cell_type": "markdown",
      "source": [
        "### Importing Packages"
      ],
      "metadata": {
        "id": "8OEbKvixTnwP"
      }
    },
    {
      "cell_type": "code",
      "source": [
        "# need to install as google colab does not have them installed already\n",
        "!pip install dash\n",
        "!pip install jupyter-dash"
      ],
      "metadata": {
        "colab": {
          "base_uri": "https://localhost:8080/"
        },
        "id": "Am84jYHEib7c",
        "outputId": "9beb23f0-b185-418e-95ce-4526198e9de9"
      },
      "execution_count": null,
      "outputs": [
        {
          "output_type": "stream",
          "name": "stdout",
          "text": [
            "Looking in indexes: https://pypi.org/simple, https://us-python.pkg.dev/colab-wheels/public/simple/\n",
            "Requirement already satisfied: dash in /usr/local/lib/python3.7/dist-packages (2.6.0)\n",
            "Requirement already satisfied: Flask>=1.0.4 in /usr/local/lib/python3.7/dist-packages (from dash) (1.1.4)\n",
            "Requirement already satisfied: flask-compress in /usr/local/lib/python3.7/dist-packages (from dash) (1.12)\n",
            "Requirement already satisfied: dash-html-components==2.0.0 in /usr/local/lib/python3.7/dist-packages (from dash) (2.0.0)\n",
            "Requirement already satisfied: plotly>=5.0.0 in /usr/local/lib/python3.7/dist-packages (from dash) (5.5.0)\n",
            "Requirement already satisfied: dash-table==5.0.0 in /usr/local/lib/python3.7/dist-packages (from dash) (5.0.0)\n",
            "Requirement already satisfied: dash-core-components==2.0.0 in /usr/local/lib/python3.7/dist-packages (from dash) (2.0.0)\n",
            "Requirement already satisfied: Werkzeug<2.0,>=0.15 in /usr/local/lib/python3.7/dist-packages (from Flask>=1.0.4->dash) (1.0.1)\n",
            "Requirement already satisfied: Jinja2<3.0,>=2.10.1 in /usr/local/lib/python3.7/dist-packages (from Flask>=1.0.4->dash) (2.11.3)\n",
            "Requirement already satisfied: itsdangerous<2.0,>=0.24 in /usr/local/lib/python3.7/dist-packages (from Flask>=1.0.4->dash) (1.1.0)\n",
            "Requirement already satisfied: click<8.0,>=5.1 in /usr/local/lib/python3.7/dist-packages (from Flask>=1.0.4->dash) (7.1.2)\n",
            "Requirement already satisfied: MarkupSafe>=0.23 in /usr/local/lib/python3.7/dist-packages (from Jinja2<3.0,>=2.10.1->Flask>=1.0.4->dash) (2.0.1)\n",
            "Requirement already satisfied: tenacity>=6.2.0 in /usr/local/lib/python3.7/dist-packages (from plotly>=5.0.0->dash) (8.0.1)\n",
            "Requirement already satisfied: six in /usr/local/lib/python3.7/dist-packages (from plotly>=5.0.0->dash) (1.15.0)\n",
            "Requirement already satisfied: brotli in /usr/local/lib/python3.7/dist-packages (from flask-compress->dash) (1.0.9)\n",
            "Looking in indexes: https://pypi.org/simple, https://us-python.pkg.dev/colab-wheels/public/simple/\n",
            "Requirement already satisfied: jupyter-dash in /usr/local/lib/python3.7/dist-packages (0.4.2)\n",
            "Requirement already satisfied: flask in /usr/local/lib/python3.7/dist-packages (from jupyter-dash) (1.1.4)\n",
            "Requirement already satisfied: ipython in /usr/local/lib/python3.7/dist-packages (from jupyter-dash) (5.5.0)\n",
            "Requirement already satisfied: ansi2html in /usr/local/lib/python3.7/dist-packages (from jupyter-dash) (1.8.0)\n",
            "Requirement already satisfied: retrying in /usr/local/lib/python3.7/dist-packages (from jupyter-dash) (1.3.3)\n",
            "Requirement already satisfied: requests in /usr/local/lib/python3.7/dist-packages (from jupyter-dash) (2.23.0)\n",
            "Requirement already satisfied: ipykernel in /usr/local/lib/python3.7/dist-packages (from jupyter-dash) (4.10.1)\n",
            "Requirement already satisfied: dash in /usr/local/lib/python3.7/dist-packages (from jupyter-dash) (2.6.0)\n",
            "Requirement already satisfied: nest-asyncio in /usr/local/lib/python3.7/dist-packages (from jupyter-dash) (1.5.5)\n",
            "Requirement already satisfied: importlib-metadata in /usr/local/lib/python3.7/dist-packages (from ansi2html->jupyter-dash) (4.12.0)\n",
            "Requirement already satisfied: plotly>=5.0.0 in /usr/local/lib/python3.7/dist-packages (from dash->jupyter-dash) (5.5.0)\n",
            "Requirement already satisfied: dash-table==5.0.0 in /usr/local/lib/python3.7/dist-packages (from dash->jupyter-dash) (5.0.0)\n",
            "Requirement already satisfied: dash-core-components==2.0.0 in /usr/local/lib/python3.7/dist-packages (from dash->jupyter-dash) (2.0.0)\n",
            "Requirement already satisfied: flask-compress in /usr/local/lib/python3.7/dist-packages (from dash->jupyter-dash) (1.12)\n",
            "Requirement already satisfied: dash-html-components==2.0.0 in /usr/local/lib/python3.7/dist-packages (from dash->jupyter-dash) (2.0.0)\n",
            "Requirement already satisfied: click<8.0,>=5.1 in /usr/local/lib/python3.7/dist-packages (from flask->jupyter-dash) (7.1.2)\n",
            "Requirement already satisfied: Jinja2<3.0,>=2.10.1 in /usr/local/lib/python3.7/dist-packages (from flask->jupyter-dash) (2.11.3)\n",
            "Requirement already satisfied: itsdangerous<2.0,>=0.24 in /usr/local/lib/python3.7/dist-packages (from flask->jupyter-dash) (1.1.0)\n",
            "Requirement already satisfied: Werkzeug<2.0,>=0.15 in /usr/local/lib/python3.7/dist-packages (from flask->jupyter-dash) (1.0.1)\n",
            "Requirement already satisfied: MarkupSafe>=0.23 in /usr/local/lib/python3.7/dist-packages (from Jinja2<3.0,>=2.10.1->flask->jupyter-dash) (2.0.1)\n",
            "Requirement already satisfied: tenacity>=6.2.0 in /usr/local/lib/python3.7/dist-packages (from plotly>=5.0.0->dash->jupyter-dash) (8.0.1)\n",
            "Requirement already satisfied: six in /usr/local/lib/python3.7/dist-packages (from plotly>=5.0.0->dash->jupyter-dash) (1.15.0)\n",
            "Requirement already satisfied: brotli in /usr/local/lib/python3.7/dist-packages (from flask-compress->dash->jupyter-dash) (1.0.9)\n",
            "Requirement already satisfied: typing-extensions>=3.6.4 in /usr/local/lib/python3.7/dist-packages (from importlib-metadata->ansi2html->jupyter-dash) (4.1.1)\n",
            "Requirement already satisfied: zipp>=0.5 in /usr/local/lib/python3.7/dist-packages (from importlib-metadata->ansi2html->jupyter-dash) (3.8.1)\n",
            "Requirement already satisfied: jupyter-client in /usr/local/lib/python3.7/dist-packages (from ipykernel->jupyter-dash) (5.3.5)\n",
            "Requirement already satisfied: traitlets>=4.1.0 in /usr/local/lib/python3.7/dist-packages (from ipykernel->jupyter-dash) (5.1.1)\n",
            "Requirement already satisfied: tornado>=4.0 in /usr/local/lib/python3.7/dist-packages (from ipykernel->jupyter-dash) (5.1.1)\n",
            "Requirement already satisfied: pickleshare in /usr/local/lib/python3.7/dist-packages (from ipython->jupyter-dash) (0.7.5)\n",
            "Requirement already satisfied: simplegeneric>0.8 in /usr/local/lib/python3.7/dist-packages (from ipython->jupyter-dash) (0.8.1)\n",
            "Requirement already satisfied: pygments in /usr/local/lib/python3.7/dist-packages (from ipython->jupyter-dash) (2.6.1)\n",
            "Requirement already satisfied: setuptools>=18.5 in /usr/local/lib/python3.7/dist-packages (from ipython->jupyter-dash) (57.4.0)\n",
            "Requirement already satisfied: decorator in /usr/local/lib/python3.7/dist-packages (from ipython->jupyter-dash) (4.4.2)\n",
            "Requirement already satisfied: pexpect in /usr/local/lib/python3.7/dist-packages (from ipython->jupyter-dash) (4.8.0)\n",
            "Requirement already satisfied: prompt-toolkit<2.0.0,>=1.0.4 in /usr/local/lib/python3.7/dist-packages (from ipython->jupyter-dash) (1.0.18)\n",
            "Requirement already satisfied: wcwidth in /usr/local/lib/python3.7/dist-packages (from prompt-toolkit<2.0.0,>=1.0.4->ipython->jupyter-dash) (0.2.5)\n",
            "Requirement already satisfied: jupyter-core>=4.6.0 in /usr/local/lib/python3.7/dist-packages (from jupyter-client->ipykernel->jupyter-dash) (4.11.1)\n",
            "Requirement already satisfied: python-dateutil>=2.1 in /usr/local/lib/python3.7/dist-packages (from jupyter-client->ipykernel->jupyter-dash) (2.8.2)\n",
            "Requirement already satisfied: pyzmq>=13 in /usr/local/lib/python3.7/dist-packages (from jupyter-client->ipykernel->jupyter-dash) (23.2.0)\n",
            "Requirement already satisfied: ptyprocess>=0.5 in /usr/local/lib/python3.7/dist-packages (from pexpect->ipython->jupyter-dash) (0.7.0)\n",
            "Requirement already satisfied: urllib3!=1.25.0,!=1.25.1,<1.26,>=1.21.1 in /usr/local/lib/python3.7/dist-packages (from requests->jupyter-dash) (1.24.3)\n",
            "Requirement already satisfied: certifi>=2017.4.17 in /usr/local/lib/python3.7/dist-packages (from requests->jupyter-dash) (2022.6.15)\n",
            "Requirement already satisfied: idna<3,>=2.5 in /usr/local/lib/python3.7/dist-packages (from requests->jupyter-dash) (2.10)\n",
            "Requirement already satisfied: chardet<4,>=3.0.2 in /usr/local/lib/python3.7/dist-packages (from requests->jupyter-dash) (3.0.4)\n"
          ]
        }
      ]
    },
    {
      "cell_type": "code",
      "source": [
        "import dash\n",
        "import dash_core_components as dcc\n",
        "import dash_html_components as html\n",
        "from jupyter_dash import JupyterDash\n",
        "from dash.dependencies import Input, Output, State\n",
        "# cannot run local dev on google colab, hence using JupyterDash here\n",
        "# more info: https://medium.com/plotly/introducing-jupyterdash-811f1f57c02e\n"
      ],
      "metadata": {
        "id": "bmx3D-haTpko",
        "colab": {
          "base_uri": "https://localhost:8080/",
          "height": 214
        },
        "outputId": "9536c03a-d6f6-48a7-e794-4a3df6f981b6"
      },
      "execution_count": null,
      "outputs": [
        {
          "output_type": "stream",
          "name": "stderr",
          "text": [
            "/usr/local/lib/python3.7/dist-packages/ipykernel_launcher.py:2: UserWarning:\n",
            "\n",
            "\n",
            "The dash_core_components package is deprecated. Please replace\n",
            "`import dash_core_components as dcc` with `from dash import dcc`\n",
            "\n",
            "/usr/local/lib/python3.7/dist-packages/ipykernel_launcher.py:3: UserWarning:\n",
            "\n",
            "\n",
            "The dash_html_components package is deprecated. Please replace\n",
            "`import dash_html_components as html` with `from dash import html`\n",
            "\n"
          ]
        }
      ]
    },
    {
      "cell_type": "markdown",
      "source": [
        "### Example: Dash syntax"
      ],
      "metadata": {
        "id": "NDdJmLbATfju"
      }
    },
    {
      "cell_type": "code",
      "source": [
        "# app = dash.Dash()\n",
        "app = JupyterDash(__name__)\n",
        "\n",
        "colours = {'background':'111111',\n",
        "           'text':'#7FDBFF'}\n",
        "\n",
        "app.layout = html.Div(\n",
        "    # children is a property of HTML components. By default. this is the first propertly listed.\n",
        "    children=[\n",
        "        html.H1(\"Hello Dash!\"),\n",
        "        html.Div(\"Dash: web dashboard with python\"),\n",
        "        # Graph components have a figure properly in place of children.\n",
        "        dcc.Graph(\n",
        "            id=\"example\",\n",
        "            # same structure as a plotly plot: figure and layout\n",
        "            figure={\n",
        "                \"data\": [\n",
        "                    {\"x\": [1, 2, 3], \"y\": [4, 1, 2], \"type\": \"bar\", \"name\": \"SF\"},\n",
        "                    {\"x\": [1, 2, 3], \"y\": [2, 5, 2], \"type\": \"bar\", \"name\": \"NYC\"},\n",
        "                ],\n",
        "                \"layout\": {\"title\": \"bar plot\"},\n",
        "            },\n",
        "        ),\n",
        "    ]\n",
        ")\n"
      ],
      "metadata": {
        "id": "YWdcgI1MTYFa"
      },
      "execution_count": null,
      "outputs": []
    },
    {
      "cell_type": "code",
      "source": [
        "app.run_server(mode='inline')\n",
        "# app.run_server(mode='external') \n",
        "# external mode will only work if you are running from local machine"
      ],
      "metadata": {
        "colab": {
          "base_uri": "https://localhost:8080/",
          "height": 670
        },
        "id": "Tmk16nwckxo2",
        "outputId": "38de92d0-86b4-4945-cfb7-6022277f7f3f"
      },
      "execution_count": null,
      "outputs": [
        {
          "output_type": "display_data",
          "data": {
            "text/plain": [
              "<IPython.core.display.Javascript object>"
            ],
            "application/javascript": [
              "(async (port, path, width, height, cache, element) => {\n",
              "    if (!google.colab.kernel.accessAllowed && !cache) {\n",
              "      return;\n",
              "    }\n",
              "    element.appendChild(document.createTextNode(''));\n",
              "    const url = await google.colab.kernel.proxyPort(port, {cache});\n",
              "    const iframe = document.createElement('iframe');\n",
              "    iframe.src = new URL(path, url).toString();\n",
              "    iframe.height = height;\n",
              "    iframe.width = width;\n",
              "    iframe.style.border = 0;\n",
              "    element.appendChild(iframe);\n",
              "  })(8050, \"/\", \"100%\", 650, false, window.element)"
            ]
          },
          "metadata": {}
        }
      ]
    },
    {
      "cell_type": "markdown",
      "source": [
        "### Example: Use Plotly\n",
        "\n",
        "See the code in `figure` part. They are the same as previous plotly example, i.e. use `go.Scatter()` syntax."
      ],
      "metadata": {
        "id": "03DWO-pvlMSC"
      }
    },
    {
      "cell_type": "code",
      "source": [
        "app = JupyterDash(__name__)\n",
        "\n",
        "# create data\n",
        "np.random.seed(99)\n",
        "random_x = np.random.randint(1, 101, 100)\n",
        "random_y = np.random.randint(1, 101, 100)\n",
        "\n",
        "app.layout = html.Div(\n",
        "    [\n",
        "        dcc.Graph(\n",
        "            id=\"myscatterplot\",\n",
        "            figure={\n",
        "                \"data\": [\n",
        "                    go.Scatter(\n",
        "                        x=random_x,\n",
        "                        y=random_y,\n",
        "                        mode=\"markers\",\n",
        "                        marker={\n",
        "                            \"size\": 12,\n",
        "                            \"color\": \"rgb(51,203,174)\",\n",
        "                            \"symbol\": \"pentagon\",\n",
        "                            \"line\": {\"width\": 2},\n",
        "                        },\n",
        "                    )\n",
        "                ],\n",
        "                \"layout\": go.Layout(\n",
        "                    title=\"title for my scatter plot\", \n",
        "                    xaxis={\"title\": \"my x title\"}\n",
        "                ),\n",
        "            },\n",
        "        ),\n",
        "             dcc.Graph(\n",
        "            id=\"myscatterplot2\",\n",
        "            figure={\n",
        "                \"data\": [\n",
        "                    go.Scatter(\n",
        "                        x=random_x,\n",
        "                        y=random_y,\n",
        "                        mode=\"markers\",\n",
        "                        marker={\n",
        "                            \"size\": 12,\n",
        "                            \"color\": \"rgb(51,32,41)\",\n",
        "                            \"symbol\": \"pentagon\",\n",
        "                            \"line\": {\"width\": 2},\n",
        "                        },\n",
        "                    )\n",
        "                ],\n",
        "                \"layout\": go.Layout(\n",
        "                    title=\"title for my scatter plot\", \n",
        "                    xaxis={\"title\": \"my x title\"}\n",
        "                ),\n",
        "            },\n",
        "        )\n",
        "    ]\n",
        ")\n"
      ],
      "metadata": {
        "id": "5psxebAgk5NJ"
      },
      "execution_count": null,
      "outputs": []
    },
    {
      "cell_type": "code",
      "source": [
        "app.run_server(mode='inline')"
      ],
      "metadata": {
        "colab": {
          "base_uri": "https://localhost:8080/",
          "height": 670
        },
        "id": "uZaGqH-CmN0C",
        "outputId": "dda78752-1b8d-4b0a-8b46-360049bab767"
      },
      "execution_count": null,
      "outputs": [
        {
          "output_type": "display_data",
          "data": {
            "text/plain": [
              "<IPython.core.display.Javascript object>"
            ],
            "application/javascript": [
              "(async (port, path, width, height, cache, element) => {\n",
              "    if (!google.colab.kernel.accessAllowed && !cache) {\n",
              "      return;\n",
              "    }\n",
              "    element.appendChild(document.createTextNode(''));\n",
              "    const url = await google.colab.kernel.proxyPort(port, {cache});\n",
              "    const iframe = document.createElement('iframe');\n",
              "    iframe.src = new URL(path, url).toString();\n",
              "    iframe.height = height;\n",
              "    iframe.width = width;\n",
              "    iframe.style.border = 0;\n",
              "    element.appendChild(iframe);\n",
              "  })(8050, \"/\", \"100%\", 650, false, window.element)"
            ]
          },
          "metadata": {}
        }
      ]
    },
    {
      "cell_type": "markdown",
      "source": [
        "### Dash Components\n",
        "\n",
        "Dash components are provided by two libraries\n",
        "- dash_html_components\n",
        "- dash_core_components\n",
        "\n",
        "Html components describe the layout of the page.\n",
        "Dcc components describe the individual graphs themselves."
      ],
      "metadata": {
        "id": "vNVqoBzNokJb"
      }
    },
    {
      "cell_type": "markdown",
      "source": [
        "### Dash Componenets - HTML\n",
        "\n",
        "- An HTML Div element is a division, i.e. section or block of the web app.\n",
        "- CSS allows for styling HTML elemnts, e.g. fonts, colours, borders etc.\n",
        "- Dash uses dictionaries to pass in CSS style calls.\n",
        "\n",
        "- Create an HTML Div\n",
        "  - Multiple items inside the Div?\n",
        "  - Create a list to hold the components\n",
        "  - Outside of that list can be a style dictionary\n",
        "  - style={'property':'value'}"
      ],
      "metadata": {
        "id": "-5rDOH18qVUH"
      }
    },
    {
      "cell_type": "code",
      "source": [
        "app = JupyterDash(__name__)\n",
        "\n",
        "app.layout = html.Div(\n",
        "    [\n",
        "        \"This is the outermost div!\",\n",
        "        html.Div([\"This is an inner div\"], style={\"color\": \"red\"}),\n",
        "        html.Div([\"Another inner div\"], style={\"color\": \"black\"}),\n",
        "    ],\n",
        "    style={\"color\": \"green\", \"border\": \"2px green solid\"},\n",
        ")\n"
      ],
      "metadata": {
        "id": "AAdY4Iu-p4MW"
      },
      "execution_count": null,
      "outputs": []
    },
    {
      "cell_type": "code",
      "source": [
        "app.run_server(mode='inline')"
      ],
      "metadata": {
        "colab": {
          "base_uri": "https://localhost:8080/",
          "height": 670
        },
        "id": "MaBGtSVlrNB7",
        "outputId": "6983d64b-df5f-48d6-f9a3-32aae9422376"
      },
      "execution_count": null,
      "outputs": [
        {
          "output_type": "display_data",
          "data": {
            "text/plain": [
              "<IPython.core.display.Javascript object>"
            ],
            "application/javascript": [
              "(async (port, path, width, height, cache, element) => {\n",
              "    if (!google.colab.kernel.accessAllowed && !cache) {\n",
              "      return;\n",
              "    }\n",
              "    element.appendChild(document.createTextNode(''));\n",
              "    const url = await google.colab.kernel.proxyPort(port, {cache});\n",
              "    const iframe = document.createElement('iframe');\n",
              "    iframe.src = new URL(path, url).toString();\n",
              "    iframe.height = height;\n",
              "    iframe.width = width;\n",
              "    iframe.style.border = 0;\n",
              "    element.appendChild(iframe);\n",
              "  })(8050, \"/\", \"100%\", 650, false, window.element)"
            ]
          },
          "metadata": {}
        }
      ]
    },
    {
      "cell_type": "markdown",
      "source": [
        "### Dash Componenets - Core\n",
        "\n",
        "Dash ships with supercharged components for interactive user interfaces.\n",
        "\n",
        "The Dash Core Components module (dash.dcc) can be imported and used with from dash import dcc and gives you access to many interactive components, including, dropdowns, checklists, and sliders.\n",
        "\n",
        "The dcc module is part of Dash and you'll find the source for it in the Dash GitHub repo: https://github.com/plotly/dash.\n",
        "\n",
        "All dash core components can be found: https://dash.plotly.com/dash-core-components.\n",
        "\n",
        "  "
      ],
      "metadata": {
        "id": "Fy1L8_yRtH5_"
      }
    },
    {
      "cell_type": "code",
      "source": [
        "app = JupyterDash(__name__)\n",
        "\n",
        "app.layout = html.Div(\n",
        "    [\n",
        "        html.Label(\"Dropdown\"),\n",
        "        dcc.Dropdown(\n",
        "            options=[\n",
        "                {\"label\": \"New York City\", \"value\": \"NYC\"},\n",
        "                {\"label\": \"San Francisco\", \"value\": \"SF\"},\n",
        "            ],\n",
        "            value=\"SF\",\n",
        "        ),\n",
        "        html.P(html.Label(\"Slide\")),\n",
        "        dcc.Slider(min=0, max=100, step=1, value=0),\n",
        "        html.P(html.Label(\"Radio\")),\n",
        "        dcc.RadioItems(\n",
        "            options=[\n",
        "                {\"label\": \"New York City\", \"value\": \"NYC\"},\n",
        "                {\"label\": \"San Francisco\", \"value\": \"SF\"},\n",
        "            ],\n",
        "            value=\"SF\",\n",
        "        ),\n",
        "    ],\n",
        "    style={},\n",
        ")\n"
      ],
      "metadata": {
        "id": "ja85HRfesxEj"
      },
      "execution_count": null,
      "outputs": []
    },
    {
      "cell_type": "code",
      "source": [
        "app.run_server(mode='inline')"
      ],
      "metadata": {
        "colab": {
          "base_uri": "https://localhost:8080/",
          "height": 670
        },
        "id": "jlP5e9Ybr3i4",
        "outputId": "7fca67a2-b634-46cb-ef5a-d7e1073eb262"
      },
      "execution_count": null,
      "outputs": [
        {
          "output_type": "display_data",
          "data": {
            "text/plain": [
              "<IPython.core.display.Javascript object>"
            ],
            "application/javascript": [
              "(async (port, path, width, height, cache, element) => {\n",
              "    if (!google.colab.kernel.accessAllowed && !cache) {\n",
              "      return;\n",
              "    }\n",
              "    element.appendChild(document.createTextNode(''));\n",
              "    const url = await google.colab.kernel.proxyPort(port, {cache});\n",
              "    const iframe = document.createElement('iframe');\n",
              "    iframe.src = new URL(path, url).toString();\n",
              "    iframe.height = height;\n",
              "    iframe.width = width;\n",
              "    iframe.style.border = 0;\n",
              "    element.appendChild(iframe);\n",
              "  })(8050, \"/\", \"100%\", 650, false, window.element)"
            ]
          },
          "metadata": {}
        }
      ]
    },
    {
      "cell_type": "markdown",
      "source": [
        "### Markdown with Dash\n",
        "\n",
        "- Dashboards can also display markdown text which allows for links, italics, bold text, bullet lists etc.\n",
        "- Markdown syntax: https://commonmark.org/help/\n",
        "\n",
        "use `dcc.Markdown()`"
      ],
      "metadata": {
        "id": "bkicg0pHvfy6"
      }
    },
    {
      "cell_type": "code",
      "source": [
        "app = JupyterDash(__name__)\n",
        "\n",
        "markdowntext = \"\"\"\n",
        "## Markdown in Dash\n",
        "Dash app can be written in Markdown.\n",
        "You can **bold** and *italics* text this way.\n",
        "You can also insert link this way [Google] (www.google.co.uk).\n",
        "\"\"\"\n",
        "\n",
        "app.layout = html.Div(\n",
        "    [\n",
        "        dcc.Markdown(children=markdowntext)\n",
        "    ]\n",
        ")"
      ],
      "metadata": {
        "id": "Bc4heNeqyNTS"
      },
      "execution_count": null,
      "outputs": []
    },
    {
      "cell_type": "code",
      "source": [
        "app.run_server(mode='inline')"
      ],
      "metadata": {
        "colab": {
          "base_uri": "https://localhost:8080/",
          "height": 670
        },
        "id": "GGW49UK6yrTU",
        "outputId": "f872bd0b-9038-4c49-800a-6f2bf31bc9ad"
      },
      "execution_count": null,
      "outputs": [
        {
          "output_type": "display_data",
          "data": {
            "text/plain": [
              "<IPython.core.display.Javascript object>"
            ],
            "application/javascript": [
              "(async (port, path, width, height, cache, element) => {\n",
              "    if (!google.colab.kernel.accessAllowed && !cache) {\n",
              "      return;\n",
              "    }\n",
              "    element.appendChild(document.createTextNode(''));\n",
              "    const url = await google.colab.kernel.proxyPort(port, {cache});\n",
              "    const iframe = document.createElement('iframe');\n",
              "    iframe.src = new URL(path, url).toString();\n",
              "    iframe.height = height;\n",
              "    iframe.width = width;\n",
              "    iframe.style.border = 0;\n",
              "    element.appendChild(iframe);\n",
              "  })(8050, \"/\", \"100%\", 650, false, window.element)"
            ]
          },
          "metadata": {}
        }
      ]
    },
    {
      "cell_type": "markdown",
      "source": [
        "### Interactive Components\n",
        "\n",
        "- Use of callbacks\n",
        "- Steps to create a callback for interactions\n",
        "  - Create a function to return some desired output\n",
        "  - Decorate the function with an `@app.callback` decorator\n",
        "    - Set an *output* to a component id\n",
        "    - Set an *input* to a component id\n",
        "  - Connect the desired properties"
      ],
      "metadata": {
        "id": "WiE1Ihwav_Ij"
      }
    },
    {
      "cell_type": "code",
      "source": [
        "\n",
        "app = JupyterDash(__name__)\n",
        "\n",
        "app.layout = html.Div(\n",
        "    [\n",
        "        dcc.Input(\n",
        "            id='my-id',\n",
        "            value='Initial Text',\n",
        "            type='text'\n",
        "        ),\n",
        "     html.Div(\n",
        "         id='my-div',\n",
        "         style={\n",
        "             'border':'2px blue solid'\n",
        "         }\n",
        "     )\n",
        "    ]\n",
        ")\n",
        "\n",
        "# you can omit the componenet_id and component_property to shorten the code\n",
        "@app.callback(Output(component_id='my-div', component_property='children'),\n",
        "              Input(component_id='my-id', component_property='value'))\n",
        "def update_output_div(input_value):\n",
        "  return \"You entered: {}\".format(input_value)"
      ],
      "metadata": {
        "id": "Ea77CzBZszoZ"
      },
      "execution_count": null,
      "outputs": []
    },
    {
      "cell_type": "code",
      "source": [
        "app.run_server(mode='inline')"
      ],
      "metadata": {
        "id": "FRNk5w-Rszlr",
        "colab": {
          "base_uri": "https://localhost:8080/",
          "height": 670
        },
        "outputId": "1b5ce337-1416-4d22-b26a-6f83e6072849"
      },
      "execution_count": null,
      "outputs": [
        {
          "output_type": "display_data",
          "data": {
            "text/plain": [
              "<IPython.core.display.Javascript object>"
            ],
            "application/javascript": [
              "(async (port, path, width, height, cache, element) => {\n",
              "    if (!google.colab.kernel.accessAllowed && !cache) {\n",
              "      return;\n",
              "    }\n",
              "    element.appendChild(document.createTextNode(''));\n",
              "    const url = await google.colab.kernel.proxyPort(port, {cache});\n",
              "    const iframe = document.createElement('iframe');\n",
              "    iframe.src = new URL(path, url).toString();\n",
              "    iframe.height = height;\n",
              "    iframe.width = width;\n",
              "    iframe.style.border = 0;\n",
              "    element.appendChild(iframe);\n",
              "  })(8050, \"/\", \"100%\", 650, false, window.element)"
            ]
          },
          "metadata": {}
        }
      ]
    },
    {
      "cell_type": "markdown",
      "source": [
        "### Single Input - update graph based on year selected"
      ],
      "metadata": {
        "id": "5yesAwrHzVVs"
      }
    },
    {
      "cell_type": "code",
      "source": [
        "df = pd.read_csv(\n",
        "    \"https://raw.githubusercontent.com/Pierian-Data/Plotly-Dashboards-with-Dash/master/Data/gapminderDataFiveYear.csv\"\n",
        ")\n",
        "year_options = []\n",
        "\n",
        "for year in df[\"year\"].unique():\n",
        "    year_options.append({\"label\": str(year), \"value\": year})\n",
        "\n",
        "app = JupyterDash(__name__)\n",
        "\n",
        "app.layout = html.Div(\n",
        "    [\n",
        "        dcc.Graph(id=\"graph\"),\n",
        "        dcc.Dropdown(id=\"year-picker\", options=year_options, value=df[\"year\"].min()),\n",
        "    ],\n",
        "    style={},\n",
        ")\n",
        "\n",
        "\n",
        "@app.callback(Output(\"graph\", \"figure\"), [Input(\"year-picker\", \"value\")])\n",
        "def update_figure(selected_year):\n",
        "    filtered_df = df[df[\"year\"] == selected_year]\n",
        "    traces = []\n",
        "    for continent_name in filtered_df[\"continent\"].unique():\n",
        "        df_by_continent = filtered_df[filtered_df[\"continent\"] == continent_name]\n",
        "        traces.append(\n",
        "            go.Scatter(\n",
        "                x=df_by_continent[\"gdpPercap\"],\n",
        "                y=df_by_continent[\"lifeExp\"],\n",
        "                mode=\"markers\",\n",
        "                opacity=0.7,\n",
        "                marker={\"size\": 15},\n",
        "                name=continent_name,\n",
        "            )\n",
        "        )\n",
        "    return {\n",
        "        \"data\": traces,\n",
        "        \"layout\": go.Layout(\n",
        "            title=\"My Plot\",\n",
        "            xaxis={\"title\": \"GDP Per Cap\", \"type\": \"log\"},\n",
        "            yaxis={\"title\": \"Life Expectancy\"},\n",
        "        ),\n",
        "    }\n"
      ],
      "metadata": {
        "id": "KYnKMLB-szee"
      },
      "execution_count": null,
      "outputs": []
    },
    {
      "cell_type": "code",
      "source": [
        "app.run_server(mode='inline')"
      ],
      "metadata": {
        "id": "GI1Li--2lwhf",
        "colab": {
          "base_uri": "https://localhost:8080/",
          "height": 670
        },
        "outputId": "035ec8d7-66d1-4188-e7d5-06fa0357acc7"
      },
      "execution_count": null,
      "outputs": [
        {
          "output_type": "display_data",
          "data": {
            "text/plain": [
              "<IPython.core.display.Javascript object>"
            ],
            "application/javascript": [
              "(async (port, path, width, height, cache, element) => {\n",
              "    if (!google.colab.kernel.accessAllowed && !cache) {\n",
              "      return;\n",
              "    }\n",
              "    element.appendChild(document.createTextNode(''));\n",
              "    const url = await google.colab.kernel.proxyPort(port, {cache});\n",
              "    const iframe = document.createElement('iframe');\n",
              "    iframe.src = new URL(path, url).toString();\n",
              "    iframe.height = height;\n",
              "    iframe.width = width;\n",
              "    iframe.style.border = 0;\n",
              "    element.appendChild(iframe);\n",
              "  })(8050, \"/\", \"100%\", 650, false, window.element)"
            ]
          },
          "metadata": {}
        }
      ]
    },
    {
      "cell_type": "markdown",
      "source": [
        "### Multiple Inputs - update graph based on the two dimensions selected"
      ],
      "metadata": {
        "id": "5iv9WsJon_iQ"
      }
    },
    {
      "cell_type": "code",
      "source": [
        "df = pd.read_csv(\n",
        "    \"https://raw.githubusercontent.com/Pierian-Data/Plotly-Dashboards-with-Dash/master/Data/mpg.csv\"\n",
        ")\n",
        "\n",
        "app = JupyterDash(__name__)\n",
        "\n",
        "features = df.columns\n",
        "\n",
        "app.layout = html.Div(\n",
        "    [\n",
        "        html.Div(\n",
        "            [\n",
        "                dcc.Dropdown(\n",
        "                    id=\"xaxis\",\n",
        "                    options=[{\"label\": i, \"value\": i} for i in features],\n",
        "                    value=\"displacement\",\n",
        "                )\n",
        "            ],\n",
        "            style={\"width\": \"49%\", \"display\": \"inline-block\"},\n",
        "        ),\n",
        "        html.Div(\n",
        "            [\n",
        "                dcc.Dropdown(\n",
        "                    id=\"yaxis\",\n",
        "                    options=[{\"label\": i, \"value\": i} for i in features],\n",
        "                    value=\"displacement\",\n",
        "                )\n",
        "            ],\n",
        "            style={\"width\": \"49%\", \"display\": \"inline-block\"},\n",
        "        ),\n",
        "        dcc.Graph(id=\"feature-graphic\"),\n",
        "    ],\n",
        "    style={\"padding\": 10},\n",
        ")\n",
        "\n",
        "\n",
        "@app.callback(\n",
        "    Output(\"feature-graphic\", \"figure\"),\n",
        "    [Input(\"xaxis\", \"value\"), Input(\"yaxis\", \"value\")],\n",
        ")\n",
        "def update_graph(xaxis_name, yaxis_name):\n",
        "    return {\n",
        "        \"data\": [\n",
        "            go.Scatter(\n",
        "                x=df[xaxis_name],\n",
        "                y=df[yaxis_name],\n",
        "                text=df[\"name\"],\n",
        "                mode=\"markers\",\n",
        "                marker={'size': 15,\n",
        "                        'opacity':0.5},\n",
        "            )\n",
        "        ],\n",
        "        \"layout\": go.Layout(\n",
        "            title=\"My dashboard for MPG\",\n",
        "            xaxis={\"title\": xaxis_name},\n",
        "            yaxis={\"title\": yaxis_name},\n",
        "        ),\n",
        "    }\n"
      ],
      "metadata": {
        "id": "aHuwDdq5oDyT"
      },
      "execution_count": null,
      "outputs": []
    },
    {
      "cell_type": "code",
      "source": [
        "app.run_server(mode='inline')"
      ],
      "metadata": {
        "id": "VYZUTmiUtHyD",
        "colab": {
          "base_uri": "https://localhost:8080/",
          "height": 670
        },
        "outputId": "d5d84bb3-2525-4b06-f7f1-aed04015dea8"
      },
      "execution_count": null,
      "outputs": [
        {
          "output_type": "display_data",
          "data": {
            "text/plain": [
              "<IPython.core.display.Javascript object>"
            ],
            "application/javascript": [
              "(async (port, path, width, height, cache, element) => {\n",
              "    if (!google.colab.kernel.accessAllowed && !cache) {\n",
              "      return;\n",
              "    }\n",
              "    element.appendChild(document.createTextNode(''));\n",
              "    const url = await google.colab.kernel.proxyPort(port, {cache});\n",
              "    const iframe = document.createElement('iframe');\n",
              "    iframe.src = new URL(path, url).toString();\n",
              "    iframe.height = height;\n",
              "    iframe.width = width;\n",
              "    iframe.style.border = 0;\n",
              "    element.appendChild(iframe);\n",
              "  })(8050, \"/\", \"100%\", 650, false, window.element)"
            ]
          },
          "metadata": {}
        }
      ]
    },
    {
      "cell_type": "markdown",
      "source": [
        "### Multiple Outputs"
      ],
      "metadata": {
        "id": "CiCsXPpb0n3-"
      }
    },
    {
      "cell_type": "code",
      "source": [
        "app = JupyterDash(__name__)\n",
        "\n",
        "app.layout = html.Div(\n",
        "    [\n",
        "        dcc.RadioItems(\n",
        "            id=\"counts\",\n",
        "            options=[{\"label\": i, \"value\": i} for i in range(1, 4)],\n",
        "            value=1,\n",
        "        ),\n",
        "        html.Div(id=\"counts-output\"),\n",
        "        html.Hr(),\n",
        "        dcc.RadioItems(\n",
        "            id=\"colours\",\n",
        "            options={\"red\": \"red\", \"blue\": \"blue\", \"green\": \"green\"},\n",
        "            value=\"red\",\n",
        "        ),\n",
        "        html.Div(id=\"colours-output\"),\n",
        "    ],\n",
        "    style={\"fontFamily\": \"helvetica\", \"fontSize\": 18},\n",
        ")\n",
        "\n",
        "@app.callback(Output('counts-output','children'),\n",
        "              [Input('counts','value')])\n",
        "def callback_a(wheels_value):\n",
        "  return \"You chose {}\".format(wheels_value)\n",
        "\n",
        "@app.callback(Output('colours-output','children'),\n",
        "              [Input('colours','value')])\n",
        "def callback_b(colours_value):\n",
        "  return \"You chose {}\".format(colours_value)\n",
        "\n"
      ],
      "metadata": {
        "id": "LhvaJ2c8uNO0"
      },
      "execution_count": null,
      "outputs": []
    },
    {
      "cell_type": "code",
      "source": [
        "app.run_server(mode='inline')"
      ],
      "metadata": {
        "id": "7_lnJ1Q72Odi",
        "colab": {
          "base_uri": "https://localhost:8080/",
          "height": 670
        },
        "outputId": "142020d6-ba3f-4c8f-a320-1e1881d49b24"
      },
      "execution_count": null,
      "outputs": [
        {
          "output_type": "display_data",
          "data": {
            "text/plain": [
              "<IPython.core.display.Javascript object>"
            ],
            "application/javascript": [
              "(async (port, path, width, height, cache, element) => {\n",
              "    if (!google.colab.kernel.accessAllowed && !cache) {\n",
              "      return;\n",
              "    }\n",
              "    element.appendChild(document.createTextNode(''));\n",
              "    const url = await google.colab.kernel.proxyPort(port, {cache});\n",
              "    const iframe = document.createElement('iframe');\n",
              "    iframe.src = new URL(path, url).toString();\n",
              "    iframe.height = height;\n",
              "    iframe.width = width;\n",
              "    iframe.style.border = 0;\n",
              "    element.appendChild(iframe);\n",
              "  })(8050, \"/\", \"100%\", 650, false, window.element)"
            ]
          },
          "metadata": {}
        }
      ]
    },
    {
      "cell_type": "markdown",
      "source": [
        "### Callbacks with State\n",
        "\n",
        "In previous examples, as soon as values are entered, the page updates immediately. \n",
        "\n",
        "If you want to wait before displaying the page / want to make multiple changes before submitting, we can use the `State` function. \n",
        "\n",
        "You can think of this as hitting a submit button on a form."
      ],
      "metadata": {
        "id": "_EEIusRU4GF8"
      }
    },
    {
      "cell_type": "code",
      "source": [
        "app = JupyterDash(__name__)\n",
        "\n",
        "app.layout = html.Div(\n",
        "    [\n",
        "        dcc.RadioItems(\n",
        "            id=\"counts\",\n",
        "            options=[{\"label\": i, \"value\": i} for i in range(1, 4)],\n",
        "            value=1,\n",
        "        ),\n",
        "        html.Button(\n",
        "            id='submit-button1',\n",
        "            n_clicks=0,\n",
        "            children='Submit Number',\n",
        "            style={'fontSize':16}\n",
        "        ),\n",
        "        html.Div(id=\"counts-output\"),\n",
        "        html.Hr(),\n",
        "        dcc.RadioItems(\n",
        "            id=\"colours\",\n",
        "            options={\"red\": \"red\", \"blue\": \"blue\", \"green\": \"green\"},\n",
        "            value=\"red\",\n",
        "        ),\n",
        "        html.Button(\n",
        "            id='submit-button2',\n",
        "            n_clicks=0,\n",
        "            children='Submit Colour',\n",
        "            style={'fontSize':16}\n",
        "        ),\n",
        "        html.Div(id=\"colours-output\"),\n",
        "    ],\n",
        "    style={\"fontFamily\": \"helvetica\", \"fontSize\": 18},\n",
        ")\n",
        "\n",
        "@app.callback(Output('counts-output','children'),\n",
        "              [ Input('submit-button1','n_clicks'),\n",
        "                State('counts','value')])\n",
        "def callback_a(n_clicks, wheels_value):\n",
        "  return \"You chose {}. First button was clicked {} times\".format(wheels_value, n_clicks)\n",
        "\n",
        "@app.callback(Output('colours-output','children'),\n",
        "              [ Input('submit-button2','n_clicks'),\n",
        "                State('colours','value')])\n",
        "def callback_b(n_clicks, colours_value):\n",
        "  return \"You chose {}. Second button was clicked {} times\".format(colours_value, n_clicks)\n",
        "\n"
      ],
      "metadata": {
        "id": "UjGvFiYr2P3K"
      },
      "execution_count": null,
      "outputs": []
    },
    {
      "cell_type": "code",
      "source": [
        "app.run_server(mode='inline')"
      ],
      "metadata": {
        "id": "1s3oXpni6g-7",
        "colab": {
          "base_uri": "https://localhost:8080/",
          "height": 670
        },
        "outputId": "7b6c8854-f05c-4911-ae7d-a0052991f55a"
      },
      "execution_count": null,
      "outputs": [
        {
          "output_type": "display_data",
          "data": {
            "text/plain": [
              "<IPython.core.display.Javascript object>"
            ],
            "application/javascript": [
              "(async (port, path, width, height, cache, element) => {\n",
              "    if (!google.colab.kernel.accessAllowed && !cache) {\n",
              "      return;\n",
              "    }\n",
              "    element.appendChild(document.createTextNode(''));\n",
              "    const url = await google.colab.kernel.proxyPort(port, {cache});\n",
              "    const iframe = document.createElement('iframe');\n",
              "    iframe.src = new URL(path, url).toString();\n",
              "    iframe.height = height;\n",
              "    iframe.width = width;\n",
              "    iframe.style.border = 0;\n",
              "    element.appendChild(iframe);\n",
              "  })(8050, \"/\", \"100%\", 650, false, window.element)"
            ]
          },
          "metadata": {}
        }
      ]
    },
    {
      "cell_type": "markdown",
      "source": [
        "### Select Data from Charts\n",
        "\n",
        "There are many properties associated with dash core component Graph objecct.\n",
        "\n",
        "https://dash.plotly.com/dash-core-components/graph\n",
        "\n",
        "Below demonstrates the use of `selectedData` property."
      ],
      "metadata": {
        "id": "B2loVFs9BHDa"
      }
    },
    {
      "cell_type": "code",
      "source": [
        "x1 = np.linspace(0.1,5,50)\n",
        "x2 = np.linspace(5.1,10,50)\n",
        "y1 = np.random.randint(0,50,50)\n",
        "\n",
        "df1 = pd.DataFrame({'x':x1, 'y':y1})\n",
        "df2 = pd.DataFrame({'x':x1, 'y':y1})\n",
        "df3 = pd.DataFrame({'x':x2, 'y':y1})\n",
        "\n",
        "df = pd.concat([df1, df2, df3])\n",
        "\n",
        "app = JupyterDash(__name__)\n",
        "\n",
        "app.layout = html.Div(\n",
        "    [\n",
        "        html.Div(\n",
        "            [\n",
        "                dcc.Graph(\n",
        "                    id=\"plot\",\n",
        "                    figure={\n",
        "                        \"data\": [go.Scatter(x=df[\"x\"], y=df[\"y\"], mode=\"markers\")],\n",
        "                        \"layout\": go.Layout(\n",
        "                            title=\"Random Scatterplot\", hovermode=\"closest\"\n",
        "                        ),\n",
        "                    },\n",
        "                )\n",
        "            ],\n",
        "            style={\"width\": \"30%\", \"display\": \"inline-block\"},\n",
        "        ),\n",
        "        html.Div(\n",
        "            [html.H1(id=\"density\", style={\"paddingTop\": 25})],\n",
        "            style={\"width\": \"30%\", \"display\": \"inline-block\", \"verticalAlign\": \"top\"},\n",
        "        ),\n",
        "    ]\n",
        ")\n",
        "\n",
        "\n",
        "@app.callback(\n",
        "    Output('density', 'children'),\n",
        "    [Input('plot', 'selectedData')])\n",
        "def find_density(selectedData):\n",
        "    pts = len(selectedData['points'])\n",
        "    rng_or_lp = list(selectedData.keys())\n",
        "    rng_or_lp.remove('points')\n",
        "    max_x = max(selectedData[rng_or_lp[0]]['x'])\n",
        "    min_x = min(selectedData[rng_or_lp[0]]['x'])\n",
        "    max_y = max(selectedData[rng_or_lp[0]]['y'])\n",
        "    min_y = min(selectedData[rng_or_lp[0]]['y'])\n",
        "    area = (max_x-min_x)*(max_y-min_y)\n",
        "    d = pts/area\n",
        "    return 'Density = {:.2f}'.format(d)\n",
        "\n"
      ],
      "metadata": {
        "id": "89NaaIpCDgcz"
      },
      "execution_count": null,
      "outputs": []
    },
    {
      "cell_type": "code",
      "source": [
        "app.run_server(mode='inline')"
      ],
      "metadata": {
        "colab": {
          "base_uri": "https://localhost:8080/",
          "height": 670
        },
        "id": "CGVIIAvGn69K",
        "outputId": "86e54e9b-8a2c-4d39-f17e-9e02e65bf8f2"
      },
      "execution_count": null,
      "outputs": [
        {
          "output_type": "display_data",
          "data": {
            "text/plain": [
              "<IPython.core.display.Javascript object>"
            ],
            "application/javascript": [
              "(async (port, path, width, height, cache, element) => {\n",
              "    if (!google.colab.kernel.accessAllowed && !cache) {\n",
              "      return;\n",
              "    }\n",
              "    element.appendChild(document.createTextNode(''));\n",
              "    const url = await google.colab.kernel.proxyPort(port, {cache});\n",
              "    const iframe = document.createElement('iframe');\n",
              "    iframe.src = new URL(path, url).toString();\n",
              "    iframe.height = height;\n",
              "    iframe.width = width;\n",
              "    iframe.style.border = 0;\n",
              "    element.appendChild(iframe);\n",
              "  })(8050, \"/\", \"100%\", 650, false, window.element)"
            ]
          },
          "metadata": {}
        }
      ]
    },
    {
      "cell_type": "markdown",
      "source": [
        "### Live Updating"
      ],
      "metadata": {
        "id": "71BJlYlWysfF"
      }
    },
    {
      "cell_type": "code",
      "source": [
        "import requests\n",
        "\n",
        "app = JupyterDash(__name__)\n",
        "\n",
        "app.layout = html.Div([\n",
        "    html.Div([\n",
        "    html.Pre(\n",
        "        id='counter_text',\n",
        "        children='Active flights worldwide:'\n",
        "    ),\n",
        "    dcc.Graph(id='live-update-graph',style={'width':1200}),\n",
        "    dcc.Interval(\n",
        "        id='interval-component',\n",
        "        interval=6000, # 6000 milliseconds = 6 seconds\n",
        "        n_intervals=0\n",
        "    )])\n",
        "])\n",
        "counter_list = []\n",
        "\n",
        "@app.callback(Output('counter_text', 'children'),\n",
        "              [Input('interval-component', 'n_intervals')])\n",
        "def update_layout(n):\n",
        "    url = \"https://data-live.flightradar24.com/zones/fcgi/feed.js?faa=1\\\n",
        "           &mlat=1&flarm=1&adsb=1&gnd=1&air=1&vehicles=1&estimated=1&stats=1\"\n",
        "    # A fake header is necessary to access the site:\n",
        "    res = requests.get(url, headers={'User-Agent': 'Mozilla/5.0'})\n",
        "    data = res.json()\n",
        "    counter = 0\n",
        "    for element in data[\"stats\"][\"total\"]:\n",
        "        counter += data[\"stats\"][\"total\"][element]\n",
        "    counter_list.append(counter)\n",
        "    return 'Active flights worldwide: {}'.format(counter)\n",
        "\n",
        "@app.callback(Output('live-update-graph','figure'),\n",
        "              [Input('interval-component', 'n_intervals')])\n",
        "def update_graph(n):\n",
        "    fig = go.Figure(\n",
        "        data = [go.Scatter(\n",
        "        x = list(range(len(counter_list))),\n",
        "        y = counter_list,\n",
        "        mode='lines+markers'\n",
        "        )])\n",
        "    return fig\n"
      ],
      "metadata": {
        "id": "RVIHoPycyyZr"
      },
      "execution_count": null,
      "outputs": []
    },
    {
      "cell_type": "code",
      "source": [
        "app.run_server(mode='inline')"
      ],
      "metadata": {
        "colab": {
          "base_uri": "https://localhost:8080/",
          "height": 670
        },
        "id": "XHxXnzx1zitk",
        "outputId": "8740b932-4a22-4501-bb71-45a67ebbcb5f"
      },
      "execution_count": null,
      "outputs": [
        {
          "output_type": "display_data",
          "data": {
            "text/plain": [
              "<IPython.core.display.Javascript object>"
            ],
            "application/javascript": [
              "(async (port, path, width, height, cache, element) => {\n",
              "    if (!google.colab.kernel.accessAllowed && !cache) {\n",
              "      return;\n",
              "    }\n",
              "    element.appendChild(document.createTextNode(''));\n",
              "    const url = await google.colab.kernel.proxyPort(port, {cache});\n",
              "    const iframe = document.createElement('iframe');\n",
              "    iframe.src = new URL(path, url).toString();\n",
              "    iframe.height = height;\n",
              "    iframe.width = width;\n",
              "    iframe.style.border = 0;\n",
              "    element.appendChild(iframe);\n",
              "  })(8050, \"/\", \"100%\", 650, false, window.element)"
            ]
          },
          "metadata": {}
        }
      ]
    },
    {
      "cell_type": "markdown",
      "source": [
        "## Deploy a Dash app\n"
      ],
      "metadata": {
        "id": "bqA3xSuqBLDq"
      }
    },
    {
      "cell_type": "markdown",
      "source": [
        "### Authorisation\n",
        "\n",
        "- Authentication for dash apps is provided through a separate `dash-auth` package.\n",
        "- `dash-auth` provies two methods of authentication: HTTP Basic Auth and Plotly OAuth.\n",
        "- HTTP Basic Auth is free, Plotly OAuth is a paid service.\n"
      ],
      "metadata": {
        "id": "AGEXHR6R33oo"
      }
    },
    {
      "cell_type": "code",
      "source": [
        "!pip install dash-auth"
      ],
      "metadata": {
        "id": "eVo67e4a6iwX",
        "colab": {
          "base_uri": "https://localhost:8080/"
        },
        "outputId": "b153f01f-e321-4f66-a82e-620df1a820ec"
      },
      "execution_count": null,
      "outputs": [
        {
          "output_type": "stream",
          "name": "stdout",
          "text": [
            "Looking in indexes: https://pypi.org/simple, https://us-python.pkg.dev/colab-wheels/public/simple/\n",
            "Requirement already satisfied: dash-auth in /usr/local/lib/python3.7/dist-packages (1.4.1)\n",
            "Requirement already satisfied: Flask>=1.0.2 in /usr/local/lib/python3.7/dist-packages (from dash-auth) (1.1.4)\n",
            "Requirement already satisfied: itsdangerous>=1.1.0 in /usr/local/lib/python3.7/dist-packages (from dash-auth) (1.1.0)\n",
            "Requirement already satisfied: retrying in /usr/local/lib/python3.7/dist-packages (from dash-auth) (1.3.3)\n",
            "Requirement already satisfied: chart-studio>=1.0.0 in /usr/local/lib/python3.7/dist-packages (from dash-auth) (1.1.0)\n",
            "Requirement already satisfied: requests in /usr/local/lib/python3.7/dist-packages (from dash-auth) (2.23.0)\n",
            "Requirement already satisfied: dash>=1.1.1 in /usr/local/lib/python3.7/dist-packages (from dash-auth) (2.6.0)\n",
            "Requirement already satisfied: flask-seasurf in /usr/local/lib/python3.7/dist-packages (from dash-auth) (1.1.1)\n",
            "Requirement already satisfied: flask-compress in /usr/local/lib/python3.7/dist-packages (from dash-auth) (1.12)\n",
            "Requirement already satisfied: ua-parser in /usr/local/lib/python3.7/dist-packages (from dash-auth) (0.15.0)\n",
            "Requirement already satisfied: plotly in /usr/local/lib/python3.7/dist-packages (from chart-studio>=1.0.0->dash-auth) (5.5.0)\n",
            "Requirement already satisfied: six in /usr/local/lib/python3.7/dist-packages (from chart-studio>=1.0.0->dash-auth) (1.15.0)\n",
            "Requirement already satisfied: dash-core-components==2.0.0 in /usr/local/lib/python3.7/dist-packages (from dash>=1.1.1->dash-auth) (2.0.0)\n",
            "Requirement already satisfied: dash-html-components==2.0.0 in /usr/local/lib/python3.7/dist-packages (from dash>=1.1.1->dash-auth) (2.0.0)\n",
            "Requirement already satisfied: dash-table==5.0.0 in /usr/local/lib/python3.7/dist-packages (from dash>=1.1.1->dash-auth) (5.0.0)\n",
            "Requirement already satisfied: click<8.0,>=5.1 in /usr/local/lib/python3.7/dist-packages (from Flask>=1.0.2->dash-auth) (7.1.2)\n",
            "Requirement already satisfied: Jinja2<3.0,>=2.10.1 in /usr/local/lib/python3.7/dist-packages (from Flask>=1.0.2->dash-auth) (2.11.3)\n",
            "Requirement already satisfied: Werkzeug<2.0,>=0.15 in /usr/local/lib/python3.7/dist-packages (from Flask>=1.0.2->dash-auth) (1.0.1)\n",
            "Requirement already satisfied: MarkupSafe>=0.23 in /usr/local/lib/python3.7/dist-packages (from Jinja2<3.0,>=2.10.1->Flask>=1.0.2->dash-auth) (2.0.1)\n",
            "Requirement already satisfied: tenacity>=6.2.0 in /usr/local/lib/python3.7/dist-packages (from plotly->chart-studio>=1.0.0->dash-auth) (8.0.1)\n",
            "Requirement already satisfied: brotli in /usr/local/lib/python3.7/dist-packages (from flask-compress->dash-auth) (1.0.9)\n",
            "Requirement already satisfied: chardet<4,>=3.0.2 in /usr/local/lib/python3.7/dist-packages (from requests->dash-auth) (3.0.4)\n",
            "Requirement already satisfied: urllib3!=1.25.0,!=1.25.1,<1.26,>=1.21.1 in /usr/local/lib/python3.7/dist-packages (from requests->dash-auth) (1.24.3)\n",
            "Requirement already satisfied: idna<3,>=2.5 in /usr/local/lib/python3.7/dist-packages (from requests->dash-auth) (2.10)\n",
            "Requirement already satisfied: certifi>=2017.4.17 in /usr/local/lib/python3.7/dist-packages (from requests->dash-auth) (2022.6.15)\n"
          ]
        }
      ]
    },
    {
      "cell_type": "markdown",
      "source": [
        "### HTTP Basic Auth\n",
        "\n",
        "- One of the simplest form of authentication on the web.\n",
        "- You hardcode a set of usernames and passwords in your code and send those usernames and passwords to your viewers.\n",
        "- Not secure - you are responsible for safely storing the username and password pairs in your code.\n",
        "\n",
        "- Below is a demo. It will not run on Google Colab."
      ],
      "metadata": {
        "id": "wp9py4jc4WNO"
      }
    },
    {
      "cell_type": "code",
      "source": [
        "import dash_auth \n",
        "\n",
        "USERNAME_PASSWORD_PAIRS = [\n",
        "    ['user','pw'],\n",
        "    ['admin','admin'],\n",
        "    ['actuary','actuary']\n",
        "]\n",
        "app = JupyterDash(__name__)\n",
        "auth = dash_auth.BasicAuth(app, USERNAME_PASSWORD_PAIRS)\n",
        "\n",
        "app.layout = html.Div(\n",
        "    [\n",
        "        \"This is the outermost div!\",\n",
        "        html.Div([\"This is an inner div\"], style={\"color\": \"red\"}),\n",
        "        html.Div([\"Another inner div\"], style={\"color\": \"black\"}),\n",
        "    ],\n",
        "    style={\"color\": \"green\", \"border\": \"2px green solid\"},\n",
        ")\n"
      ],
      "metadata": {
        "id": "Rnb6gSTs3EEz"
      },
      "execution_count": null,
      "outputs": []
    },
    {
      "cell_type": "code",
      "source": [
        "# app.run_server(mode='inline')\n",
        "# A pop-up screen will appear and ask for username and password."
      ],
      "metadata": {
        "id": "6N_Tvpkg3hnG"
      },
      "execution_count": null,
      "outputs": []
    },
    {
      "cell_type": "markdown",
      "source": [
        "### Heroku\n",
        "\n",
        "The process for deploying a Dashboard with Dash is the same as a Flask App. Since what Dash creates is just a Flask App.\n",
        "\n",
        "There are many other option, but Heroku has a free tier service. One can easily experiment publishing a dashboard on to Heroku domain."
      ],
      "metadata": {
        "id": "tgDcmXZQ44do"
      }
    }
  ]
}